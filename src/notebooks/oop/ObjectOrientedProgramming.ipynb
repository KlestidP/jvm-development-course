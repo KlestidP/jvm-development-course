{
 "cells": [
  {
   "cell_type": "markdown",
   "source": [
    "<img alt=\"Cover\" src=\"./images/1.cover.png\" width=\"3000\" />\n",
    "\n",
    "---"
   ],
   "metadata": {
    "collapsed": false
   }
  },
  {
   "cell_type": "markdown",
   "source": [
    "# Object-Oriented Programming\n",
    "\n",
    "<font size=\"5\">**Object-oriented programming (OOP)** – A programming paradigm based on the representation of a program as a set of objects and interactions between them</font>\n",
    "\n",
    "---"
   ],
   "metadata": {
    "collapsed": false
   }
  },
  {
   "cell_type": "markdown",
   "source": [
    "# Class and Object\n",
    "\n",
    "<img alt=\"Cover\" src=\"./images/2.png\" width=\"3000\" />\n",
    "\n",
    "---"
   ],
   "metadata": {
    "collapsed": false
   }
  },
  {
   "cell_type": "markdown",
   "source": [
    "# Object (class/type) invariant\n",
    "\n",
    "\n",
    "<font size=\"5\">Invariants place constraints on the state of an object, maintained by its methods right from construction.</font>\n",
    "\n",
    "<font size=\"5\"><u>It is the object’s own responsibility to ensure</u> that the invariant is being maintained.</font>\n",
    "\n",
    "<font size=\"5\">**Corollaries:**</font>\n",
    "\n",
    "- <font size=\"5\">Public fields are nasty.</font>\n",
    "- <font size=\"5\">If a field does not participate in the object’s invariant, then it is not clear how it belongs to this object at all, which is evidence of poor design choices.</font>\n",
    "\n",
    "---"
   ],
   "metadata": {
    "collapsed": false
   }
  },
  {
   "cell_type": "markdown",
   "source": [
    "# Abstraction\n",
    "\n",
    "<font size=\"5\">Objects are data abstractions with internal representations, along with methods to interact with those internal representations. There is no need to expose internal implementation details, so those may stay “inside” and be hidden.</font>\n",
    "\n",
    "---"
   ],
   "metadata": {
    "collapsed": false
   }
  },
  {
   "cell_type": "markdown",
   "source": [
    "# Encapsulation\n",
    "\n",
    "<font size=\"5\">Encapsulation – The option to bundle data with methods operating on said data, which also allows you to hide the implementation details from the user.</font>\n",
    "\n",
    "- <font size=\"5\">An object is a black box. It accepts messages and replies in some way.</font>\n",
    "- <font size=\"5\">Encapsulation and the interface of a class are intertwined: Anything that is not part of the\n",
    "interface is encapsulated.</font>\n",
    "- <font size=\"5\">OOP encapsulation differs from encapsulation in abstract data types.</font>\n",
    "\n",
    "---\n"
   ],
   "metadata": {
    "collapsed": false
   }
  },
  {
   "cell_type": "markdown",
   "source": [
    "# Abstraction vs Encapsulation\n",
    "\n",
    "<font size=\"5\">Abstraction is about what others see and how they interact with an object.</font>\n",
    "\n",
    "<font size=\"5\">Encapsulation is about how an object operates internally and how it responds to messages.</font>\n",
    "\n",
    "---\n"
   ],
   "metadata": {
    "collapsed": false
   }
  },
  {
   "cell_type": "markdown",
   "source": [
    "# Abstraction vs Encapsulation\n",
    "\n",
    "<font size=\"5\">Most programming languages provide special keywords for modifying the accessibility or visibility of attributes and methods.</font>\n",
    "\n",
    "<font size=\"5\">In Kotlin:</font>\n",
    "\n",
    "- <font size=\"5\">**publiс** – Accessible to anyone</font>\n",
    "- <font size=\"5\">**private** – Accessible only inside the <u>class</u></font>\n",
    "- <font size=\"5\">**protected** – Accessible inside the <u>class</u> and its <u>inheritors</u></font>\n",
    "- <font size=\"5\">**internal** – Accessible in the <u>module</u></font>\n",
    "\n",
    "---"
   ],
   "metadata": {
    "collapsed": false
   }
  },
  {
   "cell_type": "markdown",
   "source": [
    "# Inheritance\n",
    "\n",
    "<font size=\"5\">**Inheritance** – The possibility to define a new class based on an already existing one, keeping all or some of the base class functionality (state/behavior).</font>\n",
    "\n",
    "- <font size=\"5\">The class that is being inherited from is called a base or parent class</font>\n",
    "- <font size=\"5\">The new class is called a derived class, a child, or an inheritor</font>\n",
    "- <font size=\"5\">The derived class fully satisfies the specification of the base class, but it may have some extended features (state/behavior)</font>"
   ],
   "metadata": {
    "collapsed": false
   }
  },
  {
   "cell_type": "markdown",
   "source": [
    "- <font size=\"5\">\"General concept – specific concept\".</font>\n",
    "   - <font size=\"5\">\"Is-a\" relationship.</font>\n",
    "- <font size=\"5\">Motivation</font>\n",
    "   - <font size=\"5\">Keep shared code separate – in the base class – and reuse it.</font>\n",
    "   - <font size=\"5\">Type hierarchy, subtyping.</font>\n",
    "   - <font size=\"5\">Incremental design.</font>\n",
    "- <font size=\"5\">Inheritance is often redundant and can be replaced with composition.</font>\n",
    "\n",
    "---"
   ],
   "metadata": {
    "collapsed": false
   }
  },
  {
   "cell_type": "markdown",
   "source": [
    "# Subtyping\n",
    "\n",
    "<font size=\"5\">An object can belong to several types (classes) at the same time</font>\n",
    "\n",
    "- <font size=\"5\">Eleanor – A student, a woman, a beer enthusiast, and the reigning UFC champion.</font>\n",
    "- <font size=\"5\">Nate – A developer, a man, an anime lover, and a recreational swimmer.</font>\n",
    "\n",
    "<font size=\"5\">Each type (class) defines an interface and expected behavior.</font>\n",
    "\n",
    "<font size=\"5\">So, in our example, while Eleanor is a student, she will exhibit a set of expected behaviors (such as turning in homework, studying for tests, etc.). When Eleanor gets her degree, she will stop being a student and she may cease to exhibit the associated behaviors, but her overall identity will not change and the behaviors associated with her other properties will be unaffected.</font>\n",
    "\n",
    "<img alt=\"Cover\" src=\"./images/3.png\" width=\"3000\" />\n",
    "\n",
    "---"
   ],
   "metadata": {
    "collapsed": false
   }
  },
  {
   "cell_type": "markdown",
   "source": [
    "# Polymorphism\n",
    "\n",
    "<font size=\"5\">**Polymorphism** – A core OOP concept that refers to working with objects through their interfaces without knowledge about their specific types and internal structure.</font>\n",
    "\n",
    "- <font size=\"5\">Inheritors can override and change the ancestral behavior.</font>\n",
    "- <font size=\"5\">Objects can be used through their parents’ interfaces.</font>\n",
    "    - <font size=\"5\">The client code does not know (or care) if it is working with the base class or some child class, nor does it know what exactly happens “inside”.</font>\n",
    "\n",
    "<font size=\"5\">Liskov substitution principle (LSP) – If for each object o1 of type S, there is an object o2 of type T, such that for all programs P defined in terms of T the behavior of P is unchanged when o1 is substituted for o2, then S is a subtype of T.</font>\n",
    "\n",
    "---"
   ],
   "metadata": {
    "collapsed": false
   }
  },
  {
   "cell_type": "markdown",
   "source": [
    "# OOP in Kotlin"
   ],
   "metadata": {
    "collapsed": false
   }
  },
  {
   "cell_type": "code",
   "outputs": [
    {
     "name": "stdout",
     "output_type": "stream",
     "text": [
      "Line_1_jupyter.UselessClass\n"
     ]
    }
   ],
   "source": [
    "class UselessClass\n",
    "\n",
    "val uselessObject = UselessClass() // () here is constructor invocation\n",
    "println(uselessObject::class.qualifiedName)"
   ],
   "metadata": {
    "collapsed": false,
    "ExecuteTime": {
     "end_time": "2024-02-15T08:52:45.981828Z",
     "start_time": "2024-02-15T08:52:45.707371Z"
    }
   },
   "execution_count": 1
  },
  {
   "cell_type": "markdown",
   "source": [
    "---\n",
    "\n",
    "# Constructors\n",
    "\n",
    "<img alt=\"Cover\" src=\"./images/4.png\" width=\"3000\" />\n",
    "\n",
    "<font size=\"5\">**The order of initialization**: the primary constructor -> the `init` block -> the secondary constructor</font>\n"
   ],
   "metadata": {
    "collapsed": false
   }
  },
  {
   "cell_type": "code",
   "outputs": [],
   "source": [
    "class Circle(val centre: Point)\n",
    "\n",
    "open class Point(val x: Int, val y: Int) {\n",
    "    constructor(other: Point) : this(other.x, other.y) { println(\"Hi from the secondary constructor with Point\") }\n",
    "    constructor(circle: Circle) : this(circle.centre) { println(\"Hi from the secondary constructor with Circle\")  }\n",
    "    \n",
    "    fun print() {\n",
    "        println(\"Point: ($x, $y)\")\n",
    "    }\n",
    "}"
   ],
   "metadata": {
    "collapsed": false,
    "ExecuteTime": {
     "end_time": "2024-02-15T09:01:36.041250Z",
     "start_time": "2024-02-15T09:01:35.950340Z"
    }
   },
   "execution_count": 9
  },
  {
   "cell_type": "code",
   "outputs": [
    {
     "name": "stdout",
     "output_type": "stream",
     "text": [
      "Point: (1, 2)\n"
     ]
    }
   ],
   "source": [
    "val pointFromPrimary = Point(1, 2)\n",
    "pointFromPrimary.print()"
   ],
   "metadata": {
    "collapsed": false,
    "ExecuteTime": {
     "end_time": "2024-02-15T08:58:30.081943Z",
     "start_time": "2024-02-15T08:58:29.987122Z"
    }
   },
   "execution_count": 4
  },
  {
   "cell_type": "markdown",
   "source": [
    "<font size=\"5\">Constructors can be chained, but they should always call the primary constructor in the end.</font>\n",
    "\n",
    "<font size=\"5\">A secondary constructor’s body will be executed after the object is created with the primary constructor. If it calls other constructors, then it will be executed after the other constructors’ bodies are executed.</font>"
   ],
   "metadata": {
    "collapsed": false
   }
  },
  {
   "cell_type": "code",
   "outputs": [
    {
     "name": "stdout",
     "output_type": "stream",
     "text": [
      "Hi from the secondary constructor with Point\n",
      "Point: (2, 3)\n"
     ]
    }
   ],
   "source": [
    "val pointFromSecondary1 = Point(Point(2, 3))\n",
    "pointFromSecondary1.print()"
   ],
   "metadata": {
    "collapsed": false,
    "ExecuteTime": {
     "end_time": "2024-02-15T08:58:44.287228Z",
     "start_time": "2024-02-15T08:58:44.201306Z"
    }
   },
   "execution_count": 5
  },
  {
   "cell_type": "code",
   "outputs": [
    {
     "name": "stdout",
     "output_type": "stream",
     "text": [
      "Hi from the secondary constructor with Point\n",
      "Hi from the secondary constructor with Circle\n",
      "Point: (4, 5)\n"
     ]
    }
   ],
   "source": [
    "val pointFromSecondary2 = Point(Circle(Point(4, 5)))\n",
    "pointFromSecondary2.print()"
   ],
   "metadata": {
    "collapsed": false,
    "ExecuteTime": {
     "end_time": "2024-02-15T08:59:16.554437Z",
     "start_time": "2024-02-15T08:59:16.462606Z"
    }
   },
   "execution_count": 6
  },
  {
   "cell_type": "markdown",
   "source": [
    "<font size=\"5\">Inheritor class must call parent’s constructor:</font>"
   ],
   "metadata": {
    "collapsed": false
   }
  },
  {
   "cell_type": "code",
   "outputs": [],
   "source": [
    "import org.jetbrains.kotlin.public.course.oop.Color\n",
    "\n",
    "class ColoredPoint(val color: Color, x: Int, y: Int) : Point(x, y) {  }"
   ],
   "metadata": {
    "collapsed": false,
    "ExecuteTime": {
     "end_time": "2024-02-15T09:00:53.715422Z",
     "start_time": "2024-02-15T09:00:53.624303Z"
    }
   },
   "execution_count": 7
  },
  {
   "cell_type": "code",
   "outputs": [
    {
     "name": "stdout",
     "output_type": "stream",
     "text": [
      "Point: (1, 2)\n"
     ]
    }
   ],
   "source": [
    "val coloredPoint = ColoredPoint(Color.Yellow, 1, 2)\n",
    "coloredPoint.print()"
   ],
   "metadata": {
    "collapsed": false,
    "ExecuteTime": {
     "end_time": "2024-02-15T09:00:56.840073Z",
     "start_time": "2024-02-15T09:00:56.778559Z"
    }
   },
   "execution_count": 8
  },
  {
   "cell_type": "markdown",
   "source": [
    "---\n",
    "\n",
    "# init blocks\n",
    "\n",
    "<font size=\"5\">There can be several `init` blocks.</font>\n",
    "\n",
    "<font size=\"5\">Values can be initialized in `init` blocks that are written after\n",
    "them.</font>\n",
    "\n",
    "<font size=\"5\">Constructor parameters are accessible in `init` blocks, so sometimes you have to use `this`.</font>"
   ],
   "metadata": {
    "collapsed": false
   }
  },
  {
   "cell_type": "code",
   "outputs": [],
   "source": [
    "class Example(val value: Int, info: String) {\n",
    "    val anotherValue: Int\n",
    "    var info = \"Description: $info\"\n",
    "    \n",
    "    init {\n",
    "        println(\"Hello from the first init block\")\n",
    "        println(\"Info from the constructor: $info\")\n",
    "        println(\"Info from the field: ${this.info}\")\n",
    "        printValues()\n",
    "        println(\"______\")\n",
    "    }\n",
    "\n",
    "    init {\n",
    "        println(\"Hello from the second init block\")\n",
    "        this.info += \", with value $value\"\n",
    "        printValues()\n",
    "        println(\"______\")\n",
    "    }\n",
    "\n",
    "    val thirdValue = computeAnotherValue() * 2\n",
    "    private fun computeAnotherValue() = value * 10\n",
    "\n",
    "    init {\n",
    "        println(\"Hello from the last init block\")\n",
    "        anotherValue = computeAnotherValue()\n",
    "        printValues()\n",
    "        println(\"______\")\n",
    "    }\n",
    "    \n",
    "    private fun printValues() {\n",
    "        println(\"value = $value; anotherValue = $anotherValue; info = $info; thirdValue = $thirdValue\")\n",
    "    }\n",
    "}"
   ],
   "metadata": {
    "collapsed": false,
    "ExecuteTime": {
     "end_time": "2024-02-15T09:06:28.213285Z",
     "start_time": "2024-02-15T09:06:28.048434Z"
    }
   },
   "execution_count": 10
  },
  {
   "cell_type": "code",
   "outputs": [
    {
     "name": "stdout",
     "output_type": "stream",
     "text": [
      "Hello from the first init block\n",
      "Info from the constructor: Hi!\n",
      "Info from the field: Description: Hi!\n",
      "value = 5; anotherValue = 0; info = Description: Hi!; thirdValue = 0\n",
      "______\n",
      "Hello from the second init block\n",
      "value = 5; anotherValue = 0; info = Description: Hi!, with value 5; thirdValue = 0\n",
      "______\n",
      "Hello from the last init block\n",
      "value = 5; anotherValue = 50; info = Description: Hi!, with value 5; thirdValue = 100\n",
      "______\n"
     ]
    }
   ],
   "source": [
    "val example = Example(5, \"Hi!\")"
   ],
   "metadata": {
    "collapsed": false,
    "ExecuteTime": {
     "end_time": "2024-02-15T09:06:29.669313Z",
     "start_time": "2024-02-15T09:06:29.602881Z"
    }
   },
   "execution_count": 11
  },
  {
   "cell_type": "markdown",
   "source": [
    "---\n",
    "\n",
    "# Abstraction\n",
    "\n",
    "<img alt=\"Cover\" src=\"./images/5.png\" width=\"3000\" />"
   ],
   "metadata": {
    "collapsed": false
   }
  },
  {
   "cell_type": "markdown",
   "source": [
    "---\n",
    "\n",
    "# Encapsulation\n",
    "\n",
    "<img alt=\"Cover\" src=\"./images/6.png\" width=\"3000\" />"
   ],
   "metadata": {
    "collapsed": false
   }
  },
  {
   "cell_type": "code",
   "outputs": [],
   "source": [
    "import org.jetbrains.kotlin.public.course.oop.Food\n",
    "import org.jetbrains.kotlin.public.course.oop.Poop\n",
    "\n",
    "abstract class RegularCat {\n",
    "    protected abstract val isHungry: Boolean\n",
    "    private fun poop(): Poop = Poop()\n",
    "    abstract fun feed(food: Food)\n",
    "}\n",
    "\n",
    "class MyCat : RegularCat() {\n",
    "    override val isHungry: Boolean = true\n",
    "    override fun feed(food: Food) {\n",
    "        if (isHungry) {\n",
    "            food.eat()\n",
    "        }\n",
    "        else {\n",
    "             // poop() // MyCat cannot poop\n",
    "        }\n",
    "    }\n",
    "    \n",
    "    private fun play() { println(\"Let's have fun!\") }\n",
    "}"
   ],
   "metadata": {
    "collapsed": false,
    "ExecuteTime": {
     "end_time": "2024-02-15T09:19:06.528924Z",
     "start_time": "2024-02-15T09:19:06.437942Z"
    }
   },
   "execution_count": 12
  },
  {
   "cell_type": "code",
   "outputs": [
    {
     "name": "stderr",
     "output_type": "stream",
     "text": [
      "Line_13.jupyter.kts (1:19 - 31) Cannot create an instance of an abstract class"
     ]
    }
   ],
   "source": [
    "val abstractCat = RegularCat() // Cannot create an instance of abstract class"
   ],
   "metadata": {
    "collapsed": false,
    "ExecuteTime": {
     "end_time": "2024-02-15T09:19:07.914462Z",
     "start_time": "2024-02-15T09:19:07.854139Z"
    }
   },
   "execution_count": 13
  },
  {
   "cell_type": "code",
   "outputs": [],
   "source": [
    "val cat = MyCat() // Everything is OK"
   ],
   "metadata": {
    "collapsed": false,
    "ExecuteTime": {
     "end_time": "2024-02-15T09:19:22.979970Z",
     "start_time": "2024-02-15T09:19:22.918914Z"
    }
   },
   "execution_count": 14
  },
  {
   "cell_type": "code",
   "outputs": [
    {
     "name": "stderr",
     "output_type": "stream",
     "text": [
      "Line_13.jupyter.kts (1:1 - 13) Val cannot be reassigned\n",
      "Line_13.jupyter.kts (1:5 - 13) Cannot access 'isHungry': it is protected in 'MyCat'"
     ]
    }
   ],
   "source": [
    "cat.isHungry = false // ERROR, invisible member"
   ],
   "metadata": {
    "collapsed": false,
    "ExecuteTime": {
     "start_time": "2024-01-16T17:54:29.215748Z"
    }
   },
   "execution_count": 13
  },
  {
   "cell_type": "code",
   "outputs": [
    {
     "name": "stdout",
     "output_type": "stream",
     "text": [
      "Ow! Fish, it was delicious!\n"
     ]
    }
   ],
   "source": [
    "cat.feed(Food()) // OK"
   ],
   "metadata": {
    "collapsed": false,
    "ExecuteTime": {
     "end_time": "2024-02-15T09:19:53.923267Z",
     "start_time": "2024-02-15T09:19:53.831321Z"
    }
   },
   "execution_count": 15
  },
  {
   "cell_type": "code",
   "outputs": [
    {
     "name": "stderr",
     "output_type": "stream",
     "text": [
      "Line_16.jupyter.kts (1:5 - 9) Cannot access 'play': it is private in 'MyCat'"
     ]
    }
   ],
   "source": [
    "cat.play() // ERROR, invisible member"
   ],
   "metadata": {
    "collapsed": false,
    "ExecuteTime": {
     "end_time": "2024-02-15T09:20:02.844219Z",
     "start_time": "2024-02-15T09:20:02.772788Z"
    }
   },
   "execution_count": 16
  },
  {
   "cell_type": "markdown",
   "source": [
    "---\n",
    "\n",
    "# Inheritance\n",
    "\n",
    "<font size=\"5\">To allow a class to be inherited by other classes, the class should be marked with the **open** keyword. (**Abstract** classes are always open.)</font>\n",
    "\n",
    "<font size=\"5\">In Kotlin you can inherit only from **one class**, and from as many **interfaces** as you like.</font>\n",
    "\n",
    "<font size=\"5\">When you’re inheriting from a class, you have to call its constructor, just like how secondary constructors have to call the primary.</font>"
   ],
   "metadata": {
    "collapsed": false
   }
  },
  {
   "cell_type": "code",
   "outputs": [
    {
     "name": "stderr",
     "output_type": "stream",
     "text": [
      "Line_16.jupyter.kts (3:17 - 29) This type is final, so it cannot be inherited from"
     ]
    }
   ],
   "source": [
    "class NotOpenClass\n",
    "\n",
    "class Example : NotOpenClass() // ERROR"
   ],
   "metadata": {
    "collapsed": false,
    "ExecuteTime": {
     "start_time": "2024-01-16T17:54:29.264459Z"
    }
   },
   "execution_count": 16
  },
  {
   "cell_type": "code",
   "outputs": [],
   "source": [
    "import org.jetbrains.kotlin.public.course.oop.CatAtHospital\n",
    "import org.jetbrains.kotlin.public.course.oop.Pill\n",
    "\n",
    "open class AnotherCat\n",
    "\n",
    "open class RegularCat() : AnotherCat()\n",
    "\n",
    "class SickDomesticCat : RegularCat(), CatAtHospital { // ERRROR, only one class be here\n",
    "//    override var isHungry: Boolean = false\n",
    "//    override fun feed(food: Food) { }\n",
    "    override fun checkStomach() { }\n",
    "    override fun giveMedicine(pill: Pill) {}\n",
    "}"
   ],
   "metadata": {
    "collapsed": false,
    "ExecuteTime": {
     "end_time": "2024-02-15T09:22:59.928112Z",
     "start_time": "2024-02-15T09:22:59.869989Z"
    }
   },
   "execution_count": 19
  },
  {
   "cell_type": "code",
   "outputs": [
    {
     "name": "stderr",
     "output_type": "stream",
     "text": [
      "Line_20.jupyter.kts (7:5 - 13) 'isHungry' overrides nothing\n",
      "Line_20.jupyter.kts (8:5 - 13) 'feed' overrides nothing"
     ]
    }
   ],
   "source": [
    "import org.jetbrains.kotlin.public.course.oop.CatAtHospital\n",
    "import org.jetbrains.kotlin.public.course.oop.Pill\n",
    "\n",
    "interface DemoInterface\n",
    "\n",
    "class MultiClassesInheritance : RegularCat(), CatAtHospital, DemoInterface { // Everything is fine, has everything from RegularCat and CatAtHospital\n",
    "    override var isHungry: Boolean = false\n",
    "    override fun feed(food: Food) {}\n",
    "    override fun checkStomach() { println(\"Stomach is ok!\") }\n",
    "    override fun giveMedicine(pill: Pill) { }\n",
    "}"
   ],
   "metadata": {
    "collapsed": false,
    "ExecuteTime": {
     "end_time": "2024-02-15T09:23:03.767290Z",
     "start_time": "2024-02-15T09:23:03.694726Z"
    }
   },
   "execution_count": 20
  },
  {
   "cell_type": "code",
   "outputs": [
    {
     "name": "stdout",
     "output_type": "stream",
     "text": [
      "Stomach is ok!\n"
     ]
    }
   ],
   "source": [
    "val multiClassesInheritanceCat = MultiClassesInheritance()\n",
    "multiClassesInheritanceCat.checkStomach()"
   ],
   "metadata": {
    "collapsed": false,
    "ExecuteTime": {
     "end_time": "2024-01-16T17:54:30.312742Z",
     "start_time": "2024-01-16T17:54:29.325793Z"
    }
   },
   "execution_count": 19
  },
  {
   "cell_type": "markdown",
   "source": [
    "---\n",
    "\n",
    "# Inheritance\n",
    "\n",
    "<font size=\"5\">Why do you prohibit a cat from pooping?! Let's fix it!</font>"
   ],
   "metadata": {
    "collapsed": false
   }
  },
  {
   "cell_type": "code",
   "outputs": [],
   "source": [
    "import org.jetbrains.kotlin.public.course.oop.Food\n",
    "import org.jetbrains.kotlin.public.course.oop.Place\n",
    "import org.jetbrains.kotlin.public.course.oop.Poop\n",
    "\n",
    "abstract class Cat {\n",
    "   fun anotherDay() { // Cannot be ovveriden\n",
    "       // various cat activities\n",
    "       // don't know how they work\n",
    "       digest(findFood())\n",
    "       poop(findWhereToPoop())\n",
    "   }\n",
    "   private fun poop(where: Place): Poop { \n",
    "       println(\"pooping...\")\n",
    "       return Poop() \n",
    "   }\n",
    "   private fun digest(food: Food) {\n",
    "       println(\"digest function starts...\")\n",
    "       poop(findWhereToPoop())\n",
    "       println(\"digest function ends...\")\n",
    "   }\n",
    "   abstract fun feed(food: Food)\n",
    "   abstract fun findWhereToPoop(): Place\n",
    "   abstract fun findFood(): Food\n",
    "}"
   ],
   "metadata": {
    "collapsed": false,
    "ExecuteTime": {
     "end_time": "2024-02-15T09:23:18.853964Z",
     "start_time": "2024-02-15T09:23:18.759449Z"
    }
   },
   "execution_count": 21
  },
  {
   "cell_type": "code",
   "outputs": [],
   "source": [
    "import org.jetbrains.kotlin.public.course.oop.Bowl\n",
    "import org.jetbrains.kotlin.public.course.oop.Tray\n",
    "\n",
    "class DomesticCat(\n",
    "    val tray: Tray,\n",
    "    val bowl: Bowl\n",
    ") : Cat() {\n",
    "    override fun feed(food: Food) {\n",
    "        // place some food in the bowl\n",
    "    }\n",
    "\n",
    "    override fun findWhereToPoop() = tray // We can return Tray, since it is a subtype of Place\n",
    "    override fun findFood() = bowl.getFood()\n",
    "}"
   ],
   "metadata": {
    "collapsed": false,
    "ExecuteTime": {
     "end_time": "2024-01-16T17:54:30.498567Z",
     "start_time": "2024-01-16T17:54:29.402198Z"
    }
   },
   "execution_count": 21
  },
  {
   "cell_type": "code",
   "outputs": [],
   "source": [
    "val domesticCat = DomesticCat(Tray(), Bowl())"
   ],
   "metadata": {
    "collapsed": false,
    "ExecuteTime": {
     "end_time": "2024-01-16T17:54:30.517662Z",
     "start_time": "2024-01-16T17:54:29.444030Z"
    }
   },
   "execution_count": 22
  },
  {
   "cell_type": "code",
   "outputs": [
    {
     "name": "stderr",
     "output_type": "stream",
     "text": [
      "Line_23.jupyter.kts (1:13 - 17) Cannot access 'poop': it is invisible (private in a supertype) in 'DomesticCat'\n",
      "Line_23.jupyter.kts (1:17 - 19) No value passed for parameter 'where'"
     ]
    }
   ],
   "source": [
    "domesticCat.poop() // ERROR, invisible member"
   ],
   "metadata": {
    "collapsed": false,
    "ExecuteTime": {
     "end_time": "2024-01-16T17:54:30.522581Z",
     "start_time": "2024-01-16T17:54:29.468292Z"
    }
   },
   "execution_count": 23
  },
  {
   "cell_type": "code",
   "outputs": [
    {
     "name": "stdout",
     "output_type": "stream",
     "text": [
      "digest function starts...\n",
      "pooping...\n",
      "digest function ends...\n",
      "pooping...\n"
     ]
    }
   ],
   "source": [
    "domesticCat.anotherDay() // Calls invisible function poop"
   ],
   "metadata": {
    "collapsed": false,
    "ExecuteTime": {
     "end_time": "2024-01-16T17:54:30.540809Z",
     "start_time": "2024-01-16T17:54:29.478220Z"
    }
   },
   "execution_count": 24
  },
  {
   "cell_type": "markdown",
   "source": [
    "---\n",
    "\n",
    "# Polymorphism revisited"
   ],
   "metadata": {
    "collapsed": false
   }
  },
  {
   "cell_type": "code",
   "outputs": [],
   "source": [
    "interface DomesticAnimal {\n",
    "    fun pet()\n",
    "}\n",
    "class Dog: DomesticAnimal {\n",
    "    override fun pet() { println(\"It's a dog\") }\n",
    "}\n",
    "class Cat: DomesticAnimal {\n",
    "    override fun pet() { println(\"It's a cat\") }\n",
    "}"
   ],
   "metadata": {
    "collapsed": false,
    "ExecuteTime": {
     "end_time": "2024-02-15T09:57:20.504037Z",
     "start_time": "2024-02-15T09:57:20.414688Z"
    }
   },
   "execution_count": 81
  },
  {
   "cell_type": "code",
   "outputs": [
    {
     "name": "stdout",
     "output_type": "stream",
     "text": [
      "It's a dog\n",
      "It's a cat\n"
     ]
    }
   ],
   "source": [
    "val homeZoo = listOf<DomesticAnimal>(Dog(), Cat())\n",
    "homeZoo.forEach { it.pet() }"
   ],
   "metadata": {
    "collapsed": false,
    "ExecuteTime": {
     "end_time": "2024-02-15T09:25:00.054012Z",
     "start_time": "2024-02-15T09:24:59.948542Z"
    }
   },
   "execution_count": 24
  },
  {
   "cell_type": "markdown",
   "source": [
    "---\n",
    "\n",
    "# Properties\n",
    "\n",
    "<font size=\"5\">Properties can optionally have an initializer, getter, and setter.</font>\n",
    "\n",
    "<font size=\"5\">Use the `field` keyword to access the values inside the getter or setter, otherwise you might encounter infinite recursion.</font>"
   ],
   "metadata": {
    "collapsed": false
   }
  },
  {
   "cell_type": "code",
   "outputs": [],
   "source": [
    "class PositiveAttitude(startingAttitude: Int) {\n",
    "    var attitude = max(0, startingAttitude)\n",
    "        set(value) =\n",
    "            if (value >= 0) {\n",
    "                field = value\n",
    "            } else {\n",
    "                println(\"Only positive attitude!\")\n",
    "                field = 0\n",
    "            }\n",
    "}"
   ],
   "metadata": {
    "collapsed": false,
    "ExecuteTime": {
     "end_time": "2024-02-15T09:28:11.855444Z",
     "start_time": "2024-02-15T09:28:11.795550Z"
    }
   },
   "execution_count": 30
  },
  {
   "cell_type": "code",
   "outputs": [
    {
     "name": "stdout",
     "output_type": "stream",
     "text": [
      "5\n"
     ]
    }
   ],
   "source": [
    "val positiveGetterDemo = PositiveAttitude(5)\n",
    "println(positiveGetterDemo.attitude)"
   ],
   "metadata": {
    "collapsed": false,
    "ExecuteTime": {
     "end_time": "2024-02-15T09:28:12.776743Z",
     "start_time": "2024-02-15T09:28:12.696233Z"
    }
   },
   "execution_count": 31
  },
  {
   "cell_type": "code",
   "outputs": [
    {
     "name": "stdout",
     "output_type": "stream",
     "text": [
      "0\n"
     ]
    }
   ],
   "source": [
    "val negativeGetterDemo = PositiveAttitude(-5)\n",
    "println(negativeGetterDemo.attitude)"
   ],
   "metadata": {
    "collapsed": false,
    "ExecuteTime": {
     "end_time": "2024-02-15T09:28:14.444980Z",
     "start_time": "2024-02-15T09:28:14.390263Z"
    }
   },
   "execution_count": 32
  },
  {
   "cell_type": "code",
   "outputs": [
    {
     "name": "stdout",
     "output_type": "stream",
     "text": [
      "5\n",
      "10\n",
      "Only positive attitude!\n",
      "0\n"
     ]
    }
   ],
   "source": [
    "val positiveSetterDemo = PositiveAttitude(5)\n",
    "println(positiveSetterDemo.attitude)\n",
    "\n",
    "positiveSetterDemo.attitude = 10 // OK\n",
    "println(positiveSetterDemo.attitude)\n",
    "\n",
    "positiveSetterDemo.attitude = -10 // 0, since only positive\n",
    "println(positiveSetterDemo.attitude)"
   ],
   "metadata": {
    "collapsed": false,
    "ExecuteTime": {
     "end_time": "2024-02-15T09:28:16.395643Z",
     "start_time": "2024-02-15T09:28:16.321703Z"
    }
   },
   "execution_count": 33
  },
  {
   "cell_type": "code",
   "outputs": [],
   "source": [
    "class PositiveHiddenAttitude(startingAttitude: Int) {\n",
    "    var hiddenAttitude: Int = startingAttitude\n",
    "        private set\n",
    "        get() {\n",
    "            if (field < 0) { // Don't use hiddenAttitude here to avoid infinite recursion\n",
    "                println(\"Don't ask this!\")\n",
    "                field += 10\n",
    "            }\n",
    "            return field\n",
    "        }\n",
    "}"
   ],
   "metadata": {
    "collapsed": false,
    "ExecuteTime": {
     "end_time": "2024-01-16T17:54:30.658739Z",
     "start_time": "2024-01-16T17:54:29.777260Z"
    }
   },
   "execution_count": 31
  },
  {
   "cell_type": "code",
   "outputs": [
    {
     "name": "stdout",
     "output_type": "stream",
     "text": [
      "2\n"
     ]
    }
   ],
   "source": [
    "val positiveHiddenAttitude = PositiveHiddenAttitude(2)\n",
    "println(positiveHiddenAttitude.hiddenAttitude) // 2"
   ],
   "metadata": {
    "collapsed": false,
    "ExecuteTime": {
     "end_time": "2024-01-16T17:54:30.683768Z",
     "start_time": "2024-01-16T17:54:29.818724Z"
    }
   },
   "execution_count": 32
  },
  {
   "cell_type": "code",
   "outputs": [
    {
     "name": "stdout",
     "output_type": "stream",
     "text": [
      "Don't ask this!\n",
      "8\n"
     ]
    }
   ],
   "source": [
    "val positiveHiddenAttitude2 = PositiveHiddenAttitude(-2)\n",
    "println(positiveHiddenAttitude2.hiddenAttitude) // 8"
   ],
   "metadata": {
    "collapsed": false,
    "ExecuteTime": {
     "end_time": "2024-01-16T17:54:30.695483Z",
     "start_time": "2024-01-16T17:54:29.843868Z"
    }
   },
   "execution_count": 33
  },
  {
   "cell_type": "markdown",
   "source": [
    "<font size=\"5\">Properties may have no (backing) filed at all.</font>"
   ],
   "metadata": {
    "collapsed": false
   }
  },
  {
   "cell_type": "code",
   "outputs": [],
   "source": [
    "class PositiveAttitudeWithoutBackingField(startingAttitude: Int) {\n",
    "    var hiddenAttitude: Int = startingAttitude\n",
    "        private set\n",
    "        get() {\n",
    "            if (field < 0) { // No recursion here \n",
    "                println(\"Don't ask this!\")\n",
    "                field += 10\n",
    "            }\n",
    "            return field\n",
    "        }\n",
    "    \n",
    "    // No backing field - we don't store this value in the class\n",
    "    val isSecretelyNegative: Boolean\n",
    "        get() = hiddenAttitude < 0\n",
    "    \n",
    "    fun isSecretelyNegativeFoo() = hiddenAttitude < 0\n",
    "}"
   ],
   "metadata": {
    "collapsed": false,
    "ExecuteTime": {
     "end_time": "2024-02-15T09:30:29.977684Z",
     "start_time": "2024-02-15T09:30:29.880189Z"
    }
   },
   "execution_count": 37
  },
  {
   "cell_type": "code",
   "outputs": [
    {
     "name": "stdout",
     "output_type": "stream",
     "text": [
      "false\n"
     ]
    }
   ],
   "source": [
    "val positiveAttitudeWithoutBackingField = PositiveAttitudeWithoutBackingField(2)\n",
    "println(positiveAttitudeWithoutBackingField.isSecretelyNegativeFoo()) // false\n",
    "println(positiveAttitudeWithoutBackingField.isSecretelyNegative) // false"
   ],
   "metadata": {
    "collapsed": false,
    "ExecuteTime": {
     "end_time": "2024-02-15T09:30:30.884743Z",
     "start_time": "2024-02-15T09:30:30.803339Z"
    }
   },
   "execution_count": 38
  },
  {
   "cell_type": "code",
   "outputs": [
    {
     "name": "stdout",
     "output_type": "stream",
     "text": [
      "Don't ask this!\n",
      "false\n"
     ]
    }
   ],
   "source": [
    "val positiveAttitudeWithoutBackingField2 = PositiveAttitudeWithoutBackingField(-2)\n",
    "println(positiveAttitudeWithoutBackingField2.isSecretelyNegative) // false, since we calculate a new value first"
   ],
   "metadata": {
    "collapsed": false,
    "ExecuteTime": {
     "end_time": "2024-01-16T17:54:30.723028Z",
     "start_time": "2024-01-16T17:54:29.937131Z"
    }
   },
   "execution_count": 36
  },
  {
   "cell_type": "code",
   "outputs": [
    {
     "name": "stdout",
     "output_type": "stream",
     "text": [
      "Don't ask this!\n",
      "true\n"
     ]
    }
   ],
   "source": [
    "val positiveAttitudeWithoutBackingField3 = PositiveAttitudeWithoutBackingField(-20)\n",
    "println(positiveAttitudeWithoutBackingField3.isSecretelyNegative) // true, since we calculate a new value first, but it's still negative"
   ],
   "metadata": {
    "collapsed": false,
    "ExecuteTime": {
     "end_time": "2024-01-16T17:54:30.734553Z",
     "start_time": "2024-01-16T17:54:29.962510Z"
    }
   },
   "execution_count": 37
  },
  {
   "cell_type": "markdown",
   "source": [
    "<font size=\"5\">Properties may be `open` or `abstract`, which means that their getters and setters might or must be overridden by inheritors, respectively.</font>"
   ],
   "metadata": {
    "collapsed": false
   }
  },
  {
   "cell_type": "code",
   "outputs": [],
   "source": [
    "open class OpenBase(open var value: Int)"
   ],
   "metadata": {
    "collapsed": false,
    "ExecuteTime": {
     "end_time": "2024-02-15T09:30:54.069823Z",
     "start_time": "2024-02-15T09:30:53.993959Z"
    }
   },
   "execution_count": 39
  },
  {
   "cell_type": "code",
   "outputs": [],
   "source": [
    "class OpenChild(override var value: Int) : OpenBase(value)"
   ],
   "metadata": {
    "collapsed": false,
    "ExecuteTime": {
     "end_time": "2024-02-15T09:31:02.373291Z",
     "start_time": "2024-02-15T09:31:02.295778Z"
    }
   },
   "execution_count": 40
  },
  {
   "cell_type": "code",
   "outputs": [
    {
     "name": "stdout",
     "output_type": "stream",
     "text": [
      "5\n",
      "-10\n"
     ]
    }
   ],
   "source": [
    "val child = OpenChild(5)\n",
    "println(child.value) // 5\n",
    "\n",
    "child.value = -10\n",
    "println(child.value) // -10"
   ],
   "metadata": {
    "collapsed": false,
    "ExecuteTime": {
     "end_time": "2024-01-16T17:54:30.754747Z",
     "start_time": "2024-01-16T17:54:30.028069Z"
    }
   },
   "execution_count": 40
  },
  {
   "cell_type": "code",
   "outputs": [],
   "source": [
    "class OpenChild2(value: Int) : OpenBase(value) {\n",
    "    override var value: Int = value\n",
    "        set(value) =\n",
    "            if (value >= 0) {\n",
    "                field = value\n",
    "            } else {\n",
    "                println(\"Only positive attitude!\")\n",
    "                field = 0\n",
    "            }\n",
    "}"
   ],
   "metadata": {
    "collapsed": false,
    "ExecuteTime": {
     "end_time": "2024-01-16T17:54:30.758933Z",
     "start_time": "2024-01-16T17:54:30.058664Z"
    }
   },
   "execution_count": 41
  },
  {
   "cell_type": "code",
   "outputs": [
    {
     "name": "stdout",
     "output_type": "stream",
     "text": [
      "5\n",
      "Only positive attitude!\n",
      "0\n"
     ]
    }
   ],
   "source": [
    "val child2 = OpenChild2(5)\n",
    "println(child2.value) // 5\n",
    "\n",
    "child2.value = -10\n",
    "println(child2.value) // 0, since -10 is negative"
   ],
   "metadata": {
    "collapsed": false,
    "ExecuteTime": {
     "end_time": "2024-01-16T17:54:30.763445Z",
     "start_time": "2024-01-16T17:54:30.091297Z"
    }
   },
   "execution_count": 42
  },
  {
   "cell_type": "markdown",
   "source": [
    "<font size=\"5\">Interfaces can have properties, but they are always `abstract`.</font>"
   ],
   "metadata": {
    "collapsed": false
   }
  },
  {
   "cell_type": "code",
   "outputs": [],
   "source": [
    "interface AnotherExample {\n",
    "    val anotherValue: OpenBase // an abstract property\n",
    "}"
   ],
   "metadata": {
    "collapsed": false,
    "ExecuteTime": {
     "end_time": "2024-02-15T09:31:16.197817Z",
     "start_time": "2024-02-15T09:31:16.121200Z"
    }
   },
   "execution_count": 41
  },
  {
   "cell_type": "code",
   "outputs": [],
   "source": [
    "open class OpenChild(value: Int) : OpenBase(value), AnotherExample {\n",
    "   override var value: Int = 1000 // We need to ovveride this property\n",
    "       get() = field - 7\n",
    "   override val anotherValue: OpenBase = OpenBase(value)\n",
    "}"
   ],
   "metadata": {
    "collapsed": false,
    "ExecuteTime": {
     "end_time": "2024-02-15T09:31:59.694079Z",
     "start_time": "2024-02-15T09:31:59.603956Z"
    }
   },
   "execution_count": 42
  },
  {
   "cell_type": "code",
   "outputs": [
    {
     "name": "stdout",
     "output_type": "stream",
     "text": [
      "993\n",
      "993\n"
     ]
    }
   ],
   "source": [
    "val demo = OpenChild(100)\n",
    "println(demo.value) // 993\n",
    "println(demo.value) // 993"
   ],
   "metadata": {
    "collapsed": false,
    "ExecuteTime": {
     "end_time": "2024-01-16T17:54:30.784199Z",
     "start_time": "2024-01-16T17:54:30.168977Z"
    }
   },
   "execution_count": 45
  },
  {
   "cell_type": "markdown",
   "source": [
    "<font size=\"5\">You can prohibit further overriding by marking a property final.</font>"
   ],
   "metadata": {
    "collapsed": false
   }
  },
  {
   "cell_type": "code",
   "outputs": [],
   "source": [
    "open class AnotherChild(value: Int) : OpenChild(value) {\n",
    "   final override var value: Int = value\n",
    "       get() = super.value // default get() is used otherwise\n",
    "       set(value) { field = value * 2 }\n",
    "    \n",
    "   final override val anotherValue: OpenChild = OpenChild(value) // Notice that we use OpenChild here, not OpenBase. It's correct since OpenChild inherits OpenBase \n",
    "}"
   ],
   "metadata": {
    "collapsed": false,
    "ExecuteTime": {
     "end_time": "2024-02-15T09:32:18.983541Z",
     "start_time": "2024-02-15T09:32:18.903867Z"
    }
   },
   "execution_count": 43
  },
  {
   "cell_type": "markdown",
   "source": [
    "---\n",
    "\n",
    "# Operator overloading\n",
    "\n",
    "<font size=\"5\">Operator “overloading” is allowed.</font>\n",
    "\n",
    "<font size=\"5\">Almost all operators can be overloaded.</font>"
   ],
   "metadata": {
    "collapsed": false
   }
  },
  {
   "cell_type": "code",
   "outputs": [],
   "source": [
    "import org.jetbrains.kotlin.public.course.oop.getFromPosition\n",
    "\n",
    "class Example(val a: Int) {\n",
    "   operator fun plus(other: Example): Example = Example(a + other.a)\n",
    "   operator fun dec() = this // return type has to be a subtype\n",
    "   operator fun get(i: Int, j: Int): Int = a.getFromPosition(i) * 10 + a.getFromPosition(j)\n",
    "   operator fun get(x: Double?, y: String) = this\n",
    "   operator fun invoke(l: List<Int>): List<Int> = l.map{ \n",
    "       println(\"pos: $it, a: $a\")\n",
    "       a.getFromPosition(it) \n",
    "   }\n",
    "}"
   ],
   "metadata": {
    "collapsed": false,
    "ExecuteTime": {
     "end_time": "2024-02-15T09:33:08.677470Z",
     "start_time": "2024-02-15T09:33:08.559795Z"
    }
   },
   "execution_count": 44
  },
  {
   "cell_type": "code",
   "outputs": [
    {
     "name": "stdout",
     "output_type": "stream",
     "text": [
      "198765432\n",
      "397530864\n"
     ]
    }
   ],
   "source": [
    "var ex1 = Example(198765432)\n",
    "println(ex1.a)\n",
    "\n",
    "val ex2 = ex1 + --ex1 // -- reassigned ex1, so it has to be var\n",
    "println(ex2.a)"
   ],
   "metadata": {
    "collapsed": false,
    "ExecuteTime": {
     "end_time": "2024-02-15T09:33:48.105960Z",
     "start_time": "2024-02-15T09:33:48.033413Z"
    }
   },
   "execution_count": 45
  },
  {
   "cell_type": "code",
   "outputs": [
    {
     "name": "stdout",
     "output_type": "stream",
     "text": [
      "73\n"
     ]
    }
   ],
   "source": [
    "println(ex1[3, 7])"
   ],
   "metadata": {
    "collapsed": false,
    "ExecuteTime": {
     "end_time": "2024-02-15T09:34:13.032170Z",
     "start_time": "2024-02-15T09:34:12.954081Z"
    }
   },
   "execution_count": 46
  },
  {
   "cell_type": "code",
   "outputs": [
    {
     "name": "stdout",
     "output_type": "stream",
     "text": [
      "pos: 1, a: 397530864\n",
      "pos: 2, a: 397530864\n",
      "pos: 3, a: 397530864\n",
      "[9, 7, 5]\n"
     ]
    }
   ],
   "source": [
    "println(ex2[null, \"Wow\"](listOf(1, 2, 3)))"
   ],
   "metadata": {
    "collapsed": false,
    "ExecuteTime": {
     "end_time": "2024-01-16T17:54:31.077823Z",
     "start_time": "2024-01-16T17:54:30.387082Z"
    }
   },
   "execution_count": 50
  },
  {
   "cell_type": "markdown",
   "source": [
    "<font size=\"5\">Operators can be overloaded outside of the class.</font>"
   ],
   "metadata": {
    "collapsed": false
   }
  },
  {
   "cell_type": "code",
   "outputs": [],
   "source": [
    "operator fun Example.rangeTo(other: Example): Iterator<Example> = (this.a .. other.a).map{ Example(it) }.iterator()"
   ],
   "metadata": {
    "collapsed": false,
    "ExecuteTime": {
     "end_time": "2024-02-15T09:36:21.995695Z",
     "start_time": "2024-02-15T09:36:21.899107Z"
    }
   },
   "execution_count": 48
  },
  {
   "cell_type": "code",
   "outputs": [
    {
     "name": "stdout",
     "output_type": "stream",
     "text": [
      "2\n",
      "3\n",
      "4\n",
      "5\n"
     ]
    }
   ],
   "source": [
    "var exStart = Example(2)\n",
    "var exEnd = Example(5)\n",
    "for (ex in exStart..exEnd) {\n",
    "    println(ex.a)\n",
    "}"
   ],
   "metadata": {
    "collapsed": false,
    "ExecuteTime": {
     "end_time": "2024-02-15T09:36:25.218167Z",
     "start_time": "2024-02-15T09:36:25.133714Z"
    }
   },
   "execution_count": 49
  },
  {
   "cell_type": "markdown",
   "source": [
    "---\n",
    "\n",
    "# Extensions\n",
    "\n",
    "\n",
    "<font size=\"5\">Kotlin provides the ability to <span style=\"text-decoration:underline\">extend a class</span> or an interface with new functionality <span style=\"text-decoration:underline\">without having to inherit from the class or use forbidden magic (reflection)</span></font>"
   ],
   "metadata": {
    "collapsed": false
   }
  },
  {
   "cell_type": "code",
   "outputs": [],
   "source": [
    "fun <T> MutableList<T>.swap(index1: Int, index2: Int) {\n",
    "    val tmp = this[index1] // 'this' is the given MutableList<T>\n",
    "    this[index1] = this[index2]\n",
    "    this[index2] = tmp\n",
    "}"
   ],
   "metadata": {
    "collapsed": false,
    "ExecuteTime": {
     "end_time": "2024-01-16T17:54:31.352609Z",
     "start_time": "2024-01-16T17:54:30.507814Z"
    }
   },
   "execution_count": 53
  },
  {
   "cell_type": "code",
   "outputs": [
    {
     "name": "stdout",
     "output_type": "stream",
     "text": [
      "[4, 2, 3, 1]\n"
     ]
    }
   ],
   "source": [
    "val l = mutableListOf(1, 2, 3, 4)\n",
    "l.swap(0, l.lastIndex)\n",
    "println(l)"
   ],
   "metadata": {
    "collapsed": false,
    "ExecuteTime": {
     "end_time": "2024-01-16T17:54:31.390977Z",
     "start_time": "2024-01-16T17:54:30.541847Z"
    }
   },
   "execution_count": 54
  },
  {
   "cell_type": "markdown",
   "source": [
    "<font size=\"5\">If the extended class **already has** the new method with the same name and signature, the **original** one will be used.</font>"
   ],
   "metadata": {
    "collapsed": false
   }
  },
  {
   "cell_type": "code",
   "outputs": [],
   "source": [
    "class MyClass {\n",
    "    fun foo() = println(\"Hi from the original function!\")\n",
    "}"
   ],
   "metadata": {
    "collapsed": false,
    "ExecuteTime": {
     "end_time": "2024-02-15T09:37:38.448379Z",
     "start_time": "2024-02-15T09:37:38.362343Z"
    }
   },
   "execution_count": 50
  },
  {
   "cell_type": "code",
   "outputs": [
    {
     "name": "stdout",
     "output_type": "stream",
     "text": [
      "Hi from the original function!\n"
     ]
    }
   ],
   "source": [
    "MyClass().foo()"
   ],
   "metadata": {
    "collapsed": false,
    "ExecuteTime": {
     "end_time": "2024-02-15T09:37:42.941818Z",
     "start_time": "2024-02-15T09:37:42.873011Z"
    }
   },
   "execution_count": 51
  },
  {
   "cell_type": "code",
   "outputs": [],
   "source": [
    "fun MyClass.foo() = println(\"Hi from the extension function!\")"
   ],
   "metadata": {
    "collapsed": false,
    "ExecuteTime": {
     "end_time": "2024-02-15T09:37:50.945342Z",
     "start_time": "2024-02-15T09:37:50.878287Z"
    }
   },
   "execution_count": 52
  },
  {
   "cell_type": "code",
   "outputs": [
    {
     "name": "stdout",
     "output_type": "stream",
     "text": [
      "Hi from the original function!\n"
     ]
    }
   ],
   "source": [
    "MyClass().foo()"
   ],
   "metadata": {
    "collapsed": false,
    "ExecuteTime": {
     "end_time": "2024-02-15T09:37:51.868959Z",
     "start_time": "2024-02-15T09:37:51.793399Z"
    }
   },
   "execution_count": 53
  },
  {
   "cell_type": "markdown",
   "source": [
    "---\n",
    "\n",
    "# Extensions under the hood\n",
    "\n",
    "<font size=\"5\">The class that is being extended does not change at all; it is simply a new function that can be called like a method. It cannot access private members, for example.</font>\n",
    "\n",
    "<font size=\"5\">Extensions have static dispatch, rather than virtual dispatch by receiver type. An extension function being called is determined by the type of the expression on which the function is invoked, not by the type of the result from evaluating that expression at runtime.</font>"
   ],
   "metadata": {
    "collapsed": false
   }
  },
  {
   "cell_type": "code",
   "outputs": [],
   "source": [
    "open class Shape\n",
    "\n",
    "class Rectangle: Shape()\n",
    "\n",
    "fun Shape.getName() = \"Shape\"\n",
    "\n",
    "fun Rectangle.getName() = \"Rectangle\"\n",
    "\n",
    "fun printClassName(s: Shape) {\n",
    "    println(s.getName()) \n",
    "}"
   ],
   "metadata": {
    "collapsed": false,
    "ExecuteTime": {
     "end_time": "2024-02-15T09:39:15.265403Z",
     "start_time": "2024-02-15T09:39:15.194797Z"
    }
   },
   "execution_count": 54
  },
  {
   "cell_type": "code",
   "outputs": [
    {
     "name": "stdout",
     "output_type": "stream",
     "text": [
      "Shape\n"
     ]
    }
   ],
   "source": [
    "printClassName(Rectangle()) // \"Shape\", not Rectangle"
   ],
   "metadata": {
    "collapsed": false,
    "ExecuteTime": {
     "end_time": "2024-02-15T09:39:15.777160Z",
     "start_time": "2024-02-15T09:39:15.720063Z"
    }
   },
   "execution_count": 55
  },
  {
   "cell_type": "code",
   "outputs": [
    {
     "name": "stdout",
     "output_type": "stream",
     "text": [
      "Rectangle\n",
      "Shape\n"
     ]
    }
   ],
   "source": [
    "// BUT\n",
    "\n",
    "println(Rectangle().getName()) // Rectangle\n",
    "println(Shape().getName()) // Shape"
   ],
   "metadata": {
    "collapsed": false,
    "ExecuteTime": {
     "end_time": "2024-02-15T09:39:48.865289Z",
     "start_time": "2024-02-15T09:39:48.789261Z"
    }
   },
   "execution_count": 57
  },
  {
   "cell_type": "markdown",
   "source": [
    "---\n",
    "\n",
    "# Infix functions"
   ],
   "metadata": {
    "collapsed": false
   }
  },
  {
   "cell_type": "code",
   "outputs": [],
   "source": [
    "data class Person(val name: String, val surname: String)\n",
    "\n",
    "infix fun String.with(other: String) = Person(this, other)"
   ],
   "metadata": {
    "collapsed": false,
    "ExecuteTime": {
     "end_time": "2024-02-15T09:46:10.805324Z",
     "start_time": "2024-02-15T09:46:10.732821Z"
    }
   },
   "execution_count": 64
  },
  {
   "cell_type": "code",
   "outputs": [
    {
     "name": "stdout",
     "output_type": "stream",
     "text": [
      "Person(name=Ryan, surname=Gosling)\n"
     ]
    }
   ],
   "source": [
    "val realHero = \"Ryan\".with(\"Gosling\")\n",
    "println(realHero)"
   ],
   "metadata": {
    "collapsed": false,
    "ExecuteTime": {
     "end_time": "2024-02-15T09:46:12.613874Z",
     "start_time": "2024-02-15T09:46:12.519959Z"
    }
   },
   "execution_count": 65
  },
  {
   "cell_type": "code",
   "outputs": [
    {
     "name": "stdout",
     "output_type": "stream",
     "text": [
      "Person(name=Ryan, surname=Gosling)\n"
     ]
    }
   ],
   "source": [
    "// Since with is an infix function, we can reqrite this code\n",
    "\n",
    "val realHeroDemo = \"Ryan\" with \"Gosling\" \n",
    "println(realHeroDemo)"
   ],
   "metadata": {
    "collapsed": false,
    "ExecuteTime": {
     "end_time": "2024-02-15T09:46:31.193896Z",
     "start_time": "2024-02-15T09:46:31.098301Z"
    }
   },
   "execution_count": 66
  },
  {
   "cell_type": "markdown",
   "source": [
    "---\n",
    "\n",
    "# ComponentN operator"
   ],
   "metadata": {
    "collapsed": false
   }
  },
  {
   "cell_type": "code",
   "outputs": [],
   "source": [
    "class SomeData(val list: List<Int>) {\n",
    "   operator fun component1() = list.first()\n",
    "   operator fun component2() = SomeData(list.subList(1, list.size))\n",
    "   operator fun component3() = \"This is weird\"\n",
    "}"
   ],
   "metadata": {
    "collapsed": false,
    "ExecuteTime": {
     "end_time": "2024-01-16T17:54:31.708848Z",
     "start_time": "2024-01-16T17:54:30.847430Z"
    }
   },
   "execution_count": 65
  },
  {
   "cell_type": "code",
   "outputs": [],
   "source": [
    "val sd = SomeData(listOf(1, 2, 3))"
   ],
   "metadata": {
    "collapsed": false,
    "ExecuteTime": {
     "end_time": "2024-01-16T17:54:31.854470Z",
     "start_time": "2024-01-16T17:54:30.883244Z"
    }
   },
   "execution_count": 66
  },
  {
   "cell_type": "code",
   "outputs": [
    {
     "name": "stdout",
     "output_type": "stream",
     "text": [
      "1\n",
      "[2, 3]\n",
      "This is weird\n"
     ]
    }
   ],
   "source": [
    "val (head, tail, msg) = sd\n",
    "println(head)\n",
    "println(tail.list)\n",
    "println(msg)"
   ],
   "metadata": {
    "collapsed": false,
    "ExecuteTime": {
     "end_time": "2024-01-16T17:54:31.884226Z",
     "start_time": "2024-01-16T17:54:30.904417Z"
    }
   },
   "execution_count": 67
  },
  {
   "cell_type": "code",
   "outputs": [
    {
     "name": "stdout",
     "output_type": "stream",
     "text": [
      "1\n",
      "[2, 3]\n"
     ]
    }
   ],
   "source": [
    "val (h, t) = sd\n",
    "println(h)\n",
    "println(t.list)"
   ],
   "metadata": {
    "collapsed": false,
    "ExecuteTime": {
     "end_time": "2024-01-16T17:54:31.899387Z",
     "start_time": "2024-01-16T17:54:30.935757Z"
    }
   },
   "execution_count": 68
  },
  {
   "cell_type": "code",
   "outputs": [
    {
     "name": "stdout",
     "output_type": "stream",
     "text": [
      "1\n"
     ]
    }
   ],
   "source": [
    "val (onlyComponent1) = sd\n",
    "println(onlyComponent1)"
   ],
   "metadata": {
    "collapsed": false,
    "ExecuteTime": {
     "end_time": "2024-01-16T17:54:31.904436Z",
     "start_time": "2024-01-16T17:54:30.960752Z"
    }
   },
   "execution_count": 69
  },
  {
   "cell_type": "markdown",
   "source": [
    "<font size=\"5\">Any class can overload any number of `componentN` methods that can be used in destructive declarations.</font>\n",
    "\n",
    "<font size=\"5\">Data classes have these methods by default.</font>"
   ],
   "metadata": {
    "collapsed": false
   }
  },
  {
   "cell_type": "markdown",
   "source": [
    "---\n",
    "\n",
    "# Data classes"
   ],
   "metadata": {
    "collapsed": false
   }
  },
  {
   "cell_type": "code",
   "outputs": [
    {
     "name": "stdout",
     "output_type": "stream",
     "text": [
      "User(name=John, age=35)\n"
     ]
    }
   ],
   "source": [
    "data class User(val name: String, val age: Int) {\n",
    "    val city: String? = null\n",
    "}\n",
    "\n",
    "println(User(\"John\", 35))\n"
   ],
   "metadata": {
    "collapsed": false,
    "ExecuteTime": {
     "end_time": "2024-02-15T09:45:29.340106Z",
     "start_time": "2024-02-15T09:45:29.270192Z"
    }
   },
   "execution_count": 63
  },
  {
   "cell_type": "markdown",
   "source": [
    "<font size=\"5\">The compiler automatically derives:</font>\n",
    "\n",
    "- <font size=\"5\">`equals()` and `hashCode()`</font>\n",
    "- <font size=\"5\">`toString()` of the form `User(name=John, age=42)`</font>\n",
    "- <font size=\"5\">`componentN()` functions corresponding to the properties in their order of declaration.</font>\n",
    "- <font size=\"5\">`copy()` to copy an object, allowing you to alter some of its properties while keeping the rest unchanged</font>"
   ],
   "metadata": {
    "collapsed": false
   }
  },
  {
   "cell_type": "code",
   "outputs": [
    {
     "name": "stdout",
     "output_type": "stream",
     "text": [
      "User(name=John, age=26)\n"
     ]
    }
   ],
   "source": [
    "println(User(\"John\", 26))"
   ],
   "metadata": {
    "collapsed": false,
    "ExecuteTime": {
     "end_time": "2024-02-15T09:42:09.319092Z",
     "start_time": "2024-02-15T09:42:09.236234Z"
    }
   },
   "execution_count": 59
  },
  {
   "cell_type": "code",
   "outputs": [
    {
     "name": "stdout",
     "output_type": "stream",
     "text": [
      "User(name=John, age=26)\n",
      "User(name=John, age=30)\n"
     ]
    }
   ],
   "source": [
    "val user1 = User(\"John\", 26)\n",
    "val user2 = user1.copy(age = 30)\n",
    "\n",
    "println(user1)\n",
    "println(user2)"
   ],
   "metadata": {
    "collapsed": false,
    "ExecuteTime": {
     "end_time": "2024-02-15T09:42:16.149922Z",
     "start_time": "2024-02-15T09:42:16.082236Z"
    }
   },
   "execution_count": 60
  },
  {
   "cell_type": "code",
   "outputs": [
    {
     "name": "stdout",
     "output_type": "stream",
     "text": [
      "John\n",
      "30\n"
     ]
    }
   ],
   "source": [
    "val (name, age) = user2\n",
    "println(name)\n",
    "println(age)"
   ],
   "metadata": {
    "collapsed": false,
    "ExecuteTime": {
     "end_time": "2024-02-15T09:42:41.751229Z",
     "start_time": "2024-02-15T09:42:41.671326Z"
    }
   },
   "execution_count": 61
  },
  {
   "cell_type": "markdown",
   "source": [
    "<font size=\"5\">The standard library provides the `Pair` and `Triple` classes, but named data classes are a much better design choice.</font>"
   ],
   "metadata": {
    "collapsed": false
   }
  },
  {
   "cell_type": "code",
   "outputs": [
    {
     "name": "stdout",
     "output_type": "stream",
     "text": [
      "1\n",
      "2\n"
     ]
    }
   ],
   "source": [
    "val pair = Pair(1, 2)\n",
    "val (first, second) = pair\n",
    "\n",
    "println(first)\n",
    "println(second)"
   ],
   "metadata": {
    "collapsed": false,
    "ExecuteTime": {
     "end_time": "2024-02-15T09:44:11.967403Z",
     "start_time": "2024-02-15T09:44:11.858762Z"
    }
   },
   "execution_count": 62
  },
  {
   "cell_type": "markdown",
   "source": [
    "---\n",
    "\n",
    "# Inline (value) classes\n",
    "\n",
    "<font size=\"5\">Occasionally you have to wrap a class, but wrapping always causes overhead in both memory and execution time. Inline classes may help you get the desired behavior without paying for it with a drop in performance.</font>"
   ],
   "metadata": {
    "collapsed": false
   }
  },
  {
   "cell_type": "code",
   "outputs": [],
   "source": [
    "interface Greeter {\n",
    "   fun greet(): Unit\n",
    "}\n",
    "\n",
    "class MyGreeter(var myNameToday: String) : Greeter {\n",
    "   override fun greet() = println(\"Hello, $myNameToday!\")\n",
    "}"
   ],
   "metadata": {
    "collapsed": false,
    "ExecuteTime": {
     "end_time": "2024-02-15T09:48:14.992649Z",
     "start_time": "2024-02-15T09:48:14.918849Z"
    }
   },
   "execution_count": 68
  },
  {
   "cell_type": "code",
   "outputs": [
    {
     "name": "stdout",
     "output_type": "stream",
     "text": [
      "Hello, Bob!\n"
     ]
    }
   ],
   "source": [
    "MyGreeter(\"Bob\").greet()"
   ],
   "metadata": {
    "collapsed": false,
    "ExecuteTime": {
     "end_time": "2024-02-15T09:48:15.670457Z",
     "start_time": "2024-02-15T09:48:15.595748Z"
    }
   },
   "execution_count": 69
  },
  {
   "cell_type": "code",
   "outputs": [],
   "source": [
    "// it still looks like a regular class, but under the hood it is inlined to get performance or memory gains.\n",
    "@JvmInline\n",
    "/* final */ value class BadDayGreeter(val greeter: Greeter) : Greeter {\n",
    "   override fun greet() {\n",
    "       greeter.greet()\n",
    "       println(\"Having a bad day, huh?\")\n",
    "   }\n",
    "}"
   ],
   "metadata": {
    "collapsed": false,
    "ExecuteTime": {
     "end_time": "2024-02-15T09:48:55.709174Z",
     "start_time": "2024-02-15T09:48:55.630193Z"
    }
   },
   "execution_count": 71
  },
  {
   "cell_type": "code",
   "outputs": [
    {
     "name": "stdout",
     "output_type": "stream",
     "text": [
      "Hey from greet!\n",
      "Having a bad day, huh?\n"
     ]
    }
   ],
   "source": [
    "BadDayGreeter(object : Greeter {\n",
    "    override fun greet() {\n",
    "        println(\"Hey from greet!\")\n",
    "    }\n",
    "}).greet()"
   ],
   "metadata": {
    "collapsed": false,
    "ExecuteTime": {
     "end_time": "2024-01-16T17:54:32.674268Z",
     "start_time": "2024-01-16T17:54:32.580014Z"
    }
   },
   "execution_count": 78
  },
  {
   "cell_type": "markdown",
   "source": [
    "- <font size=\"5\">An Inline class must have exactly one primary constructor parameter,</font>\n",
    "\n",
    "- <font size=\"5\">Inline classes can implement interfaces, declare properties (no backing fields), and have `init` blocks.</font>\n",
    "\n",
    "- <font size=\"5\">Inline classes are not allowed to participate in a class hierarchy, which is to say they are automatically marked with the `final` keyword.</font>\n",
    "\n",
    "- <font size=\"5\">The compiler tries to use the underlying type to produce the most performant code.</font>"
   ],
   "metadata": {
    "collapsed": false
   }
  },
  {
   "cell_type": "code",
   "outputs": [],
   "source": [
    "@JvmInline\n",
    "/* final */ value class Name(val name: String) : Greeter {\n",
    "   init {\n",
    "       require(name.isNotEmpty()) { \"An empty name is absurd!\" }\n",
    "   }\n",
    "\n",
    "   // val withABackingField: String = \"Not allowed\"\n",
    "\n",
    "   var length: Int\n",
    "       get() = name.length\n",
    "       set(value) { \n",
    "           println(\"What do you expect to happen?\") \n",
    "       }\n",
    "\n",
    "   override fun greet() { println(\"Hello, $name\") }\n",
    "}"
   ],
   "metadata": {
    "collapsed": false,
    "ExecuteTime": {
     "end_time": "2024-01-16T17:54:32.770246Z",
     "start_time": "2024-01-16T17:54:32.642093Z"
    }
   },
   "execution_count": 79
  },
  {
   "cell_type": "code",
   "outputs": [],
   "source": [
    "val name = Name(\"Andy\")"
   ],
   "metadata": {
    "collapsed": false,
    "ExecuteTime": {
     "end_time": "2024-01-16T17:54:32.785665Z",
     "start_time": "2024-01-16T17:54:32.699494Z"
    }
   },
   "execution_count": 80
  },
  {
   "cell_type": "code",
   "outputs": [
    {
     "name": "stdout",
     "output_type": "stream",
     "text": [
      "4\n"
     ]
    }
   ],
   "source": [
    "println(name.length)"
   ],
   "metadata": {
    "collapsed": false,
    "ExecuteTime": {
     "end_time": "2024-01-16T17:54:32.854145Z",
     "start_time": "2024-01-16T17:54:32.770835Z"
    }
   },
   "execution_count": 81
  },
  {
   "cell_type": "code",
   "outputs": [
    {
     "name": "stdout",
     "output_type": "stream",
     "text": [
      "Hello, Andy\n"
     ]
    }
   ],
   "source": [
    "name.greet()"
   ],
   "metadata": {
    "collapsed": false,
    "ExecuteTime": {
     "end_time": "2024-01-16T17:54:32.878007Z",
     "start_time": "2024-01-16T17:54:32.821712Z"
    }
   },
   "execution_count": 82
  },
  {
   "cell_type": "markdown",
   "source": [
    "<font size=\"5\">Since inline classes are just wrappers and the compiler tries to use the underlying type, name mangling is introduced to solve possible signature clashing problems.</font>"
   ],
   "metadata": {
    "collapsed": false
   }
  },
  {
   "cell_type": "code",
   "outputs": [
    {
     "name": "stderr",
     "output_type": "stream",
     "text": [
      "Line_83.jupyter.kts (1:9 - 13) Parameter 'name' is never used\n",
      "Line_83.jupyter.kts (3:9 - 13) Parameter 'name' is never used\n",
      "Line_83.jupyter.kts (1:1 - 20) Platform declaration clash: The following declarations have the same JVM signature (foo(Ljava/lang/String;)V):\n",
      "    fun foo(name: Line_79_jupyter.Name): Unit defined in Line_83_jupyter\n",
      "    fun foo(name: String): Unit defined in Line_83_jupyter\n",
      "Line_83.jupyter.kts (3:1 - 22) Platform declaration clash: The following declarations have the same JVM signature (foo(Ljava/lang/String;)V):\n",
      "    fun foo(name: Line_79_jupyter.Name): Unit defined in Line_83_jupyter\n",
      "    fun foo(name: String): Unit defined in Line_83_jupyter"
     ]
    }
   ],
   "source": [
    "fun foo(name: Name) {  } //------> public final void foo-<stable-hashcode>(name: String) { ... }\n",
    "    \n",
    "fun foo(name: String) {  } //------> public final void foo(name: String) { ... }"
   ],
   "metadata": {
    "collapsed": false,
    "ExecuteTime": {
     "end_time": "2024-01-16T17:54:32.985025Z",
     "start_time": "2024-01-16T17:54:32.867190Z"
    }
   },
   "execution_count": 83
  },
  {
   "cell_type": "markdown",
   "source": [
    "<font size=\"5\">If you want to call such a function from Java code, then you should use the `@JvmName` annotation.</font>"
   ],
   "metadata": {
    "collapsed": false
   }
  },
  {
   "cell_type": "code",
   "outputs": [],
   "source": [
    "@JvmName(\"fooName\")\n",
    "fun foo(name: Name) {  } //------> public final void fooName { ... }"
   ],
   "metadata": {
    "collapsed": false,
    "ExecuteTime": {
     "end_time": "2024-01-16T17:54:33.058537Z",
     "start_time": "2024-01-16T17:54:32.956705Z"
    }
   },
   "execution_count": 84
  },
  {
   "cell_type": "markdown",
   "source": [
    "---\n",
    "\n",
    "# Enum classes"
   ],
   "metadata": {
    "collapsed": false
   }
  },
  {
   "cell_type": "code",
   "outputs": [],
   "source": [
    "enum class Direction {\n",
    "    NORTH, SOUTH, WEST, EAST // Each enum constant is an object.\n",
    "}"
   ],
   "metadata": {
    "collapsed": false,
    "ExecuteTime": {
     "end_time": "2024-02-15T09:50:01.868517Z",
     "start_time": "2024-02-15T09:50:01.798315Z"
    }
   },
   "execution_count": 72
  },
  {
   "cell_type": "code",
   "outputs": [
    {
     "name": "stdout",
     "output_type": "stream",
     "text": [
      "NORTH\n",
      "EAST\n"
     ]
    }
   ],
   "source": [
    "println(Direction.NORTH)\n",
    "println(Direction.EAST)"
   ],
   "metadata": {
    "collapsed": false,
    "ExecuteTime": {
     "end_time": "2024-02-15T09:50:47.204039Z",
     "start_time": "2024-02-15T09:50:47.125149Z"
    }
   },
   "execution_count": 73
  },
  {
   "cell_type": "markdown",
   "source": [
    "<font size=\"5\">Each enum is an instance of the enum class, thus it can be initialized as:</font>"
   ],
   "metadata": {
    "collapsed": false
   }
  },
  {
   "cell_type": "code",
   "outputs": [],
   "source": [
    "enum class Color(val rgb: Int, val customName: String? = null) {\n",
    "    RED(0xFF0000, \"Red\"),\n",
    "    GREEN(0x00FF00),\n",
    "    BLUE(0x0000FF)\n",
    "}"
   ],
   "metadata": {
    "collapsed": false,
    "ExecuteTime": {
     "end_time": "2024-02-15T09:51:11.367930Z",
     "start_time": "2024-02-15T09:51:11.292400Z"
    }
   },
   "execution_count": 74
  },
  {
   "cell_type": "code",
   "outputs": [
    {
     "name": "stdout",
     "output_type": "stream",
     "text": [
      "16711680\n"
     ]
    }
   ],
   "source": [
    "println(Color.RED.rgb)"
   ],
   "metadata": {
    "collapsed": false,
    "ExecuteTime": {
     "end_time": "2024-02-15T09:51:12.863229Z",
     "start_time": "2024-02-15T09:51:12.788900Z"
    }
   },
   "execution_count": 75
  },
  {
   "cell_type": "markdown",
   "source": [
    "<font size=\"5\">Enum classes can have methods or even implement interfaces.</font>"
   ],
   "metadata": {
    "collapsed": false
   }
  },
  {
   "cell_type": "code",
   "outputs": [],
   "source": [
    "interface MyInterface\n",
    "\n",
    "enum class Shape(val lines:List<Int>): MyInterface {\n",
    "    Square(listOf(4, 4, 4, 4)),\n",
    "    Rectangle(listOf(2, 4, 2, 4));\n",
    "    \n",
    "    fun perimeter() = lines.sum()\n",
    "}"
   ],
   "metadata": {
    "collapsed": false,
    "ExecuteTime": {
     "end_time": "2024-02-15T09:53:53.239125Z",
     "start_time": "2024-02-15T09:53:53.163192Z"
    }
   },
   "execution_count": 80
  },
  {
   "cell_type": "code",
   "outputs": [
    {
     "name": "stdout",
     "output_type": "stream",
     "text": [
      "16\n",
      "12\n"
     ]
    }
   ],
   "source": [
    "println(Shape.Square.perimeter())\n",
    "println(Shape.Rectangle.perimeter())"
   ],
   "metadata": {
    "collapsed": false,
    "ExecuteTime": {
     "end_time": "2024-01-16T17:54:33.446214Z",
     "start_time": "2024-01-16T17:54:33.341611Z"
    }
   },
   "execution_count": 90
  },
  {
   "cell_type": "markdown",
   "source": [
    "---\n",
    "\n",
    "# Kotlin example"
   ],
   "metadata": {
    "collapsed": false
   }
  },
  {
   "cell_type": "code",
   "outputs": [
    {
     "name": "stdout",
     "output_type": "stream",
     "text": [
      "RED\n",
      "GREEN\n",
      "BLUE\n"
     ]
    }
   ],
   "source": [
    "Color.values().forEach { println(it.name) }"
   ],
   "metadata": {
    "collapsed": false,
    "ExecuteTime": {
     "end_time": "2024-02-15T09:52:32.735390Z",
     "start_time": "2024-02-15T09:52:32.648554Z"
    }
   },
   "execution_count": 78
  },
  {
   "cell_type": "code",
   "outputs": [
    {
     "name": "stdout",
     "output_type": "stream",
     "text": [
      "grass\n"
     ]
    }
   ],
   "source": [
    "val g = Color.valueOf(\"green\".uppercase())\n",
    "when(g) {\n",
    "    Color.RED -> println(\"blood\")\n",
    "    Color.GREEN -> println(\"grass\")\n",
    "    Color.BLUE -> println(\"sky\")\n",
    "    else -> error(\"\")\n",
    "}"
   ],
   "metadata": {
    "collapsed": false,
    "ExecuteTime": {
     "end_time": "2024-02-15T09:52:38.405740Z",
     "start_time": "2024-02-15T09:52:38.313674Z"
    }
   },
   "execution_count": 79
  },
  {
   "cell_type": "markdown",
   "source": [
    "---\n",
    "\n",
    "# Sealed classes\n",
    "\n",
    "<font size=\"5\">All of the inheritors of a `sealed` class must be known at compile time.</font>\n",
    "\n",
    "<font size=\"5\">Can be used in `when` the same way as enums can be.</font>\n",
    "\n",
    "<font size=\"5\">Not specific to `sealed` classes:</font>\n",
    "\n",
    "- <font size=\"5\">Prohibit overriding an `open fun` or property by making it `final`.</font>\n",
    "- <font size=\"5\">Access parents’ methods through `super`.</font>"
   ],
   "metadata": {
    "collapsed": false
   }
  },
  {
   "cell_type": "code",
   "outputs": [
    {
     "name": "stdout",
     "output_type": "stream",
     "text": [
      "1\n"
     ]
    }
   ],
   "source": [
    "import org.jetbrains.kotlin.public.course.oop.Base\n",
    "import org.jetbrains.kotlin.public.course.oop.Child1\n",
    "import org.jetbrains.kotlin.public.course.oop.Child2\n",
    "\n",
    "val b: Base = Child1()\n",
    "when(b) {\n",
    "    is Child1 -> println(1)\n",
    "    is Child2 -> println(2)\n",
    "}"
   ],
   "metadata": {
    "collapsed": false,
    "ExecuteTime": {
     "end_time": "2024-01-16T17:54:33.727500Z",
     "start_time": "2024-01-16T17:54:33.574375Z"
    }
   },
   "execution_count": 93
  },
  {
   "cell_type": "markdown",
   "source": [
    "---\n",
    "\n",
    "# Functional interfaces (SAM)\n",
    "\n",
    "<font size=\"5\">Single Abstract Method (SAM) interface</font>\n",
    "\n",
    "- <font size=\"5\">Interface that has one abstract method.</font>\n",
    "- <font size=\"5\">Kotlin allows us to use a lambda instead of a class definition to implement a SAM.</font>\n",
    "\n",
    "<img alt=\"Cover\" src=\"./images/7.png\" width=\"3000\" />"
   ],
   "metadata": {
    "collapsed": false
   }
  },
  {
   "cell_type": "code",
   "outputs": [
    {
     "name": "stdout",
     "output_type": "stream",
     "text": [
      "Is 7 even? - false\n"
     ]
    }
   ],
   "source": [
    "fun interface IntPredicate {\n",
    "   fun accept(i: Int): Boolean\n",
    "}\n",
    "\n",
    "val isEven = IntPredicate { it % 2 == 0 }\n",
    "\n",
    "println(\"Is 7 even? - ${isEven.accept(7)}\")"
   ],
   "metadata": {
    "collapsed": false,
    "ExecuteTime": {
     "end_time": "2024-02-15T09:57:29.283128Z",
     "start_time": "2024-02-15T09:57:29.188228Z"
    }
   },
   "execution_count": 82
  },
  {
   "cell_type": "markdown",
   "source": [
    "---\n",
    "\n",
    "# Kotlin singleton"
   ],
   "metadata": {
    "collapsed": false
   }
  },
  {
   "cell_type": "code",
   "outputs": [],
   "source": [
    "import org.jetbrains.kotlin.public.course.oop.DataProvider\n",
    "\n",
    "object DataProviderManager {\n",
    "    fun registerDataProvider(provider: DataProvider) {\n",
    "        allDataProviders.find { it.id == provider.id }?.let {\n",
    "            println(\"The provider ${provider.id} is already exist!\")\n",
    "        } ?: run {\n",
    "            allDataProviders.add(provider)\n",
    "            println(\"The provider ${provider.id} has been registered!\")\n",
    "        }\n",
    "    }\n",
    "\n",
    "    val allDataProviders: MutableList<DataProvider> = mutableListOf()\n",
    "}"
   ],
   "metadata": {
    "collapsed": false,
    "ExecuteTime": {
     "end_time": "2024-02-15T09:58:46.087442Z",
     "start_time": "2024-02-15T09:58:45.965344Z"
    }
   },
   "execution_count": 83
  },
  {
   "cell_type": "code",
   "outputs": [
    {
     "name": "stdout",
     "output_type": "stream",
     "text": [
      "The provider 1 has been registered!\n",
      "The provider 2 has been registered!\n"
     ]
    }
   ],
   "source": [
    "DataProviderManager.registerDataProvider(DataProvider(1))\n",
    "DataProviderManager.registerDataProvider(DataProvider(2))"
   ],
   "metadata": {
    "collapsed": false,
    "ExecuteTime": {
     "end_time": "2024-02-15T09:58:48.587222Z",
     "start_time": "2024-02-15T09:58:48.512329Z"
    }
   },
   "execution_count": 84
  },
  {
   "cell_type": "code",
   "outputs": [
    {
     "name": "stdout",
     "output_type": "stream",
     "text": [
      "Provider 1\n",
      "Provider 2\n"
     ]
    }
   ],
   "source": [
    "DataProviderManager.allDataProviders.forEach{ println(\"Provider ${it.id}\") }"
   ],
   "metadata": {
    "collapsed": false,
    "ExecuteTime": {
     "end_time": "2024-01-16T17:55:39.631601Z",
     "start_time": "2024-01-16T17:55:39.571845Z"
    }
   },
   "execution_count": 104
  },
  {
   "cell_type": "markdown",
   "source": [
    "---\n",
    "\n",
    "# Companion objects\n",
    "\n",
    "- <font size=\"5\">An object declaration inside a class can be marked with the `companion` keyword.</font>\n",
    "\n",
    "- <font size=\"5\">Companion objects are like static members:</font>\n",
    "\n",
    "    - <font size=\"5\">The Factory Method</font>\n",
    "    - <font size=\"5\">Constants</font>\n",
    "    - <font size=\"5\">Etc.</font>\n",
    "    \n",
    "- <font size=\"5\">Visibility modifiers are applicable.</font>"
   ],
   "metadata": {
    "collapsed": false
   }
  },
  {
   "cell_type": "code",
   "outputs": [],
   "source": [
    "interface Factory<T> {\n",
    "    fun create(): T\n",
    "}\n",
    "\n",
    "data class MyClass(val id: Int) {\n",
    "    companion object : Factory<MyClass> {\n",
    "        private var counter: Int = 0\n",
    "        override fun create(): MyClass = \n",
    "                MyClass(counter).also { counter += 1}\n",
    "    }\n",
    "    // … some code …\n",
    "}"
   ],
   "metadata": {
    "collapsed": false,
    "ExecuteTime": {
     "end_time": "2024-01-16T17:59:51.391752Z",
     "start_time": "2024-01-16T17:59:51.333449Z"
    }
   },
   "execution_count": 108
  },
  {
   "cell_type": "code",
   "outputs": [
    {
     "name": "stdout",
     "output_type": "stream",
     "text": [
      "MyClass(id=4)\n",
      "MyClass(id=5)\n"
     ]
    }
   ],
   "source": [
    "val f: Factory<MyClass> = MyClass.Companion\n",
    "val instance1 = f.create()\n",
    "println(instance1)\n",
    "\n",
    "val instance2 = f.create()\n",
    "println(instance2)"
   ],
   "metadata": {
    "collapsed": false,
    "ExecuteTime": {
     "end_time": "2024-01-16T18:00:34.792149Z",
     "start_time": "2024-01-16T18:00:34.717905Z"
    }
   },
   "execution_count": 111
  },
  {
   "cell_type": "markdown",
   "source": [
    "<font size=\"5\">You can also create a companion object with custom name:</font>"
   ],
   "metadata": {
    "collapsed": false
   }
  },
  {
   "cell_type": "code",
   "outputs": [],
   "source": [
    "class Dog {\n",
    "    fun foo2() = foo()\n",
    "    \n",
    "    companion object {\n",
    "        private fun foo() = \"5\"\n",
    "        \n",
    "        fun possibleBreeds() = listOf(\"corgi\", \"poodle\", \"shepherd\")\n",
    "    }\n",
    "}"
   ],
   "metadata": {
    "collapsed": false,
    "ExecuteTime": {
     "end_time": "2024-02-15T09:59:59.320781Z",
     "start_time": "2024-02-15T09:59:59.235590Z"
    }
   },
   "execution_count": 87
  },
  {
   "cell_type": "code",
   "outputs": [
    {
     "name": "stdout",
     "output_type": "stream",
     "text": [
      "[corgi, poodle, shepherd]\n"
     ]
    }
   ],
   "source": [
    "println(Dog.possibleBreeds())"
   ],
   "metadata": {
    "collapsed": false,
    "ExecuteTime": {
     "end_time": "2024-02-15T09:59:59.942627Z",
     "start_time": "2024-02-15T09:59:59.855739Z"
    }
   },
   "execution_count": 88
  },
  {
   "cell_type": "markdown",
   "source": [
    "<font size=\"5\">From Kotlin code you can omit the companion name at all</font>"
   ],
   "metadata": {
    "collapsed": false
   }
  },
  {
   "cell_type": "code",
   "outputs": [
    {
     "name": "stdout",
     "output_type": "stream",
     "text": [
      "[corgi, poodle, shepherd]\n"
     ]
    }
   ],
   "source": [
    "println(Dog.possibleBreeds())"
   ],
   "metadata": {
    "collapsed": false,
    "ExecuteTime": {
     "end_time": "2024-01-16T18:03:25.740782Z",
     "start_time": "2024-01-16T18:03:25.673297Z"
    }
   },
   "execution_count": 114
  },
  {
   "cell_type": "markdown",
   "source": [
    "<font size=\"5\">Use `@JvmStatic` to go full static.</font>"
   ],
   "metadata": {
    "collapsed": false
   }
  },
  {
   "cell_type": "code",
   "outputs": [],
   "source": [
    "class Cat {\n",
    "    companion object {\n",
    "        @JvmStatic\n",
    "        fun possibleBreeds() = listOf(\"bobtail\", \"bengal\", \"burmilla\")\n",
    "    }\n",
    "}"
   ],
   "metadata": {
    "collapsed": false,
    "ExecuteTime": {
     "end_time": "2024-01-16T18:05:03.945007Z",
     "start_time": "2024-01-16T18:05:03.883472Z"
    }
   },
   "execution_count": 116
  },
  {
   "cell_type": "code",
   "outputs": [
    {
     "name": "stdout",
     "output_type": "stream",
     "text": [
      "[bobtail, bengal, burmilla]\n"
     ]
    }
   ],
   "source": [
    "println(Cat.possibleBreeds()) // Can be invoked in the same way from Java as well"
   ],
   "metadata": {
    "collapsed": false,
    "ExecuteTime": {
     "end_time": "2024-01-16T18:05:04.707418Z",
     "start_time": "2024-01-16T18:05:04.641905Z"
    }
   },
   "execution_count": 117
  },
  {
   "cell_type": "markdown",
   "source": [
    "---\n",
    "\n",
    "# Kotlin Type Hierarchy\n",
    "\n",
    "<img alt=\"Cover\" src=\"./images/8.png\" width=\"3000\" />"
   ],
   "metadata": {
    "collapsed": false
   }
  },
  {
   "cell_type": "markdown",
   "source": [
    "---\n",
    "\n",
    "<img alt=\"Cover\" src=\"./images/9.png\" width=\"3000\"/>"
   ],
   "metadata": {
    "collapsed": false
   }
  },
  {
   "cell_type": "code",
   "outputs": [],
   "source": [],
   "metadata": {
    "collapsed": false
   }
  }
 ],
 "metadata": {
  "kernelspec": {
   "display_name": "Kotlin",
   "language": "kotlin",
   "name": "kotlin"
  },
  "language_info": {
   "name": "kotlin",
   "version": "1.9.0",
   "mimetype": "text/x-kotlin",
   "file_extension": ".kt",
   "pygments_lexer": "kotlin",
   "codemirror_mode": "text/x-kotlin",
   "nbconvert_exporter": ""
  },
  "ktnbPluginMetadata": {
   "projectDependencies": [
    "kotlin-course-notebooks.main"
   ]
  }
 },
 "nbformat": 4,
 "nbformat_minor": 0
}
