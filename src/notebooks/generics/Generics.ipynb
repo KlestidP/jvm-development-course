{
 "cells": [
  {
   "cell_type": "markdown",
   "source": [
    "<img alt=\"Cover\" src=\"./images/1.cover.png\" width=\"3000\" />\n",
    "\n",
    "---"
   ],
   "metadata": {
    "collapsed": false
   }
  },
  {
   "cell_type": "markdown",
   "source": [
    "# What? Why?"
   ],
   "metadata": {
    "collapsed": false
   }
  },
  {
   "cell_type": "code",
   "outputs": [],
   "source": [
    "fun quickSort(collection: List<Int>) {  }"
   ],
   "metadata": {
    "collapsed": false,
    "ExecuteTime": {
     "end_time": "2024-02-26T18:30:40.141986Z",
     "start_time": "2024-02-26T18:30:39.862851Z"
    }
   },
   "execution_count": 13
  },
  {
   "cell_type": "code",
   "outputs": [],
   "source": [
    "quickSort(listOf(1, 2, 3)) // OK"
   ],
   "metadata": {
    "collapsed": false,
    "ExecuteTime": {
     "end_time": "2024-02-26T18:30:41.247591Z",
     "start_time": "2024-02-26T18:30:40.864357Z"
    }
   },
   "execution_count": 14
  },
  {
   "cell_type": "code",
   "outputs": [
    {
     "name": "stderr",
     "output_type": "stream",
     "text": [
      "Line_15.jupyter.kts (1:11 - 32) Type mismatch: inferred type is List<Double> but List<Int> was expected"
     ]
    }
   ],
   "source": [
    "quickSort(listOf(1.0, 2.0, 3.0)) // NOT OK"
   ],
   "metadata": {
    "collapsed": false,
    "ExecuteTime": {
     "end_time": "2024-02-26T18:30:42.050423Z",
     "start_time": "2024-02-26T18:30:41.899935Z"
    }
   },
   "execution_count": 15
  },
  {
   "cell_type": "code",
   "outputs": [],
   "source": [
    "fun quickSort(collection: List<Double>) {  } // overload (we’ll get back to this a bit later)"
   ],
   "metadata": {
    "collapsed": false,
    "ExecuteTime": {
     "end_time": "2024-02-26T18:30:42.915062Z",
     "start_time": "2024-02-26T18:30:42.717058Z"
    }
   },
   "execution_count": 16
  },
  {
   "cell_type": "code",
   "outputs": [],
   "source": [
    "quickSort(listOf(1.0, 2.0, 3.0)) // OK"
   ],
   "metadata": {
    "collapsed": false,
    "ExecuteTime": {
     "end_time": "2024-02-26T18:30:43.858637Z",
     "start_time": "2024-02-26T18:30:43.659652Z"
    }
   },
   "execution_count": 17
  },
  {
   "cell_type": "code",
   "outputs": [],
   "source": [
    "quickSort(listOf(1, 2, 3)) // OK"
   ],
   "metadata": {
    "collapsed": false,
    "ExecuteTime": {
     "end_time": "2024-02-26T18:30:44.790134Z",
     "start_time": "2024-02-26T18:30:44.618339Z"
    }
   },
   "execution_count": 18
  },
  {
   "cell_type": "markdown",
   "source": [
    "<font size=\"5\">Kotlin `Number` inheritors: `Int`, `Double`, `Byte`, `Float`, `Long`, `Short`. Do we need 4 more implementations of quickSort?</font>\n",
    "\n",
    "---"
   ],
   "metadata": {
    "collapsed": false
   }
  },
  {
   "cell_type": "markdown",
   "source": [
    "# How?\n",
    "\n",
    "<font size=\"5\">Does the quickSort algorithm actually care what is it sorting? No, as long as it can compare two values against each other.</font>"
   ],
   "metadata": {
    "collapsed": false
   }
  },
  {
   "cell_type": "code",
   "outputs": [],
   "source": [
    "fun <T : Comparable<T>> quickSort(collection: Collection<T>): Collection<T> = collection // We will not implement it"
   ],
   "metadata": {
    "collapsed": false,
    "ExecuteTime": {
     "end_time": "2024-02-26T18:30:47.239533Z",
     "start_time": "2024-02-26T18:30:47.064154Z"
    }
   },
   "execution_count": 19
  },
  {
   "cell_type": "code",
   "outputs": [
    {
     "data": {
      "text/plain": "[1.0, 2.0, 3.0]"
     },
     "execution_count": 20,
     "metadata": {},
     "output_type": "execute_result"
    }
   ],
   "source": [
    "quickSort(listOf(1.0, 2.0, 3.0)) // OK"
   ],
   "metadata": {
    "collapsed": false,
    "ExecuteTime": {
     "end_time": "2024-02-26T18:30:48.603826Z",
     "start_time": "2024-02-26T18:30:47.973681Z"
    }
   },
   "execution_count": 20
  },
  {
   "cell_type": "code",
   "outputs": [
    {
     "data": {
      "text/plain": "[1, 2, 3]"
     },
     "execution_count": 21,
     "metadata": {},
     "output_type": "execute_result"
    }
   ],
   "source": [
    "quickSort(listOf(1, 2, 3)) // OK"
   ],
   "metadata": {
    "collapsed": false,
    "ExecuteTime": {
     "end_time": "2024-02-26T18:30:49.231958Z",
     "start_time": "2024-02-26T18:30:48.785001Z"
    }
   },
   "execution_count": 21
  },
  {
   "cell_type": "code",
   "outputs": [
    {
     "data": {
      "text/plain": "[one, two, three]"
     },
     "execution_count": 22,
     "metadata": {},
     "output_type": "execute_result"
    }
   ],
   "source": [
    "quickSort(listOf(\"one\", \"two\", \"three\")) // OK"
   ],
   "metadata": {
    "collapsed": false,
    "ExecuteTime": {
     "end_time": "2024-02-26T18:30:49.969884Z",
     "start_time": "2024-02-26T18:30:49.725622Z"
    }
   },
   "execution_count": 22
  },
  {
   "cell_type": "markdown",
   "source": [
    "<font size=\"5\">Generics allow you to write code that can work with any type or with types that should satisfy some rules (constraints) but are not limited in any other ways: type parameters.</font>\n"
   ],
   "metadata": {
    "collapsed": false
   }
  },
  {
   "cell_type": "code",
   "outputs": [],
   "source": [
    "data class Holder<T>(val value: T)"
   ],
   "metadata": {
    "collapsed": false,
    "ExecuteTime": {
     "end_time": "2024-02-26T18:30:52.156290Z",
     "start_time": "2024-02-26T18:30:51.517509Z"
    }
   },
   "execution_count": 23
  },
  {
   "cell_type": "code",
   "outputs": [
    {
     "name": "stdout",
     "output_type": "stream",
     "text": [
      "Holder(value=23)\n"
     ]
    }
   ],
   "source": [
    "val intHolder = Holder<Int>(23)\n",
    "println(intHolder)"
   ],
   "metadata": {
    "collapsed": false,
    "ExecuteTime": {
     "end_time": "2024-02-26T18:30:53.059120Z",
     "start_time": "2024-02-26T18:30:52.653084Z"
    }
   },
   "execution_count": 24
  },
  {
   "cell_type": "code",
   "outputs": [
    {
     "name": "stdout",
     "output_type": "stream",
     "text": [
      "Holder(value=cup)\n"
     ]
    }
   ],
   "source": [
    "val cupHolder = Holder(\"cup\") // Generic parameter type can be inferred\n",
    "println(cupHolder)"
   ],
   "metadata": {
    "collapsed": false,
    "ExecuteTime": {
     "end_time": "2024-02-26T18:30:53.788331Z",
     "start_time": "2024-02-26T18:30:53.587004Z"
    }
   },
   "execution_count": 25
  },
  {
   "cell_type": "markdown",
   "source": [
    "---\n",
    "\n",
    "# Constraints\n",
    "\n",
    "<font size=\"5\">Sometimes we do not want to work with an arbitrary type and expect it to provide us with some functionality. In such cases type constraints in the form of upper bounds are used: upper bounds.</font>"
   ],
   "metadata": {
    "collapsed": false
   }
  },
  {
   "cell_type": "code",
   "outputs": [],
   "source": [
    "import org.jetbrains.kotlin.public.course.generics.Movable\n",
    "\n",
    "class Pilot<T : Movable>(val vehicle: T) {\n",
    "    fun go() { vehicle.move() }\n",
    "}"
   ],
   "metadata": {
    "collapsed": false,
    "ExecuteTime": {
     "end_time": "2024-02-26T18:30:55.468710Z",
     "start_time": "2024-02-26T18:30:55.269737Z"
    }
   },
   "execution_count": 26
  },
  {
   "cell_type": "code",
   "outputs": [
    {
     "name": "stdout",
     "output_type": "stream",
     "text": [
      "Car is moving\n"
     ]
    }
   ],
   "source": [
    "import org.jetbrains.kotlin.public.course.generics.Car\n",
    "\n",
    "val ryanGosling = Pilot<Car>(Car(\"Chevy\", \"Malibu\"))\n",
    "ryanGosling.go()"
   ],
   "metadata": {
    "collapsed": false,
    "ExecuteTime": {
     "end_time": "2024-02-26T18:30:56.407327Z",
     "start_time": "2024-02-26T18:30:56.151668Z"
    }
   },
   "execution_count": 27
  },
  {
   "cell_type": "code",
   "outputs": [
    {
     "name": "stdout",
     "output_type": "stream",
     "text": [
      "Plane is moving\n"
     ]
    }
   ],
   "source": [
    "import org.jetbrains.kotlin.public.course.generics.Plane\n",
    "\n",
    "val sullySullenberger = Pilot<Plane>(Plane(\"Airbus\", \"A320\"))\n",
    "sullySullenberger.go()"
   ],
   "metadata": {
    "collapsed": false,
    "ExecuteTime": {
     "end_time": "2024-02-26T18:30:57.388178Z",
     "start_time": "2024-02-26T18:30:57.180998Z"
    }
   },
   "execution_count": 28
  },
  {
   "cell_type": "markdown",
   "source": [
    "---\n",
    "\n",
    "# Constraints continued\n",
    "\n",
    "<font size=\"5\">There can be several parameter types, and generic classes can participate in inheritance.</font>"
   ],
   "metadata": {
    "collapsed": false
   }
  },
  {
   "cell_type": "code",
   "outputs": [],
   "source": [
    "public interface MutableMap<K, V> : Map<K, V> {  }"
   ],
   "metadata": {
    "collapsed": false,
    "ExecuteTime": {
     "end_time": "2024-02-26T18:30:59.363229Z",
     "start_time": "2024-02-26T18:30:58.799124Z"
    }
   },
   "execution_count": 29
  },
  {
   "cell_type": "markdown",
   "source": [
    "<font size=\"5\">There can also be several constraints (which means the type parameter has to implement several interfaces):</font>"
   ],
   "metadata": {
    "collapsed": false
   }
  },
  {
   "cell_type": "code",
   "outputs": [],
   "source": [
    "import org.jetbrains.kotlin.public.course.generics.Awesome\n",
    "\n",
    "fun <T, S> moveInAnAwesomeWayAndCompare(a: T, b: S) where T : Comparable<T>, S : Comparable<T>, T : Awesome, T : Movable {  }"
   ],
   "metadata": {
    "collapsed": false,
    "ExecuteTime": {
     "end_time": "2024-02-26T18:31:00.626901Z",
     "start_time": "2024-02-26T18:31:00.405816Z"
    }
   },
   "execution_count": 30
  },
  {
   "cell_type": "markdown",
   "source": [
    "---\n",
    "\n",
    "# Star-projection\n",
    "\n",
    "<font size=\"5\">When you do not care about the parameter type, you can use star-projection `*`.</font>"
   ],
   "metadata": {
    "collapsed": false
   }
  },
  {
   "cell_type": "code",
   "outputs": [],
   "source": [
    "fun printKeys(map: MutableMap<*, *>) {  }"
   ],
   "metadata": {
    "collapsed": false,
    "ExecuteTime": {
     "end_time": "2024-02-26T18:31:02.591119Z",
     "start_time": "2024-02-26T18:31:02.132173Z"
    }
   },
   "execution_count": 31
  },
  {
   "cell_type": "markdown",
   "source": [
    "---\n",
    "\n",
    "# Let's go back"
   ],
   "metadata": {
    "collapsed": false
   }
  },
  {
   "cell_type": "code",
   "outputs": [],
   "source": [
    "open class A\n",
    "open class B : A()\n",
    "class C : B()\n",
    "\n",
    "// Nothing <: C <: B <: A <: Any"
   ],
   "metadata": {
    "collapsed": false,
    "ExecuteTime": {
     "end_time": "2024-02-26T18:31:04.387926Z",
     "start_time": "2024-02-26T18:31:03.933926Z"
    }
   },
   "execution_count": 32
  },
  {
   "cell_type": "markdown",
   "source": [
    "<font size=\"5\">This means that the `Any` class is the _superclass_ for all the classes and at the same time `Nothing` is a _subtype_ of any type</font>\n",
    "\n",
    "<font size=\"5\">Consider a basic example:</font>"
   ],
   "metadata": {
    "collapsed": false
   }
  },
  {
   "cell_type": "code",
   "outputs": [],
   "source": [
    "interface HolderExample<T> {\n",
    "    fun push(newValue: T) // consumes an element\n",
    "    \n",
    "    fun pop(): T // produces an element\n",
    "    \n",
    "    fun size(): Int // does not interact with T\n",
    "}"
   ],
   "metadata": {
    "collapsed": false,
    "ExecuteTime": {
     "end_time": "2024-02-26T18:31:05.908424Z",
     "start_time": "2024-02-26T18:31:05.622462Z"
    }
   },
   "execution_count": 33
  },
  {
   "cell_type": "markdown",
   "source": [
    "<font size=\"5\">In Kotlin there are type projections:</font>\n",
    "\n",
    "<font size=\"5\">`G<T>` // invariant, can **consume** and **produce** elements </font>\n",
    "<font size=\"5\">`G<in T>` // contravariant, can only **consume** elements </font>\n",
    "<font size=\"5\">`G<out T>` // covariant, can only **produce** elements </font>\n",
    "<font size=\"5\">`G<*>` // star-projection, does not interact with T</font>"
   ],
   "metadata": {
    "collapsed": false
   }
  },
  {
   "cell_type": "markdown",
   "source": [
    "---\n",
    "\n",
    "# Several examples\n",
    "\n",
    "<font size=\"5\">`G<T>` // invariant, can **consume** and **produce** elements </font>"
   ],
   "metadata": {
    "collapsed": false
   }
  },
  {
   "cell_type": "code",
   "outputs": [],
   "source": [
    "interface HolderSimple<T> {\n",
    "     fun push(newValue: T)// consumes an element: OK\n",
    "     \n",
    "     fun pop(): T // produces an element: OK\n",
    "     \n",
    "     fun size(): Int // does not interact with T: OK\n",
    "}"
   ],
   "metadata": {
    "collapsed": false,
    "ExecuteTime": {
     "end_time": "2024-02-26T18:31:08.647295Z",
     "start_time": "2024-02-26T18:31:08.475112Z"
    }
   },
   "execution_count": 34
  },
  {
   "cell_type": "markdown",
   "source": [
    "<font size=\"5\">`G<in T>` // contravariant, can only **consume** elements </font>"
   ],
   "metadata": {
    "collapsed": false
   }
  },
  {
   "cell_type": "code",
   "outputs": [
    {
     "name": "stderr",
     "output_type": "stream",
     "text": [
      "Line_35.jupyter.kts (4:17 - 18) Type parameter T is declared as 'in' but occurs in 'out' position in type T"
     ]
    }
   ],
   "source": [
    "interface HolderConsumer<in T> {\n",
    "     fun push(newValue: T) // consumes an element: OK\n",
    "     \n",
    "     fun pop(): T // produces an element: ERROR: [TYPE_VARIANCE_CONFLICT_ERROR] Type parameter T is declared as 'in' but occurs in 'out' position in type T\n",
    "    \n",
    "     fun size(): Int // does not interact with T: OK\n",
    "}"
   ],
   "metadata": {
    "collapsed": false,
    "ExecuteTime": {
     "end_time": "2024-02-26T18:31:10.341219Z",
     "start_time": "2024-02-26T18:31:10.281267Z"
    }
   },
   "execution_count": 35
  },
  {
   "cell_type": "markdown",
   "source": [
    "<font size=\"5\">`G<out T>` // covariant, can only **produce** elements </font>"
   ],
   "metadata": {
    "collapsed": false
   }
  },
  {
   "cell_type": "code",
   "outputs": [
    {
     "name": "stderr",
     "output_type": "stream",
     "text": [
      "Line_36.jupyter.kts (2:25 - 26) Type parameter T is declared as 'out' but occurs in 'in' position in type T"
     ]
    }
   ],
   "source": [
    "interface HolderProducer<out T> {\n",
    "     fun push(newValue: T) // consumes an element: ERROR: [TYPE_VARIANCE_CONFLICT_ERROR] Type parameter T is declared as 'out' but occurs in 'in' position in type T\n",
    "     fun pop(): T // produces an element: OK\n",
    "     fun size(): Int // does not interact with T: OK\n",
    "}"
   ],
   "metadata": {
    "collapsed": false,
    "ExecuteTime": {
     "end_time": "2024-02-26T18:31:12.238079Z",
     "start_time": "2024-02-26T18:31:12.151980Z"
    }
   },
   "execution_count": 36
  },
  {
   "cell_type": "markdown",
   "source": [
    "<font size=\"5\">`G<*>` // star-projection, does not interact with T</font>"
   ],
   "metadata": {
    "collapsed": false
   }
  },
  {
   "cell_type": "code",
   "outputs": [],
   "source": [
    "fun <T> foo1(holder: HolderSimple<T>, t: T) {\n",
    "     holder.push(t) // OK\n",
    "}"
   ],
   "metadata": {
    "collapsed": false,
    "ExecuteTime": {
     "end_time": "2024-02-26T18:31:13.989275Z",
     "start_time": "2024-02-26T18:31:13.819291Z"
    }
   },
   "execution_count": 37
  },
  {
   "cell_type": "code",
   "outputs": [],
   "source": [
    "fun foo2(holder: HolderSimple<Any>, t: Any) {\n",
    "    holder.push(t) // OK\n",
    "}"
   ],
   "metadata": {
    "collapsed": false,
    "ExecuteTime": {
     "end_time": "2024-02-26T18:31:14.713386Z",
     "start_time": "2024-02-26T18:31:14.591688Z"
    }
   },
   "execution_count": 38
  },
  {
   "cell_type": "code",
   "outputs": [
    {
     "name": "stderr",
     "output_type": "stream",
     "text": [
      "Line_39.jupyter.kts (2:18 - 19) Type mismatch: inferred type is T but Nothing was expected"
     ]
    }
   ],
   "source": [
    "fun <T> foo3(holder: HolderSimple<*>, t: T) {\n",
    "     holder.push(t) // ERROR: [TYPE_MISMATCH] Type mismatch. Required: Nothing. Found: T\n",
    "}"
   ],
   "metadata": {
    "collapsed": false,
    "ExecuteTime": {
     "end_time": "2024-02-26T18:31:15.425126Z",
     "start_time": "2024-02-26T18:31:15.349228Z"
    }
   },
   "execution_count": 39
  },
  {
   "cell_type": "markdown",
   "source": [
    "---\n",
    "\n",
    "# Subtyping\n",
    "\n",
    "<img alt=\"Cover\" src=\"./images/2.png\" width=\"3000\" />\n",
    "\n",
    "---"
   ],
   "metadata": {
    "collapsed": false
   }
  },
  {
   "cell_type": "markdown",
   "source": [
    "<img alt=\"Cover\" src=\"./images/3.png\" width=\"3000\" />"
   ],
   "metadata": {
    "collapsed": false
   }
  },
  {
   "cell_type": "code",
   "outputs": [],
   "source": [
    "val c: C = C()\n",
    "val b: B = c // C <: B, OK"
   ],
   "metadata": {
    "collapsed": false,
    "ExecuteTime": {
     "end_time": "2024-02-26T18:31:17.780488Z",
     "start_time": "2024-02-26T18:31:17.596393Z"
    }
   },
   "execution_count": 40
  },
  {
   "cell_type": "code",
   "outputs": [
    {
     "name": "stderr",
     "output_type": "stream",
     "text": [
      "Line_41.jupyter.kts (2:26 - 33) Type mismatch: inferred type is Line_23_jupyter.Holder<Line_32_jupyter.C> but Line_23_jupyter.Holder<Line_32_jupyter.B> was expected"
     ]
    }
   ],
   "source": [
    "val holderC: Holder<C> = Holder(C())\n",
    "val holderB: Holder<B> = holderC // ERROR: Type mismatch. Required: Holder<B>. Found: Holder<C>."
   ],
   "metadata": {
    "collapsed": false,
    "ExecuteTime": {
     "end_time": "2024-02-26T18:31:18.683159Z",
     "start_time": "2024-02-26T18:31:18.621940Z"
    }
   },
   "execution_count": 41
  },
  {
   "cell_type": "code",
   "outputs": [],
   "source": [
    "// BUT\n",
    "val holderB: Holder<B> = Holder(C()) // OK, because of casting"
   ],
   "metadata": {
    "collapsed": false,
    "ExecuteTime": {
     "end_time": "2024-02-26T18:31:19.972464Z",
     "start_time": "2024-02-26T18:31:19.622930Z"
    }
   },
   "execution_count": 42
  },
  {
   "cell_type": "markdown",
   "source": [
    "---\n",
    "\n",
    "# Subtyping: Next"
   ],
   "metadata": {
    "collapsed": false
   }
  },
  {
   "cell_type": "code",
   "outputs": [],
   "source": [
    "class HolderSubtypingDemo<T> (var value: T?) {\n",
    "   fun pop(): T? = value.also { value = null }\n",
    "   fun push(newValue: T?): T? = value.also { value = newValue }\n",
    "   fun steal(other: HolderSubtypingDemo<T>) { value = other.pop() }\n",
    "   fun gift(other: HolderSubtypingDemo<T>) { other.push(pop()) }\n",
    "}"
   ],
   "metadata": {
    "collapsed": false,
    "ExecuteTime": {
     "end_time": "2024-02-26T18:31:22.116872Z",
     "start_time": "2024-02-26T18:31:21.418530Z"
    }
   },
   "execution_count": 43
  },
  {
   "cell_type": "markdown",
   "source": [
    "<font size=\"5\">HolderSubtypingDemo<Nothing> !<:> HolderSubtypingDemo<C> !<:> HolderSubtypingDemo<B> !<:> HolderSubtypingDemo<A> !<:> HolderSubtypingDemo<Any></font>"
   ],
   "metadata": {
    "collapsed": false
   }
  },
  {
   "cell_type": "code",
   "outputs": [
    {
     "name": "stderr",
     "output_type": "stream",
     "text": [
      "Line_44.jupyter.kts (3:15 - 22) Type mismatch: inferred type is Line_43_jupyter.HolderSubtypingDemo<Line_32_jupyter.B> but Line_43_jupyter.HolderSubtypingDemo<Line_32_jupyter.A> was expected\n",
      "Line_44.jupyter.kts (4:14 - 21) Type mismatch: inferred type is Line_43_jupyter.HolderSubtypingDemo<Line_32_jupyter.A> but Line_43_jupyter.HolderSubtypingDemo<Line_32_jupyter.B> was expected"
     ]
    }
   ],
   "source": [
    "val holderB: HolderSubtypingDemo<B> = HolderSubtypingDemo(B())\n",
    "val holderA: HolderSubtypingDemo<A> = HolderSubtypingDemo(null)\n",
    "holderA.steal(holderB) // ERROR: Type mismatch. Required: Holder<A>. Found: Holder<B>.\n",
    "holderB.gift(holderA) // ERROR: Type mismatch. Required: Holder<B>. Found: Holder<A>."
   ],
   "metadata": {
    "collapsed": false,
    "ExecuteTime": {
     "end_time": "2024-02-26T18:31:23.256161Z",
     "start_time": "2024-02-26T18:31:23.116636Z"
    }
   },
   "execution_count": 44
  },
  {
   "cell_type": "markdown",
   "source": [
    "---\n",
    "\n",
    "# Type projection: in"
   ],
   "metadata": {
    "collapsed": false
   }
  },
  {
   "cell_type": "code",
   "outputs": [],
   "source": [
    "class HolderIn<T> (var value: T?) {\n",
    "   fun pop(): T? = value.also { value = null }\n",
    "   fun push(newValue: T?): T? = value.also { value = newValue }\n",
    "    \n",
    "   fun gift(other: HolderIn<in T>) { other.push(pop()) }\n",
    "}"
   ],
   "metadata": {
    "collapsed": false,
    "ExecuteTime": {
     "end_time": "2024-02-26T18:31:25.544023Z",
     "start_time": "2024-02-26T18:31:25.248963Z"
    }
   },
   "execution_count": 45
  },
  {
   "cell_type": "code",
   "outputs": [],
   "source": [
    "val holderB: HolderIn<B> = HolderIn(B())\n",
    "val holderA: HolderIn<A> = HolderIn(null)\n",
    "holderB.gift(holderA) // OK"
   ],
   "metadata": {
    "collapsed": false,
    "ExecuteTime": {
     "end_time": "2024-02-26T18:31:26.373993Z",
     "start_time": "2024-02-26T18:31:26.196708Z"
    }
   },
   "execution_count": 46
  },
  {
   "cell_type": "markdown",
   "source": [
    "<font size=\"5\">Type projection: `other` is a restricted (projected) generic. You can only call methods that **accept** the type parameter `T`, which in\n",
    "this case means that you can only call `push()`.</font>\n",
    "\n",
    "<font size=\"5\">This is contravariance:</font>\n",
    "\n",
    "<font size=\"5\">`Nothing <: C <: B <: A <: Any`</font>\n",
    "<font size=\"5\">`HolderIn<Nothing> :> HolderIn<C> :> HolderIn<B> :> HolderIn<A> :> HolderIn<Any>`</font>"
   ],
   "metadata": {
    "collapsed": false
   }
  },
  {
   "cell_type": "markdown",
   "source": [
    "---\n",
    "\n",
    "# Type projection: out"
   ],
   "metadata": {
    "collapsed": false
   }
  },
  {
   "cell_type": "code",
   "outputs": [],
   "source": [
    "class HolderOut<T> (var value: T?) {\n",
    "   fun pop(): T? = value.also { value = null }\n",
    "   fun push(newValue: T?): T? = value.also { value = newValue }\n",
    "\n",
    "   fun steal(other: HolderOut<out T>) { value = other.pop() }\n",
    "}"
   ],
   "metadata": {
    "collapsed": false,
    "ExecuteTime": {
     "end_time": "2024-02-26T18:31:29.095508Z",
     "start_time": "2024-02-26T18:31:28.798085Z"
    }
   },
   "execution_count": 47
  },
  {
   "cell_type": "code",
   "outputs": [],
   "source": [
    "val holderB: HolderOut<B> = HolderOut(B())\n",
    "val holderA: HolderOut<A> = HolderOut(null)\n",
    "holderA.steal(holderB) // OK"
   ],
   "metadata": {
    "collapsed": false,
    "ExecuteTime": {
     "end_time": "2024-02-26T18:31:29.804157Z",
     "start_time": "2024-02-26T18:31:29.627800Z"
    }
   },
   "execution_count": 48
  },
  {
   "cell_type": "markdown",
   "source": [
    "<font size=\"5\">Type projection: `other` is a restricted (projected) generic. You can only call methods that **return** the type parameter `T`, which in\n",
    "this case means that you can only call `pop()`.</font>\n",
    "\n",
    "<font size=\"5\">This is covariance:</font>\n",
    "\n",
    "<font size=\"5\">`Nothing <: C <: B <: A <: Any`</font>\n",
    "<font size=\"5\">`HolderIn<Nothing> <: HolderIn<C> <: HolderIn<B> <: HolderIn<A> <: HolderIn<Any>`</font>"
   ],
   "metadata": {
    "collapsed": false
   }
  },
  {
   "cell_type": "markdown",
   "source": [
    "---\n",
    "\n",
    "# Type projections"
   ],
   "metadata": {
    "collapsed": false
   }
  },
  {
   "cell_type": "code",
   "outputs": [
    {
     "name": "stderr",
     "output_type": "stream",
     "text": [
      "Line_49.jupyter.kts (8:18 - 26) Type mismatch: inferred type is T? but Nothing? was expected\n",
      "Line_49.jupyter.kts (12:12 - 22) Type mismatch: inferred type is Any? but T? was expected"
     ]
    }
   ],
   "source": [
    "class HolderFinalDemo<T> (var value: T?) {\n",
    "   fun pop(): T? = value.also { value = null }\n",
    "   fun push(newValue: T?): T? = value.also { value = newValue }\n",
    "    \n",
    "    \n",
    "   fun steal(other: HolderFinalDemo<out T>) {\n",
    "      val oldValue = push(other.pop())\n",
    "      other.push(oldValue) // ERROR: Type mismatch. Required: Nothing?. Found: T?.\n",
    "   }\n",
    "   fun gift(other: HolderFinalDemo<in T>) {\n",
    "      val otherValue = other.push(pop())\n",
    "      push(otherValue) // ERROR: Type mismatch. Required: T?. Found: Any?.\n",
    "   }\n",
    "}"
   ],
   "metadata": {
    "collapsed": false,
    "ExecuteTime": {
     "end_time": "2024-02-26T18:31:32.089774Z",
     "start_time": "2024-02-26T18:31:31.832174Z"
    }
   },
   "execution_count": 49
  },
  {
   "cell_type": "markdown",
   "source": [
    "<font size=\"5\">`out T` returns something that can be cast to `T` and accepts literally `Nothing`.</font>\n",
    "\n",
    "<font size=\"5\">`in T` accepts something that can be cast to `T` and returns a meaningless `Any?`.</font>"
   ],
   "metadata": {
    "collapsed": false
   }
  },
  {
   "cell_type": "markdown",
   "source": [
    "---\n",
    "\n",
    "# Type erasure\n",
    "\n",
    "<font size=\"5\">At runtime, the instances of generic types do not hold any information about their actual type arguments. The type information is said to be erased. The same byte-code is used in all usages of the generic as opposed to C++, where each template is compiled separately for each type parameter provided.</font>\n",
    "\n",
    "<font size=\"5\">- Any `MutableMap<K, V>` becomes `MutableMap<*, *>` in the runtime. (Actually, in the **Kotlin/JVM** runtime we have just `java.util.Map` to preserve compatibility with Java.)</font>\n",
    "<font size=\"5\">- Any `Pilot<T : Movable>` becomes `Pilot<Movable>`.</font>"
   ],
   "metadata": {
    "collapsed": false
   }
  },
  {
   "cell_type": "markdown",
   "source": [
    "<font size=\"5\">As a corollary, you cannot override a function (in **Kotlin/JVM**) by changing generic type parameters:</font>"
   ],
   "metadata": {
    "collapsed": false
   }
  },
  {
   "cell_type": "code",
   "outputs": [
    {
     "name": "stderr",
     "output_type": "stream",
     "text": [
      "Line_50.jupyter.kts (1:15 - 25) Parameter 'collection' is never used\n",
      "Line_50.jupyter.kts (2:15 - 25) Parameter 'collection' is never used\n",
      "Line_50.jupyter.kts (1:1 - 43) Platform declaration clash: The following declarations have the same JVM signature (quickSort(Ljava/util/Collection;)V):\n",
      "    fun quickSort(collection: Collection<Double>): Unit defined in Line_50_jupyter\n",
      "    fun quickSort(collection: Collection<Int>): Unit defined in Line_50_jupyter\n",
      "Line_50.jupyter.kts (2:1 - 46) Platform declaration clash: The following declarations have the same JVM signature (quickSort(Ljava/util/Collection;)V):\n",
      "    fun quickSort(collection: Collection<Double>): Unit defined in Line_50_jupyter\n",
      "    fun quickSort(collection: Collection<Int>): Unit defined in Line_50_jupyter"
     ]
    }
   ],
   "source": [
    "fun quickSort(collection: Collection<Int>) {  }\n",
    "fun quickSort(collection: Collection<Double>) {  }"
   ],
   "metadata": {
    "collapsed": false,
    "ExecuteTime": {
     "end_time": "2024-02-26T18:31:34.938989Z",
     "start_time": "2024-02-26T18:31:34.791943Z"
    }
   },
   "execution_count": 50
  },
  {
   "cell_type": "markdown",
   "source": [
    "<font size=\"5\">Both become `quickSort(collection: Collection<*>)` and their signatures clash.</font>\n",
    "\n",
    "<font size=\"5\">But you can use the `JvmName` annotation:</font>"
   ],
   "metadata": {
    "collapsed": false
   }
  },
  {
   "cell_type": "code",
   "outputs": [],
   "source": [
    "@JvmName(\"quickSortInt\")\n",
    "fun quickSort(collection: Collection<Int>) {  } \n",
    "fun quickSort(collection: Collection<Double>) {  }"
   ],
   "metadata": {
    "collapsed": false,
    "ExecuteTime": {
     "end_time": "2024-02-26T18:31:37.370711Z",
     "start_time": "2024-02-26T18:31:36.761787Z"
    }
   },
   "execution_count": 51
  },
  {
   "cell_type": "markdown",
   "source": [
    "---\n",
    "\n",
    "# Nullability in generics\n",
    "\n",
    "<font size=\"5\">Contrary to common sense, in Kotlin a type parameter specified as `T` can be nullable.</font>"
   ],
   "metadata": {
    "collapsed": false
   }
  },
  {
   "cell_type": "code",
   "outputs": [],
   "source": [
    "class HolderNullability<T>(val value: T) {  } // Notice there is no `?`\n",
    "val holderA: HolderNullability<A?> = HolderNullability(null) // T = A? and that is OK"
   ],
   "metadata": {
    "collapsed": false,
    "ExecuteTime": {
     "end_time": "2024-02-26T18:31:38.408256Z",
     "start_time": "2024-02-26T18:31:38.171217Z"
    }
   },
   "execution_count": 52
  },
  {
   "cell_type": "markdown",
   "source": [
    "<font size=\"5\">To prohibit such behavior, you can use a non-nullable `Any` as a constraint.</font>"
   ],
   "metadata": {
    "collapsed": false
   }
  },
  {
   "cell_type": "code",
   "outputs": [
    {
     "name": "stderr",
     "output_type": "stream",
     "text": [
      "Line_53.jupyter.kts (2:28 - 30) Type argument is not within its bounds: should be subtype of 'Any'\n",
      "Line_53.jupyter.kts (2:34 - 53) Type mismatch: inferred type is Line_32_jupyter.A? but Any was expected\n",
      "Line_53.jupyter.kts (2:48 - 52) Null can not be a value of a non-null type TypeVariable(T)"
     ]
    }
   ],
   "source": [
    "class HolderNotNull<T : Any>(val value: T) {  }\n",
    "val holderA: HolderNotNull<A?> = HolderNotNull(null) // ERROR: Type argument is not within its bounds. Expected: Any. Found: A?."
   ],
   "metadata": {
    "collapsed": false,
    "ExecuteTime": {
     "end_time": "2024-02-26T18:31:39.473690Z",
     "start_time": "2024-02-26T18:31:39.400354Z"
    }
   },
   "execution_count": 53
  },
  {
   "cell_type": "markdown",
   "source": [
    "<font size=\"5\">You may also find intersection helpful:</font>"
   ],
   "metadata": {
    "collapsed": false
   }
  },
  {
   "cell_type": "code",
   "outputs": [],
   "source": [
    "fun <T> elvisLike(x: T, y: T & Any): T & Any = x ?: y // T & Any is populated with all values from T besides null"
   ],
   "metadata": {
    "collapsed": false,
    "ExecuteTime": {
     "end_time": "2024-02-26T18:31:41.121943Z",
     "start_time": "2024-02-26T18:31:40.739099Z"
    }
   },
   "execution_count": 54
  },
  {
   "cell_type": "markdown",
   "source": [
    "---\n",
    "\n",
    "# Inline functions"
   ],
   "metadata": {
    "collapsed": false
   }
  },
  {
   "cell_type": "markdown",
   "source": [
    "<font size=\"5\">If they are used as first-class objects, functions are stored as objects, thus requiring memory allocations, which introduce runtime overhead.</font>"
   ],
   "metadata": {
    "collapsed": false
   }
  },
  {
   "cell_type": "code",
   "outputs": [],
   "source": [
    "fun foo(str: String, call: (String) -> Unit) {\n",
    "     call(str)\n",
    "}"
   ],
   "metadata": {
    "collapsed": false,
    "ExecuteTime": {
     "end_time": "2024-02-26T18:31:44.826481Z",
     "start_time": "2024-02-26T18:31:44.454751Z"
    }
   },
   "execution_count": 55
  },
  {
   "cell_type": "code",
   "outputs": [
    {
     "name": "stdout",
     "output_type": "stream",
     "text": [
      "Top level function with lambda example"
     ]
    }
   ],
   "source": [
    "foo(\"Top level function with lambda example\") { print(it) }"
   ],
   "metadata": {
    "collapsed": false,
    "ExecuteTime": {
     "end_time": "2024-02-26T18:31:45.449655Z",
     "start_time": "2024-02-26T18:31:45.207577Z"
    }
   },
   "execution_count": 56
  },
  {
   "cell_type": "markdown",
   "source": [
    "<img alt=\"Cover\" src=\"./images/4.png\" width=\"3000\" />"
   ],
   "metadata": {
    "collapsed": false
   }
  },
  {
   "cell_type": "markdown",
   "source": [
    "<img alt=\"Cover\" src=\"./images/5.png\" width=\"3000\" />"
   ],
   "metadata": {
    "collapsed": false
   }
  },
  {
   "cell_type": "markdown",
   "source": [
    "<img alt=\"Cover\" src=\"./images/6.png\" width=\"3000\" />"
   ],
   "metadata": {
    "collapsed": false
   }
  },
  {
   "cell_type": "markdown",
   "source": [
    "<font size=\"5\">`inline` affects not only the function itself, but also all the lambdas passed as arguments.\n",
    "If you do not want some of the lambdas passed to an `inline` function to be inlined (_for example, inlining large functions is not recommended_), you can mark some of the function parameters with the `noinline` modifier.</font>"
   ],
   "metadata": {
    "collapsed": false
   }
  },
  {
   "cell_type": "code",
   "outputs": [],
   "source": [
    "inline fun fooNoInlineArg(str: String, call1: (String) -> Unit, noinline call2: (String) -> Unit) { \n",
    "    call1(str) // Will be inlined\n",
    "    call2(str) // Will not be inlined\n",
    "}"
   ],
   "metadata": {
    "collapsed": false,
    "ExecuteTime": {
     "end_time": "2024-02-26T18:31:48.560686Z",
     "start_time": "2024-02-26T18:31:48.426145Z"
    }
   },
   "execution_count": 57
  },
  {
   "cell_type": "markdown",
   "source": [
    "<font size=\"5\">You can use `return` in inlined lambdas, this is called _non-local return_, which can lead to unexpected behaviour:</font>"
   ],
   "metadata": {
    "collapsed": false
   }
  },
  {
   "cell_type": "code",
   "outputs": [],
   "source": [
    "inline fun fooNonLocalReturn(call1: () -> Unit, call2: () -> Unit) {\n",
    "    call1()\n",
    "    call2() \n",
    "}"
   ],
   "metadata": {
    "collapsed": false,
    "ExecuteTime": {
     "end_time": "2024-02-26T18:31:50.295980Z",
     "start_time": "2024-02-26T18:31:50.113710Z"
    }
   },
   "execution_count": 58
  },
  {
   "cell_type": "code",
   "outputs": [
    {
     "name": "stdout",
     "output_type": "stream",
     "text": [
      "Step#1\n",
      "Step#2\n"
     ]
    }
   ],
   "source": [
    "fun main() {\n",
    "    println(\"Step#1\")\n",
    "    fooNonLocalReturn({\n",
    "        println(\"Step#2\")\n",
    "        return\n",
    "    }, { println(\"Step#3\") })\n",
    "    println(\"Step#4\")\n",
    "}\n",
    "\n",
    "main()"
   ],
   "metadata": {
    "collapsed": false,
    "ExecuteTime": {
     "end_time": "2024-02-26T18:31:51.436342Z",
     "start_time": "2024-02-26T18:31:50.913409Z"
    }
   },
   "execution_count": 59
  },
  {
   "cell_type": "markdown",
   "source": [
    "<font size=\"5\">To prohibit returning from the lambda expression we can mark the lambda as `crossinline`:</font>"
   ],
   "metadata": {
    "collapsed": false
   }
  },
  {
   "cell_type": "code",
   "outputs": [],
   "source": [
    "inline fun crossInlineFoo(crossinline call1: () -> Unit, call2: () -> Unit) {\n",
    "    call1()\n",
    "    call2() \n",
    "}"
   ],
   "metadata": {
    "collapsed": false,
    "ExecuteTime": {
     "end_time": "2024-02-26T18:31:52.973161Z",
     "start_time": "2024-02-26T18:31:52.617525Z"
    }
   },
   "execution_count": 60
  },
  {
   "cell_type": "code",
   "outputs": [
    {
     "name": "stderr",
     "output_type": "stream",
     "text": [
      "Line_61.jupyter.kts (4:6 - 12) 'return' is not allowed here\n",
      "Line_61.jupyter.kts (4:6 - 12) This function must return a value of type Line_61_jupyter"
     ]
    }
   ],
   "source": [
    "println(\"Step#1\")\n",
    "crossInlineFoo({\n",
    "    println(\"Step#2\")\n",
    "     return\n",
    "}, // ERROR: 'return' is not allowed here\n",
    "    { println(\"Step#3\") })\n",
    "println(\"Step#4\")"
   ],
   "metadata": {
    "collapsed": false,
    "ExecuteTime": {
     "end_time": "2024-02-26T18:31:53.536068Z",
     "start_time": "2024-02-26T18:31:53.385104Z"
    }
   },
   "execution_count": 61
  },
  {
   "cell_type": "code",
   "outputs": [
    {
     "name": "stdout",
     "output_type": "stream",
     "text": [
      "Step#1\n",
      "Step#2\n",
      "Step#3\n",
      "Step#4\n"
     ]
    }
   ],
   "source": [
    "// BUT it works\n",
    "\n",
    "println(\"Step#1\")\n",
    "crossInlineFoo({\n",
    "    println(\"Step#2\")\n",
    "     return@crossInlineFoo\n",
    "}, // ERROR: 'return' is not allowed here\n",
    "    { println(\"Step#3\") })\n",
    "println(\"Step#4\")"
   ],
   "metadata": {
    "collapsed": false,
    "ExecuteTime": {
     "end_time": "2024-02-26T18:31:54.259722Z",
     "start_time": "2024-02-26T18:31:54.060639Z"
    }
   },
   "execution_count": 62
  },
  {
   "cell_type": "markdown",
   "source": [
    "<font size=\"5\">`crossinline` is especially useful when the lambda from an `inline` function is being called from another context, for example, if it is used to instantiate a `Runnable`:</font>"
   ],
   "metadata": {
    "collapsed": false
   }
  },
  {
   "cell_type": "code",
   "outputs": [],
   "source": [
    "import kotlin.concurrent.thread\n",
    "\n",
    "inline fun drive(crossinline specialCall: (String) -> Unit, call: (String) -> Unit) { \n",
    "    val nightCall = Runnable { specialCall(\"There's something inside you\") }\n",
    "    call(\"I'm giving you a nightcall to tell you how I feel\")\n",
    "    thread { nightCall.run() }\n",
    "    call(\"I'm gonna drive you through the night, down the hills\")\n",
    "}"
   ],
   "metadata": {
    "collapsed": false,
    "ExecuteTime": {
     "end_time": "2024-02-26T18:31:55.881943Z",
     "start_time": "2024-02-26T18:31:55.612203Z"
    }
   },
   "execution_count": 63
  },
  {
   "cell_type": "code",
   "outputs": [
    {
     "name": "stderr",
     "output_type": "stream",
     "text": [
      "Backend Internal error: Exception during IR lowering\n",
      "File being compiled: Line_64.jupyter.kts\n",
      "The root cause java.lang.RuntimeException was thrown at: org.jetbrains.kotlin.backend.jvm.codegen.FunctionCodegen.generate(FunctionCodegen.kt:51)"
     ]
    }
   ],
   "source": [
    "// Switch to Crossinline2.kt (an Notebook bug)\n",
    "\n",
    "drive({ System.err.println(it) }) { println(it) }"
   ],
   "metadata": {
    "collapsed": false,
    "ExecuteTime": {
     "end_time": "2024-02-26T18:31:56.596953Z",
     "start_time": "2024-02-26T18:31:56.352716Z"
    }
   },
   "execution_count": 64
  },
  {
   "cell_type": "markdown",
   "source": [
    "---\n",
    "\n",
    "# Inline reified functions\n",
    "\n",
    "<font size=\"5\">Sometimes you need to access a type passed as a parameter:</font>"
   ],
   "metadata": {
    "collapsed": false
   }
  },
  {
   "cell_type": "code",
   "outputs": [
    {
     "name": "stderr",
     "output_type": "stream",
     "text": [
      "Line_65.jupyter.kts (3:9 - 15) 'Animal' is a final type, and thus a value of the type parameter is predetermined\n",
      "Line_65.jupyter.kts (4:13 - 21) Cannot use 'T' as reified type parameter. Use a class instead."
     ]
    }
   ],
   "source": [
    "import org.jetbrains.kotlin.public.course.generics.Animal\n",
    "\n",
    "fun <T: Animal> fooInlineError() {\n",
    "    println(T::class) // ERROR: Cannot use 'T' as reified type parameter. Use a class instead---> add a param: t: KClass<T>\n",
    "}\n"
   ],
   "metadata": {
    "collapsed": false,
    "ExecuteTime": {
     "end_time": "2024-02-26T18:31:59.569815Z",
     "start_time": "2024-02-26T18:31:59.473389Z"
    }
   },
   "execution_count": 65
  },
  {
   "cell_type": "markdown",
   "source": [
    "<font size=\"5\">You can use the `reified` keyword with `inline` functions:</font>"
   ],
   "metadata": {
    "collapsed": false
   }
  },
  {
   "cell_type": "code",
   "outputs": [],
   "source": [
    "import org.jetbrains.kotlin.public.course.generics.Animal\n",
    "\n",
    "inline fun <reified T: Animal> fooInlineOk() {\n",
    "    println(T::class) // OK \n",
    "}"
   ],
   "metadata": {
    "collapsed": false,
    "ExecuteTime": {
     "end_time": "2024-02-26T18:32:00.992229Z",
     "start_time": "2024-02-26T18:32:00.827271Z"
    }
   },
   "execution_count": 66
  },
  {
   "cell_type": "code",
   "outputs": [
    {
     "name": "stdout",
     "output_type": "stream",
     "text": [
      "class org.jetbrains.kotlin.public.course.generics.Animal\n"
     ]
    }
   ],
   "source": [
    "fooInlineOk<Animal>()"
   ],
   "metadata": {
    "collapsed": false,
    "ExecuteTime": {
     "end_time": "2024-02-26T18:32:02.198617Z",
     "start_time": "2024-02-26T18:32:01.612296Z"
    }
   },
   "execution_count": 67
  },
  {
   "cell_type": "markdown",
   "source": [
    "<font size=\"5\">Note that the compiler has to be able to know the actual type passed as a type argument so that it can modify the generated bytecode to use the corresponding class directly.</font>"
   ],
   "metadata": {
    "collapsed": false
   }
  },
  {
   "cell_type": "code",
   "outputs": [],
   "source": [],
   "metadata": {
    "collapsed": false
   }
  }
 ],
 "metadata": {
  "kernelspec": {
   "display_name": "Kotlin",
   "language": "kotlin",
   "name": "kotlin"
  },
  "language_info": {
   "name": "kotlin",
   "version": "1.9.0",
   "mimetype": "text/x-kotlin",
   "file_extension": ".kt",
   "pygments_lexer": "kotlin",
   "codemirror_mode": "text/x-kotlin",
   "nbconvert_exporter": ""
  },
  "ktnbPluginMetadata": {
   "projectDependencies": [
    "kotlin-course-notebooks.main",
    "kotlin-course-notebooks.test"
   ]
  }
 },
 "nbformat": 4,
 "nbformat_minor": 0
}
