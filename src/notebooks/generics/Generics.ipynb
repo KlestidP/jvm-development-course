{
 "cells": [
  {
   "cell_type": "markdown",
   "source": [
    "<img alt=\"Cover\" src=\"./images/1.cover.png\" width=\"3000\" />\n",
    "\n",
    "---"
   ],
   "metadata": {
    "collapsed": false
   }
  },
  {
   "cell_type": "markdown",
   "source": [
    "# What? Why?"
   ],
   "metadata": {
    "collapsed": false
   }
  },
  {
   "cell_type": "code",
   "outputs": [],
   "source": [
    "fun quickSort(collection: List<Int>) {  }"
   ],
   "metadata": {
    "collapsed": false,
    "ExecuteTime": {
     "end_time": "2024-02-26T18:10:51.286055Z",
     "start_time": "2024-02-26T18:10:50.876786Z"
    }
   },
   "execution_count": 1
  },
  {
   "cell_type": "code",
   "outputs": [],
   "source": [
    "quickSort(listOf(1, 2, 3)) // OK"
   ],
   "metadata": {
    "collapsed": false,
    "ExecuteTime": {
     "end_time": "2024-02-26T18:10:51.692453Z",
     "start_time": "2024-02-26T18:10:51.297270Z"
    }
   },
   "execution_count": 2
  },
  {
   "cell_type": "code",
   "outputs": [
    {
     "name": "stderr",
     "output_type": "stream",
     "text": [
      "Line_3.jupyter.kts (1:11 - 32) Type mismatch: inferred type is List<Double> but List<Int> was expected"
     ]
    }
   ],
   "source": [
    "quickSort(listOf(1.0, 2.0, 3.0)) // NOT OK"
   ],
   "metadata": {
    "collapsed": false,
    "ExecuteTime": {
     "end_time": "2024-02-26T18:10:51.856780Z",
     "start_time": "2024-02-26T18:10:51.705535Z"
    }
   },
   "execution_count": 3
  },
  {
   "cell_type": "code",
   "outputs": [],
   "source": [
    "fun quickSort(collection: List<Double>) {  } // overload (we’ll get back to this a bit later)"
   ],
   "metadata": {
    "collapsed": false,
    "ExecuteTime": {
     "end_time": "2024-02-26T18:10:52.194505Z",
     "start_time": "2024-02-26T18:10:51.884183Z"
    }
   },
   "execution_count": 4
  },
  {
   "cell_type": "code",
   "outputs": [],
   "source": [
    "quickSort(listOf(1.0, 2.0, 3.0)) // OK"
   ],
   "metadata": {
    "collapsed": false,
    "ExecuteTime": {
     "end_time": "2024-02-26T18:10:52.611526Z",
     "start_time": "2024-02-26T18:10:52.134595Z"
    }
   },
   "execution_count": 5
  },
  {
   "cell_type": "code",
   "outputs": [],
   "source": [
    "quickSort(listOf(1, 2, 3)) // OK"
   ],
   "metadata": {
    "collapsed": false,
    "ExecuteTime": {
     "end_time": "2024-02-26T18:10:52.999642Z",
     "start_time": "2024-02-26T18:10:52.622392Z"
    }
   },
   "execution_count": 6
  },
  {
   "cell_type": "markdown",
   "source": [
    "<font size=\"5\">Kotlin `Number` inheritors: `Int`, `Double`, `Byte`, `Float`, `Long`, `Short`. Do we need 4 more implementations of quickSort?</font>\n",
    "\n",
    "---"
   ],
   "metadata": {
    "collapsed": false
   }
  },
  {
   "cell_type": "markdown",
   "source": [
    "# How?\n",
    "\n",
    "<font size=\"5\">Does the quickSort algorithm actually care what is it sorting? No, as long as it can compare two values against each other.</font>"
   ],
   "metadata": {
    "collapsed": false
   }
  },
  {
   "cell_type": "code",
   "outputs": [],
   "source": [
    "fun <T : Comparable<T>> quickSort(collection: Collection<T>): Collection<T> = collection // We will not implement it"
   ],
   "metadata": {
    "collapsed": false,
    "ExecuteTime": {
     "end_time": "2024-02-26T18:10:53.203822Z",
     "start_time": "2024-02-26T18:10:53.005117Z"
    }
   },
   "execution_count": 7
  },
  {
   "cell_type": "code",
   "outputs": [
    {
     "data": {
      "text/plain": "[1.0, 2.0, 3.0]"
     },
     "execution_count": 8,
     "metadata": {},
     "output_type": "execute_result"
    }
   ],
   "source": [
    "quickSort(listOf(1.0, 2.0, 3.0)) // OK"
   ],
   "metadata": {
    "collapsed": false,
    "ExecuteTime": {
     "end_time": "2024-02-26T18:10:53.433025Z",
     "start_time": "2024-02-26T18:10:53.201493Z"
    }
   },
   "execution_count": 8
  },
  {
   "cell_type": "code",
   "outputs": [
    {
     "data": {
      "text/plain": "[1, 2, 3]"
     },
     "execution_count": 9,
     "metadata": {},
     "output_type": "execute_result"
    }
   ],
   "source": [
    "quickSort(listOf(1, 2, 3)) // OK"
   ],
   "metadata": {
    "collapsed": false,
    "ExecuteTime": {
     "end_time": "2024-02-26T18:10:53.783046Z",
     "start_time": "2024-02-26T18:10:53.434702Z"
    }
   },
   "execution_count": 9
  },
  {
   "cell_type": "code",
   "outputs": [
    {
     "data": {
      "text/plain": "[one, two, three]"
     },
     "execution_count": 10,
     "metadata": {},
     "output_type": "execute_result"
    }
   ],
   "source": [
    "quickSort(listOf(\"one\", \"two\", \"three\")) // OK"
   ],
   "metadata": {
    "collapsed": false,
    "ExecuteTime": {
     "end_time": "2024-02-26T18:10:54.014993Z",
     "start_time": "2024-02-26T18:10:53.791727Z"
    }
   },
   "execution_count": 10
  },
  {
   "cell_type": "markdown",
   "source": [
    "<font size=\"5\">Generics allow you to write code that can work with any type or with types that should satisfy some rules (constraints) but are not limited in any other ways: type parameters.</font>\n"
   ],
   "metadata": {
    "collapsed": false
   }
  },
  {
   "cell_type": "code",
   "outputs": [],
   "source": [
    "data class Holder<T>(val value: T)"
   ],
   "metadata": {
    "collapsed": false,
    "ExecuteTime": {
     "end_time": "2024-02-26T18:10:54.607170Z",
     "start_time": "2024-02-26T18:10:53.994277Z"
    }
   },
   "execution_count": 11
  },
  {
   "cell_type": "code",
   "outputs": [
    {
     "name": "stdout",
     "output_type": "stream",
     "text": [
      "Holder(value=23)\n"
     ]
    }
   ],
   "source": [
    "val intHolder = Holder<Int>(23)\n",
    "println(intHolder)"
   ],
   "metadata": {
    "collapsed": false,
    "ExecuteTime": {
     "end_time": "2024-02-26T18:10:54.931197Z",
     "start_time": "2024-02-26T18:10:54.614273Z"
    }
   },
   "execution_count": 12
  },
  {
   "cell_type": "code",
   "outputs": [
    {
     "name": "stdout",
     "output_type": "stream",
     "text": [
      "Holder(value=cup)\n"
     ]
    }
   ],
   "source": [
    "val cupHolder = Holder(\"cup\") // Generic parameter type can be inferred\n",
    "println(cupHolder)"
   ],
   "metadata": {
    "collapsed": false,
    "ExecuteTime": {
     "end_time": "2024-02-26T18:10:55.122495Z",
     "start_time": "2024-02-26T18:10:54.937603Z"
    }
   },
   "execution_count": 13
  },
  {
   "cell_type": "markdown",
   "source": [
    "---\n",
    "\n",
    "# Constraints\n",
    "\n",
    "<font size=\"5\">Sometimes we do not want to work with an arbitrary type and expect it to provide us with some functionality. In such cases type constraints in the form of upper bounds are used: upper bounds.</font>"
   ],
   "metadata": {
    "collapsed": false
   }
  },
  {
   "cell_type": "code",
   "outputs": [],
   "source": [
    "import org.jetbrains.kotlin.public.course.generics.Movable\n",
    "\n",
    "class Pilot<T : Movable>(val vehicle: T) {\n",
    "    fun go() { vehicle.move() }\n",
    "}"
   ],
   "metadata": {
    "collapsed": false,
    "ExecuteTime": {
     "end_time": "2024-02-26T18:10:55.283103Z",
     "start_time": "2024-02-26T18:10:55.117332Z"
    }
   },
   "execution_count": 14
  },
  {
   "cell_type": "code",
   "outputs": [
    {
     "name": "stdout",
     "output_type": "stream",
     "text": [
      "Car is moving\n"
     ]
    }
   ],
   "source": [
    "import org.jetbrains.kotlin.public.course.generics.Car\n",
    "\n",
    "val ryanGosling = Pilot<Car>(Car(\"Chevy\", \"Malibu\"))\n",
    "ryanGosling.go()"
   ],
   "metadata": {
    "collapsed": false,
    "ExecuteTime": {
     "end_time": "2024-02-26T18:10:55.520335Z",
     "start_time": "2024-02-26T18:10:55.283648Z"
    }
   },
   "execution_count": 15
  },
  {
   "cell_type": "code",
   "outputs": [
    {
     "name": "stdout",
     "output_type": "stream",
     "text": [
      "Plane is moving\n"
     ]
    }
   ],
   "source": [
    "import org.jetbrains.kotlin.public.course.generics.Plane\n",
    "\n",
    "val sullySullenberger = Pilot<Plane>(Plane(\"Airbus\", \"A320\"))\n",
    "sullySullenberger.go()"
   ],
   "metadata": {
    "collapsed": false,
    "ExecuteTime": {
     "end_time": "2024-02-26T18:10:55.642701Z",
     "start_time": "2024-02-26T18:10:55.494387Z"
    }
   },
   "execution_count": 16
  },
  {
   "cell_type": "markdown",
   "source": [
    "---\n",
    "\n",
    "# Constraints continued\n",
    "\n",
    "<font size=\"5\">There can be several parameter types, and generic classes can participate in inheritance.</font>"
   ],
   "metadata": {
    "collapsed": false
   }
  },
  {
   "cell_type": "code",
   "outputs": [],
   "source": [
    "public interface MutableMap<K, V> : Map<K, V> {  }"
   ],
   "metadata": {
    "collapsed": false,
    "ExecuteTime": {
     "end_time": "2024-02-26T18:10:56.133945Z",
     "start_time": "2024-02-26T18:10:55.643195Z"
    }
   },
   "execution_count": 17
  },
  {
   "cell_type": "markdown",
   "source": [
    "<font size=\"5\">There can also be several constraints (which means the type parameter has to implement several interfaces):</font>"
   ],
   "metadata": {
    "collapsed": false
   }
  },
  {
   "cell_type": "code",
   "outputs": [],
   "source": [
    "import org.jetbrains.kotlin.public.course.generics.Awesome\n",
    "\n",
    "fun <T, S> moveInAnAwesomeWayAndCompare(a: T, b: S) where T : Comparable<T>, S : Comparable<T>, T : Awesome, T : Movable {  }"
   ],
   "metadata": {
    "collapsed": false,
    "ExecuteTime": {
     "end_time": "2024-02-26T18:10:56.413967Z",
     "start_time": "2024-02-26T18:10:56.135472Z"
    }
   },
   "execution_count": 18
  },
  {
   "cell_type": "markdown",
   "source": [
    "---\n",
    "\n",
    "# Star-projection\n",
    "\n",
    "<font size=\"5\">When you do not care about the parameter type, you can use star-projection `*`.</font>"
   ],
   "metadata": {
    "collapsed": false
   }
  },
  {
   "cell_type": "code",
   "outputs": [],
   "source": [
    "fun printKeys(map: MutableMap<*, *>) {  }"
   ],
   "metadata": {
    "collapsed": false,
    "ExecuteTime": {
     "end_time": "2024-02-26T18:10:56.662717Z",
     "start_time": "2024-02-26T18:10:56.392416Z"
    }
   },
   "execution_count": 19
  },
  {
   "cell_type": "markdown",
   "source": [
    "---\n",
    "\n",
    "# Let's go back"
   ],
   "metadata": {
    "collapsed": false
   }
  },
  {
   "cell_type": "code",
   "outputs": [],
   "source": [
    "open class A\n",
    "open class B : A()\n",
    "class C : B()\n",
    "\n",
    "// Nothing <: C <: B <: A <: Any"
   ],
   "metadata": {
    "collapsed": false,
    "ExecuteTime": {
     "end_time": "2024-02-26T18:10:56.863053Z",
     "start_time": "2024-02-26T18:10:56.643953Z"
    }
   },
   "execution_count": 20
  },
  {
   "cell_type": "markdown",
   "source": [
    "<font size=\"5\">This means that the `Any` class is the _superclass_ for all the classes and at the same time `Nothing` is a _subtype_ of any type</font>\n",
    "\n",
    "<font size=\"5\">Consider a basic example:</font>"
   ],
   "metadata": {
    "collapsed": false
   }
  },
  {
   "cell_type": "code",
   "outputs": [],
   "source": [
    "interface HolderExample<T> {\n",
    "    fun push(newValue: T) // consumes an element\n",
    "    \n",
    "    fun pop(): T // produces an element\n",
    "    \n",
    "    fun size(): Int // does not interact with T\n",
    "}"
   ],
   "metadata": {
    "collapsed": false,
    "ExecuteTime": {
     "end_time": "2024-02-26T18:10:57.018004Z",
     "start_time": "2024-02-26T18:10:56.859089Z"
    }
   },
   "execution_count": 21
  },
  {
   "cell_type": "markdown",
   "source": [
    "<font size=\"5\">In Kotlin there are type projections:</font>\n",
    "\n",
    "<font size=\"5\">`G<T>` // invariant, can **consume** and **produce** elements </font>\n",
    "<font size=\"5\">`G<in T>` // contravariant, can only **consume** elements </font>\n",
    "<font size=\"5\">`G<out T>` // covariant, can only **produce** elements </font>\n",
    "<font size=\"5\">`G<*>` // star-projection, does not interact with T</font>"
   ],
   "metadata": {
    "collapsed": false
   }
  },
  {
   "cell_type": "markdown",
   "source": [
    "---\n",
    "\n",
    "# Several examples\n",
    "\n",
    "<font size=\"5\">`G<T>` // invariant, can **consume** and **produce** elements </font>"
   ],
   "metadata": {
    "collapsed": false
   }
  },
  {
   "cell_type": "code",
   "outputs": [],
   "source": [
    "interface HolderSimple<T> {\n",
    "     fun push(newValue: T)// consumes an element: OK\n",
    "     \n",
    "     fun pop(): T // produces an element: OK\n",
    "     \n",
    "     fun size(): Int // does not interact with T: OK\n",
    "}"
   ],
   "metadata": {
    "collapsed": false,
    "ExecuteTime": {
     "end_time": "2024-02-26T18:10:57.146421Z",
     "start_time": "2024-02-26T18:10:57.002214Z"
    }
   },
   "execution_count": 22
  },
  {
   "cell_type": "markdown",
   "source": [
    "<font size=\"5\">`G<in T>` // contravariant, can only **consume** elements </font>"
   ],
   "metadata": {
    "collapsed": false
   }
  },
  {
   "cell_type": "code",
   "outputs": [
    {
     "name": "stderr",
     "output_type": "stream",
     "text": [
      "Line_23.jupyter.kts (4:17 - 18) Type parameter T is declared as 'in' but occurs in 'out' position in type T"
     ]
    }
   ],
   "source": [
    "interface HolderConsumer<in T> {\n",
    "     fun push(newValue: T) // consumes an element: OK\n",
    "     \n",
    "     fun pop(): T // produces an element: ERROR: [TYPE_VARIANCE_CONFLICT_ERROR] Type parameter T is declared as 'in' but occurs in 'out' position in type T\n",
    "    \n",
    "     fun size(): Int // does not interact with T: OK\n",
    "}"
   ],
   "metadata": {
    "collapsed": false,
    "ExecuteTime": {
     "end_time": "2024-02-26T18:10:57.182214Z",
     "start_time": "2024-02-26T18:10:57.147556Z"
    }
   },
   "execution_count": 23
  },
  {
   "cell_type": "markdown",
   "source": [
    "<font size=\"5\">`G<out T>` // covariant, can only **produce** elements </font>"
   ],
   "metadata": {
    "collapsed": false
   }
  },
  {
   "cell_type": "code",
   "outputs": [
    {
     "name": "stderr",
     "output_type": "stream",
     "text": [
      "Line_24.jupyter.kts (2:25 - 26) Type parameter T is declared as 'out' but occurs in 'in' position in type T"
     ]
    }
   ],
   "source": [
    "interface HolderProducer<out T> {\n",
    "     fun push(newValue: T) // consumes an element: ERROR: [TYPE_VARIANCE_CONFLICT_ERROR] Type parameter T is declared as 'out' but occurs in 'in' position in type T\n",
    "     fun pop(): T // produces an element: OK\n",
    "     fun size(): Int // does not interact with T: OK\n",
    "}"
   ],
   "metadata": {
    "collapsed": false,
    "ExecuteTime": {
     "end_time": "2024-02-26T18:10:57.227383Z",
     "start_time": "2024-02-26T18:10:57.183035Z"
    }
   },
   "execution_count": 24
  },
  {
   "cell_type": "markdown",
   "source": [
    "<font size=\"5\">`G<*>` // star-projection, does not interact with T</font>"
   ],
   "metadata": {
    "collapsed": false
   }
  },
  {
   "cell_type": "code",
   "outputs": [],
   "source": [
    "fun <T> foo1(holder: HolderSimple<T>, t: T) {\n",
    "     holder.push(t) // OK\n",
    "}"
   ],
   "metadata": {
    "collapsed": false,
    "ExecuteTime": {
     "end_time": "2024-02-26T18:10:57.384047Z",
     "start_time": "2024-02-26T18:10:57.213563Z"
    }
   },
   "execution_count": 25
  },
  {
   "cell_type": "code",
   "outputs": [],
   "source": [
    "fun foo2(holder: HolderSimple<Any>, t: Any) {\n",
    "    holder.push(t) // OK\n",
    "}"
   ],
   "metadata": {
    "collapsed": false,
    "ExecuteTime": {
     "end_time": "2024-02-26T18:10:57.513461Z",
     "start_time": "2024-02-26T18:10:57.366582Z"
    }
   },
   "execution_count": 26
  },
  {
   "cell_type": "code",
   "outputs": [
    {
     "name": "stderr",
     "output_type": "stream",
     "text": [
      "Line_27.jupyter.kts (2:18 - 19) Type mismatch: inferred type is T but Nothing was expected"
     ]
    }
   ],
   "source": [
    "fun <T> foo3(holder: HolderSimple<*>, t: T) {\n",
    "     holder.push(t) // ERROR: [TYPE_MISMATCH] Type mismatch. Required: Nothing. Found: T\n",
    "}"
   ],
   "metadata": {
    "collapsed": false,
    "ExecuteTime": {
     "end_time": "2024-02-26T18:10:58.018210Z",
     "start_time": "2024-02-26T18:10:57.523577Z"
    }
   },
   "execution_count": 27
  },
  {
   "cell_type": "markdown",
   "source": [
    "---\n",
    "\n",
    "# Subtyping\n",
    "\n",
    "<img alt=\"Cover\" src=\"./images/2.png\" width=\"3000\" />\n",
    "\n",
    "---"
   ],
   "metadata": {
    "collapsed": false
   }
  },
  {
   "cell_type": "markdown",
   "source": [
    "<img alt=\"Cover\" src=\"./images/3.png\" width=\"3000\" />"
   ],
   "metadata": {
    "collapsed": false
   }
  },
  {
   "cell_type": "code",
   "outputs": [],
   "source": [
    "val c: C = C()\n",
    "val b: B = c // C <: B, OK"
   ],
   "metadata": {
    "collapsed": false,
    "ExecuteTime": {
     "end_time": "2024-02-26T18:10:58.213595Z",
     "start_time": "2024-02-26T18:10:57.974468Z"
    }
   },
   "execution_count": 28
  },
  {
   "cell_type": "code",
   "outputs": [
    {
     "name": "stderr",
     "output_type": "stream",
     "text": [
      "Line_29.jupyter.kts (2:26 - 33) Type mismatch: inferred type is Line_11_jupyter.Holder<Line_20_jupyter.C> but Line_11_jupyter.Holder<Line_20_jupyter.B> was expected"
     ]
    }
   ],
   "source": [
    "val holderC: Holder<C> = Holder(C())\n",
    "val holderB: Holder<B> = holderC // ERROR: Type mismatch. Required: Holder<B>. Found: Holder<C>."
   ],
   "metadata": {
    "collapsed": false,
    "ExecuteTime": {
     "end_time": "2024-02-26T18:10:58.276846Z",
     "start_time": "2024-02-26T18:10:58.212152Z"
    }
   },
   "execution_count": 29
  },
  {
   "cell_type": "code",
   "outputs": [],
   "source": [
    "// BUT\n",
    "val holderB: Holder<B> = Holder(C()) // OK, because of casting"
   ],
   "metadata": {
    "collapsed": false,
    "is_executing": true,
    "ExecuteTime": {
     "start_time": "2024-02-26T18:10:58.279783Z"
    }
   },
   "execution_count": null
  },
  {
   "cell_type": "markdown",
   "source": [
    "---\n",
    "\n",
    "# Subtyping: Next"
   ],
   "metadata": {
    "collapsed": false
   }
  },
  {
   "cell_type": "code",
   "outputs": [],
   "source": [
    "class HolderSubtypingDemo<T> (var value: T?) {\n",
    "   fun pop(): T? = value.also { value = null }\n",
    "   fun push(newValue: T?): T? = value.also { value = newValue }\n",
    "   fun steal(other: HolderSubtypingDemo<T>) { value = other.pop() }\n",
    "   fun gift(other: HolderSubtypingDemo<T>) { other.push(pop()) }\n",
    "}"
   ],
   "metadata": {
    "collapsed": false,
    "is_executing": true
   },
   "execution_count": null
  },
  {
   "cell_type": "markdown",
   "source": [
    "<font size=\"5\">HolderSubtypingDemo<Nothing> !<:> HolderSubtypingDemo<C> !<:> HolderSubtypingDemo<B> !<:> HolderSubtypingDemo<A> !<:> HolderSubtypingDemo<Any></font>"
   ],
   "metadata": {
    "collapsed": false
   }
  },
  {
   "cell_type": "code",
   "outputs": [],
   "source": [
    "val holderB: HolderSubtypingDemo<B> = HolderSubtypingDemo(B())\n",
    "val holderA: HolderSubtypingDemo<A> = HolderSubtypingDemo(null)\n",
    "holderA.steal(holderB) // ERROR: Type mismatch. Required: Holder<A>. Found: Holder<B>.\n",
    "holderB.gift(holderA) // ERROR: Type mismatch. Required: Holder<B>. Found: Holder<A>."
   ],
   "metadata": {
    "collapsed": false,
    "is_executing": true
   },
   "execution_count": null
  },
  {
   "cell_type": "markdown",
   "source": [
    "---\n",
    "\n",
    "# Type projection: in"
   ],
   "metadata": {
    "collapsed": false
   }
  },
  {
   "cell_type": "code",
   "outputs": [],
   "source": [
    "class HolderIn<T> (var value: T?) {\n",
    "   fun pop(): T? = value.also { value = null }\n",
    "   fun push(newValue: T?): T? = value.also { value = newValue }\n",
    "    \n",
    "   fun gift(other: HolderIn<in T>) { other.push(pop()) }\n",
    "}"
   ],
   "metadata": {
    "collapsed": false,
    "is_executing": true
   },
   "execution_count": null
  },
  {
   "cell_type": "code",
   "outputs": [],
   "source": [
    "val holderB: HolderIn<B> = HolderIn(B())\n",
    "val holderA: HolderIn<A> = HolderIn(null)\n",
    "holderB.gift(holderA) // OK"
   ],
   "metadata": {
    "collapsed": false,
    "is_executing": true
   },
   "execution_count": null
  },
  {
   "cell_type": "markdown",
   "source": [
    "<font size=\"5\">Type projection: `other` is a restricted (projected) generic. You can only call methods that **accept** the type parameter `T`, which in\n",
    "this case means that you can only call `push()`.</font>\n",
    "\n",
    "<font size=\"5\">This is contravariance:</font>\n",
    "\n",
    "<font size=\"5\">`Nothing <: C <: B <: A <: Any`</font>\n",
    "<font size=\"5\">`HolderIn<Nothing> :> HolderIn<C> :> HolderIn<B> :> HolderIn<A> :> HolderIn<Any>`</font>"
   ],
   "metadata": {
    "collapsed": false
   }
  },
  {
   "cell_type": "markdown",
   "source": [
    "---\n",
    "\n",
    "# Type projection: out"
   ],
   "metadata": {
    "collapsed": false
   }
  },
  {
   "cell_type": "code",
   "outputs": [],
   "source": [
    "class HolderOut<T> (var value: T?) {\n",
    "   fun pop(): T? = value.also { value = null }\n",
    "   fun push(newValue: T?): T? = value.also { value = newValue }\n",
    "\n",
    "   fun steal(other: HolderOut<out T>) { value = other.pop() }\n",
    "}"
   ],
   "metadata": {
    "collapsed": false,
    "is_executing": true
   },
   "execution_count": null
  },
  {
   "cell_type": "code",
   "outputs": [],
   "source": [
    "val holderB: HolderOut<B> = HolderOut(B())\n",
    "val holderA: HolderOut<A> = HolderOut(null)\n",
    "holderA.steal(holderB) // OK"
   ],
   "metadata": {
    "collapsed": false,
    "is_executing": true
   },
   "execution_count": null
  },
  {
   "cell_type": "markdown",
   "source": [
    "<font size=\"5\">Type projection: `other` is a restricted (projected) generic. You can only call methods that **return** the type parameter `T`, which in\n",
    "this case means that you can only call `pop()`.</font>\n",
    "\n",
    "<font size=\"5\">This is covariance:</font>\n",
    "\n",
    "<font size=\"5\">`Nothing <: C <: B <: A <: Any`</font>\n",
    "<font size=\"5\">`HolderIn<Nothing> <: HolderIn<C> <: HolderIn<B> <: HolderIn<A> <: HolderIn<Any>`</font>"
   ],
   "metadata": {
    "collapsed": false
   }
  },
  {
   "cell_type": "markdown",
   "source": [
    "---\n",
    "\n",
    "# Type projections"
   ],
   "metadata": {
    "collapsed": false
   }
  },
  {
   "cell_type": "code",
   "outputs": [],
   "source": [
    "class HolderFinalDemo<T> (var value: T?) {\n",
    "   fun pop(): T? = value.also { value = null }\n",
    "   fun push(newValue: T?): T? = value.also { value = newValue }\n",
    "    \n",
    "    \n",
    "   fun steal(other: HolderFinalDemo<out T>) {\n",
    "      val oldValue = push(other.pop())\n",
    "      other.push(oldValue) // ERROR: Type mismatch. Required: Nothing?. Found: T?.\n",
    "   }\n",
    "   fun gift(other: HolderFinalDemo<in T>) {\n",
    "      val otherValue = other.push(pop())\n",
    "      push(otherValue) // ERROR: Type mismatch. Required: T?. Found: Any?.\n",
    "   }\n",
    "}"
   ],
   "metadata": {
    "collapsed": false,
    "is_executing": true
   },
   "execution_count": null
  },
  {
   "cell_type": "markdown",
   "source": [
    "<font size=\"5\">`out T` returns something that can be cast to `T` and accepts literally `Nothing`.</font>\n",
    "\n",
    "<font size=\"5\">`in T` accepts something that can be cast to `T` and returns a meaningless `Any?`.</font>"
   ],
   "metadata": {
    "collapsed": false
   }
  },
  {
   "cell_type": "markdown",
   "source": [
    "---\n",
    "\n",
    "# Type erasure\n",
    "\n",
    "<font size=\"5\">At runtime, the instances of generic types do not hold any information about their actual type arguments. The type information is said to be erased. The same byte-code is used in all usages of the generic as opposed to C++, where each template is compiled separately for each type parameter provided.</font>\n",
    "\n",
    "<font size=\"5\">- Any `MutableMap<K, V>` becomes `MutableMap<*, *>` in the runtime. (Actually, in the **Kotlin/JVM** runtime we have just `java.util.Map` to preserve compatibility with Java.)</font>\n",
    "<font size=\"5\">- Any `Pilot<T : Movable>` becomes `Pilot<Movable>`.</font>"
   ],
   "metadata": {
    "collapsed": false
   }
  },
  {
   "cell_type": "markdown",
   "source": [
    "<font size=\"5\">As a corollary, you cannot override a function (in **Kotlin/JVM**) by changing generic type parameters:</font>"
   ],
   "metadata": {
    "collapsed": false
   }
  },
  {
   "cell_type": "code",
   "outputs": [],
   "source": [
    "fun quickSort(collection: Collection<Int>) {  }\n",
    "fun quickSort(collection: Collection<Double>) {  }"
   ],
   "metadata": {
    "collapsed": false,
    "is_executing": true
   },
   "execution_count": null
  },
  {
   "cell_type": "markdown",
   "source": [
    "<font size=\"5\">Both become `quickSort(collection: Collection<*>)` and their signatures clash.</font>\n",
    "\n",
    "<font size=\"5\">But you can use the `JvmName` annotation:</font>"
   ],
   "metadata": {
    "collapsed": false
   }
  },
  {
   "cell_type": "code",
   "outputs": [],
   "source": [
    "@JvmName(\"quickSortInt\")\n",
    "fun quickSort(collection: Collection<Int>) {  } \n",
    "fun quickSort(collection: Collection<Double>) {  }"
   ],
   "metadata": {
    "collapsed": false,
    "is_executing": true
   },
   "execution_count": null
  },
  {
   "cell_type": "markdown",
   "source": [
    "---\n",
    "\n",
    "# Nullability in generics\n",
    "\n",
    "<font size=\"5\">Contrary to common sense, in Kotlin a type parameter specified as `T` can be nullable.</font>"
   ],
   "metadata": {
    "collapsed": false
   }
  },
  {
   "cell_type": "code",
   "outputs": [],
   "source": [
    "class HolderNullability<T>(val value: T) {  } // Notice there is no `?`\n",
    "val holderA: HolderNullability<A?> = HolderNullability(null) // T = A? and that is OK"
   ],
   "metadata": {
    "collapsed": false,
    "is_executing": true
   },
   "execution_count": null
  },
  {
   "cell_type": "markdown",
   "source": [
    "<font size=\"5\">To prohibit such behavior, you can use a non-nullable `Any` as a constraint.</font>"
   ],
   "metadata": {
    "collapsed": false
   }
  },
  {
   "cell_type": "code",
   "outputs": [],
   "source": [
    "class HolderNotNull<T : Any>(val value: T) {  }\n",
    "val holderA: HolderNotNull<A?> = HolderNotNull(null) // ERROR: Type argument is not within its bounds. Expected: Any. Found: A?."
   ],
   "metadata": {
    "collapsed": false,
    "is_executing": true
   },
   "execution_count": null
  },
  {
   "cell_type": "markdown",
   "source": [
    "<font size=\"5\">You may also find intersection helpful:</font>"
   ],
   "metadata": {
    "collapsed": false
   }
  },
  {
   "cell_type": "code",
   "outputs": [],
   "source": [
    "fun <T> elvisLike(x: T, y: T & Any): T & Any = x ?: y // T & Any is populated with all values from T besides null"
   ],
   "metadata": {
    "collapsed": false,
    "is_executing": true
   },
   "execution_count": null
  },
  {
   "cell_type": "markdown",
   "source": [
    "---\n",
    "\n",
    "# Inline functions"
   ],
   "metadata": {
    "collapsed": false
   }
  },
  {
   "cell_type": "markdown",
   "source": [
    "<font size=\"5\">If they are used as first-class objects, functions are stored as objects, thus requiring memory allocations, which introduce runtime overhead.</font>"
   ],
   "metadata": {
    "collapsed": false
   }
  },
  {
   "cell_type": "code",
   "outputs": [],
   "source": [
    "fun foo(str: String, call: (String) -> Unit) {\n",
    "     call(str)\n",
    "}"
   ],
   "metadata": {
    "collapsed": false,
    "is_executing": true
   },
   "execution_count": null
  },
  {
   "cell_type": "code",
   "outputs": [],
   "source": [
    "foo(\"Top level function with lambda example\") { print(it) }"
   ],
   "metadata": {
    "collapsed": false,
    "is_executing": true
   },
   "execution_count": null
  },
  {
   "cell_type": "markdown",
   "source": [
    "<img alt=\"Cover\" src=\"./images/4.png\" width=\"3000\" />"
   ],
   "metadata": {
    "collapsed": false
   }
  },
  {
   "cell_type": "markdown",
   "source": [
    "<img alt=\"Cover\" src=\"./images/5.png\" width=\"3000\" />"
   ],
   "metadata": {
    "collapsed": false
   }
  },
  {
   "cell_type": "markdown",
   "source": [
    "<img alt=\"Cover\" src=\"./images/6.png\" width=\"3000\" />"
   ],
   "metadata": {
    "collapsed": false
   }
  },
  {
   "cell_type": "markdown",
   "source": [
    "<font size=\"5\">`inline` affects not only the function itself, but also all the lambdas passed as arguments.\n",
    "If you do not want some of the lambdas passed to an `inline` function to be inlined (_for example, inlining large functions is not recommended_), you can mark some of the function parameters with the `noinline` modifier.</font>"
   ],
   "metadata": {
    "collapsed": false
   }
  },
  {
   "cell_type": "code",
   "outputs": [],
   "source": [
    "inline fun fooNoInlineArg(str: String, call1: (String) -> Unit, noinline call2: (String) -> Unit) { \n",
    "    call1(str) // Will be inlined\n",
    "    call2(str) // Will not be inlined\n",
    "}"
   ],
   "metadata": {
    "collapsed": false,
    "is_executing": true
   },
   "execution_count": null
  },
  {
   "cell_type": "markdown",
   "source": [
    "<font size=\"5\">You can use `return` in inlined lambdas, this is called _non-local return_, which can lead to unexpected behaviour:</font>"
   ],
   "metadata": {
    "collapsed": false
   }
  },
  {
   "cell_type": "code",
   "outputs": [],
   "source": [
    "inline fun fooNonLocalReturn(call1: () -> Unit, call2: () -> Unit) {\n",
    "    call1()\n",
    "    call2() \n",
    "}"
   ],
   "metadata": {
    "collapsed": false,
    "ExecuteTime": {
     "end_time": "2024-02-26T18:27:08.369384Z",
     "start_time": "2024-02-26T18:27:08.094175Z"
    }
   },
   "execution_count": 8
  },
  {
   "cell_type": "code",
   "outputs": [
    {
     "name": "stdout",
     "output_type": "stream",
     "text": [
      "Step#1\n",
      "Step#2\n"
     ]
    }
   ],
   "source": [
    "fun main() {\n",
    "    println(\"Step#1\")\n",
    "    fooNonLocalReturn({\n",
    "        println(\"Step#2\")\n",
    "        return\n",
    "    }, { println(\"Step#3\") })\n",
    "    println(\"Step#4\")\n",
    "}\n",
    "\n",
    "main()"
   ],
   "metadata": {
    "collapsed": false,
    "ExecuteTime": {
     "end_time": "2024-02-26T18:27:37.395292Z",
     "start_time": "2024-02-26T18:27:36.922748Z"
    }
   },
   "execution_count": 10
  },
  {
   "cell_type": "markdown",
   "source": [
    "<font size=\"5\">To prohibit returning from the lambda expression we can mark the lambda as `crossinline`:</font>"
   ],
   "metadata": {
    "collapsed": false
   }
  },
  {
   "cell_type": "code",
   "outputs": [],
   "source": [
    "inline fun crossInlineFoo(crossinline call1: () -> Unit, call2: () -> Unit) {\n",
    "    call1()\n",
    "    call2() \n",
    "}"
   ],
   "metadata": {
    "collapsed": false,
    "is_executing": true
   },
   "execution_count": null
  },
  {
   "cell_type": "code",
   "outputs": [],
   "source": [
    "println(\"Step#1\")\n",
    "crossInlineFoo({\n",
    "    println(\"Step#2\")\n",
    "     return\n",
    "}, // ERROR: 'return' is not allowed here\n",
    "    { println(\"Step#3\") })\n",
    "println(\"Step#4\")"
   ],
   "metadata": {
    "collapsed": false,
    "is_executing": true
   },
   "execution_count": null
  },
  {
   "cell_type": "code",
   "outputs": [],
   "source": [
    "// BUT it works\n",
    "\n",
    "println(\"Step#1\")\n",
    "crossInlineFoo({\n",
    "    println(\"Step#2\")\n",
    "     return@crossInlineFoo\n",
    "}, // ERROR: 'return' is not allowed here\n",
    "    { println(\"Step#3\") })\n",
    "println(\"Step#4\")"
   ],
   "metadata": {
    "collapsed": false,
    "is_executing": true
   },
   "execution_count": null
  },
  {
   "cell_type": "markdown",
   "source": [
    "<font size=\"5\">`crossinline` is especially useful when the lambda from an `inline` function is being called from another context, for example, if it is used to instantiate a `Runnable`:</font>"
   ],
   "metadata": {
    "collapsed": false
   }
  },
  {
   "cell_type": "code",
   "outputs": [],
   "source": [
    "import kotlin.concurrent.thread\n",
    "\n",
    "inline fun drive(crossinline specialCall: (String) -> Unit, call: (String) -> Unit) { \n",
    "    val nightCall = Runnable { specialCall(\"There's something inside you\") }\n",
    "    call(\"I'm giving you a nightcall to tell you how I feel\")\n",
    "    thread { nightCall.run() }\n",
    "    call(\"I'm gonna drive you through the night, down the hills\")\n",
    "}"
   ],
   "metadata": {
    "collapsed": false,
    "ExecuteTime": {
     "end_time": "2024-02-26T18:23:56.464365Z",
     "start_time": "2024-02-26T18:23:55.532902Z"
    }
   },
   "execution_count": 1
  },
  {
   "cell_type": "code",
   "outputs": [
    {
     "name": "stderr",
     "output_type": "stream",
     "text": [
      "Backend Internal error: Exception during IR lowering\n",
      "File being compiled: Line_2.jupyter.kts\n",
      "The root cause java.lang.RuntimeException was thrown at: org.jetbrains.kotlin.backend.jvm.codegen.FunctionCodegen.generate(FunctionCodegen.kt:51)"
     ]
    }
   ],
   "source": [
    "// Switch to Crossinline2.kt (an Notebook bug)\n",
    "\n",
    "drive({ System.err.println(it) }) { println(it) }"
   ],
   "metadata": {
    "collapsed": false,
    "ExecuteTime": {
     "end_time": "2024-02-26T18:23:59.346876Z",
     "start_time": "2024-02-26T18:23:58.066586Z"
    }
   },
   "execution_count": 2
  },
  {
   "cell_type": "markdown",
   "source": [
    "---\n",
    "\n",
    "# Inline reified functions\n",
    "\n",
    "<font size=\"5\">Sometimes you need to access a type passed as a parameter:</font>"
   ],
   "metadata": {
    "collapsed": false
   }
  },
  {
   "cell_type": "code",
   "outputs": [
    {
     "name": "stderr",
     "output_type": "stream",
     "text": [
      "Line_6.jupyter.kts (3:9 - 15) 'Animal' is a final type, and thus a value of the type parameter is predetermined\n",
      "Line_6.jupyter.kts (4:13 - 21) Cannot use 'T' as reified type parameter. Use a class instead."
     ]
    }
   ],
   "source": [
    "import org.jetbrains.kotlin.public.course.generics.Animal\n",
    "\n",
    "fun <T: Animal> fooInlineError() {\n",
    "    println(T::class) // ERROR: Cannot use 'T' as reified type parameter. Use a class instead---> add a param: t: KClass<T>\n",
    "}\n"
   ],
   "metadata": {
    "collapsed": false,
    "ExecuteTime": {
     "end_time": "2024-02-26T18:25:14.519827Z",
     "start_time": "2024-02-26T18:25:14.423382Z"
    }
   },
   "execution_count": 6
  },
  {
   "cell_type": "markdown",
   "source": [
    "<font size=\"5\">You can use the `reified` keyword with `inline` functions:</font>"
   ],
   "metadata": {
    "collapsed": false
   }
  },
  {
   "cell_type": "code",
   "outputs": [],
   "source": [
    "import org.jetbrains.kotlin.public.course.generics.Animal\n",
    "\n",
    "inline fun <reified T: Animal> fooInlineOk() {\n",
    "    println(T::class) // OK \n",
    "}"
   ],
   "metadata": {
    "collapsed": false,
    "ExecuteTime": {
     "end_time": "2024-02-26T18:28:11.724342Z",
     "start_time": "2024-02-26T18:28:11.533641Z"
    }
   },
   "execution_count": 11
  },
  {
   "cell_type": "code",
   "outputs": [
    {
     "name": "stdout",
     "output_type": "stream",
     "text": [
      "class org.jetbrains.kotlin.public.course.generics.Animal\n"
     ]
    }
   ],
   "source": [
    "fooInlineOk<Animal>()"
   ],
   "metadata": {
    "collapsed": false,
    "ExecuteTime": {
     "end_time": "2024-02-26T18:28:24.883273Z",
     "start_time": "2024-02-26T18:28:24.685019Z"
    }
   },
   "execution_count": 12
  },
  {
   "cell_type": "markdown",
   "source": [
    "<font size=\"5\">Note that the compiler has to be able to know the actual type passed as a type argument so that it can modify the generated bytecode to use the corresponding class directly.</font>"
   ],
   "metadata": {
    "collapsed": false
   }
  },
  {
   "cell_type": "code",
   "outputs": [],
   "source": [],
   "metadata": {
    "collapsed": false
   }
  }
 ],
 "metadata": {
  "kernelspec": {
   "display_name": "Kotlin",
   "language": "kotlin",
   "name": "kotlin"
  },
  "language_info": {
   "name": "kotlin",
   "version": "1.9.0",
   "mimetype": "text/x-kotlin",
   "file_extension": ".kt",
   "pygments_lexer": "kotlin",
   "codemirror_mode": "text/x-kotlin",
   "nbconvert_exporter": ""
  },
  "ktnbPluginMetadata": {
   "projectDependencies": [
    "kotlin-course-notebooks.main",
    "kotlin-course-notebooks.test"
   ]
  }
 },
 "nbformat": 4,
 "nbformat_minor": 0
}
