{
 "cells": [
  {
   "cell_type": "markdown",
   "source": [
    "<img alt=\"Cover\" src=\"./images/1.cover.png\" width=\"2000\" />\n",
    "\n",
    "---"
   ],
   "metadata": {
    "collapsed": false
   }
  },
  {
   "cell_type": "markdown",
   "source": [
    "# What is it?\n",
    "\n",
    "<font size=\"5\">We are already familiar with object-oriented programming (OOP), but Kotlin also borrows concepts from functional programming (FP). FP is a programming paradigm where programs are constructed by **applying** and **composing functions**.</font>\n",
    "\n",
    "<img alt=\"Cover\" src=\"./images/2.png\" width=\"2000\" />\n",
    "\n",
    "---"
   ],
   "metadata": {
    "collapsed": false
   }
  },
  {
   "cell_type": "markdown",
   "source": [
    "# Our approach\n",
    "\n",
    "<font size=\"5\">**Disclaimer:** There won’t be any deep math or Haskell examples in this lecture. We will look at what we consider to be the most important FP features that can be used in Kotlin</font>"
   ],
   "metadata": {
    "collapsed": false
   }
  },
  {
   "cell_type": "markdown",
   "source": [
    "---\n",
    "\n",
    "# We already know that...\n",
    "\n",
    "<font size=\"5\">- In Kotlin you can pass functions as the arguments of other functions:</font>"
   ],
   "metadata": {
    "collapsed": false
   }
  },
  {
   "cell_type": "code",
   "outputs": [],
   "source": [
    "fun foo(bar: () -> Unit): Unit {  }"
   ],
   "metadata": {
    "collapsed": false,
    "ExecuteTime": {
     "end_time": "2024-03-08T17:48:16.429809Z",
     "start_time": "2024-03-08T17:48:16.105193Z"
    }
   },
   "execution_count": 15
  },
  {
   "cell_type": "markdown",
   "source": [
    "<font size=\"5\">- If a function’s last argument is a function, then it can be put outside the parentheses:</font>"
   ],
   "metadata": {
    "collapsed": false
   }
  },
  {
   "cell_type": "code",
   "outputs": [
    {
     "name": "stdout",
     "output_type": "stream",
     "text": [
      "Magnificent!\n"
     ]
    }
   ],
   "source": [
    "fun baz(start: Int, end: Int, step: (Int) -> Unit): Unit { step(start) }\n",
    "baz(23, 42) { println(\"Magnificent!\") }"
   ],
   "metadata": {
    "collapsed": false,
    "ExecuteTime": {
     "end_time": "2024-03-08T17:48:16.673337Z",
     "start_time": "2024-03-08T17:48:16.378313Z"
    }
   },
   "execution_count": 16
  },
  {
   "cell_type": "markdown",
   "source": [
    "<font size=\"5\">- If a function’s only argument is a function, then parentheses can be omitted altogether:</font>"
   ],
   "metadata": {
    "collapsed": false
   }
  },
  {
   "cell_type": "code",
   "outputs": [],
   "source": [
    "foo { println(\"Kotlin keeps on giving!\") }"
   ],
   "metadata": {
    "collapsed": false,
    "ExecuteTime": {
     "end_time": "2024-03-08T17:48:16.811578Z",
     "start_time": "2024-03-08T17:48:16.673038Z"
    }
   },
   "execution_count": 17
  },
  {
   "cell_type": "markdown",
   "source": [
    "<font size=\"5\">- Lambdas can be assigned to `val`s and reassigned in `var`s:</font>"
   ],
   "metadata": {
    "collapsed": false
   }
  },
  {
   "cell_type": "code",
   "outputs": [],
   "source": [
    "var lambda1: (Int) -> Double = { r -> r * 6.28 }\n",
    "val lambda2 = { d: Int -> 3.14 * d.toDouble().pow(2) }\n",
    "lambda1 = lambda2"
   ],
   "metadata": {
    "collapsed": false,
    "ExecuteTime": {
     "end_time": "2024-03-08T17:48:17.067696Z",
     "start_time": "2024-03-08T17:48:16.800460Z"
    }
   },
   "execution_count": 18
  },
  {
   "cell_type": "markdown",
   "source": [
    "<font size=\"5\">- Lambda expressions can be replaced with function syntax:</font>"
   ],
   "metadata": {
    "collapsed": false
   }
  },
  {
   "cell_type": "code",
   "outputs": [],
   "source": [
    "val sum = fun(a: Int, b: Int): Int = a + b\n",
    "val sum2 = { a:Int, b: Int -> a + b }"
   ],
   "metadata": {
    "collapsed": false,
    "ExecuteTime": {
     "end_time": "2024-03-08T17:48:17.264152Z",
     "start_time": "2024-03-08T17:48:17.053363Z"
    }
   },
   "execution_count": 19
  },
  {
   "cell_type": "markdown",
   "source": [
    "<font size=\"5\">- Declaring functions inside functions is allowed:</font>"
   ],
   "metadata": {
    "collapsed": false
   }
  },
  {
   "cell_type": "code",
   "outputs": [
    {
     "name": "stdout",
     "output_type": "stream",
     "text": [
      "Hello from local!\n"
     ]
    }
   ],
   "source": [
    "fun global() {\n",
    "    fun local() { println(\"Hello from local!\") }\n",
    "    \n",
    "    local()\n",
    "}\n",
    "global()"
   ],
   "metadata": {
    "collapsed": false,
    "ExecuteTime": {
     "end_time": "2024-03-08T17:48:17.445437Z",
     "start_time": "2024-03-08T17:48:17.229887Z"
    }
   },
   "execution_count": 20
  },
  {
   "cell_type": "markdown",
   "source": [
    "---\n",
    "\n",
    "# Higher order functions (HOFs)\n",
    "\n",
    "<font size=\"5\">Functions that take other functions as **arguments** are called higher order functions.</font>\n",
    "\n",
    "<font size=\"5\">In Kotlin you frequently encounter them when working with collections:</font>"
   ],
   "metadata": {
    "collapsed": false
   }
  },
  {
   "cell_type": "code",
   "outputs": [
    {
     "data": {
      "text/plain": "([2], [1, 3])"
     },
     "execution_count": 21,
     "metadata": {},
     "output_type": "execute_result"
    }
   ],
   "source": [
    "listOf(1, 2, 3).partition { it % 2 == 0 }\n",
    "// OR\n",
    "listOf(1, 2, 3).partition { x -> x % 2 == 0 }"
   ],
   "metadata": {
    "collapsed": false,
    "ExecuteTime": {
     "end_time": "2024-03-08T17:48:17.983610Z",
     "start_time": "2024-03-08T17:48:17.431342Z"
    }
   },
   "execution_count": 21
  },
  {
   "cell_type": "markdown",
   "source": [
    "<font size=\"5\">Everything Kotlin allows you do with functions, which means that “functions in Kotlin are first-class citizens.”</font>"
   ],
   "metadata": {
    "collapsed": false
   }
  },
  {
   "cell_type": "markdown",
   "source": [
    "<font size=\"5\">In functional programming, functions are designed to be pure. In simple terms, this means they cannot have a state. Loops have an iterator index, which is a state, so say goodbye to _conventional_ loops.</font>"
   ],
   "metadata": {
    "collapsed": false
   }
  },
  {
   "cell_type": "code",
   "outputs": [],
   "source": [
    "// This is a LISP program transcribed to Kotlin; nobody actually writes like this\n",
    "\n",
    "fun sumIter(term: (Double) -> Double, a: Double, next: (Double) -> Double, b: Double): Double {\n",
    "   fun iter(a: Double, acc: Double): Double = if (a > b) acc else iter(next(a), acc + term(a))\n",
    "   return iter(a, 0.0)\n",
    "}\n",
    "\n",
    "fun integral(f: (Double) -> Double, a: Double, b: Double, dx: Double): Double {\n",
    "   fun addDx(x: Double) = x + dx\n",
    "   return dx * sumIter(f, (a + (dx / 2.0)), ::addDx, b)\n",
    "}"
   ],
   "metadata": {
    "collapsed": false,
    "ExecuteTime": {
     "end_time": "2024-03-08T17:48:18.824202Z",
     "start_time": "2024-03-08T17:48:17.975752Z"
    }
   },
   "execution_count": 22
  },
  {
   "cell_type": "markdown",
   "source": [
    "<font size=\"5\">Often in the context of FP it is necessary to operate with the following functions: `map`, `filter`, and `fold`.</font>"
   ],
   "metadata": {
    "collapsed": false
   }
  },
  {
   "cell_type": "markdown",
   "source": [
    "<font size=\"5\">`map` allows us to perform a function over _each_ element in a collection:</font>"
   ],
   "metadata": {
    "collapsed": false
   }
  },
  {
   "cell_type": "code",
   "outputs": [
    {
     "name": "stdout",
     "output_type": "stream",
     "text": [
      "[1, 4, 9]\n"
     ]
    }
   ],
   "source": [
    "val list = listOf(1, 2, 3)\n",
    "println(list.map { it * it }) // [1, 4, 9]"
   ],
   "metadata": {
    "collapsed": false,
    "ExecuteTime": {
     "end_time": "2024-03-08T17:48:19.324066Z",
     "start_time": "2024-03-08T17:48:18.839279Z"
    }
   },
   "execution_count": 23
  },
  {
   "cell_type": "markdown",
   "source": [
    "<font size=\"5\">*!!* What is the main difference between `map` and `forEach`?</font>"
   ],
   "metadata": {
    "collapsed": false
   }
  },
  {
   "cell_type": "markdown",
   "source": [
    "<font size=\"5\">You can compose the functions to perform both operations:</font>"
   ],
   "metadata": {
    "collapsed": false
   }
  },
  {
   "cell_type": "code",
   "outputs": [
    {
     "name": "stdout",
     "output_type": "stream",
     "text": [
      "[2, 5, 10]\n"
     ]
    }
   ],
   "source": [
    "val l = listOf(1, 2, 3)\n",
    "println(l.map { it * it }.map { it + 1 }) // [2, 5, 10]"
   ],
   "metadata": {
    "collapsed": false,
    "ExecuteTime": {
     "end_time": "2024-03-08T17:48:19.586249Z",
     "start_time": "2024-03-08T17:48:19.299363Z"
    }
   },
   "execution_count": 24
  },
  {
   "cell_type": "code",
   "outputs": [
    {
     "name": "stdout",
     "output_type": "stream",
     "text": [
      "[2, 5, 10]\n"
     ]
    }
   ],
   "source": [
    "// Same with\n",
    "println(l.map { it * it + 1 }) // [2, 5, 10]"
   ],
   "metadata": {
    "collapsed": false,
    "ExecuteTime": {
     "end_time": "2024-03-08T17:48:19.796873Z",
     "start_time": "2024-03-08T17:48:19.590402Z"
    }
   },
   "execution_count": 25
  },
  {
   "cell_type": "markdown",
   "source": [
    "<img alt=\"Cover\" src=\"./images/3.png\" width=\"2000\" />\n",
    "\n",
    "<font size=\"5\">**NB**: to compose complex functions by default you can use sequences, but be careful.</font>"
   ],
   "metadata": {
    "collapsed": false
   }
  },
  {
   "cell_type": "markdown",
   "source": [
    "<font size=\"5\">`filter` returns a list containing only elements that match a given predicate:</font>"
   ],
   "metadata": {
    "collapsed": false
   }
  },
  {
   "cell_type": "code",
   "outputs": [
    {
     "name": "stdout",
     "output_type": "stream",
     "text": [
      "[2]\n"
     ]
    }
   ],
   "source": [
    "val l = listOf(1, 2, 3)\n",
    "println(l.filter { it % 2 == 0 }) // [2]"
   ],
   "metadata": {
    "collapsed": false,
    "ExecuteTime": {
     "end_time": "2024-03-08T17:48:20.009875Z",
     "start_time": "2024-03-08T17:48:19.799627Z"
    }
   },
   "execution_count": 26
  },
  {
   "cell_type": "markdown",
   "source": [
    "<font size=\"5\">Our third important function, `fold`, creates a mutable accumulator, which is updated on each round of the for and returns one value:</font>"
   ],
   "metadata": {
    "collapsed": false
   }
  },
  {
   "cell_type": "code",
   "outputs": [
    {
     "name": "stdout",
     "output_type": "stream",
     "text": [
      "6\n"
     ]
    }
   ],
   "source": [
    "val l = listOf(1, 2, 3)\n",
    "println(l.fold(0) { acc, x -> acc + x }) // 6"
   ],
   "metadata": {
    "collapsed": false,
    "ExecuteTime": {
     "end_time": "2024-03-08T17:48:20.255256Z",
     "start_time": "2024-03-08T17:48:20.007519Z"
    }
   },
   "execution_count": 27
  },
  {
   "cell_type": "markdown",
   "source": [
    "<font size=\"5\">You can implement the `fold` function for any type, for example, you can fold a tree into a string representation.</font>"
   ],
   "metadata": {
    "collapsed": false
   }
  },
  {
   "cell_type": "markdown",
   "source": [],
   "metadata": {
    "collapsed": false
   }
  },
  {
   "cell_type": "markdown",
   "source": [
    "<font size=\"5\">There are also `right` and `left` folds. They are equivalent if the operation is associative: `(a ○ b) ○ c = a ○ (b ○ c)`, but in any other case they yield different results.</font>"
   ],
   "metadata": {
    "collapsed": false
   }
  },
  {
   "cell_type": "code",
   "outputs": [
    {
     "name": "stdout",
     "output_type": "stream",
     "text": [
      "6\n",
      "6\n"
     ]
    }
   ],
   "source": [
    "val list = listOf(1, 2, 3)\n",
    "println(list.fold(0) { acc, x -> acc + x }) // (((0 + 1) + 2) + 3) = 6 \n",
    "println(list.foldRight(0) { x, acc -> acc + x }) // (1 + (2 + (3 + 0))) = 6"
   ],
   "metadata": {
    "collapsed": false,
    "ExecuteTime": {
     "end_time": "2024-03-08T17:49:25.391868Z",
     "start_time": "2024-03-08T17:49:24.526225Z"
    }
   },
   "execution_count": 28
  },
  {
   "cell_type": "code",
   "outputs": [
    {
     "name": "stdout",
     "output_type": "stream",
     "text": [
      "PPWPPWNPPWPPWND\n",
      "DDNDDNWDDNDDNWP\n"
     ]
    }
   ],
   "source": [
    "println(\"PWND\".fold(\"\") { acc, x -> \"${acc}${acc}$x\" }) // PPWPPWNPPWPPWND \n",
    "println(\"PWND\".foldRight(\"\") { x, acc -> \"${acc}${acc}$x\" })  // DDNDDNWDDNDDNWP"
   ],
   "metadata": {
    "collapsed": false,
    "ExecuteTime": {
     "end_time": "2024-03-08T17:50:37.205065Z",
     "start_time": "2024-03-08T17:50:36.954963Z"
    }
   },
   "execution_count": 30
  },
  {
   "cell_type": "markdown",
   "source": [
    "<font size=\"5\">Make sure to: be careful with the order of your lambdas’ arguments:</font>"
   ],
   "metadata": {
    "collapsed": false
   }
  },
  {
   "cell_type": "code",
   "outputs": [
    {
     "name": "stdout",
     "output_type": "stream",
     "text": [
      "-6\n"
     ]
    }
   ],
   "source": [
    "println(list.fold(0) { acc, x -> acc - x }) // (((0 - 1) - 2) - 3) = -6"
   ],
   "metadata": {
    "collapsed": false,
    "ExecuteTime": {
     "end_time": "2024-03-08T17:52:09.622489Z",
     "start_time": "2024-03-08T17:52:08.953220Z"
    }
   },
   "execution_count": 31
  },
  {
   "cell_type": "code",
   "outputs": [
    {
     "name": "stdout",
     "output_type": "stream",
     "text": [
      "-6\n"
     ]
    }
   ],
   "source": [
    "println(list.foldRight(0) { x, acc -> acc - x }) // (-1 + (-2 + (0 - 3))) = -6"
   ],
   "metadata": {
    "collapsed": false,
    "ExecuteTime": {
     "end_time": "2024-03-08T17:52:23.998090Z",
     "start_time": "2024-03-08T17:52:23.617510Z"
    }
   },
   "execution_count": 32
  },
  {
   "cell_type": "code",
   "outputs": [
    {
     "name": "stdout",
     "output_type": "stream",
     "text": [
      "2\n"
     ]
    }
   ],
   "source": [
    "println(list.foldRight(0) { acc, x -> acc - x }) // INCORRECT, (1 - (2 - (3 - 0))) = 2"
   ],
   "metadata": {
    "collapsed": false,
    "ExecuteTime": {
     "end_time": "2024-03-08T17:52:59.418458Z",
     "start_time": "2024-03-08T17:52:58.817650Z"
    }
   },
   "execution_count": 33
  },
  {
   "cell_type": "markdown",
   "source": [
    "<font size=\"5\">Lambdas are not the only functions that can be passed as arguments to functions expecting other functions, as _references_ to already defined functions can be as well:</font>"
   ],
   "metadata": {
    "collapsed": false
   }
  },
  {
   "cell_type": "code",
   "outputs": [],
   "source": [
    "fun isEven(x: Int) = x % 2 == 0\n",
    "\n",
    "val isEvenLambda = { x: Int -> x % 2 == 0 }"
   ],
   "metadata": {
    "collapsed": false,
    "ExecuteTime": {
     "end_time": "2024-03-08T17:54:11.579325Z",
     "start_time": "2024-03-08T17:54:11.327378Z"
    }
   },
   "execution_count": 34
  },
  {
   "cell_type": "code",
   "outputs": [
    {
     "name": "stdout",
     "output_type": "stream",
     "text": [
      "([2], [1, 3])\n"
     ]
    }
   ],
   "source": [
    "// Same results, different calls:\n",
    "println(list.partition { it % 2 == 0 })"
   ],
   "metadata": {
    "collapsed": false,
    "ExecuteTime": {
     "end_time": "2024-03-08T17:54:26.422400Z",
     "start_time": "2024-03-08T17:54:26.231203Z"
    }
   },
   "execution_count": 35
  },
  {
   "cell_type": "code",
   "outputs": [
    {
     "name": "stdout",
     "output_type": "stream",
     "text": [
      "([2], [1, 3])\n"
     ]
    }
   ],
   "source": [
    "println(list.partition(::isEven)) // function reference"
   ],
   "metadata": {
    "collapsed": false,
    "ExecuteTime": {
     "end_time": "2024-03-08T17:54:43.173533Z",
     "start_time": "2024-03-08T17:54:42.430351Z"
    }
   },
   "execution_count": 36
  },
  {
   "cell_type": "code",
   "outputs": [
    {
     "name": "stdout",
     "output_type": "stream",
     "text": [
      "([2], [1, 3])\n"
     ]
    }
   ],
   "source": [
    "println(list.partition(isEvenLambda)) // pass lambda by name"
   ],
   "metadata": {
    "collapsed": false,
    "ExecuteTime": {
     "end_time": "2024-03-08T17:54:56.421604Z",
     "start_time": "2024-03-08T17:54:56.212422Z"
    }
   },
   "execution_count": 37
  },
  {
   "cell_type": "markdown",
   "source": [
    "---\n",
    "\n",
    "# Lazy computations\n",
    "\n",
    "<font size=\"5\">Consider the following code:</font>"
   ],
   "metadata": {
    "collapsed": false
   }
  },
  {
   "cell_type": "code",
   "outputs": [],
   "source": [
    "fun <F> withFunction(\n",
    "    number: Int, even: F, odd: F\n",
    "): F = when (number % 2) {\n",
    "    0 -> even\n",
    "    else -> odd\n",
    "}"
   ],
   "metadata": {
    "collapsed": false,
    "ExecuteTime": {
     "end_time": "2024-03-08T17:56:33.819454Z",
     "start_time": "2024-03-08T17:56:33.431061Z"
    }
   },
   "execution_count": 38
  },
  {
   "cell_type": "code",
   "outputs": [],
   "source": [
    "// withFunction(4, println(\"even\"), println(\"odd\"))"
   ],
   "metadata": {
    "collapsed": false,
    "ExecuteTime": {
     "end_time": "2024-03-08T17:57:24.606973Z",
     "start_time": "2024-03-08T17:57:24.499911Z"
    }
   },
   "execution_count": 40
  },
  {
   "cell_type": "markdown",
   "source": [
    "<font size=\"5\">What will be printed to the console?</font>"
   ],
   "metadata": {
    "collapsed": false
   }
  },
  {
   "cell_type": "markdown",
   "source": [
    "---\n",
    "\n",
    "# Deferred computations\n",
    "\n",
    "<font size=\"5\">Consider the following code:</font>"
   ],
   "metadata": {
    "collapsed": false
   }
  },
  {
   "cell_type": "code",
   "outputs": [],
   "source": [
    "fun <F> withLambda(\n",
    "    number: Int, even: () -> F, odd: () -> F\n",
    "): F = when (number % 2) {\n",
    "    0 -> even()\n",
    "    else -> odd()\n",
    "}"
   ],
   "metadata": {
    "collapsed": false,
    "ExecuteTime": {
     "end_time": "2024-03-08T17:58:48.432244Z",
     "start_time": "2024-03-08T17:58:47.830656Z"
    }
   },
   "execution_count": 41
  },
  {
   "cell_type": "code",
   "outputs": [],
   "source": [
    "// withLambda(4, { println(\"even\") }, { println(\"odd\") })"
   ],
   "metadata": {
    "collapsed": false,
    "ExecuteTime": {
     "end_time": "2024-03-08T17:59:03.937722Z",
     "start_time": "2024-03-08T17:59:03.823895Z"
    }
   },
   "execution_count": 43
  },
  {
   "cell_type": "markdown",
   "source": [
    "---\n",
    "\n",
    "# Operator overloading\n",
    "\n",
    "<font size=\"5\">Kotlin has extension functions that you can use to override operators, for example the `iterator`. That is, you do not need to create a new entity that inherits from the `Iterable` interface, as you would in OOP code.</font>"
   ],
   "metadata": {
    "collapsed": false
   }
  },
  {
   "cell_type": "code",
   "outputs": [],
   "source": [
    "class MyIterable<T> : Iterable<T> { // you need access to the sources of MyIterable\n",
    "    override fun iterator(): Iterator<T> {\n",
    "        TODO(\"Not yet implemented\")\n",
    "    }\n",
    "}"
   ],
   "metadata": {
    "collapsed": false,
    "ExecuteTime": {
     "end_time": "2024-03-08T18:00:12.769479Z",
     "start_time": "2024-03-08T18:00:11.999416Z"
    }
   },
   "execution_count": 44
  },
  {
   "cell_type": "code",
   "outputs": [],
   "source": [
    "// VS\n",
    "\n",
    "class A<T>\n",
    "operator fun <T> A<T>.iterator(): Iterator<T> = TODO(\"Not yet implemented\")"
   ],
   "metadata": {
    "collapsed": false,
    "ExecuteTime": {
     "end_time": "2024-03-08T18:01:20.877097Z",
     "start_time": "2024-03-08T18:01:20.662970Z"
    }
   },
   "execution_count": 48
  },
  {
   "cell_type": "code",
   "outputs": [],
   "source": [
    "// for (i in A<Int>()) {}"
   ],
   "metadata": {
    "collapsed": false,
    "ExecuteTime": {
     "end_time": "2024-03-08T18:01:26.161568Z",
     "start_time": "2024-03-08T18:01:26.070258Z"
    }
   },
   "execution_count": 49
  },
  {
   "cell_type": "markdown",
   "source": [
    "---\n",
    "\n",
    "# One last thing...\n",
    "\n",
    "<font size=\"5\">Is this code correct?</font>"
   ],
   "metadata": {
    "collapsed": false
   }
  },
  {
   "cell_type": "code",
   "outputs": [],
   "source": [
    "enum class Color {\n",
    "    WHITE,\n",
    "    AZURE,\n",
    "    HONEYDEW\n",
    "}"
   ],
   "metadata": {
    "collapsed": false,
    "ExecuteTime": {
     "end_time": "2024-03-08T18:02:07.578512Z",
     "start_time": "2024-03-08T18:02:06.654697Z"
    }
   },
   "execution_count": 50
  },
  {
   "cell_type": "code",
   "outputs": [],
   "source": [
    "//fun Color.getRGB() = when (this) {\n",
    "//   Color.WHITE -> \"#FFFFFF\"\n",
    "//   Color.AZURE -> \"#F0FFFF\"\n",
    "//   Color.HONEYDEW -> \"F0FFF0\"\n",
    "//}"
   ],
   "metadata": {
    "collapsed": false,
    "ExecuteTime": {
     "end_time": "2024-03-08T18:02:24.140229Z",
     "start_time": "2024-03-08T18:02:24.040122Z"
    }
   },
   "execution_count": 52
  },
  {
   "cell_type": "markdown",
   "source": [
    "<font size=\"5\">What is about this example?</font>"
   ],
   "metadata": {
    "collapsed": false
   }
  },
  {
   "cell_type": "code",
   "outputs": [],
   "source": [
    "sealed class Color\n",
    "\n",
    "class WhiteColor: Color()\n",
    "class AzureColor: Color()\n",
    "class HoneydewColor: Color()"
   ],
   "metadata": {
    "collapsed": false,
    "ExecuteTime": {
     "end_time": "2024-03-08T18:03:24.996313Z",
     "start_time": "2024-03-08T18:03:24.725749Z"
    }
   },
   "execution_count": 53
  },
  {
   "cell_type": "code",
   "outputs": [],
   "source": [
    "//fun Color.getRGB() = when (this) {\n",
    "//   is WhiteColor -> \"#FFFFFF\"\n",
    "//   is AzureColor -> \"#F0FFFF\"\n",
    "//   is HoneydewColor -> \"F0FFF0\"\n",
    "//}"
   ],
   "metadata": {
    "collapsed": false,
    "ExecuteTime": {
     "end_time": "2024-03-08T18:03:31.519529Z",
     "start_time": "2024-03-08T18:03:31.433233Z"
    }
   },
   "execution_count": 54
  },
  {
   "cell_type": "markdown",
   "source": [
    "<font size=\"5\">Consider the following code:</font>"
   ],
   "metadata": {
    "collapsed": false
   }
  },
  {
   "cell_type": "code",
   "outputs": [],
   "source": [
    "sealed class Color\n",
    "\n",
    "class WhiteColor(val name: String): Color()\n",
    "class AzureColor(val name: String): Color()\n",
    "class HoneydewColor(val name: String): Color()"
   ],
   "metadata": {
    "collapsed": false,
    "ExecuteTime": {
     "end_time": "2024-03-08T18:04:11.883883Z",
     "start_time": "2024-03-08T18:04:11.304666Z"
    }
   },
   "execution_count": 55
  },
  {
   "cell_type": "markdown",
   "source": [
    "<font size=\"5\">We have the common part in **all** classes and we know that these are the **only** possible subclasses. Let’s move this code into the base class.</font>"
   ],
   "metadata": {
    "collapsed": false
   }
  },
  {
   "cell_type": "code",
   "outputs": [],
   "source": [
    "sealed class NewColor(val name: String)\n",
    "\n",
    "class WhiteColor(name: String): NewColor(name)\n",
    "class AzureColor(name: String): NewColor(name)\n",
    "class HoneydewColor(name: String): NewColor(name)"
   ],
   "metadata": {
    "collapsed": false,
    "ExecuteTime": {
     "end_time": "2024-03-08T18:04:54.773618Z",
     "start_time": "2024-03-08T18:04:54.539498Z"
    }
   },
   "execution_count": 56
  },
  {
   "cell_type": "markdown",
   "source": [
    "<font size=\"5\">Actually, we have **equivalent** classes, i.e. _each_ function for the first version can be rewritten as the _second_ one.</font>"
   ],
   "metadata": {
    "collapsed": false
   }
  },
  {
   "cell_type": "markdown",
   "source": [
    "<img alt=\"Cover\" src=\"./images/4.png\" width=\"2000\" />\n",
    "\n",
    "<font size=\"5\">In the first function, we have smart casts, but in the second one we don't have them.</font>"
   ],
   "metadata": {
    "collapsed": false
   }
  },
  {
   "cell_type": "markdown",
   "source": [
    "<font size=\"5\">**Math time!** We can actually rewrite this in math terms:</font>\n",
    "\n",
    "<font size=\"5\">`WhiteColor * String + ... + HoneydewColor * String ≃ String * (WhiteColor + ... + HoneydewColor)`</font>\n",
    "\n",
    "<font size=\"5\">This is possible because we are actually operating with **algebraic data types** and can use their properties.</font>\n",
    "\n",
    "<font size=\"5\">This is not entirely true, but for most cases with sealed classes it works.</font>"
   ],
   "metadata": {
    "collapsed": false
   }
  },
  {
   "cell_type": "markdown",
   "source": [
    "---\n",
    "\n",
    "# Final thought\n",
    "\n",
    "<font size=\"5\">FP in Kotlin does not kill OOP. Each of the concepts brings its own advantages and disadvantages, and it is important to combine them in order to get concise, readable and understandable code!</font>\n",
    "\n",
    "<font size=\"5\">If you are interested in the topic of FP in Kotlin for a more detailed study, come here: https://arrow-kt.io/</font>\n"
   ],
   "metadata": {
    "collapsed": false
   }
  },
  {
   "cell_type": "markdown",
   "source": [
    "<img alt=\"Cover\" src=\"./images/5.png\" width=\"2000\" />"
   ],
   "metadata": {
    "collapsed": false
   }
  },
  {
   "cell_type": "code",
   "outputs": [],
   "source": [],
   "metadata": {
    "collapsed": false
   }
  }
 ],
 "metadata": {
  "kernelspec": {
   "display_name": "Kotlin",
   "language": "kotlin",
   "name": "kotlin"
  },
  "language_info": {
   "name": "kotlin",
   "version": "1.9.0",
   "mimetype": "text/x-kotlin",
   "file_extension": ".kt",
   "pygments_lexer": "kotlin",
   "codemirror_mode": "text/x-kotlin",
   "nbconvert_exporter": ""
  }
 },
 "nbformat": 4,
 "nbformat_minor": 0
}
