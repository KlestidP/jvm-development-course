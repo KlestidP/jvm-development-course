{
 "cells": [
  {
   "cell_type": "markdown",
   "source": [
    "<img alt=\"Cover\" src=\"./images/1.cover.png\" width=\"2000\" />\n",
    "\n",
    "---"
   ],
   "metadata": {
    "collapsed": false
   }
  },
  {
   "cell_type": "markdown",
   "source": [
    "# What is it?\n",
    "\n",
    "<font size=\"5\">We are already familiar with object-oriented programming (OOP), but Kotlin also borrows concepts from functional programming (FP). FP is a programming paradigm where programs are constructed by **applying** and **composing functions**.</font>\n",
    "\n",
    "<img alt=\"Cover\" src=\"./images/2.png\" width=\"2000\" />\n",
    "\n",
    "---"
   ],
   "metadata": {
    "collapsed": false
   }
  },
  {
   "cell_type": "markdown",
   "source": [
    "# Our approach\n",
    "\n",
    "<font size=\"5\">**Disclaimer:** There won’t be any deep math or Haskell examples in this lecture. We will look at what we consider to be the most important FP features that can be used in Kotlin</font>"
   ],
   "metadata": {
    "collapsed": false
   }
  },
  {
   "cell_type": "markdown",
   "source": [
    "---\n",
    "\n",
    "# We already know that...\n",
    "\n",
    "<font size=\"5\">- In Kotlin you can pass functions as the arguments of other functions:</font>"
   ],
   "metadata": {
    "collapsed": false
   }
  },
  {
   "cell_type": "code",
   "outputs": [],
   "source": [
    "fun foo(bar: () -> Unit): Unit {  }"
   ],
   "metadata": {
    "collapsed": false,
    "ExecuteTime": {
     "end_time": "2024-03-20T08:29:14.825437Z",
     "start_time": "2024-03-20T08:29:14.733065Z"
    }
   },
   "execution_count": 1
  },
  {
   "cell_type": "markdown",
   "source": [
    "<font size=\"5\">- If a function’s last argument is a function, then it can be put outside the parentheses:</font>"
   ],
   "metadata": {
    "collapsed": false
   }
  },
  {
   "cell_type": "code",
   "outputs": [
    {
     "name": "stdout",
     "output_type": "stream",
     "text": [
      "Magnificent!\n"
     ]
    }
   ],
   "source": [
    "fun baz(start: Int, end: Int, step: (Int) -> Unit): Unit { step(start) }\n",
    "baz(23, 42) { println(\"Magnificent!\") }"
   ],
   "metadata": {
    "collapsed": false,
    "ExecuteTime": {
     "end_time": "2024-03-20T08:30:12.831593Z",
     "start_time": "2024-03-20T08:30:12.651799Z"
    }
   },
   "execution_count": 2
  },
  {
   "cell_type": "markdown",
   "source": [
    "<font size=\"5\">- If a function’s only argument is a function, then parentheses can be omitted altogether:</font>"
   ],
   "metadata": {
    "collapsed": false
   }
  },
  {
   "cell_type": "code",
   "outputs": [],
   "source": [
    "foo { println(\"Kotlin keeps on giving!\") }"
   ],
   "metadata": {
    "collapsed": false,
    "ExecuteTime": {
     "end_time": "2024-03-20T08:30:46.367924Z",
     "start_time": "2024-03-20T08:30:46.278135Z"
    }
   },
   "execution_count": 3
  },
  {
   "cell_type": "markdown",
   "source": [
    "<font size=\"5\">- Lambdas can be assigned to `val`s and reassigned in `var`s:</font>"
   ],
   "metadata": {
    "collapsed": false
   }
  },
  {
   "cell_type": "code",
   "outputs": [],
   "source": [
    "var lambda1: (Int) -> Double = { r -> r * 6.28 }\n",
    "val lambda2 = { d: Int -> 3.14 * d.toDouble().pow(2) }\n",
    "lambda1 = lambda2"
   ],
   "metadata": {
    "collapsed": false,
    "ExecuteTime": {
     "end_time": "2024-03-20T08:31:34.449012Z",
     "start_time": "2024-03-20T08:31:34.295664Z"
    }
   },
   "execution_count": 4
  },
  {
   "cell_type": "markdown",
   "source": [
    "<font size=\"5\">- Lambda expressions can be replaced with function syntax:</font>"
   ],
   "metadata": {
    "collapsed": false
   }
  },
  {
   "cell_type": "code",
   "outputs": [],
   "source": [
    "val sum = fun(a: Int, b: Int): Int = a + b\n",
    "val sum2 = { a:Int, b: Int -> a + b }"
   ],
   "metadata": {
    "collapsed": false,
    "ExecuteTime": {
     "end_time": "2024-03-20T08:32:08.244132Z",
     "start_time": "2024-03-20T08:32:08.159022Z"
    }
   },
   "execution_count": 5
  },
  {
   "cell_type": "markdown",
   "source": [
    "<font size=\"5\">- Declaring functions inside functions is allowed:</font>"
   ],
   "metadata": {
    "collapsed": false
   }
  },
  {
   "cell_type": "code",
   "outputs": [
    {
     "name": "stdout",
     "output_type": "stream",
     "text": [
      "Hello from local!\n"
     ]
    }
   ],
   "source": [
    "fun global() {\n",
    "    fun local() { println(\"Hello from local!\") }\n",
    "    \n",
    "    local()\n",
    "}\n",
    "global()"
   ],
   "metadata": {
    "collapsed": false,
    "ExecuteTime": {
     "end_time": "2024-03-08T17:48:17.445437Z",
     "start_time": "2024-03-08T17:48:17.229887Z"
    }
   },
   "execution_count": 20
  },
  {
   "cell_type": "markdown",
   "source": [
    "---\n",
    "\n",
    "# Higher order functions (HOFs)\n",
    "\n",
    "<font size=\"5\">Functions that take other functions as **arguments** are called higher order functions.</font>\n",
    "\n",
    "<font size=\"5\">In Kotlin you frequently encounter them when working with collections:</font>"
   ],
   "metadata": {
    "collapsed": false
   }
  },
  {
   "cell_type": "code",
   "outputs": [
    {
     "data": {
      "text/plain": "([2], [1, 3])"
     },
     "execution_count": 21,
     "metadata": {},
     "output_type": "execute_result"
    }
   ],
   "source": [
    "listOf(1, 2, 3).partition { it % 2 == 0 }\n",
    "// OR\n",
    "listOf(1, 2, 3).partition { x -> x % 2 == 0 }"
   ],
   "metadata": {
    "collapsed": false,
    "ExecuteTime": {
     "end_time": "2024-03-08T17:48:17.983610Z",
     "start_time": "2024-03-08T17:48:17.431342Z"
    }
   },
   "execution_count": 21
  },
  {
   "cell_type": "markdown",
   "source": [
    "<font size=\"5\">Everything Kotlin allows you do with functions, which means that “functions in Kotlin are first-class citizens.”</font>"
   ],
   "metadata": {
    "collapsed": false
   }
  },
  {
   "cell_type": "markdown",
   "source": [
    "<font size=\"5\">In functional programming, functions are designed to be pure. In simple terms, this means they cannot have a state. Loops have an iterator index, which is a state, so say goodbye to _conventional_ loops.</font>"
   ],
   "metadata": {
    "collapsed": false
   }
  },
  {
   "cell_type": "code",
   "outputs": [],
   "source": [
    "// This is a LISP program transcribed to Kotlin; nobody actually writes like this\n",
    "\n",
    "fun sumIter(term: (Double) -> Double, a: Double, next: (Double) -> Double, b: Double): Double {\n",
    "   fun iter(a: Double, acc: Double): Double = if (a > b) acc else iter(next(a), acc + term(a))\n",
    "   return iter(a, 0.0)\n",
    "}\n",
    "\n",
    "fun integral(f: (Double) -> Double, a: Double, b: Double, dx: Double): Double {\n",
    "   fun addDx(x: Double) = x + dx\n",
    "   return dx * sumIter(f, (a + (dx / 2.0)), ::addDx, b)\n",
    "}"
   ],
   "metadata": {
    "collapsed": false,
    "ExecuteTime": {
     "end_time": "2024-03-08T17:48:18.824202Z",
     "start_time": "2024-03-08T17:48:17.975752Z"
    }
   },
   "execution_count": 22
  },
  {
   "cell_type": "markdown",
   "source": [
    "<font size=\"5\">Often in the context of FP it is necessary to operate with the following functions: `map`, `filter`, and `fold`.</font>"
   ],
   "metadata": {
    "collapsed": false
   }
  },
  {
   "cell_type": "markdown",
   "source": [
    "<font size=\"5\">`map` allows us to perform a function over _each_ element in a collection:</font>"
   ],
   "metadata": {
    "collapsed": false
   }
  },
  {
   "cell_type": "code",
   "outputs": [
    {
     "name": "stdout",
     "output_type": "stream",
     "text": [
      "kotlin.Unit\n",
      "[1, 4, 9]\n"
     ]
    }
   ],
   "source": [
    "val list = listOf(1, 2, 3)\n",
    "println(list.forEach { it * it })\n",
    "println(list.map { it * it }) // [1, 4, 9]"
   ],
   "metadata": {
    "collapsed": false,
    "ExecuteTime": {
     "end_time": "2024-03-20T08:40:20.353386Z",
     "start_time": "2024-03-20T08:40:20.249032Z"
    }
   },
   "execution_count": 7
  },
  {
   "cell_type": "markdown",
   "source": [
    "<font size=\"5\">*!!* What is the main difference between `map` and `forEach`?</font>"
   ],
   "metadata": {
    "collapsed": false
   }
  },
  {
   "cell_type": "markdown",
   "source": [
    "<font size=\"5\">You can compose the functions to perform both operations:</font>"
   ],
   "metadata": {
    "collapsed": false
   }
  },
  {
   "cell_type": "code",
   "outputs": [
    {
     "name": "stdout",
     "output_type": "stream",
     "text": [
      "[2, 5, 10]\n"
     ]
    }
   ],
   "source": [
    "val l = listOf(1, 2, 3)\n",
    "println(l.map { it * it }.map { it + 1 }) // [2, 5, 10]"
   ],
   "metadata": {
    "collapsed": false,
    "ExecuteTime": {
     "end_time": "2024-03-20T08:41:44.210580Z",
     "start_time": "2024-03-20T08:41:44.118698Z"
    }
   },
   "execution_count": 9
  },
  {
   "cell_type": "code",
   "outputs": [
    {
     "name": "stdout",
     "output_type": "stream",
     "text": [
      "[2, 5, 10]\n"
     ]
    }
   ],
   "source": [
    "// Same with\n",
    "println(l.map { it * it + 1 }) // [2, 5, 10]"
   ],
   "metadata": {
    "collapsed": false,
    "ExecuteTime": {
     "end_time": "2024-03-20T08:41:44.938128Z",
     "start_time": "2024-03-20T08:41:44.880128Z"
    }
   },
   "execution_count": 10
  },
  {
   "cell_type": "markdown",
   "source": [
    "<img alt=\"Cover\" src=\"./images/3.png\" width=\"2000\" />\n",
    "\n",
    "<font size=\"5\">**NB**: to compose complex functions by default you can use sequences, but be careful.</font>"
   ],
   "metadata": {
    "collapsed": false
   }
  },
  {
   "cell_type": "markdown",
   "source": [
    "<font size=\"5\">`filter` returns a list containing only elements that match a given predicate:</font>"
   ],
   "metadata": {
    "collapsed": false
   }
  },
  {
   "cell_type": "code",
   "outputs": [
    {
     "name": "stdout",
     "output_type": "stream",
     "text": [
      "[2]\n"
     ]
    }
   ],
   "source": [
    "val l = listOf(1, 2, 3)\n",
    "println(l.filter { it % 2 == 0 }) // [2]"
   ],
   "metadata": {
    "collapsed": false,
    "ExecuteTime": {
     "end_time": "2024-03-20T08:43:31.910383Z",
     "start_time": "2024-03-20T08:43:31.790875Z"
    }
   },
   "execution_count": 11
  },
  {
   "cell_type": "markdown",
   "source": [
    "<font size=\"5\">Our third important function, `fold`, creates a mutable accumulator, which is updated on each round of the for and returns one value:</font>"
   ],
   "metadata": {
    "collapsed": false
   }
  },
  {
   "cell_type": "code",
   "outputs": [
    {
     "name": "stdout",
     "output_type": "stream",
     "text": [
      "6\n"
     ]
    }
   ],
   "source": [
    "val l = listOf(1, 2, 3)\n",
    "var acc = 0\n",
    "\n",
    "println(l.fold(0) { acc, x -> acc + x }) // 6"
   ],
   "metadata": {
    "collapsed": false,
    "ExecuteTime": {
     "end_time": "2024-03-20T08:44:11.419951Z",
     "start_time": "2024-03-20T08:44:11.342640Z"
    }
   },
   "execution_count": 12
  },
  {
   "cell_type": "markdown",
   "source": [
    "<font size=\"5\">You can implement the `fold` function for any type, for example, you can fold a tree into a string representation.</font>"
   ],
   "metadata": {
    "collapsed": false
   }
  },
  {
   "cell_type": "markdown",
   "source": [],
   "metadata": {
    "collapsed": false
   }
  },
  {
   "cell_type": "markdown",
   "source": [
    "<font size=\"5\">There are also `right` and `left` folds. They are equivalent if the operation is associative: `(a ○ b) ○ c = a ○ (b ○ c)`, but in any other case they yield different results.</font>"
   ],
   "metadata": {
    "collapsed": false
   }
  },
  {
   "cell_type": "code",
   "outputs": [
    {
     "name": "stdout",
     "output_type": "stream",
     "text": [
      "6\n",
      "6\n"
     ]
    }
   ],
   "source": [
    "val list = listOf(1, 2, 3)\n",
    "println(list.fold(0) { acc, x -> acc + x }) // (((0 + 1) + 2) + 3) = 6 \n",
    "println(list.foldRight(0) { x, acc -> acc + x }) // (1 + (2 + (3 + 0))) = 6"
   ],
   "metadata": {
    "collapsed": false,
    "ExecuteTime": {
     "end_time": "2024-03-20T08:47:59.165415Z",
     "start_time": "2024-03-20T08:47:59.011473Z"
    }
   },
   "execution_count": 13
  },
  {
   "cell_type": "code",
   "outputs": [
    {
     "name": "stdout",
     "output_type": "stream",
     "text": [
      "PPWPPWNPPWPPWND\n",
      "DDNDDNWDDNDDNWP\n"
     ]
    }
   ],
   "source": [
    "println(\"PWND\".fold(\"\") { acc, x -> \"${acc}${acc}$x\" }) // PPWPPWNPPWPPWND \n",
    "println(\"PWND\".foldRight(\"\") { x, acc -> \"${acc}${acc}$x\" })  // DDNDDNWDDNDDNWP"
   ],
   "metadata": {
    "collapsed": false,
    "ExecuteTime": {
     "end_time": "2024-03-20T08:48:19.464131Z",
     "start_time": "2024-03-20T08:48:19.366147Z"
    }
   },
   "execution_count": 14
  },
  {
   "cell_type": "markdown",
   "source": [
    "<font size=\"5\">Make sure to: be careful with the order of your lambdas’ arguments:</font>"
   ],
   "metadata": {
    "collapsed": false
   }
  },
  {
   "cell_type": "code",
   "outputs": [
    {
     "name": "stdout",
     "output_type": "stream",
     "text": [
      "-6\n"
     ]
    }
   ],
   "source": [
    "println(list.fold(0) { acc, x -> acc - x }) // (((0 - 1) - 2) - 3) = -6"
   ],
   "metadata": {
    "collapsed": false,
    "ExecuteTime": {
     "end_time": "2024-03-20T08:49:36.121058Z",
     "start_time": "2024-03-20T08:49:36.033948Z"
    }
   },
   "execution_count": 15
  },
  {
   "cell_type": "code",
   "outputs": [
    {
     "name": "stdout",
     "output_type": "stream",
     "text": [
      "-6\n"
     ]
    }
   ],
   "source": [
    "println(list.foldRight(0) { x, acc -> acc - x }) // (-1 + (-2 + (0 - 3))) = -6"
   ],
   "metadata": {
    "collapsed": false,
    "ExecuteTime": {
     "end_time": "2024-03-20T08:50:00.620948Z",
     "start_time": "2024-03-20T08:50:00.545455Z"
    }
   },
   "execution_count": 16
  },
  {
   "cell_type": "code",
   "outputs": [
    {
     "name": "stdout",
     "output_type": "stream",
     "text": [
      "2\n"
     ]
    }
   ],
   "source": [
    "println(list.foldRight(0) { acc, x -> acc - x }) // INCORRECT, (1 - (2 - (3 - 0))) = 2"
   ],
   "metadata": {
    "collapsed": false,
    "ExecuteTime": {
     "end_time": "2024-03-20T08:51:23.154163Z",
     "start_time": "2024-03-20T08:51:23.094350Z"
    }
   },
   "execution_count": 19
  },
  {
   "cell_type": "markdown",
   "source": [
    "<font size=\"5\">Lambdas are not the only functions that can be passed as arguments to functions expecting other functions, as _references_ to already defined functions can be as well:</font>"
   ],
   "metadata": {
    "collapsed": false
   }
  },
  {
   "cell_type": "code",
   "outputs": [],
   "source": [
    "fun isEven(x: Int) = x % 2 == 0\n",
    "\n",
    "val isEvenLambda = { x: Int -> x % 2 == 0 }"
   ],
   "metadata": {
    "collapsed": false,
    "ExecuteTime": {
     "end_time": "2024-03-20T08:51:45.083490Z",
     "start_time": "2024-03-20T08:51:44.896260Z"
    }
   },
   "execution_count": 20
  },
  {
   "cell_type": "code",
   "outputs": [
    {
     "name": "stdout",
     "output_type": "stream",
     "text": [
      "([2], [1, 3])\n"
     ]
    }
   ],
   "source": [
    "// Same results, different calls:\n",
    "println(list.partition { it % 2 == 0 })"
   ],
   "metadata": {
    "collapsed": false,
    "ExecuteTime": {
     "end_time": "2024-03-20T08:52:08.437124Z",
     "start_time": "2024-03-20T08:52:08.382953Z"
    }
   },
   "execution_count": 21
  },
  {
   "cell_type": "code",
   "outputs": [
    {
     "name": "stdout",
     "output_type": "stream",
     "text": [
      "([2], [1, 3])\n"
     ]
    }
   ],
   "source": [
    "println(list.partition(::isEven)) // function reference"
   ],
   "metadata": {
    "collapsed": false,
    "ExecuteTime": {
     "end_time": "2024-03-20T08:52:36.676549Z",
     "start_time": "2024-03-20T08:52:36.509051Z"
    }
   },
   "execution_count": 22
  },
  {
   "cell_type": "code",
   "outputs": [
    {
     "name": "stdout",
     "output_type": "stream",
     "text": [
      "([2], [1, 3])\n"
     ]
    }
   ],
   "source": [
    "println(list.partition(isEvenLambda)) // pass lambda by name"
   ],
   "metadata": {
    "collapsed": false,
    "ExecuteTime": {
     "end_time": "2024-03-20T08:54:38.520005Z",
     "start_time": "2024-03-20T08:54:38.483906Z"
    }
   },
   "execution_count": 24
  },
  {
   "cell_type": "markdown",
   "source": [
    "---\n",
    "\n",
    "# Lazy computations\n",
    "\n",
    "<font size=\"5\">Consider the following code:</font>"
   ],
   "metadata": {
    "collapsed": false
   }
  },
  {
   "cell_type": "code",
   "outputs": [],
   "source": [
    "fun <F> withFunction(\n",
    "    number: Int, even: F, odd: F\n",
    "): F = when (number % 2) {\n",
    "    0 -> even\n",
    "    else -> odd\n",
    "}"
   ],
   "metadata": {
    "collapsed": false,
    "ExecuteTime": {
     "end_time": "2024-03-20T08:55:31.092001Z",
     "start_time": "2024-03-20T08:55:31.019045Z"
    }
   },
   "execution_count": 25
  },
  {
   "cell_type": "code",
   "outputs": [
    {
     "name": "stdout",
     "output_type": "stream",
     "text": [
      "even\n",
      "odd\n"
     ]
    }
   ],
   "source": [
    "withFunction(4, println(\"even\"), println(\"odd\"))"
   ],
   "metadata": {
    "collapsed": false,
    "ExecuteTime": {
     "end_time": "2024-03-20T08:56:55.980651Z",
     "start_time": "2024-03-20T08:56:55.939047Z"
    }
   },
   "execution_count": 27
  },
  {
   "cell_type": "markdown",
   "source": [
    "<font size=\"5\">What will be printed to the console?</font>"
   ],
   "metadata": {
    "collapsed": false
   }
  },
  {
   "cell_type": "markdown",
   "source": [
    "---\n",
    "\n",
    "# Deferred computations\n",
    "\n",
    "<font size=\"5\">Consider the following code:</font>"
   ],
   "metadata": {
    "collapsed": false
   }
  },
  {
   "cell_type": "code",
   "outputs": [],
   "source": [
    "fun <F> withLambda(\n",
    "    number: Int, even: () -> F, odd: () -> F\n",
    "): F = when (number % 2) {\n",
    "    0 -> even()\n",
    "    else -> odd()\n",
    "}"
   ],
   "metadata": {
    "collapsed": false,
    "ExecuteTime": {
     "end_time": "2024-03-20T08:57:14.116733Z",
     "start_time": "2024-03-20T08:57:14.065328Z"
    }
   },
   "execution_count": 28
  },
  {
   "cell_type": "code",
   "outputs": [
    {
     "name": "stdout",
     "output_type": "stream",
     "text": [
      "even\n"
     ]
    }
   ],
   "source": [
    "withLambda(4, { println(\"even\") }, { println(\"odd\") })"
   ],
   "metadata": {
    "collapsed": false,
    "ExecuteTime": {
     "end_time": "2024-03-20T08:58:33.637374Z",
     "start_time": "2024-03-20T08:58:33.593021Z"
    }
   },
   "execution_count": 30
  },
  {
   "cell_type": "markdown",
   "source": [
    "---\n",
    "\n",
    "# Operator overloading\n",
    "\n",
    "<font size=\"5\">Kotlin has extension functions that you can use to override operators, for example the `iterator`. That is, you do not need to create a new entity that inherits from the `Iterable` interface, as you would in OOP code.</font>"
   ],
   "metadata": {
    "collapsed": false
   }
  },
  {
   "cell_type": "code",
   "outputs": [],
   "source": [
    "class MyIterable<T> : Iterable<T> { // you need access to the sources of MyIterable\n",
    "    override fun iterator(): Iterator<T> {\n",
    "        TODO(\"Not yet implemented\")\n",
    "    }\n",
    "}"
   ],
   "metadata": {
    "collapsed": false,
    "ExecuteTime": {
     "end_time": "2024-03-08T18:00:12.769479Z",
     "start_time": "2024-03-08T18:00:11.999416Z"
    }
   },
   "execution_count": 44
  },
  {
   "cell_type": "code",
   "outputs": [],
   "source": [
    "// VS\n",
    "\n",
    "class A<T>\n",
    "operator fun <T> A<T>.iterator(): Iterator<T> = TODO(\"Not yet implemented\")"
   ],
   "metadata": {
    "collapsed": false,
    "ExecuteTime": {
     "end_time": "2024-03-20T09:08:49.533800Z",
     "start_time": "2024-03-20T09:08:49.481046Z"
    }
   },
   "execution_count": 34
  },
  {
   "cell_type": "code",
   "outputs": [
    {
     "name": "stderr",
     "output_type": "stream",
     "text": [
      "An operation is not implemented: Not yet implemented\n",
      "kotlin.NotImplementedError: An operation is not implemented: Not yet implemented\n",
      "\tat Line_34_jupyter.iterator(Line_34.jupyter.kts:4)\n",
      "\tat Line_35_jupyter.<init>(Line_35.jupyter.kts:1)\n",
      "\tat java.base/jdk.internal.reflect.NativeConstructorAccessorImpl.newInstance0(Native Method)\n",
      "\tat java.base/jdk.internal.reflect.NativeConstructorAccessorImpl.newInstance(NativeConstructorAccessorImpl.java:77)\n",
      "\tat java.base/jdk.internal.reflect.DelegatingConstructorAccessorImpl.newInstance(DelegatingConstructorAccessorImpl.java:45)\n",
      "\tat java.base/java.lang.reflect.Constructor.newInstanceWithCaller(Constructor.java:499)\n",
      "\tat java.base/java.lang.reflect.Constructor.newInstance(Constructor.java:480)\n",
      "\tat kotlin.script.experimental.jvm.BasicJvmScriptEvaluator.evalWithConfigAndOtherScriptsResults(BasicJvmScriptEvaluator.kt:105)\n",
      "\tat kotlin.script.experimental.jvm.BasicJvmScriptEvaluator.invoke$suspendImpl(BasicJvmScriptEvaluator.kt:47)\n",
      "\tat kotlin.script.experimental.jvm.BasicJvmScriptEvaluator.invoke(BasicJvmScriptEvaluator.kt)\n",
      "\tat kotlin.script.experimental.jvm.BasicJvmReplEvaluator.eval(BasicJvmReplEvaluator.kt:49)\n",
      "\tat org.jetbrains.kotlinx.jupyter.repl.impl.InternalEvaluatorImpl$eval$resultWithDiagnostics$1.invokeSuspend(InternalEvaluatorImpl.kt:107)\n",
      "\tat kotlin.coroutines.jvm.internal.BaseContinuationImpl.resumeWith(ContinuationImpl.kt:33)\n",
      "\tat kotlinx.coroutines.DispatchedTask.run(DispatchedTask.kt:106)\n",
      "\tat kotlinx.coroutines.EventLoopImplBase.processNextEvent(EventLoop.common.kt:284)\n",
      "\tat kotlinx.coroutines.BlockingCoroutine.joinBlocking(Builders.kt:85)\n",
      "\tat kotlinx.coroutines.BuildersKt__BuildersKt.runBlocking(Builders.kt:59)\n",
      "\tat kotlinx.coroutines.BuildersKt.runBlocking(Unknown Source)\n",
      "\tat kotlinx.coroutines.BuildersKt__BuildersKt.runBlocking$default(Builders.kt:38)\n",
      "\tat kotlinx.coroutines.BuildersKt.runBlocking$default(Unknown Source)\n",
      "\tat org.jetbrains.kotlinx.jupyter.repl.impl.InternalEvaluatorImpl.eval(InternalEvaluatorImpl.kt:107)\n",
      "\tat org.jetbrains.kotlinx.jupyter.repl.impl.CellExecutorImpl$execute$1$result$1.invoke(CellExecutorImpl.kt:75)\n",
      "\tat org.jetbrains.kotlinx.jupyter.repl.impl.CellExecutorImpl$execute$1$result$1.invoke(CellExecutorImpl.kt:73)\n",
      "\tat org.jetbrains.kotlinx.jupyter.ReplForJupyterImpl.withHost(repl.kt:690)\n",
      "\tat org.jetbrains.kotlinx.jupyter.repl.impl.CellExecutorImpl.execute(CellExecutorImpl.kt:73)\n",
      "\tat org.jetbrains.kotlinx.jupyter.repl.CellExecutor$DefaultImpls.execute$default(CellExecutor.kt:14)\n",
      "\tat org.jetbrains.kotlinx.jupyter.ReplForJupyterImpl$evalEx$1.invoke(repl.kt:500)\n",
      "\tat org.jetbrains.kotlinx.jupyter.ReplForJupyterImpl$evalEx$1.invoke(repl.kt:478)\n",
      "\tat org.jetbrains.kotlinx.jupyter.ReplForJupyterImpl.withEvalContext(repl.kt:441)\n",
      "\tat org.jetbrains.kotlinx.jupyter.ReplForJupyterImpl.evalEx(repl.kt:478)\n",
      "\tat org.jetbrains.kotlinx.jupyter.messaging.ProtocolKt$shellMessagesHandler$2$res$1.invoke(protocol.kt:320)\n",
      "\tat org.jetbrains.kotlinx.jupyter.messaging.ProtocolKt$shellMessagesHandler$2$res$1.invoke(protocol.kt:314)\n",
      "\tat org.jetbrains.kotlinx.jupyter.JupyterExecutorImpl$runExecution$execThread$1.invoke(execution.kt:38)\n",
      "\tat org.jetbrains.kotlinx.jupyter.JupyterExecutorImpl$runExecution$execThread$1.invoke(execution.kt:33)\n",
      "\tat kotlin.concurrent.ThreadsKt$thread$thread$1.run(Thread.kt:30)\n"
     ]
    }
   ],
   "source": [
    "for (i in A<Int>()) {}"
   ],
   "metadata": {
    "collapsed": false,
    "ExecuteTime": {
     "end_time": "2024-03-20T09:08:50.130733Z",
     "start_time": "2024-03-20T09:08:50.075809Z"
    }
   },
   "execution_count": 35
  },
  {
   "cell_type": "markdown",
   "source": [
    "---\n",
    "\n",
    "# One last thing...\n",
    "\n",
    "<font size=\"5\">Is this code correct?</font>"
   ],
   "metadata": {
    "collapsed": false
   }
  },
  {
   "cell_type": "code",
   "outputs": [],
   "source": [
    "enum class Color {\n",
    "    WHITE,\n",
    "    AZURE,\n",
    "    HONEYDEW\n",
    "}"
   ],
   "metadata": {
    "collapsed": false,
    "ExecuteTime": {
     "end_time": "2024-03-20T09:09:08.657230Z",
     "start_time": "2024-03-20T09:09:08.454742Z"
    }
   },
   "execution_count": 36
  },
  {
   "cell_type": "code",
   "outputs": [],
   "source": [
    "fun Color.getRGB() = when (this) {\n",
    "   Color.WHITE -> \"#FFFFFF\"\n",
    "   Color.AZURE -> \"#F0FFFF\"\n",
    "   Color.HONEYDEW -> \"F0FFF0\"\n",
    "}"
   ],
   "metadata": {
    "collapsed": false,
    "ExecuteTime": {
     "end_time": "2024-03-08T18:02:24.140229Z",
     "start_time": "2024-03-08T18:02:24.040122Z"
    }
   },
   "execution_count": 52
  },
  {
   "cell_type": "markdown",
   "source": [
    "<font size=\"5\">What is about this example?</font>"
   ],
   "metadata": {
    "collapsed": false
   }
  },
  {
   "cell_type": "code",
   "outputs": [],
   "source": [
    "sealed class Color\n",
    "\n",
    "class WhiteColor: Color()\n",
    "class AzureColor: Color()\n",
    "class HoneydewColor: Color()"
   ],
   "metadata": {
    "collapsed": false,
    "ExecuteTime": {
     "end_time": "2024-03-20T09:14:31.199650Z",
     "start_time": "2024-03-20T09:14:31.133674Z"
    }
   },
   "execution_count": 37
  },
  {
   "cell_type": "code",
   "outputs": [],
   "source": [
    "//fun Color.getRGB() = when (this) {\n",
    "//   is WhiteColor -> \"#FFFFFF\"\n",
    "//   is AzureColor -> \"#F0FFFF\"\n",
    "//   is HoneydewColor -> \"F0FFF0\"\n",
    "//}"
   ],
   "metadata": {
    "collapsed": false,
    "ExecuteTime": {
     "end_time": "2024-03-08T18:03:31.519529Z",
     "start_time": "2024-03-08T18:03:31.433233Z"
    }
   },
   "execution_count": 54
  },
  {
   "cell_type": "markdown",
   "source": [
    "<font size=\"5\">Consider the following code:</font>"
   ],
   "metadata": {
    "collapsed": false
   }
  },
  {
   "cell_type": "code",
   "outputs": [],
   "source": [
    "sealed class Color\n",
    "\n",
    "class WhiteColor(val name: String): Color()\n",
    "class AzureColor(val name: String): Color()\n",
    "class HoneydewColor(val name: String): Color()"
   ],
   "metadata": {
    "collapsed": false,
    "ExecuteTime": {
     "end_time": "2024-03-08T18:04:11.883883Z",
     "start_time": "2024-03-08T18:04:11.304666Z"
    }
   },
   "execution_count": 55
  },
  {
   "cell_type": "markdown",
   "source": [
    "<font size=\"5\">We have the common part in **all** classes and we know that these are the **only** possible subclasses. Let’s move this code into the base class.</font>"
   ],
   "metadata": {
    "collapsed": false
   }
  },
  {
   "cell_type": "code",
   "outputs": [],
   "source": [
    "sealed class NewColor(val name: String)\n",
    "\n",
    "class WhiteColor(name: String): NewColor(name)\n",
    "class AzureColor(name: String): NewColor(name)\n",
    "class HoneydewColor(name: String): NewColor(name)"
   ],
   "metadata": {
    "collapsed": false,
    "ExecuteTime": {
     "end_time": "2024-03-08T18:04:54.773618Z",
     "start_time": "2024-03-08T18:04:54.539498Z"
    }
   },
   "execution_count": 56
  },
  {
   "cell_type": "markdown",
   "source": [
    "<font size=\"5\">Actually, we have **equivalent** classes, i.e. _each_ function for the first version can be rewritten as the _second_ one.</font>"
   ],
   "metadata": {
    "collapsed": false
   }
  },
  {
   "cell_type": "markdown",
   "source": [
    "<img alt=\"Cover\" src=\"./images/4.png\" width=\"2000\" />\n",
    "\n",
    "<font size=\"5\">In the first function, we have smart casts, but in the second one we don't have them.</font>"
   ],
   "metadata": {
    "collapsed": false
   }
  },
  {
   "cell_type": "markdown",
   "source": [
    "<font size=\"5\">**Math time!** We can actually rewrite this in math terms:</font>\n",
    "\n",
    "<font size=\"5\">`WhiteColor * String + ... + HoneydewColor * String ≃ String * (WhiteColor + ... + HoneydewColor)`</font>\n",
    "\n",
    "<font size=\"5\">This is possible because we are actually operating with **algebraic data types** and can use their properties.</font>\n",
    "\n",
    "<font size=\"5\">This is not entirely true, but for most cases with sealed classes it works.</font>"
   ],
   "metadata": {
    "collapsed": false
   }
  },
  {
   "cell_type": "markdown",
   "source": [
    "---\n",
    "\n",
    "# Final thought\n",
    "\n",
    "<font size=\"5\">FP in Kotlin does not kill OOP. Each of the concepts brings its own advantages and disadvantages, and it is important to combine them in order to get concise, readable and understandable code!</font>\n",
    "\n",
    "<font size=\"5\">If you are interested in the topic of FP in Kotlin for a more detailed study, come here: https://arrow-kt.io/</font>\n"
   ],
   "metadata": {
    "collapsed": false
   }
  },
  {
   "cell_type": "markdown",
   "source": [
    "<img alt=\"Cover\" src=\"./images/5.png\" width=\"2000\" />"
   ],
   "metadata": {
    "collapsed": false
   }
  },
  {
   "cell_type": "code",
   "outputs": [],
   "source": [],
   "metadata": {
    "collapsed": false
   }
  }
 ],
 "metadata": {
  "kernelspec": {
   "display_name": "Kotlin",
   "language": "kotlin",
   "name": "kotlin"
  },
  "language_info": {
   "name": "kotlin",
   "version": "1.9.0",
   "mimetype": "text/x-kotlin",
   "file_extension": ".kt",
   "pygments_lexer": "kotlin",
   "codemirror_mode": "text/x-kotlin",
   "nbconvert_exporter": ""
  }
 },
 "nbformat": 4,
 "nbformat_minor": 0
}
