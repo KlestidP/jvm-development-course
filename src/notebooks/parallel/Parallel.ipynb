{
 "cells": [
  {
   "cell_type": "markdown",
   "source": [
    "![Cover](./images/1.cover.png)\n",
    "\n",
    "---"
   ],
   "metadata": {
    "collapsed": false
   }
  },
  {
   "cell_type": "markdown",
   "source": [
    "# Definition\n",
    "\n",
    "### According to Wikipedia\n",
    "\n",
    " * Parallel computing is a type of computing “in which many calculations or processes are carried out simultaneously”.\n",
    " * Concurrent computing is a form of computing in which several computations are executed concurrently – in overlapping time periods – instead of sequentially.\n",
    " * It is possible to have parallelism without concurrency, and concurrency without parallelism.\n",
    "\n",
    "### Motivation\n",
    "\n",
    " * Faster runtime\n",
    " * Improved responsiveness\n",
    "\n",
    "---"
   ],
   "metadata": {
    "collapsed": false
   }
  },
  {
   "cell_type": "markdown",
   "source": [
    "# Parallelism vs Concurrency\n",
    "\n",
    "![Parallel vs Concurrent](./images/2.jpeg)\n",
    "\n",
    "---"
   ],
   "metadata": {
    "collapsed": false
   }
  },
  {
   "cell_type": "markdown",
   "source": [
    "# Concurrency: processes vs threads\n",
    "\n",
    "![Process vs Thread](./images/3.jpeg)\n",
    "\n",
    "---"
   ],
   "metadata": {
    "collapsed": false
   }
  },
  {
   "metadata": {},
   "cell_type": "markdown",
   "source": [
    "# Preemptive vs cooperative scheduling\n",
    "\n",
    "![Preemptive vs Cooperrative](./images/4.jpeg)\n",
    "\n",
    "---"
   ]
  },
  {
   "metadata": {},
   "cell_type": "markdown",
   "source": [
    "# Parallel and Concurrent Programming in the JVM\n",
    "\n",
    "* The JVM has its own scheduler\n",
    "    * It is independent from the OS scheduler\n",
    "    * A JVM thread != an OS thread\n",
    "    * Multithreaded JVM apps can run on a single-threaded OS (DOS)\n",
    "* JVM threads are either daemons or user threads.\n",
    "* The app stops when all user threads are done.\n",
    "* The JVM does not wait for daemon threads to finish.\n",
    "\n",
    "___"
   ]
  },
  {
   "metadata": {},
   "cell_type": "markdown",
   "source": ""
  },
  {
   "metadata": {},
   "cell_type": "markdown",
   "source": [
    "# Parallel programming in the JVM\n",
    "\n",
    "### 2 Java packages\n",
    "\n",
    "* `java.lang` contains basic primitives: Runnable, Thread, etc.\n",
    "* `java.util.concurrent` contains synchronization primitives and concurrent data structures.\n",
    "\n",
    "### 1 Kotlin package\n",
    "\n",
    "* `kotlin.concurrent` — Wrappers and extensions for Java classes (quality-of-life).\n",
    "\n",
    "___"
   ]
  },
  {
   "metadata": {},
   "cell_type": "markdown",
   "source": [
    "# Throwback: Single Abstract Method interfaces\n",
    "\n",
    "SAM – an interface with a single abstract method, which can be instantiated with a lambda.\n",
    "\n",
    "#### Java:"
   ]
  },
  {
   "cell_type": "code",
   "source": [
    "@FunctionalInterface\n",
    "public interface Runnable {\n",
    "    public abstract void run();\n",
    "}"
   ],
   "metadata": {
    "collapsed": false,
    "jupyter": {
     "is_executing": true
    }
   },
   "outputs": [],
   "execution_count": null
  },
  {
   "metadata": {},
   "cell_type": "markdown",
   "source": "#### Kotlin:"
  },
  {
   "metadata": {},
   "cell_type": "code",
   "source": [
    "fun interface Screamer {\n",
    "    fun scream(): Unit\n",
    "}"
   ],
   "outputs": [],
   "execution_count": null
  },
  {
   "metadata": {},
   "cell_type": "markdown",
   "source": "#### Example:"
  },
  {
   "metadata": {},
   "cell_type": "code",
   "source": [
    "class RunnableWrapper(val runnable: Runnable)\n",
    "class ScreamerWrapper(val screamer: Screamer)"
   ],
   "outputs": [],
   "execution_count": null
  },
  {
   "metadata": {},
   "cell_type": "code",
   "source": [
    "val myWrapperFromLambda = RunnableWrapper { println(\"Runnable from lambda speaking!\") }\n",
    "val independentScreamer = Screamer { println(\"Boo!\") }\n",
    "val wrappedScreamer = ScreamerWrapper { println(\"Boo! x2\") }\n",
    "\n",
    "myWrapperFromLambda.runnable.run()\n",
    "independentScreamer.scream()\n",
    "wrappedScreamer.screamer.scream()"
   ],
   "outputs": [],
   "execution_count": null
  },
  {
   "cell_type": "markdown",
   "source": [
    "---\n",
    "\n",
    "# Ways to create threads\n",
    "\n",
    "Java Standard Library provides the `Thread` class, which implements `Runnable`.  \n",
    "You can inherit from the `Thread`."
   ],
   "metadata": {
    "collapsed": false
   }
  },
  {
   "cell_type": "code",
   "source": [
    "class MyThread : Thread() {\n",
    "    override fun run() {\n",
    "        println(\"${currentThread()} is running\")\n",
    "    }\n",
    "}"
   ],
   "metadata": {
    "collapsed": false
   },
   "outputs": [],
   "execution_count": null
  },
  {
   "metadata": {},
   "cell_type": "code",
   "source": [
    "val myThread = MyThread()\n",
    "myThread.start()"
   ],
   "outputs": [],
   "execution_count": null
  },
  {
   "cell_type": "markdown",
   "source": [
    "# run vs start\n",
    "\n",
    "\n",
    "**Never call Thread.run()!**\n",
    "\n",
    "`run` will execute the body _on your thread_, while `start` will create _a new thread_ where `run`'s body will be executed."
   ],
   "metadata": {
    "collapsed": false
   }
  },
  {
   "cell_type": "code",
   "source": [
    "println(\"${Thread.currentThread()} is the main thread\")\n",
    "\n",
    "val myThread1 = MyThread()\n",
    "val myThread2 = MyThread()\n",
    "val myThread3 = MyThread()\n",
    "\n",
    "myThread1.start()\n",
    "myThread2.run()\n",
    "myThread3.start()"
   ],
   "metadata": {
    "collapsed": false
   },
   "outputs": [],
   "execution_count": null
  },
  {
   "cell_type": "markdown",
   "source": [
    "If the code above gets executed, most probably you see the main thread twice and then two other threads. This means that `myThread2.run`'s body was executed on the main thread.  \n",
    "Two other threads took some time to start and thus appear later.\n",
    "\n",
    "You can implement the `Runnable` interface and pass its instance to a thread. You can pass the same `Runnable`s to several threads."
   ],
   "metadata": {
    "collapsed": false
   }
  },
  {
   "cell_type": "code",
   "source": [
    "var extremelyBadGlobalVariable = 0\n",
    "val myRunnable = Runnable { println(\"Runnable ${++extremelyBadGlobalVariable}\") }"
   ],
   "metadata": {
    "collapsed": false
   },
   "outputs": [],
   "execution_count": null
  },
  {
   "metadata": {},
   "cell_type": "code",
   "source": [
    "val thread1 = Thread(myRunnable)\n",
    "val thread2 = Thread(myRunnable)\n",
    "\n",
    "thread1.start()\n",
    "thread2.start()"
   ],
   "outputs": [],
   "execution_count": null
  },
  {
   "cell_type": "markdown",
   "source": "In Kotlin, the preferred way to create threads is with a simple HOF:",
   "metadata": {
    "collapsed": false
   }
  },
  {
   "cell_type": "code",
   "source": [
    "import kotlin.concurrent.thread\n",
    "\n",
    "val kotlinThread = thread {\n",
    "    println(\"I start instantly, but you can pass an option to start me manually\")\n",
    "}\n",
    "\n",
    "val kotlinThreadLater = thread(start = false) {\n",
    "    println(\"I do not start instantly, you have to start me manually\")\n",
    "}"
   ],
   "metadata": {
    "collapsed": false
   },
   "outputs": [],
   "execution_count": null
  },
  {
   "metadata": {},
   "cell_type": "code",
   "source": "kotlinThreadLater.start()",
   "outputs": [],
   "execution_count": null
  },
  {
   "cell_type": "markdown",
   "source": [
    "---\n",
    "\n",
    "# Thread properties\n",
    "\n",
    "A thread's properties cannot be changed after it was started.\n",
    "\n",
    "Main properties of a thread:"
   ],
   "metadata": {
    "collapsed": false
   }
  },
  {
   "metadata": {},
   "cell_type": "code",
   "source": [
    "kotlinThread.id // Long, This is the thread's identifier\n",
    "kotlinThread.name // String\n",
    "kotlinThread.priority // Int, This can range from 1 to 10, with a larger value indicating higher priority\n",
    "kotlinThread.isDaemon // Boolean\n",
    "kotlinThread.state // Thread.State\n",
    "kotlinThread.isAlive // Boolean"
   ],
   "outputs": [],
   "execution_count": null
  },
  {
   "cell_type": "markdown",
   "source": [
    "# State of a thread\n",
    "\n",
    "| state         | isAlive |\n",
    "|---------------|---------|\n",
    "| NEW           | false   |\n",
    "| RUNNABLE      | true    |\n",
    "| BLOCKED       | true    |\n",
    "| WAITING       | true    |\n",
    "| TIMED_WAITING | true    |\n",
    "| TERMINATED    | false   |\n"
   ],
   "metadata": {
    "collapsed": false
   }
  },
  {
   "cell_type": "markdown",
   "source": [
    "# \n",
    "\n",
    "![Thread states](./images/5.png)\n",
    "\n",
    "___"
   ],
   "metadata": {
    "collapsed": false
   }
  },
  {
   "metadata": {},
   "cell_type": "markdown",
   "source": "# Ways to manipulate a thread's state"
  },
  {
   "cell_type": "code",
   "source": [
    "val simple = thread { /* code */ } // Creates a new thread\n",
    "\n",
    "val myThread = thread(false) { /* code */ } // Creates a new thread in the NEW state\n",
    "myThread.start() // Starts the thread\n",
    "myThread.join() // Causes the current thread to wait for myThread to finish\n",
    "val durationInMs: Long = 3000\n",
    "Thread.sleep(durationInMs) // Puts the current thread to sleep for 3 seconds\n",
    "Thread.yield() // Tries (sic!) to step back\n",
    "myThread.interrupt() // Tries (sic!) to interrupt a thread\n",
    "myThread.isInterrupted() // Boolean, Checks whether myThread was interrupted\n",
    "Thread.interrupted() // Boolean, Checks and clears the interruption flag"
   ],
   "metadata": {
    "collapsed": false,
    "ExecuteTime": {
     "end_time": "2024-04-03T15:25:19.715787Z",
     "start_time": "2024-04-03T15:25:16.652277Z"
    }
   },
   "outputs": [
    {
     "data": {
      "text/plain": [
       "false"
      ]
     },
     "execution_count": 26,
     "metadata": {},
     "output_type": "execute_result"
    }
   ],
   "execution_count": 26
  },
  {
   "metadata": {},
   "cell_type": "markdown",
   "source": [
    " - The `sleep` and `yield` methods are only applicable to the current thread, which means that you cannot suspend another thread.\n",
    " - All blocking and waiting methods can throw `InterruptedException`."
   ]
  },
  {
   "metadata": {
    "ExecuteTime": {
     "end_time": "2024-04-03T18:40:43.045540Z",
     "start_time": "2024-04-03T18:40:43.022432Z"
    }
   },
   "cell_type": "code",
   "source": "import java.lang.Thread.sleep",
   "outputs": [],
   "execution_count": 28
  },
  {
   "metadata": {
    "ExecuteTime": {
     "end_time": "2024-04-03T18:41:40.739803Z",
     "start_time": "2024-04-03T18:41:40.283964Z"
    }
   },
   "cell_type": "code",
   "source": [
    "val runningThread = thread {\n",
    "    var counter = 0\n",
    "    try {\n",
    "        while (true) {\n",
    "            sleep(100)\n",
    "            println(\"Had some sleep $counter\")\n",
    "            counter++\n",
    "        }\n",
    "    } catch (e: Exception) {\n",
    "        println(e)\n",
    "    }\n",
    "}\n",
    "sleep(400)\n",
    "runningThread.interrupt()"
   ],
   "outputs": [
    {
     "name": "stdout",
     "output_type": "stream",
     "text": [
      "Had some sleep 0\n",
      "Had some sleep 1\n",
      "Had some sleep 2\n",
      "java.lang.InterruptedException: sleep interrupted\n",
      "sleep interrupted\n"
     ]
    }
   ],
   "execution_count": 32
  },
  {
   "metadata": {},
   "cell_type": "markdown",
   "source": "# Classic worker"
  },
  {
   "metadata": {
    "ExecuteTime": {
     "end_time": "2024-04-03T18:42:19.073533Z",
     "start_time": "2024-04-03T18:42:19.037223Z"
    }
   },
   "cell_type": "code",
   "source": [
    "class ClassicWorker : Runnable {\n",
    "    override fun run() {\n",
    "        try {\n",
    "            while (!Thread.interrupted()) {\n",
    "                // do stuff\n",
    "            }\n",
    "        } catch (e: InterruptedException) {} // absolutely legal empty catch block\n",
    "    }\n",
    "}"
   ],
   "outputs": [],
   "execution_count": 33
  },
  {
   "metadata": {},
   "cell_type": "markdown",
   "source": [
    "Worker runs indefinitely. In the body it should get work from somewhere, execute it, and then go on to loop. In case it is interrupted it finishes more or less gracefully.\n",
    "\n",
    "___"
   ]
  },
  {
   "metadata": {},
   "cell_type": "markdown",
   "source": [
    "# Parallelism and shared memory\n",
    "\n",
    "## Examples of problematic interleaving\n",
    "\n",
    "Parallel threads have access to the same shared memory.\n",
    "\n",
    "This often leads to problems that cannot arise in a single-threaded environment."
   ]
  },
  {
   "metadata": {
    "ExecuteTime": {
     "end_time": "2024-04-03T18:47:12.662419Z",
     "start_time": "2024-04-03T18:47:12.627219Z"
    }
   },
   "cell_type": "code",
   "source": [
    "class Counter {\n",
    "    private var c = 0\n",
    "\n",
    "    fun increment() {\n",
    "        c++\n",
    "    }\n",
    "    \n",
    "    fun decrement() {\n",
    "        c--\n",
    "    }\n",
    "    \n",
    "    fun value(): Int {\n",
    "        return c\n",
    "    }\n",
    "}"
   ],
   "outputs": [],
   "execution_count": 34
  },
  {
   "metadata": {},
   "cell_type": "markdown",
   "source": [
    "Both operations on `c` are single, simple statements.\n",
    "\n",
    "However, even simple statements can be translated into multiple steps by the virtual machine, and those steps can be interleaved.\n"
   ]
  },
  {
   "metadata": {
    "ExecuteTime": {
     "end_time": "2024-04-03T18:48:33.260319Z",
     "start_time": "2024-04-03T18:48:33.214997Z"
    }
   },
   "cell_type": "code",
   "source": [
    "val sharedCounter = Counter()\n",
    "\n",
    "val thread1 = thread {\n",
    "    sharedCounter.increment()\n",
    "}\n",
    "val thread2 = thread {\n",
    "    sharedCounter.increment()\n",
    "}\n",
    "\n",
    "thread1.join()\n",
    "thread2.join()\n",
    "println(sharedCounter.value())"
   ],
   "outputs": [
    {
     "name": "stdout",
     "output_type": "stream",
     "text": [
      "2\n"
     ]
    }
   ],
   "execution_count": 42
  },
  {
   "metadata": {},
   "cell_type": "markdown",
   "source": [
    "Suppose both `thread1` and `thread2` invoke increment at the same time. If the initial value of `c` is `0`, their interleaved actions might follow this sequence:\n",
    "- T#1: Read value 0 from c.\n",
    "- T#2: Read value 0 from c.\n",
    "- T#1: Increment value — result is 1.\n",
    "- T#1: Write result 1 to c.\n",
    "- T#2: Increment value — result is 1.\n",
    "- T#2: Write result 1 to c.\n",
    "\n",
    "---"
   ]
  },
  {
   "metadata": {},
   "cell_type": "markdown",
   "source": [
    "# Synchronization mechanisms\n",
    "\n",
    "- Mutual exclusion, such as `Lock` and the `synchronized` keyword.\n",
    "- Concurrent data structures and synchronization primitives.\n",
    "- Atomics, which work directly with shared memory (DANGER ZONE)."
   ]
  },
  {
   "metadata": {},
   "cell_type": "markdown",
   "source": "# Locks"
  },
  {
   "metadata": {
    "ExecuteTime": {
     "end_time": "2024-04-03T18:56:36.338530Z",
     "start_time": "2024-04-03T18:56:36.270748Z"
    }
   },
   "cell_type": "code",
   "source": [
    "import java.util.concurrent.locks.ReentrantLock\n",
    "import kotlin.concurrent.withLock\n",
    "\n",
    "val exampleLock = ReentrantLock()\n",
    "\n",
    "exampleLock.lock() // Acquires the lock\n",
    "exampleLock.tryLock() // Boolean, Tries to acquire the lock\n",
    "exampleLock.unlock() // Releases the lock\n",
    "exampleLock.withLock {\n",
    "    // critical section\n",
    "} // Executes a lambda with the lock held (has try/catch inside)\n",
    "val exampleCondition = exampleLock.newCondition() // Creates a condition variable associated with the lock"
   ],
   "outputs": [],
   "execution_count": 43
  },
  {
   "metadata": {
    "ExecuteTime": {
     "end_time": "2024-04-03T18:56:41.114352Z",
     "start_time": "2024-04-03T18:56:41.056339Z"
    }
   },
   "cell_type": "code",
   "source": [
    "class LockedCounter {\n",
    "    private var c = 0\n",
    "\n",
    "    private val lock = ReentrantLock()\n",
    "\n",
    "    fun increment() {\n",
    "        lock.withLock { c++ }\n",
    "    }\n",
    "\n",
    "    fun decrement() {\n",
    "        lock.withLock { c-- }\n",
    "    }\n",
    "\n",
    "    fun value(): Int {\n",
    "        lock.withLock { return c }\n",
    "    }\n",
    "}"
   ],
   "outputs": [],
   "execution_count": 44
  },
  {
   "metadata": {},
   "cell_type": "markdown",
   "source": [
    "# Conditions\n",
    "\n",
    "A condition allows a thread holding a lock to wait until another thread signals it about a certain event. Internally, the await method releases the associated lock upon call, and acquires it back before finally returning it again."
   ]
  },
  {
   "metadata": {
    "ExecuteTime": {
     "end_time": "2024-04-03T18:57:57.141235Z",
     "start_time": "2024-04-03T18:57:57.062890Z"
    }
   },
   "cell_type": "code",
   "source": [
    "class PositiveLockedCounter {\n",
    "    private var c = 0\n",
    "    private val lock = ReentrantLock()\n",
    "    private val condition = lock.newCondition()\n",
    "\n",
    "    fun increment() {\n",
    "        lock.withLock {\n",
    "            c++\n",
    "            condition.signal()\n",
    "        }\n",
    "    }\n",
    "\n",
    "    fun decrement() {\n",
    "        lock.withLock {\n",
    "            while (c == 0) {\n",
    "                condition.await()\n",
    "            }\n",
    "            c--\n",
    "        }\n",
    "    }\n",
    "\n",
    "    fun value(): Int {\n",
    "        return lock.withLock { c }\n",
    "    }\n",
    "}"
   ],
   "outputs": [],
   "execution_count": 45
  },
  {
   "metadata": {
    "ExecuteTime": {
     "end_time": "2024-04-03T19:03:25.712775Z",
     "start_time": "2024-04-03T19:03:25.447039Z"
    }
   },
   "cell_type": "code",
   "source": [
    "val posCounter = PositiveLockedCounter()\n",
    "\n",
    "val decrementor = { \n",
    "    println(\"Trying to decrement the counter...\")\n",
    "    posCounter.decrement()\n",
    "    println(\"Successfully decremented!\")\n",
    "}\n",
    "val incrementor = {\n",
    "    println(\"Going to sleep and the increment the counter\")\n",
    "    sleep(100)\n",
    "    posCounter.increment()\n",
    "    println(\"Incremented.\")\n",
    "}\n",
    "\n",
    "val threads = buildList {\n",
    "    repeat(5) {\n",
    "        add(thread(block = decrementor))\n",
    "        add(thread(block = incrementor))\n",
    "    }\n",
    "}\n",
    "\n",
    "threads.forEach { it.join() }"
   ],
   "outputs": [
    {
     "name": "stdout",
     "output_type": "stream",
     "text": [
      "Trying to decrement the counter...\n",
      "Going to sleep and the increment the counter\n",
      "Trying to decrement the counter...\n",
      "Trying to decrement the counter...\n",
      "Going to sleep and the increment the counter\n",
      "Going to sleep and the increment the counter\n",
      "Trying to decrement the counter...\n",
      "Going to sleep and the increment the counter\n",
      "Trying to decrement the counter...\n",
      "Going to sleep and the increment the counter\n",
      "Incremented.\n",
      "Successfully decremented!\n",
      "Incremented.\n",
      "Successfully decremented!\n",
      "Incremented.\n",
      "Successfully decremented!\n",
      "Incremented.\n",
      "Successfully decremented!\n",
      "Incremented.\n",
      "Successfully decremented!\n"
     ]
    }
   ],
   "execution_count": 49
  },
  {
   "metadata": {},
   "cell_type": "markdown",
   "source": [
    "# ReentrantLock\n",
    "\n",
    "Allows the lock to be acquired multiple times by the same thread."
   ]
  },
  {
   "metadata": {
    "ExecuteTime": {
     "end_time": "2024-04-03T20:21:21.636054Z",
     "start_time": "2024-04-03T20:21:21.567953Z"
    }
   },
   "cell_type": "code",
   "source": [
    "class ReentrantExample {\n",
    "    private val lock = ReentrantLock()\n",
    "\n",
    "    fun criticalSection() = lock.withLock {\n",
    "        lock.withLock {\n",
    "            println(\"${Thread.currentThread()} holds ${lock.holdCount}\")\n",
    "            sleep(1000)\n",
    "        }\n",
    "    }\n",
    "\n",
    "    fun anotherFunction() = lock.withLock {\n",
    "        criticalSection()\n",
    "    }\n",
    "\n",
    "    val isFair: Boolean\n",
    "        get() = lock.isFair // Checks the fairness of the lock, constructor of ReentrantLock accepts `fair: Boolean` argument, false by default\n",
    "\n",
    "    val queueLength: Int\n",
    "        get() = lock.queueLength\n",
    "}"
   ],
   "outputs": [],
   "execution_count": 57
  },
  {
   "metadata": {
    "ExecuteTime": {
     "end_time": "2024-04-03T20:21:26.567634Z",
     "start_time": "2024-04-03T20:21:23.497419Z"
    }
   },
   "cell_type": "code",
   "source": [
    "val reentrantExample = ReentrantExample()\n",
    "\n",
    "val t1 = thread {\n",
    "    reentrantExample.anotherFunction()\n",
    "}\n",
    "val t2 = thread {\n",
    "    reentrantExample.criticalSection()\n",
    "}\n",
    "val t3 = thread {\n",
    "    reentrantExample.criticalSection()\n",
    "}\n",
    "sleep(100)\n",
    "println(\"Q length: ${reentrantExample.queueLength}\")\n",
    "println(\"Lock is fair: ${reentrantExample.isFair}\")\n",
    "t1.join()\n",
    "t2.join()\n",
    "t3.join()"
   ],
   "outputs": [
    {
     "name": "stdout",
     "output_type": "stream",
     "text": [
      "Thread[Thread-333,5,main] holds 3\n",
      "Q length: 2\n",
      "Lock is fair: false\n",
      "Thread[Thread-334,5,main] holds 2\n",
      "Thread[Thread-335,5,main] holds 2\n"
     ]
    }
   ],
   "execution_count": 58
  },
  {
   "metadata": {},
   "cell_type": "markdown",
   "source": [
    "# ReadWriteLock\n",
    "\n",
    "`ReadWriteLock` allows multiple readers to access a resource concurrently but only lets a single writer modify it."
   ]
  },
  {
   "metadata": {
    "ExecuteTime": {
     "end_time": "2024-04-03T20:30:04.113495Z",
     "start_time": "2024-04-03T20:30:04.084319Z"
    }
   },
   "cell_type": "code",
   "source": [
    "import java.util.concurrent.locks.*\n",
    "import kotlin.concurrent.read\n",
    "import kotlin.concurrent.write\n",
    "\n",
    "val rwLock: ReadWriteLock = ReentrantReadWriteLock()\n",
    "\n",
    "val readLock: Lock = rwLock.readLock()\n",
    "val writeLock: Lock = rwLock.writeLock()"
   ],
   "outputs": [],
   "execution_count": 61
  },
  {
   "metadata": {
    "ExecuteTime": {
     "end_time": "2024-04-03T20:30:05.359519Z",
     "start_time": "2024-04-03T20:30:05.312465Z"
    }
   },
   "cell_type": "code",
   "source": [
    "class PositiveLockedCounter {\n",
    "    private var c = 0\n",
    "    private val rwLock = ReentrantReadWriteLock()\n",
    "\n",
    "    fun increment() {\n",
    "        rwLock.write { c++ }\n",
    "    }\n",
    "\n",
    "    fun decrement() {\n",
    "        rwLock.write { c-- }\n",
    "    }\n",
    "\n",
    "    fun value(): Int {\n",
    "        return rwLock.read { c }\n",
    "    }\n",
    "}\n"
   ],
   "outputs": [],
   "execution_count": 62
  },
  {
   "metadata": {},
   "cell_type": "markdown",
   "source": [
    "---\n",
    "\n",
    "# The synchronized statemend\n",
    "\n",
    "In the JVM, every object has an intrinsic lock associated with it (aka a monitor)."
   ]
  },
  {
   "metadata": {},
   "cell_type": "code",
   "outputs": [],
   "execution_count": null,
   "source": [
    "class SynchronizedCounter {\n",
    "    private var c = 0\n",
    "\n",
    "    fun increment() {\n",
    "        synchronized(this) { c++ }\n",
    "    }\n",
    "}"
   ]
  },
  {
   "metadata": {},
   "cell_type": "markdown",
   "source": [
    "# synchronized method\n",
    "\n",
    "#### Java:"
   ]
  },
  {
   "metadata": {},
   "cell_type": "code",
   "outputs": [],
   "execution_count": null,
   "source": [
    "public class SynchronizedJavaCounter {\n",
    "    private int c = 0;\n",
    "\n",
    "    public synchronized void increment() {\n",
    "        c++;\n",
    "    }\n",
    "}\n"
   ]
  },
  {
   "metadata": {},
   "cell_type": "markdown",
   "source": "#### Kotlin:"
  },
  {
   "metadata": {},
   "cell_type": "code",
   "outputs": [],
   "execution_count": null,
   "source": [
    "class SynchronizedKotlinCounter {\n",
    "    private var c = 0\n",
    "\n",
    "    @Synchronized\n",
    "    fun increment() {\n",
    "        c++\n",
    "    }\n",
    "}\n"
   ]
  },
  {
   "metadata": {},
   "cell_type": "markdown",
   "source": [
    "---\n",
    "\n",
    "# Concurrent blocking collections\n",
    "\n",
    "`java.util.concurrent` is a Java package that implements both blocking and non-blocking concurrent collections, such as:\n",
    "- `SynchronousQueue` – One-element rendezvous channel \n",
    "- `ArrayBlockingQueue` – Fixed-capacity queue \n",
    "- `LinkedBlockingQueue` – Unbounded blocking queue \n",
    "- `PriorityBlockingQueue` – Unbounded blocking priority queue"
   ]
  },
  {
   "metadata": {},
   "cell_type": "markdown",
   "source": [
    "# Concurrent non-blocking collections\n",
    "\n",
    "`java.util.concurrent` is a Java package that implements both blocking and non-blocking concurrent collections, such as:\n",
    "- `ConcurrentLinkedQueue` – Non-blocking unbounded queue \n",
    "- `ConcurrentLinkedDequeue` – Non-blocking unbounded dequeue \n",
    "- `ConcurrentHashMap` – Concurrent unordered hash-map \n",
    "- `ConcurrentSkipListMap` – Concurrent sorted hash-map"
   ]
  },
  {
   "metadata": {},
   "cell_type": "markdown",
   "source": [
    "# Synchronization primitives\n",
    "\n",
    "`java.util.concurrent` also implements concurrent data structures and synchronization primitives, such as:\n",
    "- `Exchanger` – Blocking exchange \n",
    "- `Phaser` – Barrier synchronization \n",
    "\n",
    "---"
   ]
  },
  {
   "metadata": {},
   "cell_type": "markdown",
   "source": [
    "# Java Memory Model: Weak behaviors\n",
    "\n",
    "There are no guarantees when it comes to ordering!"
   ]
  },
  {
   "metadata": {
    "ExecuteTime": {
     "end_time": "2024-04-03T20:50:41.793998Z",
     "start_time": "2024-04-03T20:50:41.754112Z"
    }
   },
   "cell_type": "code",
   "source": [
    "var x = 0\n",
    "var y = 0\n",
    "\n",
    "\n",
    "thread {\n",
    "    x = 1\n",
    "    y = 1\n",
    "}\n",
    "\n",
    "thread {\n",
    "    val a = y\n",
    "    val b = x\n",
    "\n",
    "    println(\"$a, $b\")\n",
    "}"
   ],
   "outputs": [],
   "execution_count": 63
  },
  {
   "metadata": {},
   "cell_type": "markdown",
   "source": [
    "Possible outputs:\n",
    "- `0, 0`\n",
    "- `0, 1`\n",
    "- `1, 1`\n",
    "- `1, 0` (???)"
   ]
  },
  {
   "metadata": {},
   "cell_type": "markdown",
   "source": "#### There are no guarantees when it comes to progress!"
  },
  {
   "metadata": {
    "ExecuteTime": {
     "end_time": "2024-04-03T21:01:20.840830Z",
     "start_time": "2024-04-03T21:01:20.801835Z"
    }
   },
   "cell_type": "code",
   "source": [
    "var flag = false\n",
    "\n",
    "val t1 = thread {\n",
    "    while (!flag) { }\n",
    "    println(\"I am free!\")\n",
    "}\n",
    "\n",
    "val t2 = thread { \n",
    "    flag = true\n",
    "}\n",
    "\n",
    "t1.join()\n",
    "t2.join()"
   ],
   "outputs": [
    {
     "name": "stdout",
     "output_type": "stream",
     "text": [
      "I am free!\n"
     ]
    }
   ],
   "execution_count": 70
  },
  {
   "metadata": {},
   "cell_type": "markdown",
   "source": [
    "Possible outputs:\n",
    "- \"I am free!\"\n",
    "- Halt\n",
    "\n",
    "---\n",
    "\n",
    "Because the compiler is allowed to do this:"
   ]
  },
  {
   "metadata": {},
   "cell_type": "code",
   "outputs": [],
   "execution_count": null,
   "source": [
    "thread {\n",
    "    while (true) {}\n",
    "    println(\"I am free!\")\n",
    "}"
   ]
  },
  {
   "metadata": {},
   "cell_type": "markdown",
   "source": [
    "---\n",
    "\n",
    "# JMM: Data-Race-Freedom Guarantee\n",
    "\n",
    "But what does JMM guarantee?\n",
    "\n",
    "**Well-synchronized** programs have **simple interleaving semantics**.\n",
    "\n",
    "Well-synchronized = Data-race-free \n",
    "\n",
    "Simple interleaving semantics = Sequentially consistent semantics\n",
    "\n",
    "**Data-race-free** programs have **sequentially consistent semantics**."
   ]
  },
  {
   "metadata": {},
   "cell_type": "markdown",
   "source": [
    "---\n",
    "\n",
    "# Volatile fields\n",
    "\n",
    "Volatile fields can be used to restore **sequential consistency**."
   ]
  },
  {
   "metadata": {},
   "cell_type": "code",
   "outputs": [],
   "execution_count": null,
   "source": [
    "class OrderingTest {\n",
    "    @Volatile var x = 0\n",
    "    @Volatile var y = 0\n",
    "    fun test() {\n",
    "        thread {\n",
    "            x = 1\n",
    "            y = 1\n",
    "        }\n",
    "        thread {\n",
    "            val a = y\n",
    "            val b = x\n",
    "            println(\"$a, $b\")\n",
    "        }\n",
    "    }\n",
    "}"
   ]
  },
  {
   "metadata": {},
   "cell_type": "code",
   "outputs": [],
   "execution_count": null,
   "source": [
    "class ProgressTest {\n",
    "    @Volatile var flag = false\n",
    "    fun test() {\n",
    "        thread {\n",
    "            while (!flag) {}\n",
    "            println(\"I am free!\")\n",
    "        }\n",
    "        thread { flag = true }\n",
    "    }\n",
    "}"
   ]
  },
  {
   "metadata": {},
   "cell_type": "markdown",
   "source": "Volatile variables can be used for synchronization."
  },
  {
   "metadata": {},
   "cell_type": "code",
   "outputs": [],
   "execution_count": null,
   "source": [
    "class OrderingTest {\n",
    "    var x = 0\n",
    "    @Volatile var y = 0\n",
    "    fun test() {\n",
    "        thread {\n",
    "            x = 1\n",
    "            y = 1\n",
    "        }\n",
    "        thread {\n",
    "            val a = y\n",
    "            val b = x\n",
    "            println(\"$a, $b\")\n",
    "        }\n",
    "    }\n",
    "}"
   ]
  },
  {
   "metadata": {},
   "cell_type": "markdown",
   "source": [
    "How do we know there is enough synchronization?\n",
    "\n",
    "---"
   ]
  },
  {
   "metadata": {},
   "cell_type": "markdown",
   "source": [
    "# JMM: Happens-before relation\n",
    "\n",
    "![HB1](./images/6.png)\n",
    "\n",
    "---"
   ]
  },
  {
   "metadata": {},
   "cell_type": "markdown",
   "source": [
    "![HB2](./images/7.png)\n",
    "\n",
    "---"
   ]
  },
  {
   "metadata": {},
   "cell_type": "markdown",
   "source": [
    "![HB3](./images/8.png)\n",
    "\n",
    "---"
   ]
  },
  {
   "metadata": {},
   "cell_type": "markdown",
   "source": [
    "# JMM: Synchronizing actions\n",
    "\n",
    "- Read and write for volatile fields\n",
    "- `Lock.lock` and `Lock.unlock`\n",
    "- `Thread.run` and `Thread.start`, as well as `Thread.join`"
   ]
  },
  {
   "metadata": {
    "ExecuteTime": {
     "end_time": "2024-04-03T21:37:53.483410Z",
     "start_time": "2024-04-03T21:37:53.418061Z"
    }
   },
   "cell_type": "code",
   "source": [
    "class Storage {\n",
    "    @Volatile\n",
    "    var x = 23\n",
    "    private var y = 42\n",
    "    val lock = ReentrantReadWriteLock()\n",
    "    \n",
    "    fun getStored() = lock.read { y }\n",
    "    \n",
    "    fun store(newY: Int) = lock.write { y = newY }\n",
    "    \n",
    "    fun print(marker: String? = null) = lock.read { println(\"${marker?.let { \"$it: \" } ?: \"\"}$x, $y\") }\n",
    "}"
   ],
   "outputs": [],
   "execution_count": 75
  },
  {
   "metadata": {
    "ExecuteTime": {
     "end_time": "2024-04-03T21:40:20.374944Z",
     "start_time": "2024-04-03T21:40:20.325423Z"
    }
   },
   "cell_type": "code",
   "source": [
    "val s = Storage()\n",
    "s.print() // 23, 42\n",
    "val t1 = thread {\n",
    "    s.store(44)\n",
    "    s.x = -1\n",
    "    s.print(\"t1\")\n",
    "}\n",
    "val t2 = thread {\n",
    "    s.print(\"t2\")\n",
    "}\n",
    "val t3 = thread {\n",
    "    s.x = 777\n",
    "    s.store(66)\n",
    "}\n",
    "\n",
    "t1.join()\n",
    "t2.join()\n",
    "s.print() // never 23, 42\n",
    "t3.join()\n",
    "s.print()"
   ],
   "outputs": [
    {
     "name": "stdout",
     "output_type": "stream",
     "text": [
      "23, 42\n",
      "t1: -1, 44\n",
      "t2: -1, 44\n",
      "-1, 44\n",
      "777, 66\n"
     ]
    }
   ],
   "execution_count": 81
  },
  {
   "metadata": {},
   "cell_type": "markdown",
   "source": [
    "---\n",
    "\n",
    "# JMM: DRF-SC again\n",
    "\n",
    "Two events form a data race if:\n",
    "- Both are memory accesses to the same field. \n",
    "- Both are **plain** (non-atomic) accesses.\n",
    "- At least one of them is a *write* event.\n",
    "- They are not related by *happens before*.\n",
    "\n",
    "Data-race-free programs have sequentially consistent semantics.\n",
    "\n",
    "A program is data-race-free if, **for every possible execution** of this program, **no** two events form a **data race**.\n",
    "\n",
    "---"
   ]
  },
  {
   "metadata": {},
   "cell_type": "markdown",
   "source": "# JMM: Atomics aka Danger Zone"
  },
  {
   "metadata": {
    "ExecuteTime": {
     "end_time": "2024-04-03T21:41:46.974670Z",
     "start_time": "2024-04-03T21:41:46.945450Z"
    }
   },
   "cell_type": "code",
   "source": [
    "import java.util.concurrent.atomic.AtomicInteger\n",
    "\n",
    "class AtomicCounter {\n",
    "    private val c = AtomicInteger()\n",
    "\n",
    "    fun increment() {\n",
    "        c.incrementAndGet()\n",
    "    }\n",
    "\n",
    "    fun decrement() {\n",
    "        c.decrementAndGet()\n",
    "    }\n",
    "\n",
    "    fun value(): Int {\n",
    "        return c.get()\n",
    "    }\n",
    "}"
   ],
   "outputs": [],
   "execution_count": 82
  },
  {
   "metadata": {},
   "cell_type": "markdown",
   "source": [
    "Atomic classes from package the `java.util.concurrent.atomic` package:\n",
    "- `AtomicInteger`\n",
    "- `AtomicLong`\n",
    "- `AtomicBoolean`\n",
    "- `AtomicReference`\n",
    "\n",
    "And their array counterparts:\n",
    "- `AtomicIntegerArray`\n",
    "- `AtomicLongArray`\n",
    "- `AtomicReferenceArray`\n"
   ]
  },
  {
   "metadata": {
    "ExecuteTime": {
     "end_time": "2024-04-04T10:16:23.223904Z",
     "start_time": "2024-04-04T10:16:23.175427Z"
    }
   },
   "cell_type": "code",
   "source": [
    "val atomicInteger = AtomicInteger(23)\n",
    "\n",
    "atomicInteger.get() // Reads a value with volatile semantics\n",
    "atomicInteger.set(42) // Writes a value with volatile semantics\n",
    "atomicInteger.getAndSet(66) // Atomically exchanges a value\n",
    "/* \n",
    "    Atomically compares a value of atomic variable  with the expected value -  e.\n",
    "    If they are equal, replaces content of atomic variable  with the desired value - v.\n",
    "    Returns a boolean indicating success or failure.\n",
    " */\n",
    "val t = thread {\n",
    "    var attemptCount = 0\n",
    "    val e = 777\n",
    "    val v = 1024\n",
    "    while (!atomicInteger.compareAndSet(e, v)) {\n",
    "        println(\"${attemptCount++} failed attempts to set\")\n",
    "        if (attemptCount > 10) break\n",
    "    }\n",
    "}\n",
    "thread {\n",
    "    val e = 66\n",
    "    val v = 777\n",
    "    // Atomically compares a value with an expected value, e, and if they are equal, replaces with the desired value, v; returns a read value .\n",
    "    atomicInteger.compareAndExchange(e, v)\n",
    "}\n",
    "// getAndIncrement(), addAndGet(d), etc – Perform Atomic arithmetic operations for numeric atomics (AtomicInteger, AtomicLong).\n",
    "\n",
    "t.join()\n",
    "println(atomicInteger.get())"
   ],
   "outputs": [
    {
     "name": "stdout",
     "output_type": "stream",
     "text": [
      "0 failed attempts to set\n",
      "1024\n"
     ]
    }
   ],
   "execution_count": 87
  },
  {
   "metadata": {},
   "cell_type": "markdown",
   "source": [
    "There are more methods of atomic classes:\n",
    "* `getXXX()`\n",
    "* `setXXX(v)`\n",
    "* `weakCompareAndSetXXX(e, v)`\n",
    "* `compareAndExchangeXXX(e, v)`\n",
    "\n",
    "In these cases, `XXX` is an access mode: `Acquire`, `Release`, `Opaque`, `Plain`.  \n",
    "You can learn more about Java Access Modes [here](https://gee.cs.oswego.edu/dl/html/j9mm.html).\n",
    "\n",
    "---\n"
   ]
  },
  {
   "metadata": {},
   "cell_type": "markdown",
   "source": "# JMM: Atomics Problem"
  },
  {
   "metadata": {},
   "cell_type": "code",
   "outputs": [],
   "execution_count": null,
   "source": [
    "import java.util.concurrent.atomic.AtomicReference\n",
    "\n",
    "class Node<T>(val value: T) {\n",
    "    val next = AtomicReference<Node<T>>()\n",
    "}"
   ]
  },
  {
   "metadata": {},
   "cell_type": "markdown",
   "source": [
    "![Atomics Problem](./images/9.jpeg)\n",
    "\n",
    "---"
   ]
  },
  {
   "metadata": {},
   "cell_type": "markdown",
   "source": [
    "# JMM: Atomic field updaters\n",
    "\n",
    "Use `AtomicXXXFieldUpdater` classes to directly modify volatile fields: "
   ]
  },
  {
   "metadata": {},
   "cell_type": "code",
   "outputs": [],
   "execution_count": null,
   "source": [
    "import java.util.concurrent.atomic.AtomicIntegerFieldUpdater\n",
    "\n",
    "class Counter {\n",
    "    @Volatile private var c = 0\n",
    "    companion object {\n",
    "        private val updater = AtomicIntegerFieldUpdater.newUpdater(Counter::class.java, \"c\")\n",
    "    }\n",
    "    fun increment() {\n",
    "        updater.incrementAndGet(this)\n",
    "    }\n",
    "    fun decrement() {\n",
    "        updater.decrementAndGet(this)\n",
    "    }\n",
    "    fun value(): Int {\n",
    "        return updater.get(this)\n",
    "    }\n",
    "}"
   ]
  },
  {
   "metadata": {},
   "cell_type": "markdown",
   "source": [
    "Starting from JDK9, there is also the `VarHandle` class, which serves a similar purpose.\n",
    "\n",
    "---"
   ]
  },
  {
   "metadata": {},
   "cell_type": "markdown",
   "source": [
    "# Kotlin: AtomicFU\n",
    "\n",
    "[The AtomicFU library](https://github.com/Kotlin/kotlinx-atomicfu) is the recommended way to use atomic operations in Kotlin.\n",
    "* It provides `AtomicXXX` classes with API similar to Java atomics.\n",
    "* Under the hood _a compiler plugin_ replaces usage of atomics to `AtomicXXXFieldUpdater` or `VarHandle`.\n",
    "* It also provides convenient extension functions, e.g. `c.update { it + 1 }`"
   ]
  },
  {
   "metadata": {
    "ExecuteTime": {
     "end_time": "2024-04-04T10:43:54.793089Z",
     "start_time": "2024-04-04T10:43:54.777099Z"
    }
   },
   "cell_type": "code",
   "source": [
    "import kotlinx.atomicfu.*\n",
    "\n",
    "class Counter {\n",
    "    private val c = atomic(0)\n",
    "    \n",
    "    fun increment() {\n",
    "        c += 1\n",
    "    }\n",
    "    \n",
    "    fun decrement() {\n",
    "        c -= 1\n",
    "    }\n",
    "    \n",
    "    fun value(): Int {\n",
    "        return c.value\n",
    "    }\n",
    "}\n",
    "\n",
    "println(\"???\")"
   ],
   "outputs": [
    {
     "name": "stderr",
     "output_type": "stream",
     "text": [
      "Line_96.jupyter.kts (4:21 - 27) Unresolved reference: atomic\n",
      "Line_96.jupyter.kts (7:11 - 13) Function '<Error function>' should return Unit to be used by corresponding operator '+='\n",
      "Line_96.jupyter.kts (11:11 - 13) Function '<Error function>' should return Unit to be used by corresponding operator '-='"
     ]
    }
   ],
   "execution_count": 95
  }
 ],
 "metadata": {
  "kernelspec": {
   "display_name": "Kotlin",
   "language": "kotlin",
   "name": "kotlin"
  },
  "language_info": {
   "name": "kotlin",
   "version": "1.9.0",
   "mimetype": "text/x-kotlin",
   "file_extension": ".kt",
   "pygments_lexer": "kotlin",
   "codemirror_mode": "text/x-kotlin",
   "nbconvert_exporter": ""
  }
 },
 "nbformat": 4,
 "nbformat_minor": 0
}
