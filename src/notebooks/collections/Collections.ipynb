{
 "cells": [
  {
   "cell_type": "markdown",
   "source": [
    "<img alt=\"Cover\" src=\"./images/1.cover.png\" width=\"2000\" />\n",
    "\n",
    "---"
   ],
   "metadata": {
    "collapsed": false
   }
  },
  {
   "cell_type": "markdown",
   "source": [
    "# What are they?\n",
    "\n",
    "<font size=\"5\">A collection usually contains a number of objects (this number may also be zero) of the same type.</font>\n",
    "\n",
    "<font size=\"5\">Objects in a collection are called elements or items.</font>\n",
    "\n",
    "<font size=\"5\">- Lists are ordered collections with access to elements by indices – integer numbers that reflect their position. Elements can occur more than once in a list.</font>\n",
    "<font size=\"5\">- Sets are collections of unique elements. They reflect the mathematical abstraction of “set”: a group of objects without duplicates.</font>\n",
    "<font size=\"5\">- Maps (or dictionaries) are sets of key-value pairs. The keys are unique, and each of them maps to exactly one value, while the values can be duplicated.</font>\n",
    "\n",
    "---"
   ],
   "metadata": {
    "collapsed": false
   }
  },
  {
   "cell_type": "code",
   "outputs": [
    {
     "name": "stdout",
     "output_type": "stream",
     "text": [
      "[1, 2, 3, 1, 1, 1]\n",
      "[1, 2]\n",
      "{1=one111, 2=two, 3=two}\n"
     ]
    }
   ],
   "source": [
    "val l = listOf(1, 2, 3, 1, 1, 1)\n",
    "//l.add(1)\n",
    "val l2 = listOf(\"map\")\n",
    "val s = setOf(1, 2, 1, 1)\n",
    "//println(l)\n",
    "println(s)\n",
    "\n",
    "val m = mapOf(1 to \"one\", 2 to \"two\", 1 to \"one111\", 3 to \"two\")\n",
    "println(m)\n",
    "\n",
    "open class A\n",
    "class B: A()\n",
    "val l = listOf(A(), B())"
   ],
   "metadata": {
    "collapsed": false,
    "ExecuteTime": {
     "end_time": "2024-03-13T08:32:17.846770Z",
     "start_time": "2024-03-13T08:32:17.736315Z"
    }
   },
   "execution_count": 3
  },
  {
   "cell_type": "markdown",
   "source": [
    "# How can they be used?\n",
    "\n",
    "<font size=\"5\">Kotlin lets you manipulate collections independently of the exact types of objects stored in them.</font>\n",
    "\n",
    "<font size=\"5\">In other words, you add a `String` to a list of `Strings` the same way as you would do with `Ints` or a user-defined class.</font>\n",
    "\n",
    "<font size=\"5\">So, the Kotlin Standard Library offers generic interfaces, classes, and functions for creating, populating, and managing collections of any type.</font>\n",
    "\n",
    "---"
   ],
   "metadata": {
    "collapsed": false
   }
  },
  {
   "cell_type": "markdown",
   "source": [
    "# Taxonomy of collections\n",
    "\n",
    "<img alt=\"Cover\" src=\"./images/2.png\" width=\"3000\" />\n",
    "\n",
    "---"
   ],
   "metadata": {
    "collapsed": false
   }
  },
  {
   "cell_type": "markdown",
   "source": [
    "# Iterable\n",
    "\n",
    "<font size=\"5\">All collections in Kotlin implement Iterable interface:</font>"
   ],
   "metadata": {
    "collapsed": false
   }
  },
  {
   "cell_type": "code",
   "outputs": [],
   "source": [
    "// THIS CODE IS FROM KOTLIN STDLIB, YOU DON'T NEED TO IMPLEMEMNT IT FROM SCRATCH\n",
    "\n",
    "/**\n",
    "* Classes that inherit from this interface can be represented as a sequence of elements that can be\n",
    "iterated over.\n",
    "* @param T is the type of element being iterated over. The iterator is covariant in its element type.\n",
    "*/\n",
    "public interface Iterable<out T> {\n",
    "    // Returns an iterator over the elements of this object.\n",
    "   public operator fun iterator(): Iterator<T>\n",
    "}"
   ],
   "metadata": {
    "collapsed": false,
    "ExecuteTime": {
     "end_time": "2024-03-13T08:37:43.692119Z",
     "start_time": "2024-03-13T08:37:43.583157Z"
    }
   },
   "execution_count": 4
  },
  {
   "cell_type": "code",
   "outputs": [],
   "source": [
    "interface MyNumber<T> {\n",
    "    val number: Number\n",
    "    \n",
    "    fun nextNumber(): T\n",
    "}\n",
    "data class MyIntNumber(override var number: Int) : MyNumber<MyIntNumber> {\n",
    "    override fun nextNumber() = MyIntNumber(number + 1).also{ number++ }\n",
    "}\n",
    "\n",
    "data class MyDoubleNumber(override var number: Double) : MyNumber<MyDoubleNumber> {\n",
    "    override fun nextNumber() = MyDoubleNumber(number + 1.0).also{ number += 1.0 }\n",
    "}\n",
    "\n",
    "class MyIterable<T: MyNumber<T>>(val myNumber: T) : Iterable<T> {\n",
    "    override fun iterator(): Iterator<T> = object : Iterator<T> {\n",
    "        var counter = 0\n",
    "        override fun hasNext() = (counter < 10).also{ counter++ }\n",
    "\n",
    "        override fun next(): T = myNumber.nextNumber()\n",
    "    }\n",
    "}"
   ],
   "metadata": {
    "collapsed": false,
    "ExecuteTime": {
     "end_time": "2024-03-13T08:39:27.368530Z",
     "start_time": "2024-03-13T08:39:27.187643Z"
    }
   },
   "execution_count": 6
  },
  {
   "cell_type": "code",
   "outputs": [],
   "source": [
    "fun demo(): Iterable<MyNumber<MyIntNumber>> = MyIterable<MyIntNumber>(MyIntNumber(10))"
   ],
   "metadata": {
    "collapsed": false,
    "ExecuteTime": {
     "end_time": "2024-03-13T08:40:03.777283Z",
     "start_time": "2024-03-13T08:40:03.723242Z"
    }
   },
   "execution_count": 9
  },
  {
   "cell_type": "code",
   "outputs": [
    {
     "name": "stdout",
     "output_type": "stream",
     "text": [
      "MyIntNumber(number=11)\n",
      "MyIntNumber(number=12)\n",
      "MyIntNumber(number=13)\n",
      "MyIntNumber(number=14)\n",
      "MyIntNumber(number=15)\n",
      "MyIntNumber(number=16)\n",
      "MyIntNumber(number=17)\n",
      "MyIntNumber(number=18)\n",
      "MyIntNumber(number=19)\n",
      "MyIntNumber(number=20)\n"
     ]
    }
   ],
   "source": [
    "val myIntNumber = demo()\n",
    "val iterator = myIntNumber.iterator()\n",
    "while(iterator.hasNext()) {\n",
    "    println(iterator.next())\n",
    "}"
   ],
   "metadata": {
    "collapsed": false,
    "ExecuteTime": {
     "end_time": "2024-03-13T08:40:05.239436Z",
     "start_time": "2024-03-13T08:40:05.172569Z"
    }
   },
   "execution_count": 10
  },
  {
   "cell_type": "markdown",
   "source": [
    "<font size=\"5\">All collections in Kotlin are `Iterable`:</font>"
   ],
   "metadata": {
    "collapsed": false
   }
  },
  {
   "cell_type": "code",
   "outputs": [
    {
     "name": "stdout",
     "output_type": "stream",
     "text": [
      "1\n",
      "2\n",
      "3\n"
     ]
    }
   ],
   "source": [
    "val iterator = listOf(1, 2, 3).iterator() \n",
    "while (iterator.hasNext()) {\n",
    "   println(iterator.next())\n",
    "}"
   ],
   "metadata": {
    "collapsed": false,
    "ExecuteTime": {
     "end_time": "2024-03-13T08:40:33.524635Z",
     "start_time": "2024-03-13T08:40:33.443062Z"
    }
   },
   "execution_count": 11
  },
  {
   "cell_type": "code",
   "outputs": [
    {
     "name": "stdout",
     "output_type": "stream",
     "text": [
      "1=one\n",
      "2=two\n",
      "3=three\n"
     ]
    }
   ],
   "source": [
    "val iterator = mapOf(1 to \"one\", 2 to \"two\", 3 to \"three\").iterator() \n",
    "while (iterator.hasNext()) {\n",
    "   println(iterator.next())\n",
    "}"
   ],
   "metadata": {
    "collapsed": false,
    "ExecuteTime": {
     "end_time": "2024-03-13T08:40:42.351119Z",
     "start_time": "2024-03-13T08:40:42.270500Z"
    }
   },
   "execution_count": 12
  },
  {
   "cell_type": "markdown",
   "source": [
    "<font size=\"5\">But some of them are `MutableIterable`:</font>"
   ],
   "metadata": {
    "collapsed": false
   }
  },
  {
   "cell_type": "code",
   "outputs": [
    {
     "name": "stdout",
     "output_type": "stream",
     "text": [
      "1\n",
      "2\n",
      "3\n"
     ]
    }
   ],
   "source": [
    "val iterator = mutableListOf(1, 2, 3).iterator() \n",
    "while (iterator.hasNext()) {\n",
    "    println(iterator.next())\n",
    "    iterator.remove() // Because it is a mutable iterator\n",
    "}"
   ],
   "metadata": {
    "collapsed": false,
    "ExecuteTime": {
     "end_time": "2024-03-13T08:42:12.517898Z",
     "start_time": "2024-03-13T08:42:12.447532Z"
    }
   },
   "execution_count": 13
  },
  {
   "cell_type": "markdown",
   "source": [
    "---\n",
    "\n",
    "# Different kinds of collections\n",
    "\n",
    "<font size=\"5\">There are 2 kinds of collections: `Collection` and `MutableCollection`. `Collection` implements only `Iterable` interface, while `MutableCollection` implements `Collection` and `MutableIterable` interfaces.</font>\n",
    "\n",
    "<font size=\"5\">`Collection` allows you to read values and make the collection **immutable**.</font>\n",
    "\n",
    "<font size=\"5\">`MutableCollection` allows you to change the collection, for example by adding or removing elements. In other words, it\n",
    "makes the collection **mutable**.</font>"
   ],
   "metadata": {
    "collapsed": false
   }
  },
  {
   "cell_type": "code",
   "outputs": [
    {
     "name": "stderr",
     "output_type": "stream",
     "text": [
      "Line_30.jupyter.kts (2:28 - 29) Expecting an element\n",
      "Line_30.jupyter.kts (2:35 - 36) Expecting an element\n",
      "Line_30.jupyter.kts (2:57 - 58) Expecting an element"
     ]
    }
   ],
   "source": [
    "val readonlyCollection = listOf(1, 2, 3)\n",
    "readonlyCollection.add(4) // ERROR: Unresolved reference: add"
   ],
   "metadata": {
    "collapsed": false,
    "ExecuteTime": {
     "end_time": "2024-03-08T11:01:46.045456Z",
     "start_time": "2024-03-08T11:01:45.956170Z"
    }
   },
   "execution_count": 30
  },
  {
   "cell_type": "code",
   "outputs": [
    {
     "name": "stdout",
     "output_type": "stream",
     "text": [
      "[1, 2, 3, 4]\n"
     ]
    }
   ],
   "source": [
    "val mutableCollection = mutableListOf(1, 2, 3) \n",
    "mutableCollection.add(4) // OK\n",
    "println(mutableCollection)"
   ],
   "metadata": {
    "collapsed": false,
    "ExecuteTime": {
     "end_time": "2024-03-13T08:44:14.337052Z",
     "start_time": "2024-03-13T08:44:14.266092Z"
    }
   },
   "execution_count": 14
  },
  {
   "cell_type": "markdown",
   "source": [
    "---\n",
    "\n",
    "# Mutable Collection != Mutable Variable\n",
    "\n",
    "<font size=\"5\">If you create a mutable collection, you **cannot** reassign the val variable.</font>"
   ],
   "metadata": {
    "collapsed": false
   }
  },
  {
   "cell_type": "code",
   "outputs": [
    {
     "name": "stderr",
     "output_type": "stream",
     "text": [
      "Line_34.jupyter.kts (3:1 - 18) Val cannot be reassigned"
     ]
    }
   ],
   "source": [
    "val mutableCollection = mutableListOf(1, 2, 3)\n",
    "mutableCollection.add(4) // OK\n",
    "mutableCollection = mutableListOf(4, 5, 6) // ERROR: Val cannot be reassigned"
   ],
   "metadata": {
    "collapsed": false,
    "ExecuteTime": {
     "end_time": "2024-03-08T11:04:35.474136Z",
     "start_time": "2024-03-08T11:04:35.271917Z"
    }
   },
   "execution_count": 34
  },
  {
   "cell_type": "markdown",
   "source": [
    "<font size=\"5\">But you can reassign `var`:</font>"
   ],
   "metadata": {
    "collapsed": false
   }
  },
  {
   "cell_type": "code",
   "outputs": [],
   "source": [
    "var mutableCollection = mutableListOf(1, 2, 3) \n",
    "mutableCollection.add(4) // OK \n",
    "mutableCollection = mutableListOf(4, 5, 6) // OK"
   ],
   "metadata": {
    "collapsed": false,
    "ExecuteTime": {
     "end_time": "2024-03-08T11:05:48.593098Z",
     "start_time": "2024-03-08T11:05:48.091992Z"
    }
   },
   "execution_count": 35
  },
  {
   "cell_type": "markdown",
   "source": [
    "---\n",
    "\n",
    "# The anatomy of a collection\n",
    "\n",
    "<img alt=\"Cover\" src=\"./images/3.png\" width=\"2500\" />\n",
    "\n",
    "<font size=\"5\">Each collection has several **base** methods:</font>"
   ],
   "metadata": {
    "collapsed": false
   }
  },
  {
   "cell_type": "markdown",
   "source": [
    "<img alt=\"Cover\" src=\"./images/4.png\" width=\"2500\" />"
   ],
   "metadata": {
    "collapsed": false
   }
  },
  {
   "cell_type": "markdown",
   "source": [
    "<font size=\"5\">Actually there are **many** extensions:</font>\n",
    "\n",
    "<img alt=\"Cover\" src=\"./images/5.png\" width=\"2500\" />"
   ],
   "metadata": {
    "collapsed": false
   }
  },
  {
   "cell_type": "code",
   "outputs": [
    {
     "name": "stdout",
     "output_type": "stream",
     "text": [
      "0\n",
      "1\n",
      "2\n"
     ]
    }
   ],
   "source": [
    "for (i in listOf(1, 2, 3).indices) {\n",
    "    println(i)\n",
    "}"
   ],
   "metadata": {
    "collapsed": false,
    "ExecuteTime": {
     "end_time": "2024-03-13T08:57:24.980745Z",
     "start_time": "2024-03-13T08:57:24.754513Z"
    }
   },
   "execution_count": 15
  },
  {
   "cell_type": "markdown",
   "source": [
    "---\n",
    "\n",
    "# Сollections under the hood: List\n",
    "\n",
    "<img alt=\"Cover\" src=\"./images/6.png\" width=\"2500\" />"
   ],
   "metadata": {
    "collapsed": false
   }
  },
  {
   "cell_type": "code",
   "outputs": [
    {
     "name": "stdout",
     "output_type": "stream",
     "text": [
      "3\n"
     ]
    }
   ],
   "source": [
    "val l = listOf(1, 2, 3)\n",
    "println(l[2])"
   ],
   "metadata": {
    "collapsed": false,
    "ExecuteTime": {
     "end_time": "2024-03-13T08:58:51.891580Z",
     "start_time": "2024-03-13T08:58:51.770377Z"
    }
   },
   "execution_count": 16
  },
  {
   "cell_type": "code",
   "outputs": [
    {
     "name": "stdout",
     "output_type": "stream",
     "text": [
      "Before changes: [1, 2, 3] and [1]\n"
     ]
    }
   ],
   "source": [
    "val list1 = mutableListOf(1, 2, 3)\n",
    "val list2 = list1.subList(0, 1)\n",
    "println(\"Before changes: $list1 and $list2\")"
   ],
   "metadata": {
    "collapsed": false,
    "ExecuteTime": {
     "end_time": "2024-03-13T08:59:57.622731Z",
     "start_time": "2024-03-13T08:59:57.510039Z"
    }
   },
   "execution_count": 17
  },
  {
   "cell_type": "code",
   "outputs": [
    {
     "name": "stdout",
     "output_type": "stream",
     "text": [
      "After changes: [2, 2, 3] and [2]\n"
     ]
    }
   ],
   "source": [
    "list1[0] += 1\n",
    "println(\"After changes: $list1 and $list2\")"
   ],
   "metadata": {
    "collapsed": false,
    "ExecuteTime": {
     "end_time": "2024-03-13T09:00:13.354889Z",
     "start_time": "2024-03-13T09:00:13.292625Z"
    }
   },
   "execution_count": 18
  },
  {
   "cell_type": "code",
   "outputs": [
    {
     "name": "stdout",
     "output_type": "stream",
     "text": [
      "After changes: [3, 2, 3] and [3]\n"
     ]
    }
   ],
   "source": [
    "list2[0] += 1\n",
    "println(\"After changes: $list1 and $list2\")"
   ],
   "metadata": {
    "collapsed": false,
    "ExecuteTime": {
     "end_time": "2024-03-13T09:00:20.024660Z",
     "start_time": "2024-03-13T09:00:19.930664Z"
    }
   },
   "execution_count": 19
  },
  {
   "cell_type": "markdown",
   "source": [
    "<font size=\"5\">To create a new list you can use special **builders** (by default `ArrayList`):</font>"
   ],
   "metadata": {
    "collapsed": false
   }
  },
  {
   "cell_type": "code",
   "outputs": [
    {
     "name": "stdout",
     "output_type": "stream",
     "text": [
      "[]\n"
     ]
    }
   ],
   "source": [
    "val list1 = emptyList<Int>() // Builds the internal object EmptyList\n",
    "println(list1)"
   ],
   "metadata": {
    "collapsed": false,
    "ExecuteTime": {
     "end_time": "2024-03-08T11:19:31.336803Z",
     "start_time": "2024-03-08T11:19:31.054817Z"
    }
   },
   "execution_count": 41
  },
  {
   "cell_type": "code",
   "outputs": [
    {
     "name": "stdout",
     "output_type": "stream",
     "text": [
      "[]\n"
     ]
    }
   ],
   "source": [
    "val list2 = listOf<Int>() // Calls emptyList()\n",
    "println(list2)"
   ],
   "metadata": {
    "collapsed": false,
    "ExecuteTime": {
     "end_time": "2024-03-13T09:05:46.988551Z",
     "start_time": "2024-03-13T09:05:46.939685Z"
    }
   },
   "execution_count": 20
  },
  {
   "cell_type": "code",
   "outputs": [
    {
     "name": "stdout",
     "output_type": "stream",
     "text": [
      "[1, 2, 3]\n"
     ]
    }
   ],
   "source": [
    "val list3 = listOf(1, 2, 3) // The type can be inferred\n",
    "println(list3)        "
   ],
   "metadata": {
    "collapsed": false,
    "ExecuteTime": {
     "end_time": "2024-03-08T11:19:53.439148Z",
     "start_time": "2024-03-08T11:19:53.314602Z"
    }
   },
   "execution_count": 43
  },
  {
   "cell_type": "code",
   "outputs": [],
   "source": [
    "val list4 = mutableListOf<Int>() // Calls: ArrayList<Int>()\n",
    "println(list4) "
   ],
   "metadata": {
    "collapsed": false
   },
   "execution_count": null
  },
  {
   "cell_type": "code",
   "outputs": [],
   "source": [
    "val listDemo: List<Int> = ArrayList<Int>()\n",
    "listDemo.add(5) // ERROR, since it will be immutable List"
   ],
   "metadata": {
    "collapsed": false
   },
   "execution_count": null
  },
  {
   "cell_type": "code",
   "outputs": [],
   "source": [
    "val listDemo1: MutableList<Int> = ArrayList<Int>()\n",
    "listDemo1.add(5) // OK, since it will be MutableList"
   ],
   "metadata": {
    "collapsed": false
   },
   "execution_count": null
  },
  {
   "cell_type": "code",
   "outputs": [
    {
     "name": "stdout",
     "output_type": "stream",
     "text": [
      "[]\n"
     ]
    }
   ],
   "source": [
    "val listDemo2 = ArrayList<Int>()\n",
    "listDemo2.add(5) // OK, since it will be casted to MutableList automatically"
   ],
   "metadata": {
    "collapsed": false,
    "ExecuteTime": {
     "end_time": "2024-03-08T11:20:41.826343Z",
     "start_time": "2024-03-08T11:20:41.326240Z"
    }
   },
   "execution_count": 44
  },
  {
   "cell_type": "code",
   "outputs": [
    {
     "name": "stdout",
     "output_type": "stream",
     "text": [
      "[1, 2, 3]\n"
     ]
    }
   ],
   "source": [
    "val list5 = mutableListOf(1, 2, 3) // The type can be inferred\n",
    "println(list5)  "
   ],
   "metadata": {
    "collapsed": false,
    "ExecuteTime": {
     "end_time": "2024-03-13T09:13:48.222921Z",
     "start_time": "2024-03-13T09:13:48.132226Z"
    }
   },
   "execution_count": 21
  },
  {
   "cell_type": "code",
   "outputs": [
    {
     "name": "stdout",
     "output_type": "stream",
     "text": [
      "[1, 2, 3, 5]\n"
     ]
    }
   ],
   "source": [
    "val list6 = buildList {\n",
    "    // constructs MutableList<Int>\n",
    "    add(5)\n",
    "    addAll(0, listOf(1, 2, 3))\n",
    "}\n",
    "println(list6)  "
   ],
   "metadata": {
    "collapsed": false,
    "ExecuteTime": {
     "end_time": "2024-03-13T09:14:19.269495Z",
     "start_time": "2024-03-13T09:14:19.180512Z"
    }
   },
   "execution_count": 22
  },
  {
   "cell_type": "markdown",
   "source": [
    "---\n",
    "\n",
    "# Сollections under the hood: Set\n",
    "\n",
    "<img alt=\"Cover\" src=\"./images/7.png\" width=\"2500\" />\n",
    "\n",
    "<font size=\"5\">A generic unordered collection of elements that does not support duplicate elements.</font>\n",
    "\n",
    "<font size=\"5\">It compares objects via the `equals` method instead of checking if the objects are the _same_.</font>"
   ],
   "metadata": {
    "collapsed": false
   }
  },
  {
   "cell_type": "code",
   "outputs": [
    {
     "name": "stdout",
     "output_type": "stream",
     "text": [
      "1 1\n",
      "1 2\n"
     ]
    }
   ],
   "source": [
    "class A(val primary: Int, val secondary: Int)\n",
    " \n",
    "val a = A(1,1)\n",
    "val b = A(1,2)\n",
    "val mySet1 = setOf(a, b) // two elements\n",
    "mySet1.forEach {\n",
    "    println(\"${it.primary} ${it.secondary}\")\n",
    "}"
   ],
   "metadata": {
    "collapsed": false,
    "ExecuteTime": {
     "end_time": "2024-03-13T09:15:51.172465Z",
     "start_time": "2024-03-13T09:15:51.068499Z"
    }
   },
   "execution_count": 23
  },
  {
   "cell_type": "code",
   "outputs": [],
   "source": [
    "class B(val primary: Int, val secondary: Int) {\n",
    "    override fun hashCode(): Int = primary\n",
    "     // Use only primary\n",
    "    override fun equals(other: Any?) = primary == (other as? B)?.primary\n",
    "}"
   ],
   "metadata": {
    "collapsed": false,
    "ExecuteTime": {
     "end_time": "2024-03-13T09:16:41.686090Z",
     "start_time": "2024-03-13T09:16:41.623808Z"
    }
   },
   "execution_count": 25
  },
  {
   "cell_type": "code",
   "outputs": [
    {
     "name": "stdout",
     "output_type": "stream",
     "text": [
      "1 1\n"
     ]
    }
   ],
   "source": [
    "val a = B(1,1)\n",
    "val b = B(1,2)\n",
    "val mySet2 = setOf(a, b) // only one element\n",
    "mySet2.forEach {\n",
    "    println(\"${it.primary} ${it.secondary}\")\n",
    "}"
   ],
   "metadata": {
    "collapsed": false,
    "ExecuteTime": {
     "end_time": "2024-03-13T09:16:43.041686Z",
     "start_time": "2024-03-13T09:16:42.971921Z"
    }
   },
   "execution_count": 26
  },
  {
   "cell_type": "markdown",
   "source": [
    "<font size=\"5\">To create a new set you can use special **builders** (by default `LinkedHashSet`):</font>"
   ],
   "metadata": {
    "collapsed": false
   }
  },
  {
   "cell_type": "code",
   "outputs": [
    {
     "name": "stdout",
     "output_type": "stream",
     "text": [
      "[]\n"
     ]
    }
   ],
   "source": [
    "val set1 = emptySet<Int>() // Builds the internal object EmptySet\n",
    "println(set1)"
   ],
   "metadata": {
    "collapsed": false,
    "ExecuteTime": {
     "end_time": "2024-03-08T11:27:06.281852Z",
     "start_time": "2024-03-08T11:27:05.400636Z"
    }
   },
   "execution_count": 54
  },
  {
   "cell_type": "code",
   "outputs": [
    {
     "name": "stdout",
     "output_type": "stream",
     "text": [
      "[]\n"
     ]
    }
   ],
   "source": [
    "val set2 = setOf<Int>() // Calls emptySet()\n",
    "println(set2)"
   ],
   "metadata": {
    "collapsed": false,
    "ExecuteTime": {
     "end_time": "2024-03-08T11:27:20.574555Z",
     "start_time": "2024-03-08T11:27:20.375657Z"
    }
   },
   "execution_count": 55
  },
  {
   "cell_type": "code",
   "outputs": [
    {
     "name": "stdout",
     "output_type": "stream",
     "text": [
      "[1, 2, 3]\n"
     ]
    }
   ],
   "source": [
    "val set3 = setOf(1, 2, 3) // The type can be inferred\n",
    "println(set3)"
   ],
   "metadata": {
    "collapsed": false,
    "ExecuteTime": {
     "end_time": "2024-03-08T11:27:40.265900Z",
     "start_time": "2024-03-08T11:27:40.143301Z"
    }
   },
   "execution_count": 56
  },
  {
   "cell_type": "code",
   "outputs": [
    {
     "name": "stdout",
     "output_type": "stream",
     "text": [
      "[]\n"
     ]
    }
   ],
   "source": [
    "val set4 = mutableSetOf<Int>() // You can use: LinkedHashSet<Int>() or HashSet<Int>()\n",
    "println(set4)"
   ],
   "metadata": {
    "collapsed": false,
    "ExecuteTime": {
     "end_time": "2024-03-08T11:27:58.449297Z",
     "start_time": "2024-03-08T11:27:58.170749Z"
    }
   },
   "execution_count": 57
  },
  {
   "cell_type": "code",
   "outputs": [
    {
     "name": "stdout",
     "output_type": "stream",
     "text": [
      "[1, 2, 3]\n"
     ]
    }
   ],
   "source": [
    "val set5 = HashSet<Int>() // The type can be inferred\n",
    "println(set5)"
   ],
   "metadata": {
    "collapsed": false,
    "ExecuteTime": {
     "end_time": "2024-03-08T11:28:12.273949Z",
     "start_time": "2024-03-08T11:28:12.152374Z"
    }
   },
   "execution_count": 58
  },
  {
   "cell_type": "code",
   "outputs": [
    {
     "name": "stdout",
     "output_type": "stream",
     "text": [
      "[5, 1, 2, 3]\n"
     ]
    }
   ],
   "source": [
    "val set6 = buildSet {\n",
    "    // constructs MutableSet<Int>\n",
    "    add(5)\n",
    "    addAll(listOf(1, 2, 3))\n",
    "}\n",
    "println(set6)"
   ],
   "metadata": {
    "collapsed": false,
    "ExecuteTime": {
     "end_time": "2024-03-13T09:23:42.695071Z",
     "start_time": "2024-03-13T09:23:42.603757Z"
    }
   },
   "execution_count": 27
  },
  {
   "cell_type": "markdown",
   "source": [
    "---\n",
    "\n",
    "# Сollections under the hood: Map\n",
    "\n",
    "<img alt=\"Cover\" src=\"./images/8.png\" width=\"2500\" />"
   ],
   "metadata": {
    "collapsed": false
   }
  },
  {
   "cell_type": "code",
   "outputs": [
    {
     "name": "stdout",
     "output_type": "stream",
     "text": [
      "key = 1, value = one\n",
      "key = 2, value = two\n"
     ]
    }
   ],
   "source": [
    "val map1 = mapOf(1 to \"one\", 2 to \"two\")\n",
    "for ((key, value) in map1) {\n",
    "    println(\"key = $key, value = $value\")\n",
    "}"
   ],
   "metadata": {
    "collapsed": false,
    "ExecuteTime": {
     "end_time": "2024-03-13T09:26:09.119641Z",
     "start_time": "2024-03-13T09:26:09.029571Z"
    }
   },
   "execution_count": 30
  },
  {
   "cell_type": "markdown",
   "source": [
    "<font size=\"5\">To create a new map you can use special **builders** (by default `LinkedHashMap`):</font>"
   ],
   "metadata": {
    "collapsed": false
   }
  },
  {
   "cell_type": "code",
   "outputs": [
    {
     "name": "stdout",
     "output_type": "stream",
     "text": [
      "{}\n"
     ]
    }
   ],
   "source": [
    "val map1 = emptyMap<Int, String>() // Builds the internal object EmptyMap\n",
    "println(map1)"
   ],
   "metadata": {
    "collapsed": false,
    "ExecuteTime": {
     "end_time": "2024-03-08T11:31:05.613326Z",
     "start_time": "2024-03-08T11:31:04.941877Z"
    }
   },
   "execution_count": 61
  },
  {
   "cell_type": "code",
   "outputs": [
    {
     "name": "stdout",
     "output_type": "stream",
     "text": [
      "{}\n"
     ]
    }
   ],
   "source": [
    "val map2 = mapOf<Int, String>() // Calls emptyMap()\n",
    "println(map2)"
   ],
   "metadata": {
    "collapsed": false,
    "ExecuteTime": {
     "end_time": "2024-03-08T11:31:16.845839Z",
     "start_time": "2024-03-08T11:31:16.728261Z"
    }
   },
   "execution_count": 62
  },
  {
   "cell_type": "code",
   "outputs": [
    {
     "name": "stdout",
     "output_type": "stream",
     "text": [
      "{1=one, 2=two}\n"
     ]
    }
   ],
   "source": [
    "val map3 = mapOf(1 to \"one\", 2 to \"two\") // The type can be inferred\n",
    "println(map3)"
   ],
   "metadata": {
    "collapsed": false,
    "ExecuteTime": {
     "end_time": "2024-03-08T11:31:30.407581Z",
     "start_time": "2024-03-08T11:31:30.107342Z"
    }
   },
   "execution_count": 63
  },
  {
   "cell_type": "code",
   "outputs": [
    {
     "name": "stdout",
     "output_type": "stream",
     "text": [
      "{}\n"
     ]
    }
   ],
   "source": [
    "val map4 = mutableMapOf<Int, String>() // You can use: LinkedHashMap<>>.>() or HashMap<>>.>()\n",
    "println(map4)"
   ],
   "metadata": {
    "collapsed": false,
    "ExecuteTime": {
     "end_time": "2024-03-08T11:31:46.249593Z",
     "start_time": "2024-03-08T11:31:46.118290Z"
    }
   },
   "execution_count": 64
  },
  {
   "cell_type": "code",
   "outputs": [
    {
     "name": "stdout",
     "output_type": "stream",
     "text": [
      "{1=one, 2=two}\n"
     ]
    }
   ],
   "source": [
    "val map5 = mutableMapOf(1 to \"one\", 2 to \"two\") // The type can be inferred\n",
    "println(map5)"
   ],
   "metadata": {
    "collapsed": false,
    "ExecuteTime": {
     "end_time": "2024-03-08T11:32:16.188631Z",
     "start_time": "2024-03-08T11:32:15.539107Z"
    }
   },
   "execution_count": 65
  },
  {
   "cell_type": "code",
   "outputs": [
    {
     "name": "stdout",
     "output_type": "stream",
     "text": [
      "{1=one, 2=two}\n"
     ]
    }
   ],
   "source": [
    "val map6 = buildMap {\n",
    "    // constructs MutableMap<Int, String>\n",
    "    put(1, \"one\")\n",
    "    putAll(mutableMapOf(2 to \"two\"))\n",
    "}\n",
    "println(map6)"
   ],
   "metadata": {
    "collapsed": false,
    "ExecuteTime": {
     "end_time": "2024-03-08T11:32:32.841873Z",
     "start_time": "2024-03-08T11:32:32.366657Z"
    }
   },
   "execution_count": 66
  },
  {
   "cell_type": "markdown",
   "source": [
    "---\n",
    "\n",
    "# Array\n",
    "\n",
    "<font size=\"5\">Not a collection and not iterable, but has an **iterator**.</font>\n",
    "<font size=\"5\">Has a **fixed** size, but its elements are **mutable**.</font>\n",
    "\n",
    "<img alt=\"Cover\" src=\"./images/9.png\" width=\"2500\" />"
   ],
   "metadata": {
    "collapsed": false
   }
  },
  {
   "cell_type": "code",
   "outputs": [
    {
     "name": "stdout",
     "output_type": "stream",
     "text": [
      "[Ljava.lang.Integer;@76755d53\n"
     ]
    }
   ],
   "source": [
    "val arrayDemo = arrayOf<Int>(1, 2, 3)\n",
    "println(arrayDemo)"
   ],
   "metadata": {
    "collapsed": false,
    "ExecuteTime": {
     "end_time": "2024-03-13T09:30:14.720226Z",
     "start_time": "2024-03-13T09:30:14.662571Z"
    }
   },
   "execution_count": 31
  },
  {
   "cell_type": "code",
   "outputs": [
    {
     "name": "stdout",
     "output_type": "stream",
     "text": [
      "1\n",
      "2\n",
      "3\n"
     ]
    }
   ],
   "source": [
    "arrayDemo.forEach{ println(it) }"
   ],
   "metadata": {
    "collapsed": false,
    "ExecuteTime": {
     "end_time": "2024-03-13T09:30:24.212699Z",
     "start_time": "2024-03-13T09:30:24.145215Z"
    }
   },
   "execution_count": 32
  },
  {
   "cell_type": "code",
   "outputs": [
    {
     "name": "stderr",
     "output_type": "stream",
     "text": [
      "Line_70.jupyter.kts (1:11 - 14) Unresolved reference: add"
     ]
    }
   ],
   "source": [
    "arrayDemo.add(5) // ERROR"
   ],
   "metadata": {
    "collapsed": false,
    "ExecuteTime": {
     "end_time": "2024-03-08T11:39:53.482302Z",
     "start_time": "2024-03-08T11:39:53.418460Z"
    }
   },
   "execution_count": 70
  },
  {
   "cell_type": "code",
   "outputs": [
    {
     "name": "stdout",
     "output_type": "stream",
     "text": [
      "10\n",
      "2\n",
      "3\n"
     ]
    }
   ],
   "source": [
    "arrayDemo[0] = 10 // OK\n",
    "arrayDemo.forEach{ println(it) }"
   ],
   "metadata": {
    "collapsed": false,
    "ExecuteTime": {
     "end_time": "2024-03-13T09:30:34.998026Z",
     "start_time": "2024-03-13T09:30:34.929667Z"
    }
   },
   "execution_count": 33
  },
  {
   "cell_type": "markdown",
   "source": [
    "<font size=\"5\">Kotlin also has classes that represent arrays of primitive types without boxing overhead: `ByteArray`, `ShortArray`, `IntArray`, and so on.</font>"
   ],
   "metadata": {
    "collapsed": false
   }
  },
  {
   "cell_type": "code",
   "outputs": [
    {
     "name": "stdout",
     "output_type": "stream",
     "text": [
      "1\n",
      "2\n",
      "3\n"
     ]
    }
   ],
   "source": [
    "val intArray = intArrayOf(1, 2, 3) // An array of ints. When targeting the JVM, instances of this class are represented as `int[]`\n",
    "intArray.forEach{ println(it) }"
   ],
   "metadata": {
    "collapsed": false,
    "ExecuteTime": {
     "end_time": "2024-03-08T11:42:00.060847Z",
     "start_time": "2024-03-08T11:41:59.647130Z"
    }
   },
   "execution_count": 72
  },
  {
   "cell_type": "markdown",
   "source": [
    "---\n",
    "\n",
    "# Ranges\n",
    "\n",
    "<font size=\"5\">Not collections, but there are defined _progressions_ for standard types with **iterators**: `CharProgression`, `IntProgression`, `LongProgression`:</font>"
   ],
   "metadata": {
    "collapsed": false
   }
  },
  {
   "cell_type": "code",
   "outputs": [
    {
     "name": "stdout",
     "output_type": "stream",
     "text": [
      "a\n",
      "b\n",
      "c\n"
     ]
    }
   ],
   "source": [
    "val chars = 'a'..'c'\n",
    "\n",
    "for (c in chars) { // CharProgression\n",
    "    println(c)\n",
    "} "
   ],
   "metadata": {
    "collapsed": false,
    "ExecuteTime": {
     "end_time": "2024-03-08T11:43:15.546996Z",
     "start_time": "2024-03-08T11:43:14.845208Z"
    }
   },
   "execution_count": 73
  },
  {
   "cell_type": "code",
   "outputs": [
    {
     "name": "stdout",
     "output_type": "stream",
     "text": [
      "1\n",
      "2\n",
      "3\n",
      "4\n",
      "5\n"
     ]
    }
   ],
   "source": [
    "for (i in 1..5) { // IntProgression\n",
    "    println(i)\n",
    "}"
   ],
   "metadata": {
    "collapsed": false,
    "ExecuteTime": {
     "end_time": "2024-03-08T11:43:35.412018Z",
     "start_time": "2024-03-08T11:43:35.279800Z"
    }
   },
   "execution_count": 74
  },
  {
   "cell_type": "code",
   "outputs": [
    {
     "name": "stdout",
     "output_type": "stream",
     "text": [
      "1\n",
      "2\n",
      "3\n",
      "4\n",
      "5\n"
     ]
    }
   ],
   "source": [
    "for (i in 1L..5L) { // LongProgression\n",
    "    println(i)\n",
    "}"
   ],
   "metadata": {
    "collapsed": false,
    "ExecuteTime": {
     "end_time": "2024-03-08T11:44:39.471929Z",
     "start_time": "2024-03-08T11:44:39.052997Z"
    }
   },
   "execution_count": 75
  },
  {
   "cell_type": "markdown",
   "source": [
    "<font size=\"5\">There are a lot of ways to customize them::</font>"
   ],
   "metadata": {
    "collapsed": false
   }
  },
  {
   "cell_type": "code",
   "outputs": [
    {
     "name": "stdout",
     "output_type": "stream",
     "text": [
      "10\n",
      "7\n",
      "4\n",
      "1\n"
     ]
    }
   ],
   "source": [
    "for (i in 10 downTo 0 step 3) { \n",
    "    println(i)\n",
    "}"
   ],
   "metadata": {
    "collapsed": false,
    "ExecuteTime": {
     "end_time": "2024-03-08T11:45:11.711326Z",
     "start_time": "2024-03-08T11:45:11.042327Z"
    }
   },
   "execution_count": 76
  },
  {
   "cell_type": "markdown",
   "source": [
    "<font size=\"5\">`downTo` and `step` infix extension functions.</font>"
   ],
   "metadata": {
    "collapsed": false
   }
  },
  {
   "cell_type": "markdown",
   "source": [
    "---\n",
    "\n",
    "# Sequence\n",
    "\n",
    "<font size=\"5\">Not a collection, but has an **iterator**:</font>\n",
    "\n",
    "<img alt=\"Cover\" src=\"./images/10.png\" width=\"2500\" />"
   ],
   "metadata": {
    "collapsed": false
   }
  },
  {
   "cell_type": "markdown",
   "source": [
    "<font size=\"5\">To create a new sequence you can use special **builders**:</font>"
   ],
   "metadata": {
    "collapsed": false
   }
  },
  {
   "cell_type": "code",
   "outputs": [
    {
     "name": "stdout",
     "output_type": "stream",
     "text": [
      "kotlin.sequences.EmptySequence@2022d566\n"
     ]
    }
   ],
   "source": [
    "val sequence1 = emptySequence<Int>() // Builds the internal object EmptySequence\n",
    "println(sequence1) // kotlin.sequences.EmptySequence@6865b110"
   ],
   "metadata": {
    "collapsed": false,
    "ExecuteTime": {
     "end_time": "2024-03-20T08:04:09.072022Z",
     "start_time": "2024-03-20T08:04:08.918303Z"
    }
   },
   "execution_count": 1
  },
  {
   "cell_type": "code",
   "outputs": [],
   "source": [
    "sequence1.forEach{ println(it) } // better"
   ],
   "metadata": {
    "collapsed": false,
    "ExecuteTime": {
     "end_time": "2024-03-20T08:04:30.198589Z",
     "start_time": "2024-03-20T08:04:29.992840Z"
    }
   },
   "execution_count": 2
  },
  {
   "cell_type": "code",
   "outputs": [],
   "source": [
    "val sequence2 = sequenceOf<Int>() // Calls emptySequence()\n",
    "sequence2.forEach{ println(it) } "
   ],
   "metadata": {
    "collapsed": false,
    "ExecuteTime": {
     "end_time": "2024-03-20T08:04:41.623480Z",
     "start_time": "2024-03-20T08:04:41.488166Z"
    }
   },
   "execution_count": 3
  },
  {
   "cell_type": "code",
   "outputs": [
    {
     "name": "stdout",
     "output_type": "stream",
     "text": [
      "1\n",
      "2\n",
      "3\n"
     ]
    }
   ],
   "source": [
    "val sequence3 = sequenceOf(1, 2, 3) // The type can be inferred\n",
    "sequence3.forEach{ println(it) } "
   ],
   "metadata": {
    "collapsed": false,
    "ExecuteTime": {
     "end_time": "2024-03-20T08:04:59.344431Z",
     "start_time": "2024-03-20T08:04:59.237718Z"
    }
   },
   "execution_count": 4
  },
  {
   "cell_type": "code",
   "outputs": [
    {
     "name": "stdout",
     "output_type": "stream",
     "text": [
      "1\n"
     ]
    }
   ],
   "source": [
    "val sequence4 = sequence {\n",
    "    // constructs Sequence<Int>\n",
    "    yield(1)\n",
    "    yieldAll(listOf(2, 3))\n",
    "}\n",
    "\n",
    "sequence4.take(1).forEach { println(it) }\n",
    "\n",
    "\n",
    "// sequence4.forEach{ println(it) } "
   ],
   "metadata": {
    "collapsed": false,
    "ExecuteTime": {
     "end_time": "2024-03-20T08:07:43.778118Z",
     "start_time": "2024-03-20T08:07:43.688692Z"
    }
   },
   "execution_count": 9
  },
  {
   "cell_type": "code",
   "outputs": [],
   "source": [
    "val sequence5 = generateSequence(1) { it + 2 } // `it` is the previous element, lazy computation, infinite sequence\n",
    "// sequence5.forEach{ println(it) } // DON'T DO IT"
   ],
   "metadata": {
    "collapsed": false,
    "ExecuteTime": {
     "end_time": "2024-03-20T08:08:44.813227Z",
     "start_time": "2024-03-20T08:08:44.767952Z"
    }
   },
   "execution_count": 10
  },
  {
   "cell_type": "code",
   "outputs": [
    {
     "name": "stdout",
     "output_type": "stream",
     "text": [
      "[1, 3, 5, 7, 9]\n"
     ]
    }
   ],
   "source": [
    "println(sequence5.take(5).toList()) // [1, 3, 5, 7, 9]"
   ],
   "metadata": {
    "collapsed": false,
    "ExecuteTime": {
     "end_time": "2024-03-20T08:08:59.349469Z",
     "start_time": "2024-03-20T08:08:59.285401Z"
    }
   },
   "execution_count": 11
  },
  {
   "cell_type": "code",
   "outputs": [
    {
     "name": "stdout",
     "output_type": "stream",
     "text": [
      "[1, 3, 5, 7, 9, 11, 13, 15, 17, 19]\n"
     ]
    }
   ],
   "source": [
    "println(sequence5.take(10).toList()) // [1, 3, 5, 7, 9, 11, 13, 15, 17, 19]"
   ],
   "metadata": {
    "collapsed": false,
    "ExecuteTime": {
     "end_time": "2024-03-20T08:09:44.720565Z",
     "start_time": "2024-03-20T08:09:44.658382Z"
    }
   },
   "execution_count": 13
  },
  {
   "cell_type": "markdown",
   "source": [
    "---\n",
    "\n",
    "# Sequence vs List"
   ],
   "metadata": {
    "collapsed": false
   }
  },
  {
   "cell_type": "code",
   "outputs": [
    {
     "name": "stdout",
     "output_type": "stream",
     "text": [
      "filter: The\n",
      "filter: quick\n",
      "filter: brown\n",
      "filter: fox\n",
      "filter: jumps\n",
      "filter: over\n",
      "filter: the\n",
      "filter: lazy\n",
      "filter: dog\n",
      "length: 5\n",
      "length: 5\n",
      "length: 5\n",
      "length: 4\n",
      "length: 4\n",
      "Lengths of first 4 words longer than 3 chars:\n",
      "[5, 5, 5, 4]\n"
     ]
    }
   ],
   "source": [
    "val words = \"The quick brown fox jumps over the lazy dog\".split(\" \") // Returns a list \n",
    "val lengthsList = words.filter { println(\"filter: $it\"); it.length > 3 }\n",
    "     .map { println(\"length: ${it.length}\"); it.length }\n",
    "     .take(4)\n",
    "\n",
    "println(\"Lengths of first 4 words longer than 3 chars:\")\n",
    "println(lengthsList)"
   ],
   "metadata": {
    "collapsed": false,
    "ExecuteTime": {
     "end_time": "2024-03-20T08:11:33.653137Z",
     "start_time": "2024-03-20T08:11:33.556652Z"
    }
   },
   "execution_count": 15
  },
  {
   "cell_type": "markdown",
   "source": [
    "<img alt=\"Cover\" src=\"./images/11.png\" width=\"2500\" />"
   ],
   "metadata": {
    "collapsed": false
   }
  },
  {
   "cell_type": "code",
   "outputs": [
    {
     "name": "stdout",
     "output_type": "stream",
     "text": [
      "kotlin.sequences.TakeSequence@1f5086da\n"
     ]
    }
   ],
   "source": [
    "// Сonvert the List to a Sequence\n",
    "val wordsSequence = words.asSequence()\n",
    "val lengthsSequence = wordsSequence.filter { println(\"filter: $it\"); it.length > 3 }\n",
    "     .map { println(\"length: ${it.length}\"); it.length }\n",
    "     .take(4)\n",
    "println(lengthsSequence) // prints `kotlin.sequences.TakeSequence@MEMORY_ADDR`"
   ],
   "metadata": {
    "collapsed": false,
    "ExecuteTime": {
     "end_time": "2024-03-20T08:12:15.525244Z",
     "start_time": "2024-03-20T08:12:15.354975Z"
    }
   },
   "execution_count": 16
  },
  {
   "cell_type": "code",
   "outputs": [
    {
     "name": "stdout",
     "output_type": "stream",
     "text": [
      "Lengths of first 4 words longer than 3 chars:\n",
      "filter: The\n",
      "filter: quick\n",
      "length: 5\n",
      "filter: brown\n",
      "length: 5\n",
      "filter: fox\n",
      "filter: jumps\n",
      "length: 5\n",
      "filter: over\n",
      "length: 4\n",
      "[5, 5, 5, 4]\n"
     ]
    }
   ],
   "source": [
    "println(\"Lengths of first 4 words longer than 3 chars:\")\n",
    "// Terminal operation: obtaining the result as a List\n",
    "println(lengthsSequence.toList()) // top code gets executed, then prints `[5, 5, 5, 4]`"
   ],
   "metadata": {
    "collapsed": false,
    "ExecuteTime": {
     "end_time": "2024-03-20T08:12:37.897099Z",
     "start_time": "2024-03-20T08:12:37.835458Z"
    }
   },
   "execution_count": 17
  },
  {
   "cell_type": "markdown",
   "source": [
    "<img alt=\"Cover\" src=\"./images/12.png\" width=\"2500\" />"
   ],
   "metadata": {
    "collapsed": false
   }
  },
  {
   "cell_type": "markdown",
   "source": [
    "---\n",
    "\n",
    "# Collection operations\n",
    "\n",
    "<font size=\"5\">There are **many** different functions for working with collections. If you need to do something with a collection, Google it first. Most likely, the standard library already has the function you need, for example:</font>"
   ],
   "metadata": {
    "collapsed": false
   }
  },
  {
   "cell_type": "code",
   "outputs": [
    {
     "name": "stdout",
     "output_type": "stream",
     "text": [
      "10\n"
     ]
    }
   ],
   "source": [
    "val numbers = (0..99).toList()\n",
    "println(numbers.binarySearch(10)) // List should be sorted"
   ],
   "metadata": {
    "collapsed": false,
    "ExecuteTime": {
     "end_time": "2024-03-20T08:19:01.885437Z",
     "start_time": "2024-03-20T08:19:01.580496Z"
    }
   },
   "execution_count": 19
  },
  {
   "cell_type": "code",
   "outputs": [
    {
     "name": "stdout",
     "output_type": "stream",
     "text": [
      "-1\n"
     ]
    }
   ],
   "source": [
    "println(numbers.binarySearch(-10)) // List should be sorted"
   ],
   "metadata": {
    "collapsed": false,
    "ExecuteTime": {
     "end_time": "2024-03-20T08:19:02.703394Z",
     "start_time": "2024-03-20T08:19:02.613422Z"
    }
   },
   "execution_count": 20
  },
  {
   "cell_type": "code",
   "outputs": [
    {
     "name": "stdout",
     "output_type": "stream",
     "text": [
      "[0, 0, 0, 0, 0, 0, 0, 0, 0, 0, 0, 0, 1, 1, 1, 1, 1, 2, 2, 2, 2, 2, 2, 2, 2, 2, 2, 2, 2, 2, 2, 2, 2, 2, 2, 2, 3, 3, 3, 3, 3, 3, 3, 3, 3, 3, 3, 3, 3, 3, 3, 4, 4, 4, 4, 4, 5, 5, 5, 5, 6, 6, 6, 6, 6, 7, 7, 7, 7, 7, 7, 7, 7, 7, 7, 7, 7, 7, 7, 7, 8, 8, 8, 9, 9, 9, 9, 9, 9, 9, 10, 10, 10, 10, 10, 10, 10, 10, 10, 10]\n",
      "[0, 0, 0, 0, 1, 1, 1, 1, 1, 1, 1, 1, 1, 1, 1, 2, 2, 2, 2, 2, 2, 2, 2, 2, 2, 2, 2, 2, 2, 3, 3, 3, 3, 3, 3, 3, 3, 3, 3, 4, 4, 4, 4, 4, 4, 4, 4, 5, 5, 5, 5, 5, 5, 5, 5, 5, 5, 6, 6, 6, 6, 6, 6, 6, 6, 7, 7, 7, 7, 7, 7, 7, 7, 8, 8, 8, 8, 8, 8, 8, 8, 9, 9, 9, 9, 9, 9, 9, 9, 9, 10, 10, 10, 10, 10, 10, 10, 10, 10, 10]\n"
     ]
    }
   ],
   "source": [
    "val randomNumbers = List(100) { (0..10).random() }.toMutableList()\n",
    "randomNumbers.sort()\n",
    "println(randomNumbers)\n",
    "\n",
    "val randomNumbers1 = List(100) { (0..10).random() }.toMutableList()\n",
    "randomNumbers1.sorted().map{  }\n",
    "println(randomNumbers1.sorted())"
   ],
   "metadata": {
    "collapsed": false,
    "ExecuteTime": {
     "end_time": "2024-03-20T08:20:33.201440Z",
     "start_time": "2024-03-20T08:20:33.046481Z"
    }
   },
   "execution_count": 23
  },
  {
   "cell_type": "code",
   "outputs": [
    {
     "name": "stdout",
     "output_type": "stream",
     "text": [
      "{3=[The, fox, the, dog], 5=[quick, brown, jumps], 4=[over, lazy]}\n"
     ]
    }
   ],
   "source": [
    "println(\"The quick brown fox jumps over the lazy dog\".split(\" \").groupBy{ it.length }.toMap())"
   ],
   "metadata": {
    "collapsed": false,
    "ExecuteTime": {
     "end_time": "2024-03-20T08:21:01.075425Z",
     "start_time": "2024-03-20T08:21:01.008500Z"
    }
   },
   "execution_count": 24
  },
  {
   "cell_type": "code",
   "outputs": [
    {
     "name": "stdout",
     "output_type": "stream",
     "text": [
      "[6, 2, 10, 10, 2, 10, 4, 6, 6, 2, 4, 10, 10, 4, 6, 10, 0, 0, 10, 6, 8, 8, 2, 0, 4, 0, 4, 4, 8, 6, 8, 6, 0, 6, 8, 4, 2, 4, 4, 4, 0, 10, 10, 8, 8, 0, 6, 10, 8, 2, 8, 6, 8, 0, 0, 2, 6]\n",
      "______\n",
      "[3, 3, 5, 5, 7, 9, 3, 5, 3, 3, 9, 3, 5, 1, 5, 7, 9, 9, 9, 3, 3, 5, 9, 9, 1, 1, 9, 3, 1, 1, 1, 3, 9, 3, 3, 7, 7, 5, 9, 5, 7, 5, 1]\n"
     ]
    }
   ],
   "source": [
    "val randomNumbers = List(100) { (0..10).random() }\n",
    "val (even, odd) = randomNumbers.partition{ it % 2 == 0 }\n",
    "println(even)\n",
    "println(\"______\")\n",
    "println(odd)"
   ],
   "metadata": {
    "collapsed": false,
    "ExecuteTime": {
     "end_time": "2024-03-20T08:21:43.455949Z",
     "start_time": "2024-03-20T08:21:43.316258Z"
    }
   },
   "execution_count": 25
  },
  {
   "cell_type": "code",
   "outputs": [],
   "source": [
    "val exampleList = listOf(1, 2, 3, 4, 5, 6)"
   ],
   "metadata": {
    "collapsed": false,
    "ExecuteTime": {
     "end_time": "2024-03-20T08:21:59.432871Z",
     "start_time": "2024-03-20T08:21:59.374352Z"
    }
   },
   "execution_count": 26
  },
  {
   "cell_type": "markdown",
   "source": [
    "<img alt=\"Cover\" src=\"./images/13.png\" width=\"2000\" />"
   ],
   "metadata": {
    "collapsed": false
   }
  },
  {
   "cell_type": "code",
   "outputs": [
    {
     "name": "stdout",
     "output_type": "stream",
     "text": [
      "[[1, 2], [3, 4], [5, 6]]\n"
     ]
    }
   ],
   "source": [
    "println(exampleList.chunked(2))"
   ],
   "metadata": {
    "collapsed": false,
    "ExecuteTime": {
     "end_time": "2024-03-08T15:42:43.868392Z",
     "start_time": "2024-03-08T15:42:43.252379Z"
    }
   },
   "execution_count": 104
  },
  {
   "cell_type": "markdown",
   "source": [
    "<img alt=\"Cover\" src=\"./images/14.png\" width=\"2000\" />"
   ],
   "metadata": {
    "collapsed": false
   }
  },
  {
   "cell_type": "code",
   "outputs": [
    {
     "name": "stdout",
     "output_type": "stream",
     "text": [
      "[3, 7, 11]\n"
     ]
    }
   ],
   "source": [
    "println(exampleList.chunked(2) { it.sum() })"
   ],
   "metadata": {
    "collapsed": false,
    "ExecuteTime": {
     "end_time": "2024-03-08T15:49:20.401914Z",
     "start_time": "2024-03-08T15:49:19.327856Z"
    }
   },
   "execution_count": 105
  },
  {
   "cell_type": "markdown",
   "source": [
    "<img alt=\"Cover\" src=\"./images/15.png\" width=\"2000\" />"
   ],
   "metadata": {
    "collapsed": false
   }
  },
  {
   "cell_type": "code",
   "outputs": [
    {
     "name": "stdout",
     "output_type": "stream",
     "text": [
      "[-1, 0, 1, 2, 3, 4]\n",
      "[2, 3, 4]\n"
     ]
    }
   ],
   "source": [
    "val secondList = List(6) { it - 1 }\n",
    "println(secondList)\n",
    "println(exampleList.drop(1).intersect(secondList))"
   ],
   "metadata": {
    "collapsed": false,
    "ExecuteTime": {
     "end_time": "2024-03-08T15:52:16.078084Z",
     "start_time": "2024-03-08T15:52:15.427849Z"
    }
   },
   "execution_count": 106
  },
  {
   "cell_type": "markdown",
   "source": [
    "<font size=\"5\">We will look into even more operations in our future lecture on Functional programming.</font>"
   ],
   "metadata": {
    "collapsed": false
   }
  },
  {
   "cell_type": "markdown",
   "source": [
    "<img alt=\"Cover\" src=\"./images/16.png\" width=\"2000\" />"
   ],
   "metadata": {
    "collapsed": false
   }
  },
  {
   "cell_type": "code",
   "outputs": [],
   "source": [],
   "metadata": {
    "collapsed": false
   }
  }
 ],
 "metadata": {
  "kernelspec": {
   "display_name": "Kotlin",
   "language": "kotlin",
   "name": "kotlin"
  },
  "language_info": {
   "name": "kotlin",
   "version": "1.9.0",
   "mimetype": "text/x-kotlin",
   "file_extension": ".kt",
   "pygments_lexer": "kotlin",
   "codemirror_mode": "text/x-kotlin",
   "nbconvert_exporter": ""
  }
 },
 "nbformat": 4,
 "nbformat_minor": 0
}
