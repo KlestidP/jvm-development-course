{
 "cells": [
  {
   "cell_type": "markdown",
   "source": [
    "<img alt=\"Cover\" src=\"./images/1.cover.png\" width=\"3000\" />\n",
    "\n",
    "---"
   ],
   "metadata": {
    "collapsed": false
   }
  },
  {
   "cell_type": "markdown",
   "source": [
    "# Why Kotlin?\n",
    "\n",
    "<img alt=\"Cover\" src=\"./images/2.png\" width=\"3000\"/>\n",
    "\n",
    "---"
   ],
   "metadata": {
    "collapsed": false
   }
  },
  {
   "cell_type": "markdown",
   "source": [
    "# Logo\n",
    "\n",
    "<img alt=\"Cover\" src=\"./images/3.png\" width=\"3000\"/>\n",
    "\n",
    "---\n"
   ],
   "metadata": {
    "collapsed": false
   }
  },
  {
   "cell_type": "markdown",
   "source": [
    "# Name\n",
    "\n",
    "<img alt=\"Cover\" src=\"./images/4.png\" width=\"3000\"/>\n",
    "\n",
    "---"
   ],
   "metadata": {
    "collapsed": false
   }
  },
  {
   "cell_type": "markdown",
   "source": [
    "# Hello, world!\n",
    "\n",
    "<img alt=\"Cover\" src=\"./images/5.png\" width=\"3000\"/>\n",
    "\n",
    "---"
   ],
   "metadata": {
    "collapsed": false
   }
  },
  {
   "cell_type": "markdown",
   "source": [
    "# The basics"
   ],
   "metadata": {
    "collapsed": false
   }
  },
  {
   "cell_type": "code",
   "execution_count": 136,
   "outputs": [],
   "source": [
    "fun main(args: Array<String>) {\n",
    "    print(\"Hello\")\n",
    "    println(\", world!\")\n",
    "}"
   ],
   "metadata": {
    "collapsed": false,
    "ExecuteTime": {
     "end_time": "2024-01-10T10:05:52.123736Z",
     "start_time": "2024-01-10T10:05:51.846082Z"
    }
   }
  },
  {
   "cell_type": "markdown",
   "source": [
    "- <font size=\"5\">An entry point of a Kotlin application is the main **top-level** function.</font>\n",
    "- <font size=\"5\">It accepts a variable number of `String` arguments that can be omitted.</font>\n",
    "- <font size=\"5\">`print` prints its argument to the standard output.</font>\n",
    "- <font size=\"5\">`println` prints its arguments and adds a line break.</font>\n",
    "\n",
    "---"
   ],
   "metadata": {
    "collapsed": false
   }
  },
  {
   "cell_type": "markdown",
   "source": [
    "# Variables\n",
    "\n",
    "<img alt=\"Cover\" src=\"./images/7.png\" width=\"3000\"/>\n",
    "\n",
    "- <font size=\"5\">`var` - mutable</font>\n",
    "- <font size=\"5\">`val` - immutable</font>\n",
    "- <font size=\"5\">Type can be inferred in most cases</font>\n",
    "- <font size=\"5\">Assignment can be deferred</font>"
   ],
   "metadata": {
    "collapsed": false
   }
  },
  {
   "cell_type": "code",
   "execution_count": 29,
   "outputs": [
    {
     "name": "stdout",
     "output_type": "stream",
     "text": [
      "1\n"
     ]
    }
   ],
   "source": [
    "val a = 1 // immediate assignment\n",
    "println(a)"
   ],
   "metadata": {
    "collapsed": false,
    "ExecuteTime": {
     "end_time": "2024-02-12T10:32:20.043668Z",
     "start_time": "2024-02-12T10:32:19.989829Z"
    }
   }
  },
  {
   "cell_type": "code",
   "execution_count": 31,
   "outputs": [
    {
     "name": "stdout",
     "output_type": "stream",
     "text": [
      "kotlin.Int\n",
      "2\n",
      "1\n"
     ]
    }
   ],
   "source": [
    "var b = 2 // `Int` type is inferred\n",
    "println(b::class.qualifiedName)\n",
    "println(b)\n",
    "\n",
    "b = a // Reassigning to `var` is okay \n",
    "println(b)"
   ],
   "metadata": {
    "collapsed": false,
    "ExecuteTime": {
     "end_time": "2024-02-12T10:32:51.608425Z",
     "start_time": "2024-02-12T10:32:51.549521Z"
    }
   }
  },
  {
   "cell_type": "code",
   "execution_count": 4,
   "outputs": [
    {
     "name": "stderr",
     "output_type": "stream",
     "text": [
      "Line_4.jupyter.kts (2:1 - 2) Captured member values initialization is forbidden due to possible reassignment"
     ]
    }
   ],
   "source": [
    "val c: Int // Type required when no initializer is provided\n",
    "c = 3 // Deferred assignment\n",
    "println(c)"
   ],
   "metadata": {
    "collapsed": false,
    "ExecuteTime": {
     "end_time": "2024-02-11T10:15:14.411522Z",
     "start_time": "2024-02-11T10:15:14.363912Z"
    }
   }
  },
  {
   "cell_type": "code",
   "outputs": [
    {
     "name": "stderr",
     "output_type": "stream",
     "text": [
      "Line_143.jupyter.kts (1:1 - 2) Val cannot be reassigned"
     ]
    }
   ],
   "source": [
    "a = 4 // Error: Val cannot be reassigned"
   ],
   "metadata": {
    "collapsed": false,
    "ExecuteTime": {
     "start_time": "2024-01-10T10:05:52.274160Z"
    }
   },
   "execution_count": 140
  },
  {
   "cell_type": "markdown",
   "source": [
    "<img alt=\"Cover\" src=\"./images/8.png\" width=\"3000\"/>\n",
    "\n",
    "- <font size=\"5\">`const val` - compile-time const value</font>\n",
    "- <font size=\"5\">`val` - immutable value</font>\n",
    "- <font size=\"5\">for `const val` use uppercase for naming</font>"
   ],
   "metadata": {
    "collapsed": false,
    "ExecuteTime": {
     "end_time": "2024-01-08T09:11:50.971242Z",
     "start_time": "2024-01-08T09:11:50.942521Z"
    }
   }
  },
  {
   "cell_type": "code",
   "execution_count": 141,
   "outputs": [],
   "source": [
    "companion object ConstDemo {\n",
    "    const val NAME = \"Kotlin\" // can be calculated at compile-time\n",
    "    val nameLowered = NAME.lowercase() // cannot be calculated at compile-time \n",
    "}"
   ],
   "metadata": {
    "collapsed": false,
    "ExecuteTime": {
     "end_time": "2024-01-10T10:05:52.585931Z",
     "start_time": "2024-01-10T10:05:52.334541Z"
    }
   }
  },
  {
   "cell_type": "markdown",
   "source": [
    "---\n",
    "\n",
    "# Functions"
   ],
   "metadata": {
    "collapsed": false,
    "ExecuteTime": {
     "end_time": "2024-01-08T09:12:22.666167Z",
     "start_time": "2024-01-08T09:12:22.564039Z"
    }
   }
  },
  {
   "cell_type": "code",
   "execution_count": 32,
   "outputs": [
    {
     "name": "stdout",
     "output_type": "stream",
     "text": [
      "5\n"
     ]
    }
   ],
   "source": [
    "// Basic synatx\n",
    "fun sum(a: Int, b: Int): Int {\n",
    "     return a + b\n",
    "}\n",
    "\n",
    "println(sum(2, 3))"
   ],
   "metadata": {
    "collapsed": false,
    "ExecuteTime": {
     "end_time": "2024-02-12T10:37:48.838990Z",
     "start_time": "2024-02-12T10:37:48.800732Z"
    }
   }
  },
  {
   "cell_type": "code",
   "execution_count": 33,
   "outputs": [
    {
     "name": "stdout",
     "output_type": "stream",
     "text": [
      "6\n"
     ]
    }
   ],
   "source": [
    "// Single expression function\n",
    "fun mul(a: Int, b: Int) = a * b\n",
    "\n",
    "println(mul(2, 3))"
   ],
   "metadata": {
    "collapsed": false,
    "ExecuteTime": {
     "end_time": "2024-02-12T10:38:42.864209Z",
     "start_time": "2024-02-12T10:38:42.819531Z"
    }
   }
  },
  {
   "cell_type": "code",
   "execution_count": 34,
   "outputs": [
    {
     "name": "stdout",
     "output_type": "stream",
     "text": [
      "6\n"
     ]
    }
   ],
   "source": [
    "// `Unit` means that the function does not return anything meaningful.\n",
    "fun printMul(a: Int, b: Int) {\n",
    "     println(mul(a, b))\n",
    "}\n",
    "\n",
    "printMul(2, 3)"
   ],
   "metadata": {
    "collapsed": false,
    "ExecuteTime": {
     "end_time": "2024-02-12T10:39:38.177341Z",
     "start_time": "2024-02-12T10:39:38.124895Z"
    }
   }
  },
  {
   "cell_type": "code",
   "execution_count": 145,
   "outputs": [
    {
     "name": "stdout",
     "output_type": "stream",
     "text": [
      "6\n"
     ]
    }
   ],
   "source": [
    "// `Unit` can be omitted.\n",
    "fun printMul1(a: Int = 1, b: Int) {\n",
    "     println(mul(a, b))\n",
    "}\n",
    "\n",
    "printMul1(2, 3)"
   ],
   "metadata": {
    "collapsed": false,
    "ExecuteTime": {
     "end_time": "2024-01-10T10:05:52.745900Z",
     "start_time": "2024-01-10T10:05:52.687634Z"
    }
   }
  },
  {
   "cell_type": "code",
   "execution_count": 35,
   "outputs": [
    {
     "name": "stdout",
     "output_type": "stream",
     "text": [
      "5\n",
      "14\n",
      "10\n",
      "5\n",
      "5\n"
     ]
    }
   ],
   "source": [
    "// Arguments can have default values.\n",
    "fun printMul2(a: Int, b: Int = 1) = println(mul(a, b))\n",
    "printMul2(5) // b = 1\n",
    "printMul2(a = 7, b = 2)\n",
    "printMul2(b = 5, a = 2) \n",
    "\n",
    "fun foo(a: Int, b: Int = 2, c: Int = 3) = a + b + c\n",
    "\n",
    "foo(1)\n",
    "foo(1, 3)\n",
    "foo(1, c = 3, b = 5)\n",
    "\n",
    "\n",
    "fun printMul3(a: Int = 1, b: Int) = println(mul(a, b)) // Correct, but it is better to move all default arguments into the end of the list of arguments\n",
    "printMul3(b = 5) // a = 1\n",
    "printMul2(b = 5, a = 1) "
   ],
   "metadata": {
    "collapsed": false,
    "ExecuteTime": {
     "end_time": "2024-02-12T10:41:58.718429Z",
     "start_time": "2024-02-12T10:41:58.620143Z"
    }
   }
  },
  {
   "cell_type": "markdown",
   "source": [
    "---\n",
    "\n",
    "# If expression\n",
    "\n",
    "<img alt=\"Cover\" src=\"./images/9.png\" width=\"3000\"/>"
   ],
   "metadata": {
    "collapsed": false,
    "ExecuteTime": {
     "end_time": "2024-01-08T09:18:39.606643Z",
     "start_time": "2024-01-08T09:18:39.537879Z"
    }
   }
  },
  {
   "cell_type": "code",
   "execution_count": 36,
   "outputs": [
    {
     "name": "stdout",
     "output_type": "stream",
     "text": [
      "2\n"
     ]
    }
   ],
   "source": [
    "fun maxOf(a: Int, b: Int) = if (a > b) a else b\n",
    "\n",
    "println(maxOf(1, 2))"
   ],
   "metadata": {
    "collapsed": false,
    "ExecuteTime": {
     "end_time": "2024-02-12T10:48:16.832315Z",
     "start_time": "2024-02-12T10:48:16.774021Z"
    }
   }
  },
  {
   "cell_type": "markdown",
   "source": [
    "---\n",
    "\n",
    "# When expression\n",
    "\n",
    "<img alt=\"Cover\" src=\"./images/10.png\" width=\"3000\"/>"
   ],
   "metadata": {
    "collapsed": false,
    "ExecuteTime": {
     "end_time": "2024-01-08T09:20:27.892848Z",
     "start_time": "2024-01-08T09:20:27.820565Z"
    }
   }
  },
  {
   "cell_type": "code",
   "execution_count": 37,
   "outputs": [
    {
     "name": "stdout",
     "output_type": "stream",
     "text": [
      "x == 1\n",
      "x is neither 1 nor 2\n"
     ]
    }
   ],
   "source": [
    "fun whenDemo(x: Int) {\n",
    "    val res = when (x) {\n",
    "        1 -> println(\"x == 1\")\n",
    "        2 -> println(\"x == 2\")\n",
    "        else -> println(\"...\")\n",
    "    }\n",
    "    println(\"....\")\n",
    "}\n",
    "\n",
    "whenDemo(1)\n",
    "whenDemo(-1)"
   ],
   "metadata": {
    "collapsed": false,
    "ExecuteTime": {
     "end_time": "2024-02-12T10:50:27.122747Z",
     "start_time": "2024-02-12T10:50:27.043020Z"
    }
   }
  },
  {
   "cell_type": "code",
   "outputs": [
    {
     "name": "stdout",
     "output_type": "stream",
     "text": [
      "x == 1\n",
      "x == 2\n"
     ]
    }
   ],
   "source": [
    "// The else branch can be ommited if you already listed all possible values\n",
    "// It can be useful with Enum classes (we will leran it in the next lessons)\n",
    "// This example is better rewrite with if statment\n",
    "fun whenDemo2(x: Int) = when (x % 2 == 0) {\n",
    "    true -> println(\"x is even\")\n",
    "    false -> println(\"x is odd\")\n",
    "}\n",
    "whenDemo(1)\n",
    "whenDemo(2)"
   ],
   "metadata": {
    "collapsed": false,
    "ExecuteTime": {
     "end_time": "2024-02-12T10:52:18.418162Z",
     "start_time": "2024-02-12T10:52:18.349344Z"
    }
   },
   "execution_count": 38
  },
  {
   "cell_type": "markdown",
   "source": [
    "---\n",
    "\n",
    "# When statement"
   ],
   "metadata": {
    "collapsed": false,
    "ExecuteTime": {
     "end_time": "2024-01-08T09:20:38.348615Z",
     "start_time": "2024-01-08T09:20:38.258602Z"
    }
   }
  },
  {
   "cell_type": "code",
   "execution_count": 1,
   "outputs": [
    {
     "name": "stdout",
     "output_type": "stream",
     "text": [
      "Dr. John! The tea was served with candy!\n"
     ]
    }
   ],
   "source": [
    "import org.jetbrains.kotlin.public.course.introduction.*\n",
    "\n",
    "fun serveTeaTo(customer: Customer) {\n",
    "    val teaSnack = takeRandomTeaSnack()\n",
    "    // else branch can be omitted if when block is used as a statement.\n",
    "    when (teaSnack) {\n",
    "        is OolongSnack -> error(\"We don't serve Chinese tea like $teaSnack!\")\n",
    "        // when can accept several options in one branch\n",
    "        in trialTeaSnacks, teaSnackBoughtLastNight ->\n",
    "            error(\"Are you insane?! We cannot serve uncertified tea!\")\n",
    "    }\n",
    "\n",
    "    teaSnack.serveTo(customer)\n",
    "}\n",
    "\n",
    "serveTeaTo(Customer(\"John\"))"
   ],
   "metadata": {
    "collapsed": false,
    "ExecuteTime": {
     "end_time": "2024-02-12T20:16:38.190335Z",
     "start_time": "2024-02-12T20:16:37.814042Z"
    }
   }
  },
  {
   "cell_type": "markdown",
   "source": [
    "---\n",
    "\n",
    "# && vs and\n",
    "\n",
    "<img alt=\"Cover\" src=\"./images/11.png\" width=\"3000\"/>"
   ],
   "metadata": {
    "collapsed": false,
    "ExecuteTime": {
     "end_time": "2024-01-08T09:23:44.516665Z",
     "start_time": "2024-01-08T09:23:44.490013Z"
    }
   }
  },
  {
   "cell_type": "code",
   "execution_count": 42,
   "outputs": [
    {
     "name": "stdout",
     "output_type": "stream",
     "text": [
      "Lazy computation:\n",
      "Initial value\n",
      "Initial value\n",
      "______\n",
      "Eager computation:\n",
      "Initial value\n",
      "Hello from printHelloAndReturnTrue!\n",
      "Initial value\n"
     ]
    }
   ],
   "source": [
    "var storage = \"Initial value\"\n",
    "\n",
    "fun printHelloAndReturnTrue(): Boolean {\n",
    "    println(\"Hello from printHelloAndReturnTrue!\")\n",
    "    return true\n",
    "}\n",
    "\n",
    "val a = false\n",
    "\n",
    "println(\"Lazy computation:\")\n",
    "println(storage)\n",
    "if (a || printHelloAndReturnTrue()) {\n",
    "    // The condition is false, we will not reach out this command\n",
    "    storage = \"Updated value\"\n",
    "}\n",
    "println(storage)\n",
    "\n",
    "println(\"______\")\n",
    "\n",
    "storage = \"Initial value\"\n",
    "println(\"Eager computation:\")\n",
    "println(storage)\n",
    "if (a or printHelloAndReturnTrue()) {\n",
    "    // The condition is false, we will not reach out this command\n",
    "    // BUT the hello message from printHelloAndReturnTrue will be printed\n",
    "    storage = \"Updated value\"\n",
    "}\n",
    "println(storage)"
   ],
   "metadata": {
    "collapsed": false,
    "ExecuteTime": {
     "end_time": "2024-02-12T11:05:03.075020Z",
     "start_time": "2024-02-12T11:05:02.996512Z"
    }
   }
  },
  {
   "cell_type": "markdown",
   "source": [
    "<img alt=\"Cover\" src=\"./images/12.png\" width=\"3000\"/>\n",
    "\n",
    "---"
   ],
   "metadata": {
    "collapsed": false
   }
  },
  {
   "cell_type": "markdown",
   "source": [
    "# Loops"
   ],
   "metadata": {
    "collapsed": false
   }
  },
  {
   "cell_type": "code",
   "execution_count": 43,
   "outputs": [
    {
     "name": "stdout",
     "output_type": "stream",
     "text": [
      "apple\n",
      "banana\n",
      "kiwifruit\n"
     ]
    }
   ],
   "source": [
    "val items = listOf(\"apple\", \"banana\", \"kiwifruit\")\n",
    "for (item in items) {\n",
    "    println(item)\n",
    "}"
   ],
   "metadata": {
    "collapsed": false,
    "ExecuteTime": {
     "end_time": "2024-02-12T11:06:08.604512Z",
     "start_time": "2024-02-12T11:06:08.534391Z"
    }
   }
  },
  {
   "cell_type": "code",
   "execution_count": 44,
   "outputs": [
    {
     "name": "stdout",
     "output_type": "stream",
     "text": [
      "item at 0 is apple\n",
      "item at 1 is banana\n",
      "item at 2 is kiwifruit\n"
     ]
    }
   ],
   "source": [
    "for (index in items.indices) {\n",
    "    println(\"item at $index is ${items[index]}\")\n",
    "}"
   ],
   "metadata": {
    "collapsed": false,
    "ExecuteTime": {
     "end_time": "2024-02-12T11:07:00.405411Z",
     "start_time": "2024-02-12T11:07:00.278027Z"
    }
   }
  },
  {
   "cell_type": "code",
   "execution_count": 46,
   "outputs": [
    {
     "name": "stdout",
     "output_type": "stream",
     "text": [
      "item at 0 is apple\n",
      "item at 1 is banana\n",
      "item at 2 is kiwifruit\n",
      "item at 0 is apple\n",
      "item at 1 is banana\n",
      "item at 2 is kiwifruit\n"
     ]
    }
   ],
   "source": [
    "for ((index, item) in items.withIndex()) {\n",
    "    println(\"item at $index is $item\")\n",
    "}\n",
    "\n",
    "for (res in items.withIndex()) {\n",
    "    println(\"item at ${res.index} is ${res.value}\")\n",
    "}"
   ],
   "metadata": {
    "collapsed": false,
    "ExecuteTime": {
     "end_time": "2024-02-12T11:08:25.404305Z",
     "start_time": "2024-02-12T11:08:25.341446Z"
    }
   }
  },
  {
   "cell_type": "code",
   "execution_count": 47,
   "outputs": [
    {
     "name": "stdout",
     "output_type": "stream",
     "text": [
      "item at 0 is apple\n",
      "item at 1 is banana\n",
      "item at 2 is kiwifruit\n"
     ]
    }
   ],
   "source": [
    "var index = 0\n",
    "while (index < items.size) {\n",
    "    println(\"item at $index is ${items[index]}\")\n",
    "    index++ \n",
    "}"
   ],
   "metadata": {
    "collapsed": false,
    "ExecuteTime": {
     "end_time": "2024-02-12T11:10:18.149056Z",
     "start_time": "2024-02-12T11:10:18.101252Z"
    }
   }
  },
  {
   "cell_type": "code",
   "execution_count": 48,
   "outputs": [
    {
     "name": "stdout",
     "output_type": "stream",
     "text": [
      "Hi!\n"
     ]
    }
   ],
   "source": [
    "var toComplete: Boolean = false\n",
    "do {\n",
    "    println(\"Hi!\")\n",
    "    toComplete = false // The condition variable can be initialized inside to the do...while loop\n",
    "} while(toComplete)"
   ],
   "metadata": {
    "collapsed": false,
    "ExecuteTime": {
     "end_time": "2024-02-12T11:10:38.587930Z",
     "start_time": "2024-02-12T11:10:38.540300Z"
    }
   }
  },
  {
   "cell_type": "code",
   "execution_count": 50,
   "outputs": [
    {
     "name": "stdout",
     "output_type": "stream",
     "text": [
      "items: [apple, banana, kiwifruit]\n",
      "otherItems: [yellow, red, green]\n",
      "item: apple\n",
      "anotherItem: yellow\n",
      "continue condition reached\n",
      "item: banana\n",
      "anotherItem: yellow\n",
      "break condition reached\n"
     ]
    }
   ],
   "source": [
    "val otherItems = listOf(\"yellow\", \"red\", \"green\")\n",
    "\n",
    "println(\"items: $items\")\n",
    "println(\"otherItems: $otherItems\")\n",
    "\n",
    "// There are break and continue labels for loops:\n",
    "myLabel@ for (item in items) {\n",
    "    println(\"item: $item\")\n",
    "    for (anotherItem in otherItems) {\n",
    "        println(\"anotherItem: $anotherItem\")\n",
    "        if (anotherItem.length == item.length) {\n",
    "            println(\"break condition reached\")\n",
    "            break@myLabel\n",
    "        } else {\n",
    "            println(\"continue condition reached\")\n",
    "            continue@myLabel\n",
    "        }\n",
    "    }\n",
    "    println(\"_______\")\n",
    "}"
   ],
   "metadata": {
    "collapsed": false,
    "ExecuteTime": {
     "end_time": "2024-02-12T11:12:54.997692Z",
     "start_time": "2024-02-12T11:12:54.933183Z"
    }
   }
  },
  {
   "cell_type": "markdown",
   "source": [
    "---\n",
    "\n",
    "# Ranges"
   ],
   "metadata": {
    "collapsed": false
   }
  },
  {
   "cell_type": "code",
   "execution_count": 51,
   "outputs": [
    {
     "name": "stdout",
     "output_type": "stream",
     "text": [
      "fits in range\n"
     ]
    }
   ],
   "source": [
    "val x = 10\n",
    "if (x in 1..10) {\n",
    "    println(\"fits in range\")\n",
    "}"
   ],
   "metadata": {
    "collapsed": false,
    "ExecuteTime": {
     "end_time": "2024-02-12T11:13:44.981400Z",
     "start_time": "2024-02-12T11:13:44.921920Z"
    }
   }
  },
  {
   "cell_type": "code",
   "execution_count": 52,
   "outputs": [
    {
     "name": "stdout",
     "output_type": "stream",
     "text": [
      "12345"
     ]
    }
   ],
   "source": [
    "for (x in 1..5) {\n",
    "    print(x)\n",
    "}"
   ],
   "metadata": {
    "collapsed": false,
    "ExecuteTime": {
     "end_time": "2024-02-12T11:14:55.503112Z",
     "start_time": "2024-02-12T11:14:55.467806Z"
    }
   }
  },
  {
   "cell_type": "code",
   "execution_count": 53,
   "outputs": [
    {
     "name": "stdout",
     "output_type": "stream",
     "text": [
      "9630"
     ]
    }
   ],
   "source": [
    "// downTo and step are extension functions, not keywords.\n",
    "// '..' is actually T.rangeTo(that: T)\n",
    "for (x in 9 downTo 0 step 3) {\n",
    "    print(x)\n",
    "}"
   ],
   "metadata": {
    "collapsed": false,
    "ExecuteTime": {
     "end_time": "2024-02-12T11:15:20.106909Z",
     "start_time": "2024-02-12T11:15:20.044693Z"
    }
   }
  },
  {
   "cell_type": "markdown",
   "source": [
    "---\n",
    "\n",
    "# Null safety"
   ],
   "metadata": {
    "collapsed": false
   }
  },
  {
   "cell_type": "code",
   "execution_count": 55,
   "outputs": [],
   "source": [
    "val notNullText: String = \"Definitely not null\"\n",
    "val nullableText1: String? = \"Might be null\"\n",
    "val nullableText2: String? = null"
   ],
   "metadata": {
    "collapsed": false,
    "ExecuteTime": {
     "end_time": "2024-02-12T11:20:46.512447Z",
     "start_time": "2024-02-12T11:20:46.436590Z"
    }
   }
  },
  {
   "cell_type": "code",
   "execution_count": 56,
   "outputs": [
    {
     "name": "stdout",
     "output_type": "stream",
     "text": [
      "Might be null\n",
      "Nothing to print :(\n"
     ]
    }
   ],
   "source": [
    "fun funny(text: String?) {\n",
    "    if (text != null)\n",
    "        println(text)\n",
    "    else\n",
    "        println(\"Nothing to print :(\")\n",
    "}\n",
    "\n",
    "funny(nullableText1)\n",
    "funny(nullableText2)"
   ],
   "metadata": {
    "collapsed": false,
    "ExecuteTime": {
     "end_time": "2024-02-12T11:20:47.404396Z",
     "start_time": "2024-02-12T11:20:47.340029Z"
    }
   }
  },
  {
   "cell_type": "code",
   "execution_count": 57,
   "outputs": [
    {
     "name": "stdout",
     "output_type": "stream",
     "text": [
      "Might be null\n",
      "Nothing to print :(\n"
     ]
    }
   ],
   "source": [
    "fun funnier(text: String?) {\n",
    "    // We can use the Elvis iperator\n",
    "    val toPrint = text ?: \"Nothing to print :(\"\n",
    "    println(toPrint)\n",
    "}\n",
    "\n",
    "funnier(nullableText1)\n",
    "funnier(nullableText2)"
   ],
   "metadata": {
    "collapsed": false,
    "ExecuteTime": {
     "end_time": "2024-02-12T11:22:20.337939Z",
     "start_time": "2024-02-12T11:22:20.289264Z"
    }
   }
  },
  {
   "cell_type": "markdown",
   "source": [
    "---\n",
    "\n",
    "# Elvis operator ?:\n",
    "\n",
    "<font size=\"5\">If the expression to the left of `?:` is not `null`, the Elvis operator\n",
    "returns it; otherwise, it returns the expression to the right.</font>\n",
    "\n",
    "<font size=\"5\">Note that the expression on the right-hand side is evaluated only if\n",
    "the left-hand side is `null`.</font>"
   ],
   "metadata": {
    "collapsed": false
   }
  },
  {
   "cell_type": "code",
   "execution_count": 59,
   "outputs": [
    {
     "name": "stdout",
     "output_type": "stream",
     "text": [
      "Something to return\n",
      "Item#1\n"
     ]
    }
   ],
   "source": [
    "import org.jetbrains.kotlin.public.course.introduction.findItem\n",
    "\n",
    "fun loadInfoById(id: String): String? {\n",
    "    val item = findItem(id) ?: return \"Something to return\"\n",
    "    return item.loadInfo() ?: error(\"Error!!\")\n",
    "}\n",
    "\n",
    "println(loadInfoById(\"0\"))\n",
    "println(loadInfoById(\"1\"))"
   ],
   "metadata": {
    "collapsed": false,
    "ExecuteTime": {
     "end_time": "2024-02-12T11:24:11.989139Z",
     "start_time": "2024-02-12T11:24:11.937559Z"
    }
   }
  },
  {
   "cell_type": "code",
   "outputs": [
    {
     "name": "stderr",
     "output_type": "stream",
     "text": [
      "Error!!\n",
      "java.lang.IllegalStateException: Error!!\n",
      "\tat Line_69_jupyter.loadInfoById(Line_69.jupyter.kts:5)\n",
      "\tat Line_70_jupyter.<init>(Line_70.jupyter.kts:1)\n",
      "\tat java.base/jdk.internal.reflect.NativeConstructorAccessorImpl.newInstance0(Native Method)\n",
      "\tat java.base/jdk.internal.reflect.NativeConstructorAccessorImpl.newInstance(NativeConstructorAccessorImpl.java:77)\n",
      "\tat java.base/jdk.internal.reflect.DelegatingConstructorAccessorImpl.newInstance(DelegatingConstructorAccessorImpl.java:45)\n",
      "\tat java.base/java.lang.reflect.Constructor.newInstanceWithCaller(Constructor.java:499)\n",
      "\tat java.base/java.lang.reflect.Constructor.newInstance(Constructor.java:480)\n",
      "\tat kotlin.script.experimental.jvm.BasicJvmScriptEvaluator.evalWithConfigAndOtherScriptsResults(BasicJvmScriptEvaluator.kt:105)\n",
      "\tat kotlin.script.experimental.jvm.BasicJvmScriptEvaluator.invoke$suspendImpl(BasicJvmScriptEvaluator.kt:47)\n",
      "\tat kotlin.script.experimental.jvm.BasicJvmScriptEvaluator.invoke(BasicJvmScriptEvaluator.kt)\n",
      "\tat kotlin.script.experimental.jvm.BasicJvmReplEvaluator.eval(BasicJvmReplEvaluator.kt:49)\n",
      "\tat org.jetbrains.kotlinx.jupyter.repl.impl.InternalEvaluatorImpl$eval$resultWithDiagnostics$1.invokeSuspend(InternalEvaluatorImpl.kt:107)\n",
      "\tat kotlin.coroutines.jvm.internal.BaseContinuationImpl.resumeWith(ContinuationImpl.kt:33)\n",
      "\tat kotlinx.coroutines.DispatchedTask.run(DispatchedTask.kt:106)\n",
      "\tat kotlinx.coroutines.EventLoopImplBase.processNextEvent(EventLoop.common.kt:284)\n",
      "\tat kotlinx.coroutines.BlockingCoroutine.joinBlocking(Builders.kt:85)\n",
      "\tat kotlinx.coroutines.BuildersKt__BuildersKt.runBlocking(Builders.kt:59)\n",
      "\tat kotlinx.coroutines.BuildersKt.runBlocking(Unknown Source)\n",
      "\tat kotlinx.coroutines.BuildersKt__BuildersKt.runBlocking$default(Builders.kt:38)\n",
      "\tat kotlinx.coroutines.BuildersKt.runBlocking$default(Unknown Source)\n",
      "\tat org.jetbrains.kotlinx.jupyter.repl.impl.InternalEvaluatorImpl.eval(InternalEvaluatorImpl.kt:107)\n",
      "\tat org.jetbrains.kotlinx.jupyter.repl.impl.CellExecutorImpl$execute$1$result$1.invoke(CellExecutorImpl.kt:75)\n",
      "\tat org.jetbrains.kotlinx.jupyter.repl.impl.CellExecutorImpl$execute$1$result$1.invoke(CellExecutorImpl.kt:73)\n",
      "\tat org.jetbrains.kotlinx.jupyter.ReplForJupyterImpl.withHost(repl.kt:690)\n",
      "\tat org.jetbrains.kotlinx.jupyter.repl.impl.CellExecutorImpl.execute(CellExecutorImpl.kt:73)\n",
      "\tat org.jetbrains.kotlinx.jupyter.repl.CellExecutor$DefaultImpls.execute$default(CellExecutor.kt:14)\n",
      "\tat org.jetbrains.kotlinx.jupyter.ReplForJupyterImpl$evalEx$1.invoke(repl.kt:500)\n",
      "\tat org.jetbrains.kotlinx.jupyter.ReplForJupyterImpl$evalEx$1.invoke(repl.kt:478)\n",
      "\tat org.jetbrains.kotlinx.jupyter.ReplForJupyterImpl.withEvalContext(repl.kt:441)\n",
      "\tat org.jetbrains.kotlinx.jupyter.ReplForJupyterImpl.evalEx(repl.kt:478)\n",
      "\tat org.jetbrains.kotlinx.jupyter.messaging.ProtocolKt$shellMessagesHandler$2$res$1.invoke(protocol.kt:320)\n",
      "\tat org.jetbrains.kotlinx.jupyter.messaging.ProtocolKt$shellMessagesHandler$2$res$1.invoke(protocol.kt:314)\n",
      "\tat org.jetbrains.kotlinx.jupyter.JupyterExecutorImpl$runExecution$execThread$1.invoke(execution.kt:38)\n",
      "\tat org.jetbrains.kotlinx.jupyter.JupyterExecutorImpl$runExecution$execThread$1.invoke(execution.kt:33)\n",
      "\tat kotlin.concurrent.ThreadsKt$thread$thread$1.run(Thread.kt:30)\n"
     ]
    }
   ],
   "source": [
    "println(loadInfoById(\"3\")) // ERROR"
   ],
   "metadata": {
    "collapsed": false,
    "ExecuteTime": {
     "end_time": "2024-02-12T11:25:44.024842Z",
     "start_time": "2024-02-12T11:25:43.973345Z"
    }
   },
   "execution_count": 60
  },
  {
   "cell_type": "markdown",
   "source": [
    "---\n",
    "\n",
    "# Safe Calls\n",
    "\n",
    "<font size=\"5\">`someThing?.otherThing` does not throw an NPE if `someThing` is `null`.</font>\n",
    "\n",
    "<font size=\"5\">Safe calls are useful in chains. For example, an employee may be assigned to a department (or not). That department may in turn have another employee as a department head, who may or may not have a name, which we want to print:</font>"
   ],
   "metadata": {
    "collapsed": false
   }
  },
  {
   "cell_type": "code",
   "execution_count": 6,
   "outputs": [
    {
     "name": "stdout",
     "output_type": "stream",
     "text": [
      "null\n"
     ]
    }
   ],
   "source": [
    "import org.jetbrains.kotlin.public.course.introduction.Department\n",
    "import org.jetbrains.kotlin.public.course.introduction.Employee\n",
    "import org.jetbrains.kotlin.public.course.introduction.Head\n",
    "\n",
    "fun printDepartmentHead(employee: Employee) {\n",
    "     println(employee.department?.head?.name)\n",
    "}\n",
    "\n",
    "val employeeWithoutDepartment = Employee()\n",
    "printDepartmentHead(employeeWithoutDepartment)"
   ],
   "metadata": {
    "collapsed": false,
    "ExecuteTime": {
     "end_time": "2024-02-13T14:48:59.413412Z",
     "start_time": "2024-02-13T14:48:59.245798Z"
    }
   }
  },
  {
   "cell_type": "code",
   "outputs": [
    {
     "name": "stderr",
     "output_type": "stream",
     "text": [
      "Line_1.jupyter.kts (1:27 - 35) Unresolved reference: Employee\n",
      "Line_1.jupyter.kts (1:36 - 46) Unresolved reference: Department\n",
      "Line_1.jupyter.kts (2:1 - 20) Unresolved reference: printDepartmentHead"
     ]
    }
   ],
   "source": [
    "val employeeWithoutHead = Employee(Department(\"1\"))\n",
    "printDepartmentHead(employeeWithoutHead)"
   ],
   "metadata": {
    "collapsed": false,
    "ExecuteTime": {
     "end_time": "2024-02-13T19:24:52.179109Z",
     "start_time": "2024-02-13T19:24:52.097903Z"
    }
   },
   "execution_count": 1
  },
  {
   "cell_type": "code",
   "outputs": [
    {
     "name": "stdout",
     "output_type": "stream",
     "text": [
      "Computer Science\n"
     ]
    }
   ],
   "source": [
    "val employee = Employee(Department(\"1\", Head(\"2\", \"Computer Science\")))\n",
    "printDepartmentHead(employee)"
   ],
   "metadata": {
    "collapsed": false,
    "ExecuteTime": {
     "end_time": "2024-02-13T14:49:45.567721Z",
     "start_time": "2024-02-13T14:49:45.519622Z"
    }
   },
   "execution_count": 8
  },
  {
   "cell_type": "markdown",
   "source": [
    "<font size=\"5\">To print only for non-null values, you can use the safe call operator together with `let`:</font>"
   ],
   "metadata": {
    "collapsed": false
   }
  },
  {
   "cell_type": "code",
   "execution_count": 10,
   "outputs": [
    {
     "name": "stdout",
     "output_type": "stream",
     "text": [
      "Computer Science\n"
     ]
    }
   ],
   "source": [
    "employee.department?.head?.name?.let { n -> \n",
    "    println(n) \n",
    "}"
   ],
   "metadata": {
    "collapsed": false,
    "ExecuteTime": {
     "end_time": "2024-02-13T14:51:28.563498Z",
     "start_time": "2024-02-13T14:51:28.507888Z"
    }
   }
  },
  {
   "cell_type": "markdown",
   "source": [
    "---\n",
    "\n",
    "# Unsafe Calls"
   ],
   "metadata": {
    "collapsed": false
   }
  },
  {
   "cell_type": "markdown",
   "source": [
    "<font size=\"5\">The not-null assertion operator (`!!`) converts any value to a non-null type and throws an NPE exception if the value is null.</font>"
   ],
   "metadata": {
    "collapsed": false
   }
  },
  {
   "cell_type": "code",
   "execution_count": 11,
   "outputs": [
    {
     "name": "stdout",
     "output_type": "stream",
     "text": [
      "Computer Science\n"
     ]
    }
   ],
   "source": [
    "fun printDepartmentHeadUnsafe(employee: Employee) {\n",
    "    println(employee.department!!.head!!.name)\n",
    "}\n",
    "\n",
    "printDepartmentHeadUnsafe(employee)"
   ],
   "metadata": {
    "collapsed": false,
    "ExecuteTime": {
     "end_time": "2024-02-13T14:52:19.143733Z",
     "start_time": "2024-02-13T14:52:19.081710Z"
    }
   }
  },
  {
   "cell_type": "code",
   "outputs": [
    {
     "name": "stderr",
     "output_type": "stream",
     "text": [
      "null\n",
      "java.lang.NullPointerException\n",
      "\tat Line_11_jupyter.printDepartmentHeadUnsafe(Line_11.jupyter.kts:2)\n",
      "\tat Line_12_jupyter.<init>(Line_12.jupyter.kts:1)\n",
      "\tat java.base/jdk.internal.reflect.NativeConstructorAccessorImpl.newInstance0(Native Method)\n",
      "\tat java.base/jdk.internal.reflect.NativeConstructorAccessorImpl.newInstance(NativeConstructorAccessorImpl.java:77)\n",
      "\tat java.base/jdk.internal.reflect.DelegatingConstructorAccessorImpl.newInstance(DelegatingConstructorAccessorImpl.java:45)\n",
      "\tat java.base/java.lang.reflect.Constructor.newInstanceWithCaller(Constructor.java:499)\n",
      "\tat java.base/java.lang.reflect.Constructor.newInstance(Constructor.java:480)\n",
      "\tat kotlin.script.experimental.jvm.BasicJvmScriptEvaluator.evalWithConfigAndOtherScriptsResults(BasicJvmScriptEvaluator.kt:105)\n",
      "\tat kotlin.script.experimental.jvm.BasicJvmScriptEvaluator.invoke$suspendImpl(BasicJvmScriptEvaluator.kt:47)\n",
      "\tat kotlin.script.experimental.jvm.BasicJvmScriptEvaluator.invoke(BasicJvmScriptEvaluator.kt)\n",
      "\tat kotlin.script.experimental.jvm.BasicJvmReplEvaluator.eval(BasicJvmReplEvaluator.kt:49)\n",
      "\tat org.jetbrains.kotlinx.jupyter.repl.impl.InternalEvaluatorImpl$eval$resultWithDiagnostics$1.invokeSuspend(InternalEvaluatorImpl.kt:107)\n",
      "\tat kotlin.coroutines.jvm.internal.BaseContinuationImpl.resumeWith(ContinuationImpl.kt:33)\n",
      "\tat kotlinx.coroutines.DispatchedTask.run(DispatchedTask.kt:106)\n",
      "\tat kotlinx.coroutines.EventLoopImplBase.processNextEvent(EventLoop.common.kt:284)\n",
      "\tat kotlinx.coroutines.BlockingCoroutine.joinBlocking(Builders.kt:85)\n",
      "\tat kotlinx.coroutines.BuildersKt__BuildersKt.runBlocking(Builders.kt:59)\n",
      "\tat kotlinx.coroutines.BuildersKt.runBlocking(Unknown Source)\n",
      "\tat kotlinx.coroutines.BuildersKt__BuildersKt.runBlocking$default(Builders.kt:38)\n",
      "\tat kotlinx.coroutines.BuildersKt.runBlocking$default(Unknown Source)\n",
      "\tat org.jetbrains.kotlinx.jupyter.repl.impl.InternalEvaluatorImpl.eval(InternalEvaluatorImpl.kt:107)\n",
      "\tat org.jetbrains.kotlinx.jupyter.repl.impl.CellExecutorImpl$execute$1$result$1.invoke(CellExecutorImpl.kt:75)\n",
      "\tat org.jetbrains.kotlinx.jupyter.repl.impl.CellExecutorImpl$execute$1$result$1.invoke(CellExecutorImpl.kt:73)\n",
      "\tat org.jetbrains.kotlinx.jupyter.ReplForJupyterImpl.withHost(repl.kt:690)\n",
      "\tat org.jetbrains.kotlinx.jupyter.repl.impl.CellExecutorImpl.execute(CellExecutorImpl.kt:73)\n",
      "\tat org.jetbrains.kotlinx.jupyter.repl.CellExecutor$DefaultImpls.execute$default(CellExecutor.kt:14)\n",
      "\tat org.jetbrains.kotlinx.jupyter.ReplForJupyterImpl$evalEx$1.invoke(repl.kt:500)\n",
      "\tat org.jetbrains.kotlinx.jupyter.ReplForJupyterImpl$evalEx$1.invoke(repl.kt:478)\n",
      "\tat org.jetbrains.kotlinx.jupyter.ReplForJupyterImpl.withEvalContext(repl.kt:441)\n",
      "\tat org.jetbrains.kotlinx.jupyter.ReplForJupyterImpl.evalEx(repl.kt:478)\n",
      "\tat org.jetbrains.kotlinx.jupyter.messaging.ProtocolKt$shellMessagesHandler$2$res$1.invoke(protocol.kt:320)\n",
      "\tat org.jetbrains.kotlinx.jupyter.messaging.ProtocolKt$shellMessagesHandler$2$res$1.invoke(protocol.kt:314)\n",
      "\tat org.jetbrains.kotlinx.jupyter.JupyterExecutorImpl$runExecution$execThread$1.invoke(execution.kt:38)\n",
      "\tat org.jetbrains.kotlinx.jupyter.JupyterExecutorImpl$runExecution$execThread$1.invoke(execution.kt:33)\n",
      "\tat kotlin.concurrent.ThreadsKt$thread$thread$1.run(Thread.kt:30)\n"
     ]
    }
   ],
   "source": [
    "printDepartmentHeadUnsafe(employeeWithoutDepartment) // ERROR"
   ],
   "metadata": {
    "collapsed": false,
    "ExecuteTime": {
     "end_time": "2024-02-13T14:52:43.211579Z",
     "start_time": "2024-02-13T14:52:43.165990Z"
    }
   },
   "execution_count": 12
  },
  {
   "cell_type": "code",
   "outputs": [
    {
     "name": "stderr",
     "output_type": "stream",
     "text": [
      "null\n",
      "java.lang.NullPointerException\n",
      "\tat Line_11_jupyter.printDepartmentHeadUnsafe(Line_11.jupyter.kts:2)\n",
      "\tat Line_13_jupyter.<init>(Line_13.jupyter.kts:1)\n",
      "\tat java.base/jdk.internal.reflect.NativeConstructorAccessorImpl.newInstance0(Native Method)\n",
      "\tat java.base/jdk.internal.reflect.NativeConstructorAccessorImpl.newInstance(NativeConstructorAccessorImpl.java:77)\n",
      "\tat java.base/jdk.internal.reflect.DelegatingConstructorAccessorImpl.newInstance(DelegatingConstructorAccessorImpl.java:45)\n",
      "\tat java.base/java.lang.reflect.Constructor.newInstanceWithCaller(Constructor.java:499)\n",
      "\tat java.base/java.lang.reflect.Constructor.newInstance(Constructor.java:480)\n",
      "\tat kotlin.script.experimental.jvm.BasicJvmScriptEvaluator.evalWithConfigAndOtherScriptsResults(BasicJvmScriptEvaluator.kt:105)\n",
      "\tat kotlin.script.experimental.jvm.BasicJvmScriptEvaluator.invoke$suspendImpl(BasicJvmScriptEvaluator.kt:47)\n",
      "\tat kotlin.script.experimental.jvm.BasicJvmScriptEvaluator.invoke(BasicJvmScriptEvaluator.kt)\n",
      "\tat kotlin.script.experimental.jvm.BasicJvmReplEvaluator.eval(BasicJvmReplEvaluator.kt:49)\n",
      "\tat org.jetbrains.kotlinx.jupyter.repl.impl.InternalEvaluatorImpl$eval$resultWithDiagnostics$1.invokeSuspend(InternalEvaluatorImpl.kt:107)\n",
      "\tat kotlin.coroutines.jvm.internal.BaseContinuationImpl.resumeWith(ContinuationImpl.kt:33)\n",
      "\tat kotlinx.coroutines.DispatchedTask.run(DispatchedTask.kt:106)\n",
      "\tat kotlinx.coroutines.EventLoopImplBase.processNextEvent(EventLoop.common.kt:284)\n",
      "\tat kotlinx.coroutines.BlockingCoroutine.joinBlocking(Builders.kt:85)\n",
      "\tat kotlinx.coroutines.BuildersKt__BuildersKt.runBlocking(Builders.kt:59)\n",
      "\tat kotlinx.coroutines.BuildersKt.runBlocking(Unknown Source)\n",
      "\tat kotlinx.coroutines.BuildersKt__BuildersKt.runBlocking$default(Builders.kt:38)\n",
      "\tat kotlinx.coroutines.BuildersKt.runBlocking$default(Unknown Source)\n",
      "\tat org.jetbrains.kotlinx.jupyter.repl.impl.InternalEvaluatorImpl.eval(InternalEvaluatorImpl.kt:107)\n",
      "\tat org.jetbrains.kotlinx.jupyter.repl.impl.CellExecutorImpl$execute$1$result$1.invoke(CellExecutorImpl.kt:75)\n",
      "\tat org.jetbrains.kotlinx.jupyter.repl.impl.CellExecutorImpl$execute$1$result$1.invoke(CellExecutorImpl.kt:73)\n",
      "\tat org.jetbrains.kotlinx.jupyter.ReplForJupyterImpl.withHost(repl.kt:690)\n",
      "\tat org.jetbrains.kotlinx.jupyter.repl.impl.CellExecutorImpl.execute(CellExecutorImpl.kt:73)\n",
      "\tat org.jetbrains.kotlinx.jupyter.repl.CellExecutor$DefaultImpls.execute$default(CellExecutor.kt:14)\n",
      "\tat org.jetbrains.kotlinx.jupyter.ReplForJupyterImpl$evalEx$1.invoke(repl.kt:500)\n",
      "\tat org.jetbrains.kotlinx.jupyter.ReplForJupyterImpl$evalEx$1.invoke(repl.kt:478)\n",
      "\tat org.jetbrains.kotlinx.jupyter.ReplForJupyterImpl.withEvalContext(repl.kt:441)\n",
      "\tat org.jetbrains.kotlinx.jupyter.ReplForJupyterImpl.evalEx(repl.kt:478)\n",
      "\tat org.jetbrains.kotlinx.jupyter.messaging.ProtocolKt$shellMessagesHandler$2$res$1.invoke(protocol.kt:320)\n",
      "\tat org.jetbrains.kotlinx.jupyter.messaging.ProtocolKt$shellMessagesHandler$2$res$1.invoke(protocol.kt:314)\n",
      "\tat org.jetbrains.kotlinx.jupyter.JupyterExecutorImpl$runExecution$execThread$1.invoke(execution.kt:38)\n",
      "\tat org.jetbrains.kotlinx.jupyter.JupyterExecutorImpl$runExecution$execThread$1.invoke(execution.kt:33)\n",
      "\tat kotlin.concurrent.ThreadsKt$thread$thread$1.run(Thread.kt:30)\n"
     ]
    }
   ],
   "source": [
    "printDepartmentHeadUnsafe(employeeWithoutHead) // ERROR"
   ],
   "metadata": {
    "collapsed": false,
    "ExecuteTime": {
     "end_time": "2024-02-13T14:52:54.899207Z",
     "start_time": "2024-02-13T14:52:54.854526Z"
    }
   },
   "execution_count": 13
  },
  {
   "cell_type": "markdown",
   "source": [
    "<font size=\"5\">**Please, avoid using unsafe calls!**</font>"
   ],
   "metadata": {
    "collapsed": false
   }
  },
  {
   "cell_type": "markdown",
   "source": [
    "---\n",
    "\n",
    "# TODO\n",
    "\n",
    "<font size=\"5\">Always throws a `NotImplementedError` at **run-time** if called, stating that operation is not implemented.</font>"
   ],
   "metadata": {
    "collapsed": false
   }
  },
  {
   "cell_type": "code",
   "execution_count": 173,
   "outputs": [
    {
     "name": "stderr",
     "output_type": "stream",
     "text": [
      "An operation is not implemented: Find item 1\n",
      "kotlin.NotImplementedError: An operation is not implemented: Find item 1\n",
      "\tat Line_178_jupyter.findItemOrNull(Line_178.jupyter.kts:4)\n",
      "\tat Line_178_jupyter.<init>(Line_178.jupyter.kts:6)\n",
      "\tat java.base/jdk.internal.reflect.NativeConstructorAccessorImpl.newInstance0(Native Method)\n",
      "\tat java.base/jdk.internal.reflect.NativeConstructorAccessorImpl.newInstance(NativeConstructorAccessorImpl.java:77)\n",
      "\tat java.base/jdk.internal.reflect.DelegatingConstructorAccessorImpl.newInstance(DelegatingConstructorAccessorImpl.java:45)\n",
      "\tat java.base/java.lang.reflect.Constructor.newInstanceWithCaller(Constructor.java:499)\n",
      "\tat java.base/java.lang.reflect.Constructor.newInstance(Constructor.java:480)\n",
      "\tat kotlin.script.experimental.jvm.BasicJvmScriptEvaluator.evalWithConfigAndOtherScriptsResults(BasicJvmScriptEvaluator.kt:105)\n",
      "\tat kotlin.script.experimental.jvm.BasicJvmScriptEvaluator.invoke$suspendImpl(BasicJvmScriptEvaluator.kt:47)\n",
      "\tat kotlin.script.experimental.jvm.BasicJvmScriptEvaluator.invoke(BasicJvmScriptEvaluator.kt)\n",
      "\tat kotlin.script.experimental.jvm.BasicJvmReplEvaluator.eval(BasicJvmReplEvaluator.kt:49)\n",
      "\tat org.jetbrains.kotlinx.jupyter.repl.impl.InternalEvaluatorImpl$eval$resultWithDiagnostics$1.invokeSuspend(InternalEvaluatorImpl.kt:107)\n",
      "\tat kotlin.coroutines.jvm.internal.BaseContinuationImpl.resumeWith(ContinuationImpl.kt:33)\n",
      "\tat kotlinx.coroutines.DispatchedTask.run(DispatchedTask.kt:106)\n",
      "\tat kotlinx.coroutines.EventLoopImplBase.processNextEvent(EventLoop.common.kt:284)\n",
      "\tat kotlinx.coroutines.BlockingCoroutine.joinBlocking(Builders.kt:85)\n",
      "\tat kotlinx.coroutines.BuildersKt__BuildersKt.runBlocking(Builders.kt:59)\n",
      "\tat kotlinx.coroutines.BuildersKt.runBlocking(Unknown Source)\n",
      "\tat kotlinx.coroutines.BuildersKt__BuildersKt.runBlocking$default(Builders.kt:38)\n",
      "\tat kotlinx.coroutines.BuildersKt.runBlocking$default(Unknown Source)\n",
      "\tat org.jetbrains.kotlinx.jupyter.repl.impl.InternalEvaluatorImpl.eval(InternalEvaluatorImpl.kt:107)\n",
      "\tat org.jetbrains.kotlinx.jupyter.repl.impl.CellExecutorImpl$execute$1$result$1.invoke(CellExecutorImpl.kt:75)\n",
      "\tat org.jetbrains.kotlinx.jupyter.repl.impl.CellExecutorImpl$execute$1$result$1.invoke(CellExecutorImpl.kt:73)\n",
      "\tat org.jetbrains.kotlinx.jupyter.ReplForJupyterImpl.withHost(repl.kt:690)\n",
      "\tat org.jetbrains.kotlinx.jupyter.repl.impl.CellExecutorImpl.execute(CellExecutorImpl.kt:73)\n",
      "\tat org.jetbrains.kotlinx.jupyter.repl.CellExecutor$DefaultImpls.execute$default(CellExecutor.kt:14)\n",
      "\tat org.jetbrains.kotlinx.jupyter.ReplForJupyterImpl$evalEx$1.invoke(repl.kt:500)\n",
      "\tat org.jetbrains.kotlinx.jupyter.ReplForJupyterImpl$evalEx$1.invoke(repl.kt:478)\n",
      "\tat org.jetbrains.kotlinx.jupyter.ReplForJupyterImpl.withEvalContext(repl.kt:441)\n",
      "\tat org.jetbrains.kotlinx.jupyter.ReplForJupyterImpl.evalEx(repl.kt:478)\n",
      "\tat org.jetbrains.kotlinx.jupyter.messaging.ProtocolKt$shellMessagesHandler$2$res$1.invoke(protocol.kt:320)\n",
      "\tat org.jetbrains.kotlinx.jupyter.messaging.ProtocolKt$shellMessagesHandler$2$res$1.invoke(protocol.kt:314)\n",
      "\tat org.jetbrains.kotlinx.jupyter.JupyterExecutorImpl$runExecution$execThread$1.invoke(execution.kt:38)\n",
      "\tat org.jetbrains.kotlinx.jupyter.JupyterExecutorImpl$runExecution$execThread$1.invoke(execution.kt:33)\n",
      "\tat kotlin.concurrent.ThreadsKt$thread$thread$1.run(Thread.kt:30)\n"
     ]
    }
   ],
   "source": [
    "import org.jetbrains.kotlin.public.course.introduction.Item\n",
    "\n",
    "// Throws an error at run-time if calls this function, but compiles\n",
    "fun findItemOrNull(id: String): Item? = TODO(\"Find item $id\")\n",
    "\n",
    "fun findItemOrNull1(id: String): Item? = null\n",
    "\n",
    "findItemOrNull(\"1\")"
   ],
   "metadata": {
    "collapsed": false,
    "ExecuteTime": {
     "end_time": "2024-01-10T10:05:54.291308Z",
     "start_time": "2024-01-10T10:05:54.220695Z"
    }
   }
  },
  {
   "cell_type": "code",
   "execution_count": 14,
   "outputs": [
    {
     "name": "stderr",
     "output_type": "stream",
     "text": [
      "Line_14.jupyter.kts (4:20 - 22) Parameter 'id' is never used\n",
      "Line_14.jupyter.kts (4:40 - 41) A 'return' expression required in a function with a block body ('{...}')"
     ]
    }
   ],
   "source": [
    "import org.jetbrains.kotlin.public.course.introduction.Item\n",
    "\n",
    "// Does not compile at all\n",
    "fun findItemOrNull(id: String): Item? {}"
   ],
   "metadata": {
    "collapsed": false,
    "ExecuteTime": {
     "end_time": "2024-02-13T14:58:46.139805Z",
     "start_time": "2024-02-13T14:58:46.095824Z"
    }
   }
  },
  {
   "cell_type": "markdown",
   "source": [
    "---\n",
    "\n",
    "# String templates and the string builder"
   ],
   "metadata": {
    "collapsed": false
   }
  },
  {
   "cell_type": "code",
   "execution_count": 16,
   "outputs": [
    {
     "name": "stdout",
     "output_type": "stream",
     "text": [
      "i = 10\n",
      "Length of Kotlin is 6\n"
     ]
    }
   ],
   "source": [
    "val i = 10\n",
    "val s = \"Kotlin\"\n",
    "\n",
    "println(\"i = \" + i)\n",
    "println(\"Length of $s is ${s.length}\")\n",
    "\n",
    "var str = \"\"\n",
    "for (i in 1..10) {\n",
    "    str += \"i\"\n",
    "}"
   ],
   "metadata": {
    "collapsed": false,
    "ExecuteTime": {
     "end_time": "2024-02-13T15:00:15.479249Z",
     "start_time": "2024-02-13T15:00:15.430257Z"
    }
   }
  },
  {
   "cell_type": "code",
   "execution_count": 17,
   "outputs": [
    {
     "name": "stdout",
     "output_type": "stream",
     "text": [
      "Hello, world!\n"
     ]
    }
   ],
   "source": [
    "val sb = StringBuilder()\n",
    "sb.append(\"Hello\")\n",
    "sb.append(\", world!\")\n",
    "println(sb.toString())"
   ],
   "metadata": {
    "collapsed": false,
    "ExecuteTime": {
     "end_time": "2024-02-13T15:02:48.640430Z",
     "start_time": "2024-02-13T15:02:48.557051Z"
    }
   }
  },
  {
   "cell_type": "markdown",
   "source": [
    "---\n",
    "\n",
    "# Lambda expressions"
   ],
   "metadata": {
    "collapsed": false
   }
  },
  {
   "cell_type": "code",
   "execution_count": 18,
   "outputs": [
    {
     "name": "stdout",
     "output_type": "stream",
     "text": [
      "3\n",
      "2\n"
     ]
    }
   ],
   "source": [
    "val sum: (Int, Int) -> Int = { x: Int, y: Int -> x + y }\n",
    "val mul = { x: Int, y: Int -> x * y }\n",
    "\n",
    "println(sum(1, 2))\n",
    "println(mul(1, 2))"
   ],
   "metadata": {
    "collapsed": false,
    "ExecuteTime": {
     "end_time": "2024-02-13T15:04:01.308577Z",
     "start_time": "2024-02-13T15:04:01.217258Z"
    }
   }
  },
  {
   "cell_type": "markdown",
   "source": [
    "<font size=\"5\">According to Kotlin convention, if the last parameter of a function is a function, then a lambda expression passed as the corresponding argument can be placed outside the parentheses:</font>"
   ],
   "metadata": {
    "collapsed": false
   }
  },
  {
   "cell_type": "code",
   "execution_count": 19,
   "outputs": [
    {
     "name": "stdout",
     "output_type": "stream",
     "text": [
      "24\n",
      "24\n"
     ]
    }
   ],
   "source": [
    "val numbers = listOf(1, 2, 3, 4)\n",
    "\n",
    "val badProduct = numbers.fold(1, { acc, e -> acc * e })\n",
    "println(badProduct)\n",
    "\n",
    "val goodProduct = numbers.fold(1) { acc, e -> acc * e }\n",
    "println(goodProduct)"
   ],
   "metadata": {
    "collapsed": false,
    "ExecuteTime": {
     "end_time": "2024-02-13T15:05:02.834813Z",
     "start_time": "2024-02-13T15:05:02.736520Z"
    }
   }
  },
  {
   "cell_type": "markdown",
   "source": [
    "<font size=\"5\">If the lambda is the only argument, the parentheses can be omitted entirely (the documentation calls this feature \"trailing lambda as a parameter\"):</font>"
   ],
   "metadata": {
    "collapsed": false
   }
  },
  {
   "cell_type": "code",
   "execution_count": 20,
   "outputs": [
    {
     "name": "stdout",
     "output_type": "stream",
     "text": [
      "Not Cool\n",
      "Very Cool\n"
     ]
    }
   ],
   "source": [
    "run({ println(\"Not Cool\") })\n",
    "\n",
    "run { println(\"Very Cool\") }"
   ],
   "metadata": {
    "collapsed": false,
    "ExecuteTime": {
     "end_time": "2024-02-13T15:05:53.357541Z",
     "start_time": "2024-02-13T15:05:53.315373Z"
    }
   }
  },
  {
   "cell_type": "markdown",
   "source": [
    "---\n",
    "\n",
    "# Exceptions\n",
    "\n",
    "<font size=\"5\">An exception signals that something went _exceptionally_ wrong.</font>\n",
    "\n",
    "- <font size=\"5\">Development mistakes</font>\n",
    "- <font size=\"5\">Errors produced by external (to the program) resources</font>\n",
    "- <font size=\"5\">System errors</font>\n",
    "\n",
    "<font size=\"5\">Why use exceptions:</font>\n",
    "\n",
    "- <font size=\"5\">To separate error-handling code from regular code</font>\n",
    "- <font size=\"5\">To propagate errors up the call stack – maybe someone knows how to deal with the error</font>\n",
    "- <font size=\"5\">To group and differentiate error types</font>"
   ],
   "metadata": {
    "collapsed": false
   }
  },
  {
   "cell_type": "markdown",
   "source": [
    "---\n",
    "\n",
    "# Example"
   ],
   "metadata": {
    "collapsed": false
   }
  },
  {
   "cell_type": "code",
   "outputs": [],
   "source": [
    "fun exceptionExample() {\n",
    "    try {\n",
    "       throw Exception(\"An exception\", RuntimeException(\"A cause\"))\n",
    "    } catch (e: Exception) {\n",
    "       println(\"Message: ${e.message}\")\n",
    "       println(\"Cause: ${e.cause}\")\n",
    "       println(\"Exception: $e\") // toString() is called \"under the hood\"\n",
    "       e.printStackTrace()\n",
    "    } finally {\n",
    "       println(\"Finally always executes\")\n",
    "    }\n",
    "}"
   ],
   "metadata": {
    "collapsed": false,
    "ExecuteTime": {
     "end_time": "2024-02-13T15:07:39.695138Z",
     "start_time": "2024-02-13T15:07:39.601523Z"
    }
   },
   "execution_count": 21
  },
  {
   "cell_type": "code",
   "outputs": [
    {
     "name": "stdout",
     "output_type": "stream",
     "text": [
      "Message: An exception\n",
      "Cause: java.lang.RuntimeException: A cause\n",
      "Exception: java.lang.Exception: An exception\n",
      "Finally always executes\n"
     ]
    }
   ],
   "source": [
    "exceptionExample()"
   ],
   "metadata": {
    "collapsed": false,
    "ExecuteTime": {
     "end_time": "2024-02-13T15:07:43.272573Z",
     "start_time": "2024-02-13T15:07:43.228303Z"
    }
   },
   "execution_count": 22
  },
  {
   "cell_type": "markdown",
   "source": [
    "---\n",
    "\n",
    "# Kotlin sugar"
   ],
   "metadata": {
    "collapsed": false
   }
  },
  {
   "cell_type": "markdown",
   "source": [
    "<font size=\"5\">`try` is an expression:</font>"
   ],
   "metadata": {
    "collapsed": false
   }
  },
  {
   "cell_type": "code",
   "outputs": [
    {
     "name": "stdout",
     "output_type": "stream",
     "text": [
      "5\n"
     ]
    }
   ],
   "source": [
    "val input1 = \"5\"\n",
    "val tryAsExpressionExampleNumber: Int? = try { input1.toInt() } catch (e: NumberFormatException) { null }\n",
    "println(tryAsExpressionExampleNumber)"
   ],
   "metadata": {
    "collapsed": false,
    "ExecuteTime": {
     "end_time": "2024-02-13T15:08:17.438080Z",
     "start_time": "2024-02-13T15:08:17.360455Z"
    }
   },
   "execution_count": 23
  },
  {
   "cell_type": "code",
   "outputs": [
    {
     "name": "stdout",
     "output_type": "stream",
     "text": [
      "null\n"
     ]
    }
   ],
   "source": [
    "val input2 = \"Hello\"\n",
    "val tryAsExpressionExampleNull: Int? = try { input2.toInt() } catch (e: NumberFormatException) { null }\n",
    "println(tryAsExpressionExampleNull)"
   ],
   "metadata": {
    "collapsed": false,
    "ExecuteTime": {
     "end_time": "2024-02-13T15:08:25.107947Z",
     "start_time": "2024-02-13T15:08:25.064675Z"
    }
   },
   "execution_count": 24
  },
  {
   "cell_type": "markdown",
   "source": [
    "<font size=\"5\">More sugar:</font>"
   ],
   "metadata": {
    "collapsed": false
   }
  },
  {
   "cell_type": "code",
   "outputs": [],
   "source": [
    "fun requireExample(count: Int) {\n",
    "    require(count >= 0) { \"Count must be non-negative, was $count\" } \n",
    "    println(\"non-negative value: $count\")\n",
    "}"
   ],
   "metadata": {
    "collapsed": false,
    "ExecuteTime": {
     "end_time": "2024-02-13T15:09:13.612885Z",
     "start_time": "2024-02-13T15:09:13.555754Z"
    }
   },
   "execution_count": 25
  },
  {
   "cell_type": "code",
   "outputs": [
    {
     "name": "stdout",
     "output_type": "stream",
     "text": [
      "non-negative value: 5\n"
     ]
    }
   ],
   "source": [
    "requireExample(5)"
   ],
   "metadata": {
    "collapsed": false,
    "ExecuteTime": {
     "end_time": "2024-02-13T15:09:16.060120Z",
     "start_time": "2024-02-13T15:09:16.008398Z"
    }
   },
   "execution_count": 26
  },
  {
   "cell_type": "code",
   "outputs": [
    {
     "name": "stdout",
     "output_type": "stream",
     "text": [
      "non-negative value: 0\n"
     ]
    }
   ],
   "source": [
    "requireExample(0)"
   ],
   "metadata": {
    "collapsed": false,
    "ExecuteTime": {
     "end_time": "2024-02-13T15:09:22.512251Z",
     "start_time": "2024-02-13T15:09:22.465625Z"
    }
   },
   "execution_count": 27
  },
  {
   "cell_type": "code",
   "outputs": [
    {
     "name": "stderr",
     "output_type": "stream",
     "text": [
      "Count must be non-negative, was -5\n",
      "java.lang.IllegalArgumentException: Count must be non-negative, was -5\n",
      "\tat Line_27_jupyter.requireExample(Line_27.jupyter.kts:2)\n",
      "\tat Line_30_jupyter.<init>(Line_30.jupyter.kts:1)\n",
      "\tat java.base/jdk.internal.reflect.NativeConstructorAccessorImpl.newInstance0(Native Method)\n",
      "\tat java.base/jdk.internal.reflect.NativeConstructorAccessorImpl.newInstance(NativeConstructorAccessorImpl.java:77)\n",
      "\tat java.base/jdk.internal.reflect.DelegatingConstructorAccessorImpl.newInstance(DelegatingConstructorAccessorImpl.java:45)\n",
      "\tat java.base/java.lang.reflect.Constructor.newInstanceWithCaller(Constructor.java:499)\n",
      "\tat java.base/java.lang.reflect.Constructor.newInstance(Constructor.java:480)\n",
      "\tat kotlin.script.experimental.jvm.BasicJvmScriptEvaluator.evalWithConfigAndOtherScriptsResults(BasicJvmScriptEvaluator.kt:105)\n",
      "\tat kotlin.script.experimental.jvm.BasicJvmScriptEvaluator.invoke$suspendImpl(BasicJvmScriptEvaluator.kt:47)\n",
      "\tat kotlin.script.experimental.jvm.BasicJvmScriptEvaluator.invoke(BasicJvmScriptEvaluator.kt)\n",
      "\tat kotlin.script.experimental.jvm.BasicJvmReplEvaluator.eval(BasicJvmReplEvaluator.kt:49)\n",
      "\tat org.jetbrains.kotlinx.jupyter.repl.impl.InternalEvaluatorImpl$eval$resultWithDiagnostics$1.invokeSuspend(InternalEvaluatorImpl.kt:107)\n",
      "\tat kotlin.coroutines.jvm.internal.BaseContinuationImpl.resumeWith(ContinuationImpl.kt:33)\n",
      "\tat kotlinx.coroutines.DispatchedTask.run(DispatchedTask.kt:106)\n",
      "\tat kotlinx.coroutines.EventLoopImplBase.processNextEvent(EventLoop.common.kt:284)\n",
      "\tat kotlinx.coroutines.BlockingCoroutine.joinBlocking(Builders.kt:85)\n",
      "\tat kotlinx.coroutines.BuildersKt__BuildersKt.runBlocking(Builders.kt:59)\n",
      "\tat kotlinx.coroutines.BuildersKt.runBlocking(Unknown Source)\n",
      "\tat kotlinx.coroutines.BuildersKt__BuildersKt.runBlocking$default(Builders.kt:38)\n",
      "\tat kotlinx.coroutines.BuildersKt.runBlocking$default(Unknown Source)\n",
      "\tat org.jetbrains.kotlinx.jupyter.repl.impl.InternalEvaluatorImpl.eval(InternalEvaluatorImpl.kt:107)\n",
      "\tat org.jetbrains.kotlinx.jupyter.repl.impl.CellExecutorImpl$execute$1$result$1.invoke(CellExecutorImpl.kt:75)\n",
      "\tat org.jetbrains.kotlinx.jupyter.repl.impl.CellExecutorImpl$execute$1$result$1.invoke(CellExecutorImpl.kt:73)\n",
      "\tat org.jetbrains.kotlinx.jupyter.ReplForJupyterImpl.withHost(repl.kt:690)\n",
      "\tat org.jetbrains.kotlinx.jupyter.repl.impl.CellExecutorImpl.execute(CellExecutorImpl.kt:73)\n",
      "\tat org.jetbrains.kotlinx.jupyter.repl.CellExecutor$DefaultImpls.execute$default(CellExecutor.kt:14)\n",
      "\tat org.jetbrains.kotlinx.jupyter.ReplForJupyterImpl$evalEx$1.invoke(repl.kt:500)\n",
      "\tat org.jetbrains.kotlinx.jupyter.ReplForJupyterImpl$evalEx$1.invoke(repl.kt:478)\n",
      "\tat org.jetbrains.kotlinx.jupyter.ReplForJupyterImpl.withEvalContext(repl.kt:441)\n",
      "\tat org.jetbrains.kotlinx.jupyter.ReplForJupyterImpl.evalEx(repl.kt:478)\n",
      "\tat org.jetbrains.kotlinx.jupyter.messaging.ProtocolKt$shellMessagesHandler$2$res$1.invoke(protocol.kt:320)\n",
      "\tat org.jetbrains.kotlinx.jupyter.messaging.ProtocolKt$shellMessagesHandler$2$res$1.invoke(protocol.kt:314)\n",
      "\tat org.jetbrains.kotlinx.jupyter.JupyterExecutorImpl$runExecution$execThread$1.invoke(execution.kt:38)\n",
      "\tat org.jetbrains.kotlinx.jupyter.JupyterExecutorImpl$runExecution$execThread$1.invoke(execution.kt:33)\n",
      "\tat kotlin.concurrent.ThreadsKt$thread$thread$1.run(Thread.kt:30)\n"
     ]
    }
   ],
   "source": [
    "requireExample(-5)"
   ],
   "metadata": {
    "collapsed": false,
    "ExecuteTime": {
     "end_time": "2024-02-13T15:09:26.885242Z",
     "start_time": "2024-02-13T15:09:26.848206Z"
    }
   },
   "execution_count": 28
  },
  {
   "cell_type": "code",
   "outputs": [],
   "source": [
    "fun errorDemo(name: String?) {\n",
    "    name?.length?.let {\n",
    "        println(\"$name length is $it\")\n",
    "    } ?: error(\"null name!\")\n",
    "}"
   ],
   "metadata": {
    "collapsed": false,
    "ExecuteTime": {
     "end_time": "2024-02-13T15:10:20.303248Z",
     "start_time": "2024-02-13T15:10:20.251751Z"
    }
   },
   "execution_count": 29
  },
  {
   "cell_type": "code",
   "outputs": [
    {
     "name": "stdout",
     "output_type": "stream",
     "text": [
      "Jack length is 4\n"
     ]
    }
   ],
   "source": [
    "errorDemo(\"Jack\")"
   ],
   "metadata": {
    "collapsed": false,
    "ExecuteTime": {
     "end_time": "2024-02-13T15:10:21.387550Z",
     "start_time": "2024-02-13T15:10:21.348631Z"
    }
   },
   "execution_count": 30
  },
  {
   "cell_type": "code",
   "outputs": [
    {
     "name": "stderr",
     "output_type": "stream",
     "text": [
      "null name!\n",
      "java.lang.IllegalStateException: null name!\n",
      "\tat Line_31_jupyter.errorDemo(Line_31.jupyter.kts:4)\n",
      "\tat Line_33_jupyter.<init>(Line_33.jupyter.kts:1)\n",
      "\tat java.base/jdk.internal.reflect.NativeConstructorAccessorImpl.newInstance0(Native Method)\n",
      "\tat java.base/jdk.internal.reflect.NativeConstructorAccessorImpl.newInstance(NativeConstructorAccessorImpl.java:77)\n",
      "\tat java.base/jdk.internal.reflect.DelegatingConstructorAccessorImpl.newInstance(DelegatingConstructorAccessorImpl.java:45)\n",
      "\tat java.base/java.lang.reflect.Constructor.newInstanceWithCaller(Constructor.java:499)\n",
      "\tat java.base/java.lang.reflect.Constructor.newInstance(Constructor.java:480)\n",
      "\tat kotlin.script.experimental.jvm.BasicJvmScriptEvaluator.evalWithConfigAndOtherScriptsResults(BasicJvmScriptEvaluator.kt:105)\n",
      "\tat kotlin.script.experimental.jvm.BasicJvmScriptEvaluator.invoke$suspendImpl(BasicJvmScriptEvaluator.kt:47)\n",
      "\tat kotlin.script.experimental.jvm.BasicJvmScriptEvaluator.invoke(BasicJvmScriptEvaluator.kt)\n",
      "\tat kotlin.script.experimental.jvm.BasicJvmReplEvaluator.eval(BasicJvmReplEvaluator.kt:49)\n",
      "\tat org.jetbrains.kotlinx.jupyter.repl.impl.InternalEvaluatorImpl$eval$resultWithDiagnostics$1.invokeSuspend(InternalEvaluatorImpl.kt:107)\n",
      "\tat kotlin.coroutines.jvm.internal.BaseContinuationImpl.resumeWith(ContinuationImpl.kt:33)\n",
      "\tat kotlinx.coroutines.DispatchedTask.run(DispatchedTask.kt:106)\n",
      "\tat kotlinx.coroutines.EventLoopImplBase.processNextEvent(EventLoop.common.kt:284)\n",
      "\tat kotlinx.coroutines.BlockingCoroutine.joinBlocking(Builders.kt:85)\n",
      "\tat kotlinx.coroutines.BuildersKt__BuildersKt.runBlocking(Builders.kt:59)\n",
      "\tat kotlinx.coroutines.BuildersKt.runBlocking(Unknown Source)\n",
      "\tat kotlinx.coroutines.BuildersKt__BuildersKt.runBlocking$default(Builders.kt:38)\n",
      "\tat kotlinx.coroutines.BuildersKt.runBlocking$default(Unknown Source)\n",
      "\tat org.jetbrains.kotlinx.jupyter.repl.impl.InternalEvaluatorImpl.eval(InternalEvaluatorImpl.kt:107)\n",
      "\tat org.jetbrains.kotlinx.jupyter.repl.impl.CellExecutorImpl$execute$1$result$1.invoke(CellExecutorImpl.kt:75)\n",
      "\tat org.jetbrains.kotlinx.jupyter.repl.impl.CellExecutorImpl$execute$1$result$1.invoke(CellExecutorImpl.kt:73)\n",
      "\tat org.jetbrains.kotlinx.jupyter.ReplForJupyterImpl.withHost(repl.kt:690)\n",
      "\tat org.jetbrains.kotlinx.jupyter.repl.impl.CellExecutorImpl.execute(CellExecutorImpl.kt:73)\n",
      "\tat org.jetbrains.kotlinx.jupyter.repl.CellExecutor$DefaultImpls.execute$default(CellExecutor.kt:14)\n",
      "\tat org.jetbrains.kotlinx.jupyter.ReplForJupyterImpl$evalEx$1.invoke(repl.kt:500)\n",
      "\tat org.jetbrains.kotlinx.jupyter.ReplForJupyterImpl$evalEx$1.invoke(repl.kt:478)\n",
      "\tat org.jetbrains.kotlinx.jupyter.ReplForJupyterImpl.withEvalContext(repl.kt:441)\n",
      "\tat org.jetbrains.kotlinx.jupyter.ReplForJupyterImpl.evalEx(repl.kt:478)\n",
      "\tat org.jetbrains.kotlinx.jupyter.messaging.ProtocolKt$shellMessagesHandler$2$res$1.invoke(protocol.kt:320)\n",
      "\tat org.jetbrains.kotlinx.jupyter.messaging.ProtocolKt$shellMessagesHandler$2$res$1.invoke(protocol.kt:314)\n",
      "\tat org.jetbrains.kotlinx.jupyter.JupyterExecutorImpl$runExecution$execThread$1.invoke(execution.kt:38)\n",
      "\tat org.jetbrains.kotlinx.jupyter.JupyterExecutorImpl$runExecution$execThread$1.invoke(execution.kt:33)\n",
      "\tat kotlin.concurrent.ThreadsKt$thread$thread$1.run(Thread.kt:30)\n"
     ]
    }
   ],
   "source": [
    "errorDemo(null)"
   ],
   "metadata": {
    "collapsed": false,
    "ExecuteTime": {
     "end_time": "2024-02-13T15:10:25.165924Z",
     "start_time": "2024-02-13T15:10:25.116897Z"
    }
   },
   "execution_count": 31
  },
  {
   "cell_type": "markdown",
   "source": [
    "---\n",
    "\n",
    "# When in doubt\n",
    "\n",
    "<font size=\"5\">Go to:</font>\n",
    "- <font size=\"5\">[kotlinlang.org](https://kotlinlang.org/)</font>\n",
    "- <font size=\"5\">[kotlinlang.org/docs](https://kotlinlang.org/docs)</font>\n",
    "- <font size=\"5\">[play.kotlinlang.org/byExample](https://play.kotlinlang.org/byExample)</font>"
   ],
   "metadata": {
    "collapsed": false
   }
  },
  {
   "cell_type": "markdown",
   "source": [
    "---\n",
    "\n",
    "<img alt=\"Cover\" src=\"./images/15.last.png\" width=\"3000\"/>"
   ],
   "metadata": {
    "collapsed": false
   }
  },
  {
   "cell_type": "code",
   "outputs": [],
   "source": [],
   "metadata": {
    "collapsed": false
   }
  }
 ],
 "metadata": {
  "kernelspec": {
   "display_name": "Kotlin",
   "language": "kotlin",
   "name": "kotlin"
  },
  "language_info": {
   "name": "kotlin",
   "version": "1.9.0",
   "mimetype": "text/x-kotlin",
   "file_extension": ".kt",
   "pygments_lexer": "kotlin",
   "codemirror_mode": "text/x-kotlin",
   "nbconvert_exporter": ""
  },
  "ktnbPluginMetadata": {
   "projectDependencies": [
    "kotlin-course-notebooks.main"
   ]
  }
 },
 "nbformat": 4,
 "nbformat_minor": 0
}
